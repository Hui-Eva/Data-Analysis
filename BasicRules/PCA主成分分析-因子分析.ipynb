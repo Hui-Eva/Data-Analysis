{
 "cells": [
  {
   "cell_type": "code",
   "execution_count": 1,
   "metadata": {},
   "outputs": [],
   "source": [
    "import os\n",
    "os.chdir(r'/Users/zhanghui/商业分析工具和应用/Python/Python_book/13Dimensionality_reduction')"
   ]
  },
  {
   "cell_type": "code",
   "execution_count": 2,
   "metadata": {},
   "outputs": [],
   "source": [
    "import pandas as pd\n",
    "import numpy as np\n",
    "import matplotlib.pyplot as plt"
   ]
  },
  {
   "cell_type": "code",
   "execution_count": 3,
   "metadata": {},
   "outputs": [
    {
     "data": {
      "text/html": [
       "<div>\n",
       "<style scoped>\n",
       "    .dataframe tbody tr th:only-of-type {\n",
       "        vertical-align: middle;\n",
       "    }\n",
       "\n",
       "    .dataframe tbody tr th {\n",
       "        vertical-align: top;\n",
       "    }\n",
       "\n",
       "    .dataframe thead th {\n",
       "        text-align: right;\n",
       "    }\n",
       "</style>\n",
       "<table border=\"1\" class=\"dataframe\">\n",
       "  <thead>\n",
       "    <tr style=\"text-align: right;\">\n",
       "      <th></th>\n",
       "      <th>ID</th>\n",
       "      <th>cnt_call</th>\n",
       "      <th>cnt_msg</th>\n",
       "      <th>cnt_wei</th>\n",
       "      <th>cnt_web</th>\n",
       "    </tr>\n",
       "  </thead>\n",
       "  <tbody>\n",
       "    <tr>\n",
       "      <td>0</td>\n",
       "      <td>1964627</td>\n",
       "      <td>46</td>\n",
       "      <td>90</td>\n",
       "      <td>36</td>\n",
       "      <td>31</td>\n",
       "    </tr>\n",
       "    <tr>\n",
       "      <td>1</td>\n",
       "      <td>3107769</td>\n",
       "      <td>53</td>\n",
       "      <td>2</td>\n",
       "      <td>0</td>\n",
       "      <td>2</td>\n",
       "    </tr>\n",
       "    <tr>\n",
       "      <td>2</td>\n",
       "      <td>3686296</td>\n",
       "      <td>28</td>\n",
       "      <td>24</td>\n",
       "      <td>5</td>\n",
       "      <td>8</td>\n",
       "    </tr>\n",
       "    <tr>\n",
       "      <td>3</td>\n",
       "      <td>3961002</td>\n",
       "      <td>9</td>\n",
       "      <td>2</td>\n",
       "      <td>0</td>\n",
       "      <td>4</td>\n",
       "    </tr>\n",
       "    <tr>\n",
       "      <td>4</td>\n",
       "      <td>4174839</td>\n",
       "      <td>145</td>\n",
       "      <td>2</td>\n",
       "      <td>0</td>\n",
       "      <td>1</td>\n",
       "    </tr>\n",
       "  </tbody>\n",
       "</table>\n",
       "</div>"
      ],
      "text/plain": [
       "        ID  cnt_call  cnt_msg  cnt_wei  cnt_web\n",
       "0  1964627        46       90       36       31\n",
       "1  3107769        53        2        0        2\n",
       "2  3686296        28       24        5        8\n",
       "3  3961002         9        2        0        4\n",
       "4  4174839       145        2        0        1"
      ]
     },
     "execution_count": 3,
     "metadata": {},
     "output_type": "execute_result"
    }
   ],
   "source": [
    "profile = pd.read_csv('profile_telecom.csv')\n",
    "profile.head()"
   ]
  },
  {
   "cell_type": "markdown",
   "metadata": {},
   "source": [
    "# 主成分分析"
   ]
  },
  {
   "cell_type": "code",
   "execution_count": 4,
   "metadata": {},
   "outputs": [
    {
     "name": "stderr",
     "output_type": "stream",
     "text": [
      "/Applications/anaconda3/lib/python3.7/site-packages/ipykernel_launcher.py:2: FutureWarning: \n",
      ".ix is deprecated. Please use\n",
      ".loc for label based indexing or\n",
      ".iloc for positional indexing\n",
      "\n",
      "See the documentation here:\n",
      "http://pandas.pydata.org/pandas-docs/stable/user_guide/indexing.html#ix-indexer-is-deprecated\n",
      "  \n",
      "/Applications/anaconda3/lib/python3.7/site-packages/pandas/core/indexing.py:822: FutureWarning: \n",
      ".ix is deprecated. Please use\n",
      ".loc for label based indexing or\n",
      ".iloc for positional indexing\n",
      "\n",
      "See the documentation here:\n",
      "http://pandas.pydata.org/pandas-docs/stable/user_guide/indexing.html#ix-indexer-is-deprecated\n",
      "  retval = getattr(retval, self.name)._getitem_axis(key, axis=i)\n"
     ]
    }
   ],
   "source": [
    "#分析变量之间的关系\n",
    "data = profile.ix[:,'cnt_call':]"
   ]
  },
  {
   "cell_type": "code",
   "execution_count": 5,
   "metadata": {},
   "outputs": [
    {
     "data": {
      "text/html": [
       "<div>\n",
       "<style scoped>\n",
       "    .dataframe tbody tr th:only-of-type {\n",
       "        vertical-align: middle;\n",
       "    }\n",
       "\n",
       "    .dataframe tbody tr th {\n",
       "        vertical-align: top;\n",
       "    }\n",
       "\n",
       "    .dataframe thead th {\n",
       "        text-align: right;\n",
       "    }\n",
       "</style>\n",
       "<table border=\"1\" class=\"dataframe\">\n",
       "  <thead>\n",
       "    <tr style=\"text-align: right;\">\n",
       "      <th></th>\n",
       "      <th>cnt_call</th>\n",
       "      <th>cnt_msg</th>\n",
       "      <th>cnt_wei</th>\n",
       "      <th>cnt_web</th>\n",
       "    </tr>\n",
       "  </thead>\n",
       "  <tbody>\n",
       "    <tr>\n",
       "      <td>cnt_call</td>\n",
       "      <td>1.000000</td>\n",
       "      <td>0.052096</td>\n",
       "      <td>0.117832</td>\n",
       "      <td>0.114190</td>\n",
       "    </tr>\n",
       "    <tr>\n",
       "      <td>cnt_msg</td>\n",
       "      <td>0.052096</td>\n",
       "      <td>1.000000</td>\n",
       "      <td>0.510686</td>\n",
       "      <td>0.739506</td>\n",
       "    </tr>\n",
       "    <tr>\n",
       "      <td>cnt_wei</td>\n",
       "      <td>0.117832</td>\n",
       "      <td>0.510686</td>\n",
       "      <td>1.000000</td>\n",
       "      <td>0.950492</td>\n",
       "    </tr>\n",
       "    <tr>\n",
       "      <td>cnt_web</td>\n",
       "      <td>0.114190</td>\n",
       "      <td>0.739506</td>\n",
       "      <td>0.950492</td>\n",
       "      <td>1.000000</td>\n",
       "    </tr>\n",
       "  </tbody>\n",
       "</table>\n",
       "</div>"
      ],
      "text/plain": [
       "          cnt_call   cnt_msg   cnt_wei   cnt_web\n",
       "cnt_call  1.000000  0.052096  0.117832  0.114190\n",
       "cnt_msg   0.052096  1.000000  0.510686  0.739506\n",
       "cnt_wei   0.117832  0.510686  1.000000  0.950492\n",
       "cnt_web   0.114190  0.739506  0.950492  1.000000"
      ]
     },
     "execution_count": 5,
     "metadata": {},
     "output_type": "execute_result"
    }
   ],
   "source": [
    "data.corr(method = 'pearson')"
   ]
  },
  {
   "cell_type": "code",
   "execution_count": 8,
   "metadata": {},
   "outputs": [
    {
     "data": {
      "text/plain": [
       "array([0.62510442, 0.24620209])"
      ]
     },
     "execution_count": 8,
     "metadata": {},
     "output_type": "execute_result"
    }
   ],
   "source": [
    "#数据标准化\n",
    "from sklearn.preprocessing import scale\n",
    "from sklearn.decomposition import PCA\n",
    "\n",
    "\n",
    "data_scaled = scale(data)\n",
    "pca = PCA(n_components = 2, whiten = True).fit(data_scaled)\n",
    "pca.explained_variance_ratio_"
   ]
  },
  {
   "cell_type": "code",
   "execution_count": 10,
   "metadata": {},
   "outputs": [
    {
     "data": {
      "text/plain": [
       "array([[ 0.11085805,  0.50974123,  0.57909319,  0.62651852],\n",
       "       [ 0.99020127, -0.12736724, -0.01900236, -0.05401806]])"
      ]
     },
     "execution_count": 10,
     "metadata": {},
     "output_type": "execute_result"
    }
   ],
   "source": [
    "#每个主成分在原始变量上的权重\n",
    "pca.components_ "
   ]
  },
  {
   "cell_type": "code",
   "execution_count": 11,
   "metadata": {},
   "outputs": [
    {
     "data": {
      "text/plain": [
       "array([[ 2.30183615, -0.89716788],\n",
       "       [-0.74694076, -0.04035188],\n",
       "       [-0.11502116, -0.59578592],\n",
       "       ...,\n",
       "       [ 2.19333782,  0.04953167],\n",
       "       [-0.07833419, -0.10944885],\n",
       "       [-0.6621524 ,  1.16641367]])"
      ]
     },
     "execution_count": 11,
     "metadata": {},
     "output_type": "execute_result"
    }
   ],
   "source": [
    "#每个样本的主成分得分，横着看\n",
    "pca.transform(data_scaled)"
   ]
  },
  {
   "cell_type": "markdown",
   "metadata": {},
   "source": [
    "# 因子分析\n",
    "四个步骤：\n",
    "数据导入与转换\n",
    "抽取主成分\n",
    "确定保留因子的个数\n",
    "进行因子旋转"
   ]
  },
  {
   "cell_type": "code",
   "execution_count": 16,
   "metadata": {},
   "outputs": [
    {
     "data": {
      "text/html": [
       "<div>\n",
       "<style scoped>\n",
       "    .dataframe tbody tr th:only-of-type {\n",
       "        vertical-align: middle;\n",
       "    }\n",
       "\n",
       "    .dataframe tbody tr th {\n",
       "        vertical-align: top;\n",
       "    }\n",
       "\n",
       "    .dataframe thead th {\n",
       "        text-align: right;\n",
       "    }\n",
       "</style>\n",
       "<table border=\"1\" class=\"dataframe\">\n",
       "  <thead>\n",
       "    <tr style=\"text-align: right;\">\n",
       "      <th></th>\n",
       "      <th>AREA</th>\n",
       "      <th>X1</th>\n",
       "      <th>X2</th>\n",
       "      <th>X3</th>\n",
       "      <th>X4</th>\n",
       "      <th>X5</th>\n",
       "      <th>X6</th>\n",
       "      <th>X7</th>\n",
       "      <th>X8</th>\n",
       "      <th>X9</th>\n",
       "    </tr>\n",
       "  </thead>\n",
       "  <tbody>\n",
       "    <tr>\n",
       "      <td>0</td>\n",
       "      <td>辽宁</td>\n",
       "      <td>5458.2</td>\n",
       "      <td>13000</td>\n",
       "      <td>1376.2</td>\n",
       "      <td>2258.4</td>\n",
       "      <td>1315.9</td>\n",
       "      <td>529.0</td>\n",
       "      <td>2258.4</td>\n",
       "      <td>123.7</td>\n",
       "      <td>399.7</td>\n",
       "    </tr>\n",
       "    <tr>\n",
       "      <td>1</td>\n",
       "      <td>山东</td>\n",
       "      <td>10550.0</td>\n",
       "      <td>11643</td>\n",
       "      <td>3502.5</td>\n",
       "      <td>3851.0</td>\n",
       "      <td>2288.7</td>\n",
       "      <td>1070.7</td>\n",
       "      <td>3181.9</td>\n",
       "      <td>211.1</td>\n",
       "      <td>610.2</td>\n",
       "    </tr>\n",
       "    <tr>\n",
       "      <td>2</td>\n",
       "      <td>河北</td>\n",
       "      <td>6076.6</td>\n",
       "      <td>9047</td>\n",
       "      <td>1406.7</td>\n",
       "      <td>2092.6</td>\n",
       "      <td>1161.6</td>\n",
       "      <td>597.1</td>\n",
       "      <td>1968.3</td>\n",
       "      <td>45.9</td>\n",
       "      <td>302.3</td>\n",
       "    </tr>\n",
       "    <tr>\n",
       "      <td>3</td>\n",
       "      <td>天津</td>\n",
       "      <td>2022.6</td>\n",
       "      <td>22068</td>\n",
       "      <td>822.8</td>\n",
       "      <td>960.0</td>\n",
       "      <td>703.7</td>\n",
       "      <td>361.9</td>\n",
       "      <td>941.4</td>\n",
       "      <td>115.7</td>\n",
       "      <td>171.8</td>\n",
       "    </tr>\n",
       "    <tr>\n",
       "      <td>4</td>\n",
       "      <td>江苏</td>\n",
       "      <td>10636.3</td>\n",
       "      <td>14397</td>\n",
       "      <td>3536.3</td>\n",
       "      <td>3967.2</td>\n",
       "      <td>2320.0</td>\n",
       "      <td>1141.3</td>\n",
       "      <td>3215.8</td>\n",
       "      <td>384.7</td>\n",
       "      <td>643.7</td>\n",
       "    </tr>\n",
       "    <tr>\n",
       "      <td>5</td>\n",
       "      <td>上海</td>\n",
       "      <td>5408.8</td>\n",
       "      <td>40627</td>\n",
       "      <td>2196.2</td>\n",
       "      <td>2755.8</td>\n",
       "      <td>1970.2</td>\n",
       "      <td>779.3</td>\n",
       "      <td>2035.2</td>\n",
       "      <td>320.5</td>\n",
       "      <td>709.0</td>\n",
       "    </tr>\n",
       "    <tr>\n",
       "      <td>6</td>\n",
       "      <td>浙江</td>\n",
       "      <td>7670.0</td>\n",
       "      <td>16570</td>\n",
       "      <td>2356.5</td>\n",
       "      <td>3065.0</td>\n",
       "      <td>2296.6</td>\n",
       "      <td>1180.6</td>\n",
       "      <td>2877.5</td>\n",
       "      <td>294.2</td>\n",
       "      <td>566.9</td>\n",
       "    </tr>\n",
       "    <tr>\n",
       "      <td>7</td>\n",
       "      <td>福建</td>\n",
       "      <td>4682.0</td>\n",
       "      <td>13510</td>\n",
       "      <td>1047.1</td>\n",
       "      <td>1859.0</td>\n",
       "      <td>964.5</td>\n",
       "      <td>397.9</td>\n",
       "      <td>1663.3</td>\n",
       "      <td>173.7</td>\n",
       "      <td>272.9</td>\n",
       "    </tr>\n",
       "    <tr>\n",
       "      <td>8</td>\n",
       "      <td>广东</td>\n",
       "      <td>11769.7</td>\n",
       "      <td>15030</td>\n",
       "      <td>4224.6</td>\n",
       "      <td>4793.6</td>\n",
       "      <td>3022.9</td>\n",
       "      <td>1275.5</td>\n",
       "      <td>5013.6</td>\n",
       "      <td>1843.7</td>\n",
       "      <td>1201.6</td>\n",
       "    </tr>\n",
       "    <tr>\n",
       "      <td>9</td>\n",
       "      <td>广西</td>\n",
       "      <td>2455.4</td>\n",
       "      <td>5062</td>\n",
       "      <td>367.0</td>\n",
       "      <td>995.7</td>\n",
       "      <td>542.2</td>\n",
       "      <td>352.7</td>\n",
       "      <td>1025.5</td>\n",
       "      <td>15.1</td>\n",
       "      <td>186.7</td>\n",
       "    </tr>\n",
       "  </tbody>\n",
       "</table>\n",
       "</div>"
      ],
      "text/plain": [
       "  AREA       X1     X2      X3      X4      X5      X6      X7      X8      X9\n",
       "0   辽宁   5458.2  13000  1376.2  2258.4  1315.9   529.0  2258.4   123.7   399.7\n",
       "1   山东  10550.0  11643  3502.5  3851.0  2288.7  1070.7  3181.9   211.1   610.2\n",
       "2   河北   6076.6   9047  1406.7  2092.6  1161.6   597.1  1968.3    45.9   302.3\n",
       "3   天津   2022.6  22068   822.8   960.0   703.7   361.9   941.4   115.7   171.8\n",
       "4   江苏  10636.3  14397  3536.3  3967.2  2320.0  1141.3  3215.8   384.7   643.7\n",
       "5   上海   5408.8  40627  2196.2  2755.8  1970.2   779.3  2035.2   320.5   709.0\n",
       "6   浙江   7670.0  16570  2356.5  3065.0  2296.6  1180.6  2877.5   294.2   566.9\n",
       "7   福建   4682.0  13510  1047.1  1859.0   964.5   397.9  1663.3   173.7   272.9\n",
       "8   广东  11769.7  15030  4224.6  4793.6  3022.9  1275.5  5013.6  1843.7  1201.6\n",
       "9   广西   2455.4   5062   367.0   995.7   542.2   352.7  1025.5    15.1   186.7"
      ]
     },
     "execution_count": 16,
     "metadata": {},
     "output_type": "execute_result"
    }
   ],
   "source": [
    "cities = pd.read_csv('cities_10.csv',encoding = 'gbk')\n",
    "cities"
   ]
  },
  {
   "cell_type": "code",
   "execution_count": 17,
   "metadata": {},
   "outputs": [
    {
     "data": {
      "text/html": [
       "<div>\n",
       "<style scoped>\n",
       "    .dataframe tbody tr th:only-of-type {\n",
       "        vertical-align: middle;\n",
       "    }\n",
       "\n",
       "    .dataframe tbody tr th {\n",
       "        vertical-align: top;\n",
       "    }\n",
       "\n",
       "    .dataframe thead th {\n",
       "        text-align: right;\n",
       "    }\n",
       "</style>\n",
       "<table border=\"1\" class=\"dataframe\">\n",
       "  <thead>\n",
       "    <tr style=\"text-align: right;\">\n",
       "      <th></th>\n",
       "      <th>X1</th>\n",
       "      <th>X2</th>\n",
       "      <th>X3</th>\n",
       "      <th>X4</th>\n",
       "      <th>X5</th>\n",
       "      <th>X6</th>\n",
       "      <th>X7</th>\n",
       "      <th>X8</th>\n",
       "      <th>X9</th>\n",
       "    </tr>\n",
       "  </thead>\n",
       "  <tbody>\n",
       "    <tr>\n",
       "      <td>X1</td>\n",
       "      <td>1.000000</td>\n",
       "      <td>-0.094292</td>\n",
       "      <td>0.966506</td>\n",
       "      <td>0.979238</td>\n",
       "      <td>0.922984</td>\n",
       "      <td>0.921680</td>\n",
       "      <td>0.941148</td>\n",
       "      <td>0.637458</td>\n",
       "      <td>0.825568</td>\n",
       "    </tr>\n",
       "    <tr>\n",
       "      <td>X2</td>\n",
       "      <td>-0.094292</td>\n",
       "      <td>1.000000</td>\n",
       "      <td>0.112726</td>\n",
       "      <td>0.074167</td>\n",
       "      <td>0.214052</td>\n",
       "      <td>0.093483</td>\n",
       "      <td>-0.042776</td>\n",
       "      <td>0.081195</td>\n",
       "      <td>0.273145</td>\n",
       "    </tr>\n",
       "    <tr>\n",
       "      <td>X3</td>\n",
       "      <td>0.966506</td>\n",
       "      <td>0.112726</td>\n",
       "      <td>1.000000</td>\n",
       "      <td>0.985373</td>\n",
       "      <td>0.963159</td>\n",
       "      <td>0.939194</td>\n",
       "      <td>0.935196</td>\n",
       "      <td>0.704714</td>\n",
       "      <td>0.898016</td>\n",
       "    </tr>\n",
       "    <tr>\n",
       "      <td>X4</td>\n",
       "      <td>0.979238</td>\n",
       "      <td>0.074167</td>\n",
       "      <td>0.985373</td>\n",
       "      <td>1.000000</td>\n",
       "      <td>0.972862</td>\n",
       "      <td>0.939720</td>\n",
       "      <td>0.962267</td>\n",
       "      <td>0.713890</td>\n",
       "      <td>0.913364</td>\n",
       "    </tr>\n",
       "    <tr>\n",
       "      <td>X5</td>\n",
       "      <td>0.922984</td>\n",
       "      <td>0.214052</td>\n",
       "      <td>0.963159</td>\n",
       "      <td>0.972862</td>\n",
       "      <td>1.000000</td>\n",
       "      <td>0.971337</td>\n",
       "      <td>0.937109</td>\n",
       "      <td>0.716722</td>\n",
       "      <td>0.934549</td>\n",
       "    </tr>\n",
       "    <tr>\n",
       "      <td>X6</td>\n",
       "      <td>0.921680</td>\n",
       "      <td>0.093483</td>\n",
       "      <td>0.939194</td>\n",
       "      <td>0.939720</td>\n",
       "      <td>0.971337</td>\n",
       "      <td>1.000000</td>\n",
       "      <td>0.897127</td>\n",
       "      <td>0.624294</td>\n",
       "      <td>0.848004</td>\n",
       "    </tr>\n",
       "    <tr>\n",
       "      <td>X7</td>\n",
       "      <td>0.941148</td>\n",
       "      <td>-0.042776</td>\n",
       "      <td>0.935196</td>\n",
       "      <td>0.962267</td>\n",
       "      <td>0.937109</td>\n",
       "      <td>0.897127</td>\n",
       "      <td>1.000000</td>\n",
       "      <td>0.836272</td>\n",
       "      <td>0.928692</td>\n",
       "    </tr>\n",
       "    <tr>\n",
       "      <td>X8</td>\n",
       "      <td>0.637458</td>\n",
       "      <td>0.081195</td>\n",
       "      <td>0.704714</td>\n",
       "      <td>0.713890</td>\n",
       "      <td>0.716722</td>\n",
       "      <td>0.624294</td>\n",
       "      <td>0.836272</td>\n",
       "      <td>1.000000</td>\n",
       "      <td>0.881528</td>\n",
       "    </tr>\n",
       "    <tr>\n",
       "      <td>X9</td>\n",
       "      <td>0.825568</td>\n",
       "      <td>0.273145</td>\n",
       "      <td>0.898016</td>\n",
       "      <td>0.913364</td>\n",
       "      <td>0.934549</td>\n",
       "      <td>0.848004</td>\n",
       "      <td>0.928692</td>\n",
       "      <td>0.881528</td>\n",
       "      <td>1.000000</td>\n",
       "    </tr>\n",
       "  </tbody>\n",
       "</table>\n",
       "</div>"
      ],
      "text/plain": [
       "          X1        X2        X3        X4        X5        X6        X7  \\\n",
       "X1  1.000000 -0.094292  0.966506  0.979238  0.922984  0.921680  0.941148   \n",
       "X2 -0.094292  1.000000  0.112726  0.074167  0.214052  0.093483 -0.042776   \n",
       "X3  0.966506  0.112726  1.000000  0.985373  0.963159  0.939194  0.935196   \n",
       "X4  0.979238  0.074167  0.985373  1.000000  0.972862  0.939720  0.962267   \n",
       "X5  0.922984  0.214052  0.963159  0.972862  1.000000  0.971337  0.937109   \n",
       "X6  0.921680  0.093483  0.939194  0.939720  0.971337  1.000000  0.897127   \n",
       "X7  0.941148 -0.042776  0.935196  0.962267  0.937109  0.897127  1.000000   \n",
       "X8  0.637458  0.081195  0.704714  0.713890  0.716722  0.624294  0.836272   \n",
       "X9  0.825568  0.273145  0.898016  0.913364  0.934549  0.848004  0.928692   \n",
       "\n",
       "          X8        X9  \n",
       "X1  0.637458  0.825568  \n",
       "X2  0.081195  0.273145  \n",
       "X3  0.704714  0.898016  \n",
       "X4  0.713890  0.913364  \n",
       "X5  0.716722  0.934549  \n",
       "X6  0.624294  0.848004  \n",
       "X7  0.836272  0.928692  \n",
       "X8  1.000000  0.881528  \n",
       "X9  0.881528  1.000000  "
      ]
     },
     "execution_count": 17,
     "metadata": {},
     "output_type": "execute_result"
    }
   ],
   "source": [
    "cities.corr(method = 'pearson')\n",
    "#我们会发现多数变量值关键存在着明显的线性相关关系，因此可以运用因子分析对数据进行降维"
   ]
  },
  {
   "cell_type": "code",
   "execution_count": 18,
   "metadata": {},
   "outputs": [
    {
     "name": "stderr",
     "output_type": "stream",
     "text": [
      "/Applications/anaconda3/lib/python3.7/site-packages/ipykernel_launcher.py:3: FutureWarning: \n",
      ".ix is deprecated. Please use\n",
      ".loc for label based indexing or\n",
      ".iloc for positional indexing\n",
      "\n",
      "See the documentation here:\n",
      "http://pandas.pydata.org/pandas-docs/stable/user_guide/indexing.html#ix-indexer-is-deprecated\n",
      "  This is separate from the ipykernel package so we can avoid doing imports until\n",
      "/Applications/anaconda3/lib/python3.7/site-packages/pandas/core/indexing.py:822: FutureWarning: \n",
      ".ix is deprecated. Please use\n",
      ".loc for label based indexing or\n",
      ".iloc for positional indexing\n",
      "\n",
      "See the documentation here:\n",
      "http://pandas.pydata.org/pandas-docs/stable/user_guide/indexing.html#ix-indexer-is-deprecated\n",
      "  retval = getattr(retval, self.name)._getitem_axis(key, axis=i)\n"
     ]
    },
    {
     "data": {
      "text/plain": [
       "array([0.80112955, 0.12214932, 0.0607924 ])"
      ]
     },
     "execution_count": 18,
     "metadata": {},
     "output_type": "execute_result"
    }
   ],
   "source": [
    "from sklearn.preprocessing import scale\n",
    "\n",
    "scale_cities = scale(cities.ix[:,'X1':])\n",
    "pca_c = PCA(n_components = 3,whiten = True).fit(scale_cities)\n",
    "pca_c.explained_variance_ratio_"
   ]
  },
  {
   "cell_type": "markdown",
   "metadata": {},
   "source": [
    "为了确定因子个数，先对数据进行主成分分析，主成分分析前需要先进行标准化处理数据。\n",
    "根据结果可知，我们保留两个主成分可以使解释的数据变异提升到92%"
   ]
  },
  {
   "cell_type": "code",
   "execution_count": 21,
   "metadata": {},
   "outputs": [
    {
     "ename": "SyntaxError",
     "evalue": "invalid syntax (<ipython-input-21-7ea702f66756>, line 2)",
     "output_type": "error",
     "traceback": [
      "\u001b[0;36m  File \u001b[0;32m\"<ipython-input-21-7ea702f66756>\"\u001b[0;36m, line \u001b[0;32m2\u001b[0m\n\u001b[0;31m    from fa-kit import FactorAnalysis\u001b[0m\n\u001b[0m           ^\u001b[0m\n\u001b[0;31mSyntaxError\u001b[0m\u001b[0;31m:\u001b[0m invalid syntax\n"
     ]
    }
   ],
   "source": [
    "#输入数据并进行主成分提取\n",
    "from fa_kit import FactorAnalysis\n",
    "from fa_kit import plotting as fa_plotting\n",
    "fa = FactorAnalysis.load_data_samples(data,\n",
    "                                     preproc_demean = True,\n",
    "                                     preproc_scale = True)\n",
    "fa.extract_components()"
   ]
  },
  {
   "cell_type": "code",
   "execution_count": null,
   "metadata": {},
   "outputs": [],
   "source": [
    "#确定保留因子的数量\n",
    "fa.find_comps_to_retain(method = 'top_n',num_keep=2)"
   ]
  },
  {
   "cell_type": "code",
   "execution_count": null,
   "metadata": {},
   "outputs": [],
   "source": [
    "#使用最大方差法进行因子旋转\n",
    "fa.rotate_component(method = 'varimax')\n",
    "fa.plotting.graph_summary(fa)"
   ]
  },
  {
   "cell_type": "code",
   "execution_count": null,
   "metadata": {},
   "outputs": [],
   "source": [
    "#因子载荷矩阵\n",
    "pd.DataFrame(fa.comps['rot'])"
   ]
  },
  {
   "cell_type": "code",
   "execution_count": null,
   "metadata": {},
   "outputs": [],
   "source": [
    "import numpy as np\n",
    "fas = pd.DataFrame(fa.comps['rot'])\n",
    "data = pd.DataFrame(data)\n",
    "score = pd.DataFrame(np.dot(data,fas))\n",
    "\n",
    "a = score.rename(columns = {0:'Gross',1:'Avg'})\n",
    "citi10_fa = model_data.join(a)"
   ]
  }
 ],
 "metadata": {
  "kernelspec": {
   "display_name": "Python 3",
   "language": "python",
   "name": "python3"
  },
  "language_info": {
   "codemirror_mode": {
    "name": "ipython",
    "version": 3
   },
   "file_extension": ".py",
   "mimetype": "text/x-python",
   "name": "python",
   "nbconvert_exporter": "python",
   "pygments_lexer": "ipython3",
   "version": "3.7.4"
  }
 },
 "nbformat": 4,
 "nbformat_minor": 2
}
