{
 "cells": [
  {
   "cell_type": "markdown",
   "metadata": {},
   "source": [
    "# 逻辑回归\n",
    "#信用风险建模案例\n",
    "##数据说明：本数据是一份汽车贷款违约数据\n",
    "##名称---中文含义\n",
    "##application_id---申请者ID\n",
    "##account_number---帐户号\n",
    "##bad_ind---是否违约\n",
    "##vehicle_year---汽车购买时间\n",
    "##vehicle_make---汽车制造商\n",
    "##bankruptcy_ind---曾经破产标识\n",
    "##tot_derog---五年内信用不良事件数量(比如手机欠费消号)\n",
    "##tot_tr---全部帐户数量\n",
    "##age_oldest_tr---最久账号存续时间(月)\n",
    "##tot_open_tr---在使用帐户数量\n",
    "##tot_rev_tr---在使用可循环贷款帐户数量(比如信用卡)\n",
    "##tot_rev_debt---在使用可循环贷款帐户余额(比如信用卡欠款)\n",
    "##tot_rev_line---可循环贷款帐户限额(信用卡授权额度)\n",
    "##rev_util---可循环贷款帐户使用比例(余额/限额)\n",
    "##fico_score---FICO打分\n",
    "##purch_price---汽车购买金额(元)\n",
    "##msrp---建议售价\n",
    "##down_pyt---分期付款的首次交款\n",
    "##loan_term---贷款期限(月)\n",
    "##loan_amt---贷款金额\n",
    "##ltv---贷款金额/建议售价*100\n",
    "##tot_income---月均收入(元)\n",
    "##veh_mileage---行使历程(Mile)\n",
    "##used_ind---是否二手车\n",
    "##weight---样本权重"
   ]
  },
  {
   "cell_type": "code",
   "execution_count": 1,
   "metadata": {},
   "outputs": [],
   "source": [
    "import os\n",
    "os.chdir(r'/Users/zhanghui/商业分析工具和应用/Python/Python_book/8Logistic')"
   ]
  },
  {
   "cell_type": "code",
   "execution_count": 2,
   "metadata": {},
   "outputs": [],
   "source": [
    "import numpy as np\n",
    "from scipy import stats\n",
    "import pandas as pd\n",
    "import statsmodels.api as sm\n",
    "import statsmodels.formula.api as smf\n",
    "import matplotlib.pyplot as plt"
   ]
  },
  {
   "cell_type": "code",
   "execution_count": 3,
   "metadata": {},
   "outputs": [],
   "source": [
    "accepts = pd.read_csv('accepts.csv').dropna()"
   ]
  },
  {
   "cell_type": "markdown",
   "metadata": {},
   "source": [
    "# 逻辑回归的相关关系分析"
   ]
  },
  {
   "cell_type": "code",
   "execution_count": 4,
   "metadata": {},
   "outputs": [
    {
     "data": {
      "text/html": [
       "<div>\n",
       "<style scoped>\n",
       "    .dataframe tbody tr th:only-of-type {\n",
       "        vertical-align: middle;\n",
       "    }\n",
       "\n",
       "    .dataframe tbody tr th {\n",
       "        vertical-align: top;\n",
       "    }\n",
       "\n",
       "    .dataframe thead th {\n",
       "        text-align: right;\n",
       "    }\n",
       "</style>\n",
       "<table border=\"1\" class=\"dataframe\">\n",
       "  <thead>\n",
       "    <tr style=\"text-align: right;\">\n",
       "      <th>bad_ind</th>\n",
       "      <th>0</th>\n",
       "      <th>1</th>\n",
       "      <th>All</th>\n",
       "    </tr>\n",
       "    <tr>\n",
       "      <th>used_ind</th>\n",
       "      <th></th>\n",
       "      <th></th>\n",
       "      <th></th>\n",
       "    </tr>\n",
       "  </thead>\n",
       "  <tbody>\n",
       "    <tr>\n",
       "      <td>0</td>\n",
       "      <td>1457</td>\n",
       "      <td>306</td>\n",
       "      <td>1763</td>\n",
       "    </tr>\n",
       "    <tr>\n",
       "      <td>1</td>\n",
       "      <td>1862</td>\n",
       "      <td>480</td>\n",
       "      <td>2342</td>\n",
       "    </tr>\n",
       "    <tr>\n",
       "      <td>All</td>\n",
       "      <td>3319</td>\n",
       "      <td>786</td>\n",
       "      <td>4105</td>\n",
       "    </tr>\n",
       "  </tbody>\n",
       "</table>\n",
       "</div>"
      ],
      "text/plain": [
       "bad_ind      0    1   All\n",
       "used_ind                 \n",
       "0         1457  306  1763\n",
       "1         1862  480  2342\n",
       "All       3319  786  4105"
      ]
     },
     "execution_count": 4,
     "metadata": {},
     "output_type": "execute_result"
    }
   ],
   "source": [
    "#  分类变量的相关关系\n",
    "cross_table = pd.crosstab(accepts.used_ind,accepts.bad_ind, margins=True)\n",
    "cross_table"
   ]
  },
  {
   "cell_type": "code",
   "execution_count": 5,
   "metadata": {},
   "outputs": [
    {
     "data": {
      "text/html": [
       "<div>\n",
       "<style scoped>\n",
       "    .dataframe tbody tr th:only-of-type {\n",
       "        vertical-align: middle;\n",
       "    }\n",
       "\n",
       "    .dataframe tbody tr th {\n",
       "        vertical-align: top;\n",
       "    }\n",
       "\n",
       "    .dataframe thead th {\n",
       "        text-align: right;\n",
       "    }\n",
       "</style>\n",
       "<table border=\"1\" class=\"dataframe\">\n",
       "  <thead>\n",
       "    <tr style=\"text-align: right;\">\n",
       "      <th>bad_ind</th>\n",
       "      <th>0</th>\n",
       "      <th>1</th>\n",
       "      <th>All</th>\n",
       "    </tr>\n",
       "    <tr>\n",
       "      <th>used_ind</th>\n",
       "      <th></th>\n",
       "      <th></th>\n",
       "      <th></th>\n",
       "    </tr>\n",
       "  </thead>\n",
       "  <tbody>\n",
       "    <tr>\n",
       "      <td>0</td>\n",
       "      <td>0.826432</td>\n",
       "      <td>0.173568</td>\n",
       "      <td>1.0</td>\n",
       "    </tr>\n",
       "    <tr>\n",
       "      <td>1</td>\n",
       "      <td>0.795047</td>\n",
       "      <td>0.204953</td>\n",
       "      <td>1.0</td>\n",
       "    </tr>\n",
       "    <tr>\n",
       "      <td>All</td>\n",
       "      <td>0.808526</td>\n",
       "      <td>0.191474</td>\n",
       "      <td>1.0</td>\n",
       "    </tr>\n",
       "  </tbody>\n",
       "</table>\n",
       "</div>"
      ],
      "text/plain": [
       "bad_ind          0         1  All\n",
       "used_ind                         \n",
       "0         0.826432  0.173568  1.0\n",
       "1         0.795047  0.204953  1.0\n",
       "All       0.808526  0.191474  1.0"
      ]
     },
     "execution_count": 5,
     "metadata": {},
     "output_type": "execute_result"
    }
   ],
   "source": [
    "cross_table_new = cross_table.div(cross_table['All'],axis=0)\n",
    "cross_table_new"
   ]
  },
  {
   "cell_type": "code",
   "execution_count": 6,
   "metadata": {},
   "outputs": [
    {
     "name": "stdout",
     "output_type": "stream",
     "text": [
      "chisq = 6.1988 \n",
      "p-value = 0.0128\n",
      "dof = 1 \n",
      "expected_freq = [[1425.4316687  337.5683313]\n",
      " [1893.5683313  448.4316687]]\n"
     ]
    }
   ],
   "source": [
    "print('''chisq = %6.4f \n",
    "p-value = %6.4f\n",
    "dof = %i \n",
    "expected_freq = %s'''  %stats.chi2_contingency(cross_table.iloc[:2, :2]))"
   ]
  },
  {
   "cell_type": "markdown",
   "metadata": {},
   "source": [
    "可以看到，不使用二手车的违约率时17.4%，使用二手车的违约率时20.5%，而且这种差异经过卡方检验是显著的。"
   ]
  },
  {
   "cell_type": "code",
   "execution_count": 8,
   "metadata": {},
   "outputs": [
    {
     "name": "stdout",
     "output_type": "stream",
     "text": [
      " 训练集样本量: 2874 \n",
      " 测试集样本量: 1231\n"
     ]
    }
   ],
   "source": [
    "# 随机抽样，建立训练集与测试集\n",
    "\n",
    "train = accepts.sample(frac=0.7, random_state=1234).copy()\n",
    "test = accepts[~ accepts.index.isin(train.index)].copy()\n",
    "print(' 训练集样本量: %i \\n 测试集样本量: %i' %(len(train), len(test)))"
   ]
  },
  {
   "cell_type": "markdown",
   "metadata": {},
   "source": [
    "# 建立模型"
   ]
  },
  {
   "cell_type": "markdown",
   "metadata": {},
   "source": [
    "单变量逻辑回归"
   ]
  },
  {
   "cell_type": "code",
   "execution_count": 9,
   "metadata": {},
   "outputs": [
    {
     "name": "stderr",
     "output_type": "stream",
     "text": [
      "/Applications/anaconda3/lib/python3.7/site-packages/ipykernel_launcher.py:3: DeprecationWarning: Calling Family(..) with a link class as argument is deprecated.\n",
      "Use an instance of a link class instead.\n",
      "  This is separate from the ipykernel package so we can avoid doing imports until\n"
     ]
    },
    {
     "data": {
      "text/html": [
       "<table class=\"simpletable\">\n",
       "<caption>Generalized Linear Model Regression Results</caption>\n",
       "<tr>\n",
       "  <th>Dep. Variable:</th>        <td>bad_ind</td>     <th>  No. Observations:  </th>  <td>  2874</td> \n",
       "</tr>\n",
       "<tr>\n",
       "  <th>Model:</th>                  <td>GLM</td>       <th>  Df Residuals:      </th>  <td>  2872</td> \n",
       "</tr>\n",
       "<tr>\n",
       "  <th>Model Family:</th>        <td>Binomial</td>     <th>  Df Model:          </th>  <td>     1</td> \n",
       "</tr>\n",
       "<tr>\n",
       "  <th>Link Function:</th>         <td>logit</td>      <th>  Scale:             </th> <td>  1.0000</td>\n",
       "</tr>\n",
       "<tr>\n",
       "  <th>Method:</th>                <td>IRLS</td>       <th>  Log-Likelihood:    </th> <td> -1347.1</td>\n",
       "</tr>\n",
       "<tr>\n",
       "  <th>Date:</th>            <td>Mon, 21 Sep 2020</td> <th>  Deviance:          </th> <td>  2694.1</td>\n",
       "</tr>\n",
       "<tr>\n",
       "  <th>Time:</th>                <td>19:28:13</td>     <th>  Pearson chi2:      </th> <td>3.00e+03</td>\n",
       "</tr>\n",
       "<tr>\n",
       "  <th>No. Iterations:</th>          <td>5</td>        <th>                     </th>     <td> </td>   \n",
       "</tr>\n",
       "<tr>\n",
       "  <th>Covariance Type:</th>     <td>nonrobust</td>    <th>                     </th>     <td> </td>   \n",
       "</tr>\n",
       "</table>\n",
       "<table class=\"simpletable\">\n",
       "<tr>\n",
       "        <td></td>           <th>coef</th>     <th>std err</th>      <th>z</th>      <th>P>|z|</th>  <th>[0.025</th>    <th>0.975]</th>  \n",
       "</tr>\n",
       "<tr>\n",
       "  <th>Intercept</th>     <td>   -0.5024</td> <td>    0.092</td> <td>   -5.457</td> <td> 0.000</td> <td>   -0.683</td> <td>   -0.322</td>\n",
       "</tr>\n",
       "<tr>\n",
       "  <th>age_oldest_tr</th> <td>   -0.0063</td> <td>    0.001</td> <td>  -10.510</td> <td> 0.000</td> <td>   -0.008</td> <td>   -0.005</td>\n",
       "</tr>\n",
       "</table>"
      ],
      "text/plain": [
       "<class 'statsmodels.iolib.summary.Summary'>\n",
       "\"\"\"\n",
       "                 Generalized Linear Model Regression Results                  \n",
       "==============================================================================\n",
       "Dep. Variable:                bad_ind   No. Observations:                 2874\n",
       "Model:                            GLM   Df Residuals:                     2872\n",
       "Model Family:                Binomial   Df Model:                            1\n",
       "Link Function:                  logit   Scale:                          1.0000\n",
       "Method:                          IRLS   Log-Likelihood:                -1347.1\n",
       "Date:                Mon, 21 Sep 2020   Deviance:                       2694.1\n",
       "Time:                        19:28:13   Pearson chi2:                 3.00e+03\n",
       "No. Iterations:                     5                                         \n",
       "Covariance Type:            nonrobust                                         \n",
       "=================================================================================\n",
       "                    coef    std err          z      P>|z|      [0.025      0.975]\n",
       "---------------------------------------------------------------------------------\n",
       "Intercept        -0.5024      0.092     -5.457      0.000      -0.683      -0.322\n",
       "age_oldest_tr    -0.0063      0.001    -10.510      0.000      -0.008      -0.005\n",
       "=================================================================================\n",
       "\"\"\""
      ]
     },
     "execution_count": 9,
     "metadata": {},
     "output_type": "execute_result"
    }
   ],
   "source": [
    "lg = smf.glm('bad_ind ~ age_oldest_tr', data=train, \n",
    "             family=sm.families.Binomial(sm.families.links.logit)).fit()\n",
    "lg.summary()"
   ]
  },
  {
   "cell_type": "code",
   "execution_count": 11,
   "metadata": {},
   "outputs": [
    {
     "data": {
      "text/plain": [
       "4     0.238307\n",
       "6     0.065840\n",
       "10    0.148619\n",
       "11    0.267025\n",
       "13    0.283468\n",
       "16    0.277072\n",
       "20    0.051232\n",
       "22    0.236012\n",
       "35    0.147021\n",
       "43    0.052479\n",
       "Name: proba, dtype: float64"
      ]
     },
     "execution_count": 11,
     "metadata": {},
     "output_type": "execute_result"
    }
   ],
   "source": [
    "train['proba'] = lg.predict(train)\n",
    "test['proba'] = lg.predict(test)\n",
    "\n",
    "test['proba'].head(10)"
   ]
  },
  {
   "cell_type": "code",
   "execution_count": 12,
   "metadata": {},
   "outputs": [],
   "source": [
    "# ## 模型评估\n",
    "# 设定阈值\n",
    "test['prediction'] = (test['proba'] > 0.3).astype('int')"
   ]
  },
  {
   "cell_type": "code",
   "execution_count": 14,
   "metadata": {},
   "outputs": [
    {
     "data": {
      "text/html": [
       "<div>\n",
       "<style scoped>\n",
       "    .dataframe tbody tr th:only-of-type {\n",
       "        vertical-align: middle;\n",
       "    }\n",
       "\n",
       "    .dataframe tbody tr th {\n",
       "        vertical-align: top;\n",
       "    }\n",
       "\n",
       "    .dataframe thead th {\n",
       "        text-align: right;\n",
       "    }\n",
       "</style>\n",
       "<table border=\"1\" class=\"dataframe\">\n",
       "  <thead>\n",
       "    <tr style=\"text-align: right;\">\n",
       "      <th>prediction</th>\n",
       "      <th>0</th>\n",
       "      <th>1</th>\n",
       "      <th>All</th>\n",
       "    </tr>\n",
       "    <tr>\n",
       "      <th>bad_ind</th>\n",
       "      <th></th>\n",
       "      <th></th>\n",
       "      <th></th>\n",
       "    </tr>\n",
       "  </thead>\n",
       "  <tbody>\n",
       "    <tr>\n",
       "      <td>0</td>\n",
       "      <td>907</td>\n",
       "      <td>95</td>\n",
       "      <td>1002</td>\n",
       "    </tr>\n",
       "    <tr>\n",
       "      <td>1</td>\n",
       "      <td>186</td>\n",
       "      <td>43</td>\n",
       "      <td>229</td>\n",
       "    </tr>\n",
       "    <tr>\n",
       "      <td>All</td>\n",
       "      <td>1093</td>\n",
       "      <td>138</td>\n",
       "      <td>1231</td>\n",
       "    </tr>\n",
       "  </tbody>\n",
       "</table>\n",
       "</div>"
      ],
      "text/plain": [
       "prediction     0    1   All\n",
       "bad_ind                    \n",
       "0            907   95  1002\n",
       "1            186   43   229\n",
       "All         1093  138  1231"
      ]
     },
     "execution_count": 14,
     "metadata": {},
     "output_type": "execute_result"
    }
   ],
   "source": [
    "# 混淆矩阵\n",
    "\n",
    "pd.crosstab(test.bad_ind, test.prediction, margins=True)"
   ]
  },
  {
   "cell_type": "code",
   "execution_count": 15,
   "metadata": {},
   "outputs": [
    {
     "name": "stdout",
     "output_type": "stream",
     "text": [
      "The accurancy is 0.77\n"
     ]
    }
   ],
   "source": [
    "# - 计算准确率\n",
    "\n",
    "acc = sum(test['prediction'] == test['bad_ind']) /np.float(len(test))\n",
    "print('The accurancy is %.2f' %acc)\n"
   ]
  },
  {
   "cell_type": "markdown",
   "metadata": {},
   "source": [
    "模型评估"
   ]
  },
  {
   "cell_type": "code",
   "execution_count": 16,
   "metadata": {},
   "outputs": [
    {
     "data": {
      "image/png": "[encoded data removed]",
      "text/plain": [
       "<Figure size 216x216 with 1 Axes>"
      ]
     },
     "metadata": {
      "needs_background": "light"
     },
     "output_type": "display_data"
    },
    {
     "name": "stdout",
     "output_type": "stream",
     "text": [
      "AUC = 0.6136\n"
     ]
    }
   ],
   "source": [
    "# - 绘制ROC曲线\n",
    "\n",
    "import sklearn.metrics as metrics\n",
    "\n",
    "fpr_test, tpr_test, th_test = metrics.roc_curve(test.bad_ind, test.proba)\n",
    "fpr_train, tpr_train, th_train = metrics.roc_curve(train.bad_ind, train.proba)\n",
    "\n",
    "plt.figure(figsize=[3, 3])\n",
    "plt.plot(fpr_test, tpr_test, 'b--')\n",
    "plt.plot(fpr_train, tpr_train, 'r-')\n",
    "plt.title('ROC curve')\n",
    "plt.show()\n",
    "\n",
    "\n",
    "\n",
    "print('AUC = %.4f' %metrics.auc(fpr_test, tpr_test))"
   ]
  },
  {
   "cell_type": "markdown",
   "metadata": {},
   "source": [
    "多变量逻辑回归"
   ]
  },
  {
   "cell_type": "code",
   "execution_count": 17,
   "metadata": {},
   "outputs": [],
   "source": [
    "# 向前法-用来筛选变量\n",
    "def forward_select(data, response):\n",
    "    remaining = set(data.columns)\n",
    "    remaining.remove(response)\n",
    "    selected = []\n",
    "    current_score, best_new_score = float('inf'), float('inf')\n",
    "    while remaining:\n",
    "        aic_with_candidates=[]\n",
    "        for candidate in remaining:\n",
    "            formula = \"{} ~ {}\".format(\n",
    "                response,' + '.join(selected + [candidate]))\n",
    "            aic = smf.glm(\n",
    "                formula=formula, data=data, \n",
    "                family=sm.families.Binomial(sm.families.links.logit)\n",
    "            ).fit().aic\n",
    "            aic_with_candidates.append((aic, candidate))\n",
    "        aic_with_candidates.sort(reverse=True)\n",
    "        best_new_score, best_candidate=aic_with_candidates.pop()\n",
    "        if current_score > best_new_score: \n",
    "            remaining.remove(best_candidate)\n",
    "            selected.append(best_candidate)\n",
    "            current_score = best_new_score\n",
    "            print ('aic is {},continuing!'.format(current_score))\n",
    "        else:        \n",
    "            print ('forward selection over!')\n",
    "            break\n",
    "            \n",
    "    formula = \"{} ~ {} \".format(response,' + '.join(selected))\n",
    "    print('final formula is {}'.format(formula))\n",
    "    model = smf.glm(\n",
    "        formula=formula, data=data, \n",
    "        family=sm.families.Binomial(sm.families.links.logit)\n",
    "    ).fit()\n",
    "    return(model)\n"
   ]
  },
  {
   "cell_type": "code",
   "execution_count": 20,
   "metadata": {},
   "outputs": [
    {
     "name": "stderr",
     "output_type": "stream",
     "text": [
      "/Applications/anaconda3/lib/python3.7/site-packages/ipykernel_launcher.py:14: DeprecationWarning: Calling Family(..) with a link class as argument is deprecated.\n",
      "Use an instance of a link class instead.\n",
      "  \n"
     ]
    },
    {
     "name": "stdout",
     "output_type": "stream",
     "text": [
      "aic is 2539.65259738261,continuing!\n",
      "aic is 2448.9722277457986,continuing!\n",
      "aic is 2406.5983198124773,continuing!\n",
      "aic is 2401.0559077596185,continuing!\n",
      "aic is 2397.9131165515632,continuing!\n",
      "aic is 2396.97938436432,continuing!\n",
      "aic is 2396.181953995184,continuing!\n",
      "forward selection over!\n",
      "final formula is bad_ind ~ fico_score + ltv + age_oldest_tr + tot_derog + tot_open_tr + veh_mileage + rev_util \n"
     ]
    },
    {
     "name": "stderr",
     "output_type": "stream",
     "text": [
      "/Applications/anaconda3/lib/python3.7/site-packages/ipykernel_launcher.py:32: DeprecationWarning: Calling Family(..) with a link class as argument is deprecated.\n",
      "Use an instance of a link class instead.\n"
     ]
    },
    {
     "data": {
      "text/html": [
       "<table class=\"simpletable\">\n",
       "<caption>Generalized Linear Model Regression Results</caption>\n",
       "<tr>\n",
       "  <th>Dep. Variable:</th>        <td>bad_ind</td>     <th>  No. Observations:  </th>  <td>  2874</td> \n",
       "</tr>\n",
       "<tr>\n",
       "  <th>Model:</th>                  <td>GLM</td>       <th>  Df Residuals:      </th>  <td>  2866</td> \n",
       "</tr>\n",
       "<tr>\n",
       "  <th>Model Family:</th>        <td>Binomial</td>     <th>  Df Model:          </th>  <td>     7</td> \n",
       "</tr>\n",
       "<tr>\n",
       "  <th>Link Function:</th>         <td>logit</td>      <th>  Scale:             </th> <td>  1.0000</td>\n",
       "</tr>\n",
       "<tr>\n",
       "  <th>Method:</th>                <td>IRLS</td>       <th>  Log-Likelihood:    </th> <td> -1190.1</td>\n",
       "</tr>\n",
       "<tr>\n",
       "  <th>Date:</th>            <td>Mon, 21 Sep 2020</td> <th>  Deviance:          </th> <td>  2380.2</td>\n",
       "</tr>\n",
       "<tr>\n",
       "  <th>Time:</th>                <td>20:03:43</td>     <th>  Pearson chi2:      </th> <td>2.81e+03</td>\n",
       "</tr>\n",
       "<tr>\n",
       "  <th>No. Iterations:</th>          <td>6</td>        <th>                     </th>     <td> </td>   \n",
       "</tr>\n",
       "<tr>\n",
       "  <th>Covariance Type:</th>     <td>nonrobust</td>    <th>                     </th>     <td> </td>   \n",
       "</tr>\n",
       "</table>\n",
       "<table class=\"simpletable\">\n",
       "<tr>\n",
       "        <td></td>           <th>coef</th>     <th>std err</th>      <th>z</th>      <th>P>|z|</th>  <th>[0.025</th>    <th>0.975]</th>  \n",
       "</tr>\n",
       "<tr>\n",
       "  <th>Intercept</th>     <td>    5.3787</td> <td>    0.852</td> <td>    6.311</td> <td> 0.000</td> <td>    3.708</td> <td>    7.049</td>\n",
       "</tr>\n",
       "<tr>\n",
       "  <th>fico_score</th>    <td>   -0.0135</td> <td>    0.001</td> <td>  -11.232</td> <td> 0.000</td> <td>   -0.016</td> <td>   -0.011</td>\n",
       "</tr>\n",
       "<tr>\n",
       "  <th>ltv</th>           <td>    0.0291</td> <td>    0.003</td> <td>    8.587</td> <td> 0.000</td> <td>    0.022</td> <td>    0.036</td>\n",
       "</tr>\n",
       "<tr>\n",
       "  <th>age_oldest_tr</th> <td>   -0.0039</td> <td>    0.001</td> <td>   -5.762</td> <td> 0.000</td> <td>   -0.005</td> <td>   -0.003</td>\n",
       "</tr>\n",
       "<tr>\n",
       "  <th>tot_derog</th>     <td>    0.0374</td> <td>    0.015</td> <td>    2.429</td> <td> 0.015</td> <td>    0.007</td> <td>    0.068</td>\n",
       "</tr>\n",
       "<tr>\n",
       "  <th>tot_open_tr</th>   <td>   -0.0377</td> <td>    0.017</td> <td>   -2.177</td> <td> 0.029</td> <td>   -0.072</td> <td>   -0.004</td>\n",
       "</tr>\n",
       "<tr>\n",
       "  <th>veh_mileage</th>   <td> 2.493e-06</td> <td> 1.49e-06</td> <td>    1.674</td> <td> 0.094</td> <td>-4.26e-07</td> <td> 5.41e-06</td>\n",
       "</tr>\n",
       "<tr>\n",
       "  <th>rev_util</th>      <td>    0.0008</td> <td>    0.001</td> <td>    1.587</td> <td> 0.112</td> <td>   -0.000</td> <td>    0.002</td>\n",
       "</tr>\n",
       "</table>"
      ],
      "text/plain": [
       "<class 'statsmodels.iolib.summary.Summary'>\n",
       "\"\"\"\n",
       "                 Generalized Linear Model Regression Results                  \n",
       "==============================================================================\n",
       "Dep. Variable:                bad_ind   No. Observations:                 2874\n",
       "Model:                            GLM   Df Residuals:                     2866\n",
       "Model Family:                Binomial   Df Model:                            7\n",
       "Link Function:                  logit   Scale:                          1.0000\n",
       "Method:                          IRLS   Log-Likelihood:                -1190.1\n",
       "Date:                Mon, 21 Sep 2020   Deviance:                       2380.2\n",
       "Time:                        20:03:43   Pearson chi2:                 2.81e+03\n",
       "No. Iterations:                     6                                         \n",
       "Covariance Type:            nonrobust                                         \n",
       "=================================================================================\n",
       "                    coef    std err          z      P>|z|      [0.025      0.975]\n",
       "---------------------------------------------------------------------------------\n",
       "Intercept         5.3787      0.852      6.311      0.000       3.708       7.049\n",
       "fico_score       -0.0135      0.001    -11.232      0.000      -0.016      -0.011\n",
       "ltv               0.0291      0.003      8.587      0.000       0.022       0.036\n",
       "age_oldest_tr    -0.0039      0.001     -5.762      0.000      -0.005      -0.003\n",
       "tot_derog         0.0374      0.015      2.429      0.015       0.007       0.068\n",
       "tot_open_tr      -0.0377      0.017     -2.177      0.029      -0.072      -0.004\n",
       "veh_mileage    2.493e-06   1.49e-06      1.674      0.094   -4.26e-07    5.41e-06\n",
       "rev_util          0.0008      0.001      1.587      0.112      -0.000       0.002\n",
       "=================================================================================\n",
       "\"\"\""
      ]
     },
     "execution_count": 20,
     "metadata": {},
     "output_type": "execute_result"
    }
   ],
   "source": [
    "#只有连续变量可以进行变量筛选，分类变量需要进行WOE转换才可以进行变量筛选\n",
    "candidates = ['bad_ind','tot_derog','age_oldest_tr','tot_open_tr','rev_util','fico_score','loan_term','ltv',\n",
    "              'veh_mileage']\n",
    "data_for_select = train[candidates]\n",
    "\n",
    "lg_m1 = forward_select(data=data_for_select, response='bad_ind')\n",
    "lg_m1.summary()\n"
   ]
  },
  {
   "cell_type": "code",
   "execution_count": 21,
   "metadata": {},
   "outputs": [
    {
     "name": "stdout",
     "output_type": "stream",
     "text": [
      "fico_score \t 1.645172458046478\n",
      "ltv \t 1.0283976609476637\n",
      "age_oldest_tr \t 1.2500765006377799\n",
      "tot_derog \t 1.3715222525729385\n",
      "tot_open_tr \t 1.1300779272258392\n",
      "veh_mileage \t 1.012878392626683\n",
      "rev_util \t 1.0844038024713758\n"
     ]
    }
   ],
   "source": [
    "#判断是否存在多重共线性-VIF\n",
    "\n",
    "def vif(df, col_i):\n",
    "    from statsmodels.formula.api import ols\n",
    "    \n",
    "    cols = list(df.columns)\n",
    "    cols.remove(col_i)\n",
    "    cols_noti = cols\n",
    "    formula = col_i + '~' + '+'.join(cols_noti)\n",
    "    r2 = ols(formula, df).fit().rsquared\n",
    "    return 1. / (1. - r2)\n",
    "\n",
    "candidates = ['bad_ind','fico_score','ltv','age_oldest_tr','tot_derog','tot_open_tr','veh_mileage','rev_util']\n",
    "exog = train[candidates].drop(['bad_ind'], axis=1)\n",
    "\n",
    "for i in exog.columns:\n",
    "    print(i, '\\t', vif(df=exog, col_i=i))\n"
   ]
  },
  {
   "cell_type": "markdown",
   "metadata": {},
   "source": [
    "可以看到VIF小于10这个阈值，说明自变量没有显著的多重共线性。"
   ]
  },
  {
   "cell_type": "code",
   "execution_count": 22,
   "metadata": {},
   "outputs": [],
   "source": [
    "train['proba'] = lg_m1.predict(train)\n",
    "test['proba'] = lg_m1.predict(test)"
   ]
  },
  {
   "cell_type": "markdown",
   "metadata": {},
   "source": [
    "# 模型评估"
   ]
  },
  {
   "cell_type": "code",
   "execution_count": 24,
   "metadata": {},
   "outputs": [
    {
     "data": {
      "image/png": "[encoded data removed]",
      "text/plain": [
       "<Figure size 216x216 with 1 Axes>"
      ]
     },
     "metadata": {
      "needs_background": "light"
     },
     "output_type": "display_data"
    },
    {
     "name": "stdout",
     "output_type": "stream",
     "text": [
      "AUC = 0.7534\n"
     ]
    }
   ],
   "source": [
    "import sklearn.metrics as metrics\n",
    "\n",
    "fpr_test, tpr_test, th_test = metrics.roc_curve(test.bad_ind, test.proba)\n",
    "fpr_train, tpr_train, th_train = metrics.roc_curve(train.bad_ind, train.proba)\n",
    "\n",
    "plt.figure(figsize=[3, 3])\n",
    "plt.plot(fpr_test, tpr_test, 'b--')\n",
    "plt.plot(fpr_train, tpr_train, 'r-')\n",
    "plt.title('ROC curve')\n",
    "plt.show()\n",
    "print('AUC = %.4f' %metrics.auc(fpr_test, tpr_test))\n"
   ]
  },
  {
   "cell_type": "markdown",
   "metadata": {},
   "source": [
    "训练集跟测试集的预测效果比较接近，说明模型过拟合的可能较小。\n",
    "在逻辑回归中，如果存在过拟合，可以通过增加正则化项，筛选变量等方法来改善。"
   ]
  },
  {
   "cell_type": "code",
   "execution_count": null,
   "metadata": {},
   "outputs": [],
   "source": []
  },
  {
   "cell_type": "markdown",
   "metadata": {},
   "source": [
    "#包含分类预测变量的逻辑回归\n",
    "formula = '''bad_ind ~ C(used_ind)'''\n",
    "\n",
    "lg_m = smf.glm(formula=formula, data=train, \n",
    "             family=sm.families.Binomial(sm.families.links.logit)).fit()\n",
    "lg_m.summary()"
   ]
  },
  {
   "cell_type": "markdown",
   "metadata": {},
   "source": [
    "疑问：为什么卡方检验不显著的分类变量，跟连续变量一起放入就变得显著了？"
   ]
  }
 ],
 "metadata": {
  "kernelspec": {
   "display_name": "Python 3",
   "language": "python",
   "name": "python3"
  },
  "language_info": {
   "codemirror_mode": {
    "name": "ipython",
    "version": 3
   },
   "file_extension": ".py",
   "mimetype": "text/x-python",
   "name": "python",
   "nbconvert_exporter": "python",
   "pygments_lexer": "ipython3",
   "version": "3.7.4"
  }
 },
 "nbformat": 4,
 "nbformat_minor": 2
}
