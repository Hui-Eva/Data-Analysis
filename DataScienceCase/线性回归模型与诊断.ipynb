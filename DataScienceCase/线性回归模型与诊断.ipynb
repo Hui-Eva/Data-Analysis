{
 "cells": [
  {
   "cell_type": "code",
   "execution_count": 15,
   "metadata": {},
   "outputs": [],
   "source": [
    "import os\n",
    "os.chdir(r'/Users/zhanghui/商业分析工具和应用/Python/Python_book/7Linearmodel')"
   ]
  },
  {
   "cell_type": "code",
   "execution_count": 16,
   "metadata": {},
   "outputs": [],
   "source": [
    "import matplotlib.pyplot as plt\n",
    "import numpy as np\n",
    "import pandas as pd\n",
    "import statsmodels.api as sm\n",
    "from statsmodels.formula.api import ols"
   ]
  },
  {
   "cell_type": "markdown",
   "metadata": {},
   "source": [
    "1.1简单线性回归"
   ]
  },
  {
   "cell_type": "code",
   "execution_count": 21,
   "metadata": {},
   "outputs": [
    {
     "data": {
      "text/html": [
       "<div>\n",
       "<style scoped>\n",
       "    .dataframe tbody tr th:only-of-type {\n",
       "        vertical-align: middle;\n",
       "    }\n",
       "\n",
       "    .dataframe tbody tr th {\n",
       "        vertical-align: top;\n",
       "    }\n",
       "\n",
       "    .dataframe thead th {\n",
       "        text-align: right;\n",
       "    }\n",
       "</style>\n",
       "<table border=\"1\" class=\"dataframe\">\n",
       "  <thead>\n",
       "    <tr style=\"text-align: right;\">\n",
       "      <th></th>\n",
       "      <th>id</th>\n",
       "      <th>Acc</th>\n",
       "      <th>avg_exp</th>\n",
       "      <th>avg_exp_ln</th>\n",
       "      <th>gender</th>\n",
       "      <th>Age</th>\n",
       "      <th>Income</th>\n",
       "      <th>Ownrent</th>\n",
       "      <th>Selfempl</th>\n",
       "      <th>dist_home_val</th>\n",
       "      <th>dist_avg_income</th>\n",
       "      <th>age2</th>\n",
       "      <th>high_avg</th>\n",
       "      <th>edu_class</th>\n",
       "    </tr>\n",
       "  </thead>\n",
       "  <tbody>\n",
       "    <tr>\n",
       "      <td>0</td>\n",
       "      <td>19</td>\n",
       "      <td>1</td>\n",
       "      <td>1217.03</td>\n",
       "      <td>7.104169</td>\n",
       "      <td>1</td>\n",
       "      <td>40</td>\n",
       "      <td>16.03515</td>\n",
       "      <td>1</td>\n",
       "      <td>1</td>\n",
       "      <td>99.93</td>\n",
       "      <td>15.932789</td>\n",
       "      <td>1600</td>\n",
       "      <td>0.102361</td>\n",
       "      <td>3</td>\n",
       "    </tr>\n",
       "    <tr>\n",
       "      <td>1</td>\n",
       "      <td>5</td>\n",
       "      <td>1</td>\n",
       "      <td>1251.50</td>\n",
       "      <td>7.132098</td>\n",
       "      <td>1</td>\n",
       "      <td>32</td>\n",
       "      <td>15.84750</td>\n",
       "      <td>1</td>\n",
       "      <td>0</td>\n",
       "      <td>49.88</td>\n",
       "      <td>15.796316</td>\n",
       "      <td>1024</td>\n",
       "      <td>0.051184</td>\n",
       "      <td>2</td>\n",
       "    </tr>\n",
       "    <tr>\n",
       "      <td>2</td>\n",
       "      <td>95</td>\n",
       "      <td>0</td>\n",
       "      <td>NaN</td>\n",
       "      <td>NaN</td>\n",
       "      <td>1</td>\n",
       "      <td>36</td>\n",
       "      <td>8.40000</td>\n",
       "      <td>0</td>\n",
       "      <td>0</td>\n",
       "      <td>88.61</td>\n",
       "      <td>7.490000</td>\n",
       "      <td>1296</td>\n",
       "      <td>0.910000</td>\n",
       "      <td>1</td>\n",
       "    </tr>\n",
       "    <tr>\n",
       "      <td>3</td>\n",
       "      <td>86</td>\n",
       "      <td>1</td>\n",
       "      <td>856.57</td>\n",
       "      <td>6.752936</td>\n",
       "      <td>1</td>\n",
       "      <td>41</td>\n",
       "      <td>11.47285</td>\n",
       "      <td>1</td>\n",
       "      <td>0</td>\n",
       "      <td>16.10</td>\n",
       "      <td>11.275632</td>\n",
       "      <td>1681</td>\n",
       "      <td>0.197218</td>\n",
       "      <td>3</td>\n",
       "    </tr>\n",
       "    <tr>\n",
       "      <td>4</td>\n",
       "      <td>50</td>\n",
       "      <td>1</td>\n",
       "      <td>1321.83</td>\n",
       "      <td>7.186772</td>\n",
       "      <td>1</td>\n",
       "      <td>28</td>\n",
       "      <td>13.40915</td>\n",
       "      <td>1</td>\n",
       "      <td>0</td>\n",
       "      <td>100.39</td>\n",
       "      <td>13.346474</td>\n",
       "      <td>784</td>\n",
       "      <td>0.062676</td>\n",
       "      <td>2</td>\n",
       "    </tr>\n",
       "  </tbody>\n",
       "</table>\n",
       "</div>"
      ],
      "text/plain": [
       "   id  Acc  avg_exp  avg_exp_ln  gender  Age    Income  Ownrent  Selfempl  \\\n",
       "0  19    1  1217.03    7.104169       1   40  16.03515        1         1   \n",
       "1   5    1  1251.50    7.132098       1   32  15.84750        1         0   \n",
       "2  95    0      NaN         NaN       1   36   8.40000        0         0   \n",
       "3  86    1   856.57    6.752936       1   41  11.47285        1         0   \n",
       "4  50    1  1321.83    7.186772       1   28  13.40915        1         0   \n",
       "\n",
       "   dist_home_val  dist_avg_income  age2  high_avg  edu_class  \n",
       "0          99.93        15.932789  1600  0.102361          3  \n",
       "1          49.88        15.796316  1024  0.051184          2  \n",
       "2          88.61         7.490000  1296  0.910000          1  \n",
       "3          16.10        11.275632  1681  0.197218          3  \n",
       "4         100.39        13.346474   784  0.062676          2  "
      ]
     },
     "execution_count": 21,
     "metadata": {},
     "output_type": "execute_result"
    }
   ],
   "source": [
    "raw = pd.read_csv(r'creditcard_exp.csv', skipinitialspace=True)\n",
    "raw.head()"
   ]
  },
  {
   "cell_type": "code",
   "execution_count": 22,
   "metadata": {},
   "outputs": [
    {
     "data": {
      "text/html": [
       "<div>\n",
       "<style scoped>\n",
       "    .dataframe tbody tr th:only-of-type {\n",
       "        vertical-align: middle;\n",
       "    }\n",
       "\n",
       "    .dataframe tbody tr th {\n",
       "        vertical-align: top;\n",
       "    }\n",
       "\n",
       "    .dataframe thead th {\n",
       "        text-align: right;\n",
       "    }\n",
       "</style>\n",
       "<table border=\"1\" class=\"dataframe\">\n",
       "  <thead>\n",
       "    <tr style=\"text-align: right;\">\n",
       "      <th></th>\n",
       "      <th>avg_exp</th>\n",
       "      <th>avg_exp_ln</th>\n",
       "      <th>gender</th>\n",
       "      <th>Age</th>\n",
       "      <th>Income</th>\n",
       "      <th>Ownrent</th>\n",
       "      <th>Selfempl</th>\n",
       "      <th>dist_home_val</th>\n",
       "      <th>dist_avg_income</th>\n",
       "      <th>high_avg</th>\n",
       "      <th>edu_class</th>\n",
       "    </tr>\n",
       "  </thead>\n",
       "  <tbody>\n",
       "    <tr>\n",
       "      <td>count</td>\n",
       "      <td>70.000000</td>\n",
       "      <td>70.000000</td>\n",
       "      <td>70.000000</td>\n",
       "      <td>70.000000</td>\n",
       "      <td>70.000000</td>\n",
       "      <td>70.000000</td>\n",
       "      <td>70.000000</td>\n",
       "      <td>70.000000</td>\n",
       "      <td>70.000000</td>\n",
       "      <td>70.000000</td>\n",
       "      <td>70.000000</td>\n",
       "    </tr>\n",
       "    <tr>\n",
       "      <td>mean</td>\n",
       "      <td>983.655429</td>\n",
       "      <td>6.787787</td>\n",
       "      <td>0.285714</td>\n",
       "      <td>31.157143</td>\n",
       "      <td>7.424706</td>\n",
       "      <td>0.385714</td>\n",
       "      <td>0.028571</td>\n",
       "      <td>74.540857</td>\n",
       "      <td>8.005472</td>\n",
       "      <td>-0.580766</td>\n",
       "      <td>1.928571</td>\n",
       "    </tr>\n",
       "    <tr>\n",
       "      <td>std</td>\n",
       "      <td>446.294237</td>\n",
       "      <td>0.476035</td>\n",
       "      <td>0.455016</td>\n",
       "      <td>7.206349</td>\n",
       "      <td>3.077986</td>\n",
       "      <td>0.490278</td>\n",
       "      <td>0.167802</td>\n",
       "      <td>36.949228</td>\n",
       "      <td>3.070744</td>\n",
       "      <td>0.432808</td>\n",
       "      <td>0.873464</td>\n",
       "    </tr>\n",
       "    <tr>\n",
       "      <td>min</td>\n",
       "      <td>163.180000</td>\n",
       "      <td>5.094854</td>\n",
       "      <td>0.000000</td>\n",
       "      <td>20.000000</td>\n",
       "      <td>3.493900</td>\n",
       "      <td>0.000000</td>\n",
       "      <td>0.000000</td>\n",
       "      <td>13.130000</td>\n",
       "      <td>3.828842</td>\n",
       "      <td>-1.526850</td>\n",
       "      <td>0.000000</td>\n",
       "    </tr>\n",
       "    <tr>\n",
       "      <td>25%</td>\n",
       "      <td>697.155000</td>\n",
       "      <td>6.547003</td>\n",
       "      <td>0.000000</td>\n",
       "      <td>26.000000</td>\n",
       "      <td>5.175662</td>\n",
       "      <td>0.000000</td>\n",
       "      <td>0.000000</td>\n",
       "      <td>49.302500</td>\n",
       "      <td>5.915553</td>\n",
       "      <td>-0.887981</td>\n",
       "      <td>1.000000</td>\n",
       "    </tr>\n",
       "    <tr>\n",
       "      <td>50%</td>\n",
       "      <td>884.150000</td>\n",
       "      <td>6.784627</td>\n",
       "      <td>0.000000</td>\n",
       "      <td>30.000000</td>\n",
       "      <td>6.443525</td>\n",
       "      <td>0.000000</td>\n",
       "      <td>0.000000</td>\n",
       "      <td>65.660000</td>\n",
       "      <td>7.084184</td>\n",
       "      <td>-0.612068</td>\n",
       "      <td>2.000000</td>\n",
       "    </tr>\n",
       "    <tr>\n",
       "      <td>75%</td>\n",
       "      <td>1229.585000</td>\n",
       "      <td>7.114415</td>\n",
       "      <td>1.000000</td>\n",
       "      <td>36.000000</td>\n",
       "      <td>8.494237</td>\n",
       "      <td>1.000000</td>\n",
       "      <td>0.000000</td>\n",
       "      <td>105.067500</td>\n",
       "      <td>9.123105</td>\n",
       "      <td>-0.302082</td>\n",
       "      <td>3.000000</td>\n",
       "    </tr>\n",
       "    <tr>\n",
       "      <td>max</td>\n",
       "      <td>2430.030000</td>\n",
       "      <td>7.795659</td>\n",
       "      <td>1.000000</td>\n",
       "      <td>55.000000</td>\n",
       "      <td>16.900150</td>\n",
       "      <td>1.000000</td>\n",
       "      <td>1.000000</td>\n",
       "      <td>157.900000</td>\n",
       "      <td>18.427000</td>\n",
       "      <td>0.259337</td>\n",
       "      <td>3.000000</td>\n",
       "    </tr>\n",
       "  </tbody>\n",
       "</table>\n",
       "</div>"
      ],
      "text/plain": [
       "           avg_exp  avg_exp_ln     gender        Age     Income    Ownrent  \\\n",
       "count    70.000000   70.000000  70.000000  70.000000  70.000000  70.000000   \n",
       "mean    983.655429    6.787787   0.285714  31.157143   7.424706   0.385714   \n",
       "std     446.294237    0.476035   0.455016   7.206349   3.077986   0.490278   \n",
       "min     163.180000    5.094854   0.000000  20.000000   3.493900   0.000000   \n",
       "25%     697.155000    6.547003   0.000000  26.000000   5.175662   0.000000   \n",
       "50%     884.150000    6.784627   0.000000  30.000000   6.443525   0.000000   \n",
       "75%    1229.585000    7.114415   1.000000  36.000000   8.494237   1.000000   \n",
       "max    2430.030000    7.795659   1.000000  55.000000  16.900150   1.000000   \n",
       "\n",
       "        Selfempl  dist_home_val  dist_avg_income   high_avg  edu_class  \n",
       "count  70.000000      70.000000        70.000000  70.000000  70.000000  \n",
       "mean    0.028571      74.540857         8.005472  -0.580766   1.928571  \n",
       "std     0.167802      36.949228         3.070744   0.432808   0.873464  \n",
       "min     0.000000      13.130000         3.828842  -1.526850   0.000000  \n",
       "25%     0.000000      49.302500         5.915553  -0.887981   1.000000  \n",
       "50%     0.000000      65.660000         7.084184  -0.612068   2.000000  \n",
       "75%     0.000000     105.067500         9.123105  -0.302082   3.000000  \n",
       "max     1.000000     157.900000        18.427000   0.259337   3.000000  "
      ]
     },
     "execution_count": 22,
     "metadata": {},
     "output_type": "execute_result"
    }
   ],
   "source": [
    "exp = raw[raw['avg_exp'].notnull()].copy().iloc[:, 2:].drop('age2',axis=1)#用于建模\n",
    "exp_new = raw[raw['avg_exp'].isnull()].copy().iloc[:, 2:].drop('age2',axis=1)#用于预测\n",
    "exp.describe(include='all')"
   ]
  },
  {
   "cell_type": "code",
   "execution_count": 23,
   "metadata": {},
   "outputs": [
    {
     "data": {
      "text/html": [
       "<div>\n",
       "<style scoped>\n",
       "    .dataframe tbody tr th:only-of-type {\n",
       "        vertical-align: middle;\n",
       "    }\n",
       "\n",
       "    .dataframe tbody tr th {\n",
       "        vertical-align: top;\n",
       "    }\n",
       "\n",
       "    .dataframe thead th {\n",
       "        text-align: right;\n",
       "    }\n",
       "</style>\n",
       "<table border=\"1\" class=\"dataframe\">\n",
       "  <thead>\n",
       "    <tr style=\"text-align: right;\">\n",
       "      <th></th>\n",
       "      <th>Income</th>\n",
       "      <th>avg_exp</th>\n",
       "      <th>Age</th>\n",
       "      <th>dist_home_val</th>\n",
       "    </tr>\n",
       "  </thead>\n",
       "  <tbody>\n",
       "    <tr>\n",
       "      <td>Income</td>\n",
       "      <td>1.000000</td>\n",
       "      <td>0.674011</td>\n",
       "      <td>0.369129</td>\n",
       "      <td>0.249153</td>\n",
       "    </tr>\n",
       "    <tr>\n",
       "      <td>avg_exp</td>\n",
       "      <td>0.674011</td>\n",
       "      <td>1.000000</td>\n",
       "      <td>0.258478</td>\n",
       "      <td>0.319499</td>\n",
       "    </tr>\n",
       "    <tr>\n",
       "      <td>Age</td>\n",
       "      <td>0.369129</td>\n",
       "      <td>0.258478</td>\n",
       "      <td>1.000000</td>\n",
       "      <td>0.109323</td>\n",
       "    </tr>\n",
       "    <tr>\n",
       "      <td>dist_home_val</td>\n",
       "      <td>0.249153</td>\n",
       "      <td>0.319499</td>\n",
       "      <td>0.109323</td>\n",
       "      <td>1.000000</td>\n",
       "    </tr>\n",
       "  </tbody>\n",
       "</table>\n",
       "</div>"
      ],
      "text/plain": [
       "                 Income   avg_exp       Age  dist_home_val\n",
       "Income         1.000000  0.674011  0.369129       0.249153\n",
       "avg_exp        0.674011  1.000000  0.258478       0.319499\n",
       "Age            0.369129  0.258478  1.000000       0.109323\n",
       "dist_home_val  0.249153  0.319499  0.109323       1.000000"
      ]
     },
     "execution_count": 23,
     "metadata": {},
     "output_type": "execute_result"
    }
   ],
   "source": [
    "#相关性分析\n",
    "exp[['Income', 'avg_exp', 'Age', 'dist_home_val']].corr(method='pearson')"
   ]
  },
  {
   "cell_type": "markdown",
   "metadata": {},
   "source": [
    "说明Income和avg_exp有较高的相关性，可以使用简单的线性回归来建模"
   ]
  },
  {
   "cell_type": "code",
   "execution_count": 24,
   "metadata": {},
   "outputs": [
    {
     "name": "stdout",
     "output_type": "stream",
     "text": [
      "Intercept    258.049498\n",
      "Income        97.728578\n",
      "dtype: float64\n"
     ]
    }
   ],
   "source": [
    "lm_s = ols('avg_exp ~ Income',data = exp).fit()\n",
    "print(lm_s.params)"
   ]
  },
  {
   "cell_type": "code",
   "execution_count": 25,
   "metadata": {},
   "outputs": [
    {
     "data": {
      "text/html": [
       "<table class=\"simpletable\">\n",
       "<caption>OLS Regression Results</caption>\n",
       "<tr>\n",
       "  <th>Dep. Variable:</th>         <td>avg_exp</td>     <th>  R-squared:         </th> <td>   0.454</td>\n",
       "</tr>\n",
       "<tr>\n",
       "  <th>Model:</th>                   <td>OLS</td>       <th>  Adj. R-squared:    </th> <td>   0.446</td>\n",
       "</tr>\n",
       "<tr>\n",
       "  <th>Method:</th>             <td>Least Squares</td>  <th>  F-statistic:       </th> <td>   56.61</td>\n",
       "</tr>\n",
       "<tr>\n",
       "  <th>Date:</th>             <td>Sun, 20 Sep 2020</td> <th>  Prob (F-statistic):</th> <td>1.60e-10</td>\n",
       "</tr>\n",
       "<tr>\n",
       "  <th>Time:</th>                 <td>21:23:34</td>     <th>  Log-Likelihood:    </th> <td> -504.69</td>\n",
       "</tr>\n",
       "<tr>\n",
       "  <th>No. Observations:</th>      <td>    70</td>      <th>  AIC:               </th> <td>   1013.</td>\n",
       "</tr>\n",
       "<tr>\n",
       "  <th>Df Residuals:</th>          <td>    68</td>      <th>  BIC:               </th> <td>   1018.</td>\n",
       "</tr>\n",
       "<tr>\n",
       "  <th>Df Model:</th>              <td>     1</td>      <th>                     </th>     <td> </td>   \n",
       "</tr>\n",
       "<tr>\n",
       "  <th>Covariance Type:</th>      <td>nonrobust</td>    <th>                     </th>     <td> </td>   \n",
       "</tr>\n",
       "</table>\n",
       "<table class=\"simpletable\">\n",
       "<tr>\n",
       "      <td></td>         <th>coef</th>     <th>std err</th>      <th>t</th>      <th>P>|t|</th>  <th>[0.025</th>    <th>0.975]</th>  \n",
       "</tr>\n",
       "<tr>\n",
       "  <th>Intercept</th> <td>  258.0495</td> <td>  104.290</td> <td>    2.474</td> <td> 0.016</td> <td>   49.942</td> <td>  466.157</td>\n",
       "</tr>\n",
       "<tr>\n",
       "  <th>Income</th>    <td>   97.7286</td> <td>   12.989</td> <td>    7.524</td> <td> 0.000</td> <td>   71.809</td> <td>  123.648</td>\n",
       "</tr>\n",
       "</table>\n",
       "<table class=\"simpletable\">\n",
       "<tr>\n",
       "  <th>Omnibus:</th>       <td> 3.714</td> <th>  Durbin-Watson:     </th> <td>   1.424</td>\n",
       "</tr>\n",
       "<tr>\n",
       "  <th>Prob(Omnibus):</th> <td> 0.156</td> <th>  Jarque-Bera (JB):  </th> <td>   3.507</td>\n",
       "</tr>\n",
       "<tr>\n",
       "  <th>Skew:</th>          <td> 0.485</td> <th>  Prob(JB):          </th> <td>   0.173</td>\n",
       "</tr>\n",
       "<tr>\n",
       "  <th>Kurtosis:</th>      <td> 2.490</td> <th>  Cond. No.          </th> <td>    21.4</td>\n",
       "</tr>\n",
       "</table><br/><br/>Warnings:<br/>[1] Standard Errors assume that the covariance matrix of the errors is correctly specified."
      ],
      "text/plain": [
       "<class 'statsmodels.iolib.summary.Summary'>\n",
       "\"\"\"\n",
       "                            OLS Regression Results                            \n",
       "==============================================================================\n",
       "Dep. Variable:                avg_exp   R-squared:                       0.454\n",
       "Model:                            OLS   Adj. R-squared:                  0.446\n",
       "Method:                 Least Squares   F-statistic:                     56.61\n",
       "Date:                Sun, 20 Sep 2020   Prob (F-statistic):           1.60e-10\n",
       "Time:                        21:23:34   Log-Likelihood:                -504.69\n",
       "No. Observations:                  70   AIC:                             1013.\n",
       "Df Residuals:                      68   BIC:                             1018.\n",
       "Df Model:                           1                                         \n",
       "Covariance Type:            nonrobust                                         \n",
       "==============================================================================\n",
       "                 coef    std err          t      P>|t|      [0.025      0.975]\n",
       "------------------------------------------------------------------------------\n",
       "Intercept    258.0495    104.290      2.474      0.016      49.942     466.157\n",
       "Income        97.7286     12.989      7.524      0.000      71.809     123.648\n",
       "==============================================================================\n",
       "Omnibus:                        3.714   Durbin-Watson:                   1.424\n",
       "Prob(Omnibus):                  0.156   Jarque-Bera (JB):                3.507\n",
       "Skew:                           0.485   Prob(JB):                        0.173\n",
       "Kurtosis:                       2.490   Cond. No.                         21.4\n",
       "==============================================================================\n",
       "\n",
       "Warnings:\n",
       "[1] Standard Errors assume that the covariance matrix of the errors is correctly specified.\n",
       "\"\"\""
      ]
     },
     "execution_count": 25,
     "metadata": {},
     "output_type": "execute_result"
    }
   ],
   "source": [
    "lm_s.summary()"
   ]
  },
  {
   "cell_type": "code",
   "execution_count": 26,
   "metadata": {},
   "outputs": [
    {
     "data": {
      "text/html": [
       "<div>\n",
       "<style scoped>\n",
       "    .dataframe tbody tr th:only-of-type {\n",
       "        vertical-align: middle;\n",
       "    }\n",
       "\n",
       "    .dataframe tbody tr th {\n",
       "        vertical-align: top;\n",
       "    }\n",
       "\n",
       "    .dataframe thead th {\n",
       "        text-align: right;\n",
       "    }\n",
       "</style>\n",
       "<table border=\"1\" class=\"dataframe\">\n",
       "  <thead>\n",
       "    <tr style=\"text-align: right;\">\n",
       "      <th></th>\n",
       "      <th>predict</th>\n",
       "      <th>resid</th>\n",
       "    </tr>\n",
       "  </thead>\n",
       "  <tbody>\n",
       "    <tr>\n",
       "      <td>0</td>\n",
       "      <td>1825.141904</td>\n",
       "      <td>-608.111904</td>\n",
       "    </tr>\n",
       "    <tr>\n",
       "      <td>1</td>\n",
       "      <td>1806.803136</td>\n",
       "      <td>-555.303136</td>\n",
       "    </tr>\n",
       "    <tr>\n",
       "      <td>3</td>\n",
       "      <td>1379.274813</td>\n",
       "      <td>-522.704813</td>\n",
       "    </tr>\n",
       "    <tr>\n",
       "      <td>4</td>\n",
       "      <td>1568.506658</td>\n",
       "      <td>-246.676658</td>\n",
       "    </tr>\n",
       "    <tr>\n",
       "      <td>5</td>\n",
       "      <td>1238.281793</td>\n",
       "      <td>-422.251793</td>\n",
       "    </tr>\n",
       "  </tbody>\n",
       "</table>\n",
       "</div>"
      ],
      "text/plain": [
       "       predict       resid\n",
       "0  1825.141904 -608.111904\n",
       "1  1806.803136 -555.303136\n",
       "3  1379.274813 -522.704813\n",
       "4  1568.506658 -246.676658\n",
       "5  1238.281793 -422.251793"
      ]
     },
     "execution_count": 26,
     "metadata": {},
     "output_type": "execute_result"
    }
   ],
   "source": [
    "pd.DataFrame([lm_s.predict(exp),lm_s.resid],index = ['predict','resid']).T.head()"
   ]
  },
  {
   "cell_type": "code",
   "execution_count": 27,
   "metadata": {},
   "outputs": [
    {
     "data": {
      "text/plain": [
       "2     1078.969552\n",
       "11     756.465245\n",
       "13     736.919530\n",
       "19     687.077955\n",
       "20     666.554953\n",
       "dtype: float64"
      ]
     },
     "execution_count": 27,
     "metadata": {},
     "output_type": "execute_result"
    }
   ],
   "source": [
    "lm_s.predict(exp_new)[:5]"
   ]
  },
  {
   "cell_type": "markdown",
   "metadata": {},
   "source": [
    "1.2 多元线性回归"
   ]
  },
  {
   "cell_type": "code",
   "execution_count": 28,
   "metadata": {},
   "outputs": [
    {
     "data": {
      "text/html": [
       "<table class=\"simpletable\">\n",
       "<caption>OLS Regression Results</caption>\n",
       "<tr>\n",
       "  <th>Dep. Variable:</th>         <td>avg_exp</td>     <th>  R-squared:         </th> <td>   0.542</td>\n",
       "</tr>\n",
       "<tr>\n",
       "  <th>Model:</th>                   <td>OLS</td>       <th>  Adj. R-squared:    </th> <td>   0.513</td>\n",
       "</tr>\n",
       "<tr>\n",
       "  <th>Method:</th>             <td>Least Squares</td>  <th>  F-statistic:       </th> <td>   19.20</td>\n",
       "</tr>\n",
       "<tr>\n",
       "  <th>Date:</th>             <td>Sun, 20 Sep 2020</td> <th>  Prob (F-statistic):</th> <td>1.82e-10</td>\n",
       "</tr>\n",
       "<tr>\n",
       "  <th>Time:</th>                 <td>21:31:03</td>     <th>  Log-Likelihood:    </th> <td> -498.59</td>\n",
       "</tr>\n",
       "<tr>\n",
       "  <th>No. Observations:</th>      <td>    70</td>      <th>  AIC:               </th> <td>   1007.</td>\n",
       "</tr>\n",
       "<tr>\n",
       "  <th>Df Residuals:</th>          <td>    65</td>      <th>  BIC:               </th> <td>   1018.</td>\n",
       "</tr>\n",
       "<tr>\n",
       "  <th>Df Model:</th>              <td>     4</td>      <th>                     </th>     <td> </td>   \n",
       "</tr>\n",
       "<tr>\n",
       "  <th>Covariance Type:</th>      <td>nonrobust</td>    <th>                     </th>     <td> </td>   \n",
       "</tr>\n",
       "</table>\n",
       "<table class=\"simpletable\">\n",
       "<tr>\n",
       "         <td></td>            <th>coef</th>     <th>std err</th>      <th>t</th>      <th>P>|t|</th>  <th>[0.025</th>    <th>0.975]</th>  \n",
       "</tr>\n",
       "<tr>\n",
       "  <th>Intercept</th>       <td>  -32.0078</td> <td>  186.874</td> <td>   -0.171</td> <td> 0.865</td> <td> -405.221</td> <td>  341.206</td>\n",
       "</tr>\n",
       "<tr>\n",
       "  <th>Age</th>             <td>    1.3723</td> <td>    5.605</td> <td>    0.245</td> <td> 0.807</td> <td>   -9.822</td> <td>   12.566</td>\n",
       "</tr>\n",
       "<tr>\n",
       "  <th>Income</th>          <td> -166.7204</td> <td>   87.607</td> <td>   -1.903</td> <td> 0.061</td> <td> -341.684</td> <td>    8.243</td>\n",
       "</tr>\n",
       "<tr>\n",
       "  <th>dist_home_val</th>   <td>    1.5329</td> <td>    1.057</td> <td>    1.450</td> <td> 0.152</td> <td>   -0.578</td> <td>    3.644</td>\n",
       "</tr>\n",
       "<tr>\n",
       "  <th>dist_avg_income</th> <td>  261.8827</td> <td>   87.807</td> <td>    2.982</td> <td> 0.004</td> <td>   86.521</td> <td>  437.245</td>\n",
       "</tr>\n",
       "</table>\n",
       "<table class=\"simpletable\">\n",
       "<tr>\n",
       "  <th>Omnibus:</th>       <td> 5.234</td> <th>  Durbin-Watson:     </th> <td>   1.582</td>\n",
       "</tr>\n",
       "<tr>\n",
       "  <th>Prob(Omnibus):</th> <td> 0.073</td> <th>  Jarque-Bera (JB):  </th> <td>   5.174</td>\n",
       "</tr>\n",
       "<tr>\n",
       "  <th>Skew:</th>          <td> 0.625</td> <th>  Prob(JB):          </th> <td>  0.0752</td>\n",
       "</tr>\n",
       "<tr>\n",
       "  <th>Kurtosis:</th>      <td> 2.540</td> <th>  Cond. No.          </th> <td>    459.</td>\n",
       "</tr>\n",
       "</table><br/><br/>Warnings:<br/>[1] Standard Errors assume that the covariance matrix of the errors is correctly specified."
      ],
      "text/plain": [
       "<class 'statsmodels.iolib.summary.Summary'>\n",
       "\"\"\"\n",
       "                            OLS Regression Results                            \n",
       "==============================================================================\n",
       "Dep. Variable:                avg_exp   R-squared:                       0.542\n",
       "Model:                            OLS   Adj. R-squared:                  0.513\n",
       "Method:                 Least Squares   F-statistic:                     19.20\n",
       "Date:                Sun, 20 Sep 2020   Prob (F-statistic):           1.82e-10\n",
       "Time:                        21:31:03   Log-Likelihood:                -498.59\n",
       "No. Observations:                  70   AIC:                             1007.\n",
       "Df Residuals:                      65   BIC:                             1018.\n",
       "Df Model:                           4                                         \n",
       "Covariance Type:            nonrobust                                         \n",
       "===================================================================================\n",
       "                      coef    std err          t      P>|t|      [0.025      0.975]\n",
       "-----------------------------------------------------------------------------------\n",
       "Intercept         -32.0078    186.874     -0.171      0.865    -405.221     341.206\n",
       "Age                 1.3723      5.605      0.245      0.807      -9.822      12.566\n",
       "Income           -166.7204     87.607     -1.903      0.061    -341.684       8.243\n",
       "dist_home_val       1.5329      1.057      1.450      0.152      -0.578       3.644\n",
       "dist_avg_income   261.8827     87.807      2.982      0.004      86.521     437.245\n",
       "==============================================================================\n",
       "Omnibus:                        5.234   Durbin-Watson:                   1.582\n",
       "Prob(Omnibus):                  0.073   Jarque-Bera (JB):                5.174\n",
       "Skew:                           0.625   Prob(JB):                       0.0752\n",
       "Kurtosis:                       2.540   Cond. No.                         459.\n",
       "==============================================================================\n",
       "\n",
       "Warnings:\n",
       "[1] Standard Errors assume that the covariance matrix of the errors is correctly specified.\n",
       "\"\"\""
      ]
     },
     "execution_count": 28,
     "metadata": {},
     "output_type": "execute_result"
    }
   ],
   "source": [
    "lm_m = ols('avg_exp ~ Age+Income+dist_home_val+dist_avg_income',data = exp).fit()\n",
    "lm_m.summary()"
   ]
  },
  {
   "cell_type": "markdown",
   "metadata": {},
   "source": [
    "结果可知，只有Income和dist_avg_income的回归系数显著，其他都不显著"
   ]
  },
  {
   "cell_type": "markdown",
   "metadata": {},
   "source": [
    "多元回归变量筛选"
   ]
  },
  {
   "cell_type": "code",
   "execution_count": 29,
   "metadata": {},
   "outputs": [],
   "source": [
    "\n",
    "#向前回归法\n",
    "def forward_select(data, response):\n",
    "    remaining = set(data.columns)\n",
    "    remaining.remove(response)\n",
    "    selected = []\n",
    "    current_score, best_new_score = float('inf'), float('inf')\n",
    "    while remaining:\n",
    "        aic_with_candidates=[]\n",
    "        for candidate in remaining:\n",
    "            formula = \"{} ~ {}\".format(\n",
    "                response,' + '.join(selected + [candidate]))\n",
    "            aic = ols(formula=formula, data=data).fit().aic\n",
    "            aic_with_candidates.append((aic, candidate))\n",
    "        aic_with_candidates.sort(reverse=True)\n",
    "        best_new_score, best_candidate=aic_with_candidates.pop()\n",
    "        if current_score > best_new_score: \n",
    "            remaining.remove(best_candidate)\n",
    "            selected.append(best_candidate)\n",
    "            current_score = best_new_score\n",
    "            print ('aic is {},continuing!'.format(current_score))\n",
    "        else:        \n",
    "            print ('forward selection over!')\n",
    "            break\n",
    "            \n",
    "    formula = \"{} ~ {} \".format(response,' + '.join(selected))\n",
    "    print('final formula is {}'.format(formula))\n",
    "    model = ols(formula=formula, data=data).fit()\n",
    "    return(model)"
   ]
  },
  {
   "cell_type": "code",
   "execution_count": 31,
   "metadata": {},
   "outputs": [
    {
     "name": "stdout",
     "output_type": "stream",
     "text": [
      "aic is 1007.6801413968115,continuing!\n",
      "aic is 1005.4969816306302,continuing!\n",
      "aic is 1005.2487355956046,continuing!\n",
      "forward selection over!\n",
      "final formula is avg_exp ~ dist_avg_income + Income + dist_home_val \n",
      "0.541151292841195\n"
     ]
    }
   ],
   "source": [
    "data_for_select = exp[['avg_exp', 'Income', 'Age', 'dist_home_val', \n",
    "                       'dist_avg_income']]\n",
    "lm_m = forward_select(data = data_for_select, response = 'avg_exp')\n",
    "print(lm_m.rsquared)"
   ]
  },
  {
   "cell_type": "markdown",
   "metadata": {},
   "source": [
    "可见，前向法删除了一个变量Age，而且R方没有明显的下降。"
   ]
  },
  {
   "cell_type": "markdown",
   "metadata": {},
   "source": [
    "2 线性回归诊断\n",
    "多元线性回归有很多前提条件：\n",
    "自变量与因变量要有线性关系；\n",
    "残差独立且服从正态分布；\n",
    "因变量与残差不能有线性关系；\n",
    "自变量之间不能有太强的线性关系。"
   ]
  },
  {
   "cell_type": "code",
   "execution_count": 32,
   "metadata": {},
   "outputs": [
    {
     "data": {
      "image/png": "[encoded data removed]",
      "text/plain": [
       "<Figure size 432x288 with 1 Axes>"
      ]
     },
     "metadata": {
      "needs_background": "light"
     },
     "output_type": "display_data"
    }
   ],
   "source": [
    "#残差分析\n",
    "ana1 = lm_s\n",
    "exp['Pred'] = ana1.predict(exp)\n",
    "exp['resid'] = ana1.resid\n",
    "exp.plot('Income','resid',kind = 'scatter')\n",
    "plt.show()\n",
    "#结果有方差不齐的问题"
   ]
  },
  {
   "cell_type": "code",
   "execution_count": 33,
   "metadata": {
    "scrolled": true
   },
   "outputs": [
    {
     "data": {
      "image/png": "[encoded data removed]",
      "text/plain": [
       "<Figure size 432x288 with 1 Axes>"
      ]
     },
     "metadata": {
      "needs_background": "light"
     },
     "output_type": "display_data"
    }
   ],
   "source": [
    "#对被解释变量取对数并重新建模\n",
    "ana2 = ols('avg_exp_ln ~ Income',exp).fit()\n",
    "exp['Pred'] = ana2.predict(exp)\n",
    "exp['resid'] = ana2.resid\n",
    "exp.plot('Income','resid',kind = 'scatter')\n",
    "plt.show()"
   ]
  },
  {
   "cell_type": "code",
   "execution_count": 34,
   "metadata": {},
   "outputs": [
    {
     "data": {
      "image/png": "[encoded data removed]",
      "text/plain": [
       "<Figure size 432x288 with 1 Axes>"
      ]
     },
     "metadata": {
      "needs_background": "light"
     },
     "output_type": "display_data"
    }
   ],
   "source": [
    "exp['Income_ln'] = np.log(exp['Income'])\n",
    "ana3 = ols('avg_exp_ln ~ Income_ln',exp).fit()\n",
    "exp['Pred'] = ana2.predict(exp)\n",
    "exp['resid'] = ana2.resid\n",
    "exp.plot('Income_ln','resid',kind = 'scatter')\n",
    "plt.show()"
   ]
  },
  {
   "cell_type": "code",
   "execution_count": 35,
   "metadata": {},
   "outputs": [
    {
     "name": "stdout",
     "output_type": "stream",
     "text": [
      "{'exp~Income': 0.45429062315565294, 'ln(exp)~Income': 0.403085555532965, 'ln(exp)~ln(Income)': 0.4803927993893108}\n"
     ]
    }
   ],
   "source": [
    "r_sq = {'exp~Income':ana1.rsquared, 'ln(exp)~Income':ana2.rsquared, \n",
    "        'ln(exp)~ln(Income)':ana3.rsquared}\n",
    "print(r_sq)"
   ]
  },
  {
   "cell_type": "markdown",
   "metadata": {},
   "source": [
    "对收入和支出都取对数时，模型的R方时最大的。"
   ]
  },
  {
   "cell_type": "code",
   "execution_count": 37,
   "metadata": {},
   "outputs": [
    {
     "data": {
      "text/html": [
       "<div>\n",
       "<style scoped>\n",
       "    .dataframe tbody tr th:only-of-type {\n",
       "        vertical-align: middle;\n",
       "    }\n",
       "\n",
       "    .dataframe tbody tr th {\n",
       "        vertical-align: top;\n",
       "    }\n",
       "\n",
       "    .dataframe thead th {\n",
       "        text-align: right;\n",
       "    }\n",
       "</style>\n",
       "<table border=\"1\" class=\"dataframe\">\n",
       "  <thead>\n",
       "    <tr style=\"text-align: right;\">\n",
       "      <th></th>\n",
       "      <th>avg_exp</th>\n",
       "      <th>avg_exp_ln</th>\n",
       "      <th>gender</th>\n",
       "      <th>Age</th>\n",
       "      <th>Income</th>\n",
       "      <th>Ownrent</th>\n",
       "      <th>Selfempl</th>\n",
       "      <th>dist_home_val</th>\n",
       "      <th>dist_avg_income</th>\n",
       "      <th>high_avg</th>\n",
       "      <th>edu_class</th>\n",
       "      <th>Pred</th>\n",
       "      <th>resid</th>\n",
       "      <th>Income_ln</th>\n",
       "      <th>resid_t</th>\n",
       "    </tr>\n",
       "  </thead>\n",
       "  <tbody>\n",
       "    <tr>\n",
       "      <td>73</td>\n",
       "      <td>251.56</td>\n",
       "      <td>5.527682</td>\n",
       "      <td>0</td>\n",
       "      <td>29</td>\n",
       "      <td>5.1578</td>\n",
       "      <td>0</td>\n",
       "      <td>0</td>\n",
       "      <td>63.23</td>\n",
       "      <td>5.492947</td>\n",
       "      <td>-0.335147</td>\n",
       "      <td>0</td>\n",
       "      <td>6.565198</td>\n",
       "      <td>-1.037516</td>\n",
       "      <td>1.640510</td>\n",
       "      <td>-2.820981</td>\n",
       "    </tr>\n",
       "    <tr>\n",
       "      <td>98</td>\n",
       "      <td>163.18</td>\n",
       "      <td>5.094854</td>\n",
       "      <td>0</td>\n",
       "      <td>22</td>\n",
       "      <td>3.8159</td>\n",
       "      <td>0</td>\n",
       "      <td>0</td>\n",
       "      <td>63.27</td>\n",
       "      <td>3.997789</td>\n",
       "      <td>-0.181889</td>\n",
       "      <td>0</td>\n",
       "      <td>6.433436</td>\n",
       "      <td>-1.338582</td>\n",
       "      <td>1.339177</td>\n",
       "      <td>-3.639570</td>\n",
       "    </tr>\n",
       "  </tbody>\n",
       "</table>\n",
       "</div>"
      ],
      "text/plain": [
       "    avg_exp  avg_exp_ln  gender  Age  Income  Ownrent  Selfempl  \\\n",
       "73   251.56    5.527682       0   29  5.1578        0         0   \n",
       "98   163.18    5.094854       0   22  3.8159        0         0   \n",
       "\n",
       "    dist_home_val  dist_avg_income  high_avg  edu_class      Pred     resid  \\\n",
       "73          63.23         5.492947 -0.335147          0  6.565198 -1.037516   \n",
       "98          63.27         3.997789 -0.181889          0  6.433436 -1.338582   \n",
       "\n",
       "    Income_ln   resid_t  \n",
       "73   1.640510 -2.820981  \n",
       "98   1.339177 -3.639570  "
      ]
     },
     "execution_count": 37,
     "metadata": {},
     "output_type": "execute_result"
    }
   ],
   "source": [
    "#强影响点分析\n",
    "exp['resid_t'] = (exp['resid'] - exp['resid'].mean()) / exp['resid'].std()\n",
    "exp[abs(exp['resid_t']) > 2]"
   ]
  },
  {
   "cell_type": "code",
   "execution_count": 38,
   "metadata": {},
   "outputs": [
    {
     "data": {
      "image/png": "[encoded data removed]",
      "text/plain": [
       "<Figure size 432x288 with 1 Axes>"
      ]
     },
     "metadata": {
      "needs_background": "light"
     },
     "output_type": "display_data"
    }
   ],
   "source": [
    "# Drop outlier\n",
    "exp2 = exp[abs(exp['resid_t']) <= 2].copy()\n",
    "ana4 = ols('avg_exp_ln ~ Income_ln', exp2).fit()\n",
    "exp2['Pred'] = ana4.predict(exp2)\n",
    "exp2['resid'] = ana4.resid\n",
    "exp2.plot('Income', 'resid', kind='scatter')\n",
    "plt.show()"
   ]
  },
  {
   "cell_type": "code",
   "execution_count": 39,
   "metadata": {},
   "outputs": [
    {
     "data": {
      "text/plain": [
       "0.49397191385172456"
      ]
     },
     "execution_count": 39,
     "metadata": {},
     "output_type": "execute_result"
    }
   ],
   "source": [
    "ana4.rsquared"
   ]
  },
  {
   "cell_type": "code",
   "execution_count": 40,
   "metadata": {},
   "outputs": [
    {
     "data": {
      "text/html": [
       "<div>\n",
       "<style scoped>\n",
       "    .dataframe tbody tr th:only-of-type {\n",
       "        vertical-align: middle;\n",
       "    }\n",
       "\n",
       "    .dataframe tbody tr th {\n",
       "        vertical-align: top;\n",
       "    }\n",
       "\n",
       "    .dataframe thead th {\n",
       "        text-align: right;\n",
       "    }\n",
       "</style>\n",
       "<table border=\"1\" class=\"dataframe\">\n",
       "  <thead>\n",
       "    <tr style=\"text-align: right;\">\n",
       "      <th></th>\n",
       "      <th>dfb_Intercept</th>\n",
       "      <th>dfb_Income_ln</th>\n",
       "      <th>cooks_d</th>\n",
       "      <th>standard_resid</th>\n",
       "      <th>hat_diag</th>\n",
       "      <th>dffits_internal</th>\n",
       "      <th>student_resid</th>\n",
       "      <th>dffits</th>\n",
       "    </tr>\n",
       "  </thead>\n",
       "  <tbody>\n",
       "    <tr>\n",
       "      <td>0</td>\n",
       "      <td>0.343729</td>\n",
       "      <td>-0.381393</td>\n",
       "      <td>0.085587</td>\n",
       "      <td>-1.319633</td>\n",
       "      <td>0.089498</td>\n",
       "      <td>-0.413732</td>\n",
       "      <td>-1.326996</td>\n",
       "      <td>-0.416040</td>\n",
       "    </tr>\n",
       "    <tr>\n",
       "      <td>1</td>\n",
       "      <td>0.307196</td>\n",
       "      <td>-0.341294</td>\n",
       "      <td>0.069157</td>\n",
       "      <td>-1.201699</td>\n",
       "      <td>0.087409</td>\n",
       "      <td>-0.371907</td>\n",
       "      <td>-1.205702</td>\n",
       "      <td>-0.373146</td>\n",
       "    </tr>\n",
       "    <tr>\n",
       "      <td>3</td>\n",
       "      <td>0.207619</td>\n",
       "      <td>-0.244956</td>\n",
       "      <td>0.044984</td>\n",
       "      <td>-1.440468</td>\n",
       "      <td>0.041557</td>\n",
       "      <td>-0.299947</td>\n",
       "      <td>-1.452165</td>\n",
       "      <td>-0.302382</td>\n",
       "    </tr>\n",
       "    <tr>\n",
       "      <td>4</td>\n",
       "      <td>0.112301</td>\n",
       "      <td>-0.127713</td>\n",
       "      <td>0.010759</td>\n",
       "      <td>-0.575913</td>\n",
       "      <td>0.060926</td>\n",
       "      <td>-0.146693</td>\n",
       "      <td>-0.573062</td>\n",
       "      <td>-0.145967</td>\n",
       "    </tr>\n",
       "    <tr>\n",
       "      <td>5</td>\n",
       "      <td>0.120572</td>\n",
       "      <td>-0.150924</td>\n",
       "      <td>0.022274</td>\n",
       "      <td>-1.221080</td>\n",
       "      <td>0.029011</td>\n",
       "      <td>-0.211064</td>\n",
       "      <td>-1.225579</td>\n",
       "      <td>-0.211842</td>\n",
       "    </tr>\n",
       "  </tbody>\n",
       "</table>\n",
       "</div>"
      ],
      "text/plain": [
       "   dfb_Intercept  dfb_Income_ln   cooks_d  standard_resid  hat_diag  \\\n",
       "0       0.343729      -0.381393  0.085587       -1.319633  0.089498   \n",
       "1       0.307196      -0.341294  0.069157       -1.201699  0.087409   \n",
       "3       0.207619      -0.244956  0.044984       -1.440468  0.041557   \n",
       "4       0.112301      -0.127713  0.010759       -0.575913  0.060926   \n",
       "5       0.120572      -0.150924  0.022274       -1.221080  0.029011   \n",
       "\n",
       "   dffits_internal  student_resid    dffits  \n",
       "0        -0.413732      -1.326996 -0.416040  \n",
       "1        -0.371907      -1.205702 -0.373146  \n",
       "3        -0.299947      -1.452165 -0.302382  \n",
       "4        -0.146693      -0.573062 -0.145967  \n",
       "5        -0.211064      -1.225579 -0.211842  "
      ]
     },
     "execution_count": 40,
     "metadata": {},
     "output_type": "execute_result"
    }
   ],
   "source": [
    "# statemodels包提供了更多强影响点判断指标\n",
    "\n",
    "from statsmodels.stats.outliers_influence import OLSInfluence\n",
    "\n",
    "OLSInfluence(ana3).summary_frame().head()"
   ]
  },
  {
   "cell_type": "markdown",
   "metadata": {},
   "source": [
    "3多重共线性分析"
   ]
  },
  {
   "cell_type": "code",
   "execution_count": 41,
   "metadata": {},
   "outputs": [
    {
     "data": {
      "text/html": [
       "<table class=\"simpletable\">\n",
       "<caption>OLS Regression Results</caption>\n",
       "<tr>\n",
       "  <th>Dep. Variable:</th>       <td>avg_exp_ln</td>    <th>  R-squared:         </th> <td>   0.553</td>\n",
       "</tr>\n",
       "<tr>\n",
       "  <th>Model:</th>                   <td>OLS</td>       <th>  Adj. R-squared:    </th> <td>   0.525</td>\n",
       "</tr>\n",
       "<tr>\n",
       "  <th>Method:</th>             <td>Least Squares</td>  <th>  F-statistic:       </th> <td>   19.48</td>\n",
       "</tr>\n",
       "<tr>\n",
       "  <th>Date:</th>             <td>Sun, 20 Sep 2020</td> <th>  Prob (F-statistic):</th> <td>1.79e-10</td>\n",
       "</tr>\n",
       "<tr>\n",
       "  <th>Time:</th>                 <td>22:07:57</td>     <th>  Log-Likelihood:    </th> <td> -7.3496</td>\n",
       "</tr>\n",
       "<tr>\n",
       "  <th>No. Observations:</th>      <td>    68</td>      <th>  AIC:               </th> <td>   24.70</td>\n",
       "</tr>\n",
       "<tr>\n",
       "  <th>Df Residuals:</th>          <td>    63</td>      <th>  BIC:               </th> <td>   35.80</td>\n",
       "</tr>\n",
       "<tr>\n",
       "  <th>Df Model:</th>              <td>     4</td>      <th>                     </th>     <td> </td>   \n",
       "</tr>\n",
       "<tr>\n",
       "  <th>Covariance Type:</th>      <td>nonrobust</td>    <th>                     </th>     <td> </td>   \n",
       "</tr>\n",
       "</table>\n",
       "<table class=\"simpletable\">\n",
       "<tr>\n",
       "           <td></td>             <th>coef</th>     <th>std err</th>      <th>t</th>      <th>P>|t|</th>  <th>[0.025</th>    <th>0.975]</th>  \n",
       "</tr>\n",
       "<tr>\n",
       "  <th>Intercept</th>          <td>    4.6265</td> <td>    0.317</td> <td>   14.574</td> <td> 0.000</td> <td>    3.992</td> <td>    5.261</td>\n",
       "</tr>\n",
       "<tr>\n",
       "  <th>Age</th>                <td>   -0.0006</td> <td>    0.005</td> <td>   -0.117</td> <td> 0.907</td> <td>   -0.011</td> <td>    0.010</td>\n",
       "</tr>\n",
       "<tr>\n",
       "  <th>Income_ln</th>          <td>   -0.1802</td> <td>    0.569</td> <td>   -0.317</td> <td> 0.752</td> <td>   -1.317</td> <td>    0.957</td>\n",
       "</tr>\n",
       "<tr>\n",
       "  <th>dist_home_val_ln</th>   <td>    0.1258</td> <td>    0.058</td> <td>    2.160</td> <td> 0.035</td> <td>    0.009</td> <td>    0.242</td>\n",
       "</tr>\n",
       "<tr>\n",
       "  <th>dist_avg_income_ln</th> <td>    1.0093</td> <td>    0.612</td> <td>    1.649</td> <td> 0.104</td> <td>   -0.214</td> <td>    2.233</td>\n",
       "</tr>\n",
       "</table>\n",
       "<table class=\"simpletable\">\n",
       "<tr>\n",
       "  <th>Omnibus:</th>       <td> 4.111</td> <th>  Durbin-Watson:     </th> <td>   1.609</td>\n",
       "</tr>\n",
       "<tr>\n",
       "  <th>Prob(Omnibus):</th> <td> 0.128</td> <th>  Jarque-Bera (JB):  </th> <td>   2.466</td>\n",
       "</tr>\n",
       "<tr>\n",
       "  <th>Skew:</th>          <td> 0.248</td> <th>  Prob(JB):          </th> <td>   0.291</td>\n",
       "</tr>\n",
       "<tr>\n",
       "  <th>Kurtosis:</th>      <td> 2.210</td> <th>  Cond. No.          </th> <td>    807.</td>\n",
       "</tr>\n",
       "</table><br/><br/>Warnings:<br/>[1] Standard Errors assume that the covariance matrix of the errors is correctly specified."
      ],
      "text/plain": [
       "<class 'statsmodels.iolib.summary.Summary'>\n",
       "\"\"\"\n",
       "                            OLS Regression Results                            \n",
       "==============================================================================\n",
       "Dep. Variable:             avg_exp_ln   R-squared:                       0.553\n",
       "Model:                            OLS   Adj. R-squared:                  0.525\n",
       "Method:                 Least Squares   F-statistic:                     19.48\n",
       "Date:                Sun, 20 Sep 2020   Prob (F-statistic):           1.79e-10\n",
       "Time:                        22:07:57   Log-Likelihood:                -7.3496\n",
       "No. Observations:                  68   AIC:                             24.70\n",
       "Df Residuals:                      63   BIC:                             35.80\n",
       "Df Model:                           4                                         \n",
       "Covariance Type:            nonrobust                                         \n",
       "======================================================================================\n",
       "                         coef    std err          t      P>|t|      [0.025      0.975]\n",
       "--------------------------------------------------------------------------------------\n",
       "Intercept              4.6265      0.317     14.574      0.000       3.992       5.261\n",
       "Age                   -0.0006      0.005     -0.117      0.907      -0.011       0.010\n",
       "Income_ln             -0.1802      0.569     -0.317      0.752      -1.317       0.957\n",
       "dist_home_val_ln       0.1258      0.058      2.160      0.035       0.009       0.242\n",
       "dist_avg_income_ln     1.0093      0.612      1.649      0.104      -0.214       2.233\n",
       "==============================================================================\n",
       "Omnibus:                        4.111   Durbin-Watson:                   1.609\n",
       "Prob(Omnibus):                  0.128   Jarque-Bera (JB):                2.466\n",
       "Skew:                           0.248   Prob(JB):                        0.291\n",
       "Kurtosis:                       2.210   Cond. No.                         807.\n",
       "==============================================================================\n",
       "\n",
       "Warnings:\n",
       "[1] Standard Errors assume that the covariance matrix of the errors is correctly specified.\n",
       "\"\"\""
      ]
     },
     "execution_count": 41,
     "metadata": {},
     "output_type": "execute_result"
    }
   ],
   "source": [
    "exp2['dist_home_val_ln'] = np.log(exp2['dist_home_val'])\n",
    "exp2['dist_avg_income_ln'] = np.log(exp2['dist_avg_income'])\n",
    "\n",
    "ana5 = ols('''avg_exp_ln ~ Age + Income_ln + \n",
    "           dist_home_val_ln + dist_avg_income_ln''', exp2).fit()\n",
    "ana5.summary()"
   ]
  },
  {
   "cell_type": "code",
   "execution_count": 42,
   "metadata": {},
   "outputs": [],
   "source": [
    "#自定义计算方差膨胀值函数VIF\n",
    "def vif(df, col_i):\n",
    "    cols = list(df.columns)\n",
    "    cols.remove(col_i)\n",
    "    cols_noti = cols\n",
    "    formula = col_i + '~' + '+'.join(cols_noti)\n",
    "    r2 = ols(formula, df).fit().rsquared\n",
    "    return 1. / (1. - r2)\n"
   ]
  },
  {
   "cell_type": "code",
   "execution_count": 43,
   "metadata": {},
   "outputs": [
    {
     "name": "stdout",
     "output_type": "stream",
     "text": [
      "Income_ln \t 36.653639058963186\n",
      "dist_home_val_ln \t 1.053596313570258\n",
      "dist_avg_income_ln \t 36.894876856102\n"
     ]
    }
   ],
   "source": [
    "exog = exp2[['Income_ln', 'dist_home_val_ln',\n",
    "             'dist_avg_income_ln']]\n",
    "\n",
    "for i in exog.columns:\n",
    "    print(i, '\\t', vif(df=exog, col_i=i))"
   ]
  },
  {
   "cell_type": "markdown",
   "metadata": {},
   "source": [
    "Income_ln和dist_avg_income_ln的VIF都大于10，说明存在多重共线性.\n",
    "使用“高出平均收入的比率”代替其中一个"
   ]
  },
  {
   "cell_type": "code",
   "execution_count": 45,
   "metadata": {},
   "outputs": [],
   "source": [
    "exp2['high_avg_ratio'] = exp2['high_avg'] / exp2['dist_avg_income']"
   ]
  },
  {
   "cell_type": "code",
   "execution_count": 46,
   "metadata": {},
   "outputs": [
    {
     "name": "stdout",
     "output_type": "stream",
     "text": [
      "high_avg_ratio \t 1.1230220802048871\n",
      "dist_home_val_ln \t 1.0527009887483536\n",
      "dist_avg_income_ln \t 1.1762825351755395\n"
     ]
    }
   ],
   "source": [
    "exog1 = exp2[['high_avg_ratio', 'dist_home_val_ln', \n",
    "              'dist_avg_income_ln']]\n",
    "\n",
    "for i in exog1.columns:\n",
    "    print(i, '\\t', vif(df=exog1, col_i=i))"
   ]
  },
  {
   "cell_type": "markdown",
   "metadata": {},
   "source": [
    "3正则化方法-解决多重共线性\n",
    "岭回归\n",
    "LASSO回归-可进行变量筛选"
   ]
  },
  {
   "cell_type": "markdown",
   "metadata": {},
   "source": [
    "岭回归"
   ]
  },
  {
   "cell_type": "code",
   "execution_count": 50,
   "metadata": {},
   "outputs": [],
   "source": [
    "#L1_wt = 0为岭回归，=1位LASSO回归\n",
    "\n",
    "lmr = ols('avg_exp ~ Income + dist_home_val + dist_avg_income',\n",
    "          data=exp).fit_regularized(alpha=1, L1_wt=0)\n",
    "lmr.summary() #运行不正常"
   ]
  },
  {
   "cell_type": "code",
   "execution_count": 57,
   "metadata": {},
   "outputs": [],
   "source": [
    "#使用scikit-learn进行岭回归参数选择\n",
    "#标准化\n",
    "from sklearn.preprocessing import StandardScaler\n",
    "continuous_xcols = ['Age', 'Income', 'dist_home_val', \n",
    "                    'dist_avg_income']\n",
    "scaler = StandardScaler()\n",
    "X = scaler.fit_transform(exp[continuous_xcols])\n",
    "y = exp['avg_exp_ln']"
   ]
  },
  {
   "cell_type": "code",
   "execution_count": 59,
   "metadata": {},
   "outputs": [
    {
     "data": {
      "text/plain": [
       "RidgeCV(alphas=array([1.00000000e-02, 1.12332403e-02, 1.26185688e-02, 1.41747416e-02,\n",
       "       1.59228279e-02, 1.78864953e-02, 2.00923300e-02, 2.25701972e-02,\n",
       "       2.53536449e-02, 2.84803587e-02, 3.19926714e-02, 3.59381366e-02,\n",
       "       4.03701726e-02, 4.53487851e-02, 5.09413801e-02, 5.72236766e-02,\n",
       "       6.42807312e-02, 7.22080902e-02, 8.11130831e-02, 9.11162756e-02,\n",
       "       1.02353102e-01, 1.14975700e-0...\n",
       "       1.09749877e+02, 1.23284674e+02, 1.38488637e+02, 1.55567614e+02,\n",
       "       1.74752840e+02, 1.96304065e+02, 2.20513074e+02, 2.47707636e+02,\n",
       "       2.78255940e+02, 3.12571585e+02, 3.51119173e+02, 3.94420606e+02,\n",
       "       4.43062146e+02, 4.97702356e+02, 5.59081018e+02, 6.28029144e+02,\n",
       "       7.05480231e+02, 7.92482898e+02, 8.90215085e+02, 1.00000000e+03]),\n",
       "        cv=None, fit_intercept=True, gcv_mode=None, normalize=False,\n",
       "        scoring=None, store_cv_values=True)"
      ]
     },
     "execution_count": 59,
     "metadata": {},
     "output_type": "execute_result"
    }
   ],
   "source": [
    "#正则化\n",
    "\n",
    "from sklearn.linear_model import RidgeCV\n",
    "\n",
    "alphas = np.logspace(-2, 3, 100, base=10)\n",
    "\n",
    "# Search the min MSE by CV\n",
    "rcv = RidgeCV(alphas=alphas, store_cv_values=True) \n",
    "rcv.fit(X, y)"
   ]
  },
  {
   "cell_type": "code",
   "execution_count": 60,
   "metadata": {},
   "outputs": [
    {
     "name": "stdout",
     "output_type": "stream",
     "text": [
      "The best alpha is 0.2915053062825176\n",
      "The r-square is 0.4756826777019494\n"
     ]
    }
   ],
   "source": [
    "print('The best alpha is {}'.format(rcv.alpha_))\n",
    "print('The r-square is {}'.format(rcv.score(X, y))) "
   ]
  },
  {
   "cell_type": "code",
   "execution_count": 61,
   "metadata": {},
   "outputs": [
    {
     "data": {
      "text/plain": [
       "array([759.67677561, 606.74024213, 661.20654568, 681.888929  ,\n",
       "       641.06967182])"
      ]
     },
     "execution_count": 61,
     "metadata": {},
     "output_type": "execute_result"
    }
   ],
   "source": [
    "#用训练后的rcv模型来预测\n",
    "X_new = scaler.transform(exp_new[continuous_xcols])\n",
    "np.exp(rcv.predict(X_new)[:5])"
   ]
  },
  {
   "cell_type": "code",
   "execution_count": 62,
   "metadata": {},
   "outputs": [
    {
     "data": {
      "image/png": "[encoded data removed]",
      "text/plain": [
       "<Figure size 432x288 with 1 Axes>"
      ]
     },
     "metadata": {
      "needs_background": "light"
     },
     "output_type": "display_data"
    }
   ],
   "source": [
    "#可视化rcv正则化系数\n",
    "cv_values = rcv.cv_values_\n",
    "n_fold, n_alphas = cv_values.shape\n",
    "\n",
    "cv_mean = cv_values.mean(axis=0)\n",
    "cv_std = cv_values.std(axis=0)\n",
    "ub = cv_mean + cv_std / np.sqrt(n_fold)\n",
    "lb = cv_mean - cv_std / np.sqrt(n_fold)\n",
    "\n",
    "plt.semilogx(alphas, cv_mean, label='mean_score')\n",
    "plt.fill_between(alphas, lb, ub, alpha=0.2)\n",
    "plt.xlabel(\"$\\\\alpha$\")\n",
    "plt.ylabel(\"mean squared errors\")\n",
    "plt.legend(loc=\"best\")\n",
    "plt.show()\n"
   ]
  },
  {
   "cell_type": "markdown",
   "metadata": {},
   "source": [
    "图中可见正则化系数40-50以下时，模型的均方误差相差不大，当正则化系数超过该阈值，则均方误差快速上升，因此从图中看出，正则化系数小于40或50，模型的拟合效果都还不错。"
   ]
  },
  {
   "cell_type": "code",
   "execution_count": 63,
   "metadata": {},
   "outputs": [
    {
     "data": {
      "text/plain": [
       "array([ 0.03321449, -0.30956185,  0.05551208,  0.59067449])"
      ]
     },
     "execution_count": 63,
     "metadata": {},
     "output_type": "execute_result"
    }
   ],
   "source": [
    "rcv.coef_"
   ]
  },
  {
   "cell_type": "code",
   "execution_count": null,
   "metadata": {},
   "outputs": [],
   "source": [
    "Income的系数为负值，说明收入越高信用卡支出越小，显然有问题。\n",
    "我们可以用岭迹图进一步分析。"
   ]
  },
  {
   "cell_type": "code",
   "execution_count": 64,
   "metadata": {},
   "outputs": [
    {
     "data": {
      "image/png": "[encoded data removed]",
      "text/plain": [
       "<Figure size 432x288 with 1 Axes>"
      ]
     },
     "metadata": {
      "needs_background": "light"
     },
     "output_type": "display_data"
    }
   ],
   "source": [
    "# 岭迹图\n",
    "\n",
    "#将不同正则化系数下的变量系数保存下来\n",
    "from sklearn.linear_model import Ridge\n",
    "\n",
    "ridge = Ridge()\n",
    "\n",
    "coefs = []\n",
    "for alpha in alphas:\n",
    "    ridge.set_params(alpha=alpha)\n",
    "    ridge.fit(X, y)\n",
    "    coefs.append(ridge.coef_)\n",
    "\n",
    "#绘制变量系数随正则化系数变化的轨迹\n",
    "ax = plt.gca()\n",
    "\n",
    "ax.plot(alphas, coefs)\n",
    "ax.set_xscale('log')\n",
    "plt.xlabel('alpha')\n",
    "plt.ylabel('weights')\n",
    "plt.title('Ridge coefficients as a function of the regularization')\n",
    "plt.axis('tight')\n",
    "plt.show()\n"
   ]
  },
  {
   "cell_type": "code",
   "execution_count": 65,
   "metadata": {},
   "outputs": [
    {
     "data": {
      "text/plain": [
       "array([0.03293109, 0.09907747, 0.04976305, 0.12101456])"
      ]
     },
     "execution_count": 65,
     "metadata": {},
     "output_type": "execute_result"
    }
   ],
   "source": [
    "#使用40作为正则化系数时，模型的变量系数如下\n",
    "ridge.set_params(alpha=40)\n",
    "ridge.fit(X, y)\n",
    "ridge.coef_"
   ]
  },
  {
   "cell_type": "code",
   "execution_count": 66,
   "metadata": {},
   "outputs": [
    {
     "data": {
      "text/plain": [
       "0.4255673043353688"
      ]
     },
     "execution_count": 66,
     "metadata": {},
     "output_type": "execute_result"
    }
   ],
   "source": [
    "#模型的R方\n",
    "ridge.score(X, y)"
   ]
  },
  {
   "cell_type": "code",
   "execution_count": 67,
   "metadata": {},
   "outputs": [
    {
     "data": {
      "text/plain": [
       "array([934.79025945, 727.11042209, 703.88143602, 759.04342764,\n",
       "       709.54172995])"
      ]
     },
     "execution_count": 67,
     "metadata": {},
     "output_type": "execute_result"
    }
   ],
   "source": [
    "#预测结果\n",
    "np.exp(ridge.predict(X_new)[:5])"
   ]
  },
  {
   "cell_type": "code",
   "execution_count": null,
   "metadata": {},
   "outputs": [],
   "source": []
  },
  {
   "cell_type": "markdown",
   "metadata": {},
   "source": [
    "LASSO回归"
   ]
  },
  {
   "cell_type": "code",
   "execution_count": 68,
   "metadata": {},
   "outputs": [
    {
     "name": "stdout",
     "output_type": "stream",
     "text": [
      "The best alpha is 0.04037017258596556\n",
      "The r-square is 0.4426451069862233\n"
     ]
    }
   ],
   "source": [
    "\n",
    "from sklearn.linear_model import LassoCV\n",
    "\n",
    "lasso_alphas = np.logspace(-3, 0, 100, base=10)\n",
    "lcv = LassoCV(alphas=lasso_alphas, cv=10) # Search the min MSE by CV\n",
    "lcv.fit(X, y)\n",
    "\n",
    "print('The best alpha is {}'.format(lcv.alpha_))\n",
    "print('The r-square is {}'.format(lcv.score(X, y))) \n",
    "# Default score is rsquared"
   ]
  },
  {
   "cell_type": "code",
   "execution_count": 69,
   "metadata": {},
   "outputs": [
    {
     "data": {
      "image/png": "[encoded data removed]",
      "text/plain": [
       "<Figure size 432x288 with 1 Axes>"
      ]
     },
     "metadata": {
      "needs_background": "light"
     },
     "output_type": "display_data"
    }
   ],
   "source": [
    "#不同正则化系数下的变量系数轨迹\n",
    "from sklearn.linear_model import Lasso\n",
    "\n",
    "lasso = Lasso()\n",
    "lasso_coefs = []\n",
    "for alpha in lasso_alphas:\n",
    "    lasso.set_params(alpha=alpha)\n",
    "    lasso.fit(X, y)\n",
    "    lasso_coefs.append(lasso.coef_)\n",
    "\n",
    "ax = plt.gca()\n",
    "\n",
    "ax.plot(lasso_alphas, lasso_coefs)\n",
    "ax.set_xscale('log')\n",
    "plt.xlabel('alpha')\n",
    "plt.ylabel('weights')\n",
    "plt.title('Lasso coefficients as a function of the regularization')\n",
    "plt.axis('tight')\n",
    "plt.show()\n"
   ]
  },
  {
   "cell_type": "code",
   "execution_count": 70,
   "metadata": {},
   "outputs": [
    {
     "data": {
      "text/plain": [
       "array([0.        , 0.        , 0.02789489, 0.26549855])"
      ]
     },
     "execution_count": 70,
     "metadata": {},
     "output_type": "execute_result"
    }
   ],
   "source": [
    "lcv.coef_"
   ]
  },
  {
   "cell_type": "markdown",
   "metadata": {},
   "source": [
    "#前两个变量被筛选掉了"
   ]
  },
  {
   "cell_type": "code",
   "execution_count": 71,
   "metadata": {},
   "outputs": [
    {
     "data": {
      "text/plain": [
       "array([886.94868703, 886.94868703, 886.94868703, 886.94868703,\n",
       "       886.94868703])"
      ]
     },
     "execution_count": 71,
     "metadata": {},
     "output_type": "execute_result"
    }
   ],
   "source": [
    "np.exp(lasso.predict(X_new)[:5])"
   ]
  },
  {
   "cell_type": "code",
   "execution_count": null,
   "metadata": {},
   "outputs": [],
   "source": []
  }
 ],
 "metadata": {
  "kernelspec": {
   "display_name": "Python 3",
   "language": "python",
   "name": "python3"
  },
  "language_info": {
   "codemirror_mode": {
    "name": "ipython",
    "version": 3
   },
   "file_extension": ".py",
   "mimetype": "text/x-python",
   "name": "python",
   "nbconvert_exporter": "python",
   "pygments_lexer": "ipython3",
   "version": "3.7.4"
  }
 },
 "nbformat": 4,
 "nbformat_minor": 2
}
