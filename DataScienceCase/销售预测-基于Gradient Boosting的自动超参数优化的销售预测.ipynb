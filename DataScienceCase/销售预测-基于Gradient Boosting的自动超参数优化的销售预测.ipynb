{
 "cells": [
  {
   "cell_type": "code",
   "execution_count": 1,
   "metadata": {},
   "outputs": [],
   "source": [
    "import os\n",
    "os.chdir(r'/Users/zhanghui/商业分析工具和应用/Python/Python数据分析与数据化运营-第一版-python2附件/chapter6')"
   ]
  },
  {
   "cell_type": "code",
   "execution_count": 2,
   "metadata": {},
   "outputs": [],
   "source": [
    "# 导入库\n",
    "import numpy as np  # 导入numpy库\n",
    "import pandas as pd  # 导入pandas库\n",
    "from sklearn.ensemble import GradientBoostingRegressor  # 集成方法回归库\n",
    "from sklearn.model_selection import GridSearchCV  # 导入交叉检验库\n",
    "import matplotlib.pyplot as plt  # 导入图形展示库"
   ]
  },
  {
   "cell_type": "code",
   "execution_count": 3,
   "metadata": {},
   "outputs": [
    {
     "data": {
      "text/html": [
       "<div>\n",
       "<style scoped>\n",
       "    .dataframe tbody tr th:only-of-type {\n",
       "        vertical-align: middle;\n",
       "    }\n",
       "\n",
       "    .dataframe tbody tr th {\n",
       "        vertical-align: top;\n",
       "    }\n",
       "\n",
       "    .dataframe thead th {\n",
       "        text-align: right;\n",
       "    }\n",
       "</style>\n",
       "<table border=\"1\" class=\"dataframe\">\n",
       "  <thead>\n",
       "    <tr style=\"text-align: right;\">\n",
       "      <th></th>\n",
       "      <th>limit_infor</th>\n",
       "      <th>campaign_type</th>\n",
       "      <th>campaign_level</th>\n",
       "      <th>product_level</th>\n",
       "      <th>resource_amount</th>\n",
       "      <th>email_rate</th>\n",
       "      <th>price</th>\n",
       "      <th>discount_rate</th>\n",
       "      <th>hour_resouces</th>\n",
       "      <th>campaign_fee</th>\n",
       "      <th>orders</th>\n",
       "    </tr>\n",
       "  </thead>\n",
       "  <tbody>\n",
       "    <tr>\n",
       "      <td>0</td>\n",
       "      <td>0</td>\n",
       "      <td>6</td>\n",
       "      <td>0</td>\n",
       "      <td>1</td>\n",
       "      <td>1</td>\n",
       "      <td>0.08</td>\n",
       "      <td>140.0</td>\n",
       "      <td>0.83</td>\n",
       "      <td>93</td>\n",
       "      <td>888</td>\n",
       "      <td>1981</td>\n",
       "    </tr>\n",
       "    <tr>\n",
       "      <td>1</td>\n",
       "      <td>0</td>\n",
       "      <td>0</td>\n",
       "      <td>0</td>\n",
       "      <td>1</td>\n",
       "      <td>1</td>\n",
       "      <td>0.10</td>\n",
       "      <td>144.0</td>\n",
       "      <td>0.75</td>\n",
       "      <td>150</td>\n",
       "      <td>836</td>\n",
       "      <td>986</td>\n",
       "    </tr>\n",
       "    <tr>\n",
       "      <td>2</td>\n",
       "      <td>0</td>\n",
       "      <td>1</td>\n",
       "      <td>1</td>\n",
       "      <td>1</td>\n",
       "      <td>1</td>\n",
       "      <td>0.12</td>\n",
       "      <td>149.0</td>\n",
       "      <td>0.84</td>\n",
       "      <td>86</td>\n",
       "      <td>1330</td>\n",
       "      <td>1416</td>\n",
       "    </tr>\n",
       "    <tr>\n",
       "      <td>3</td>\n",
       "      <td>0</td>\n",
       "      <td>3</td>\n",
       "      <td>1</td>\n",
       "      <td>2</td>\n",
       "      <td>1</td>\n",
       "      <td>0.12</td>\n",
       "      <td>141.0</td>\n",
       "      <td>0.82</td>\n",
       "      <td>95</td>\n",
       "      <td>2273</td>\n",
       "      <td>2368</td>\n",
       "    </tr>\n",
       "    <tr>\n",
       "      <td>4</td>\n",
       "      <td>0</td>\n",
       "      <td>0</td>\n",
       "      <td>0</td>\n",
       "      <td>1</td>\n",
       "      <td>1</td>\n",
       "      <td>0.10</td>\n",
       "      <td>146.0</td>\n",
       "      <td>0.59</td>\n",
       "      <td>73</td>\n",
       "      <td>1456</td>\n",
       "      <td>1529</td>\n",
       "    </tr>\n",
       "  </tbody>\n",
       "</table>\n",
       "</div>"
      ],
      "text/plain": [
       "   limit_infor  campaign_type  campaign_level  product_level  resource_amount  \\\n",
       "0            0              6               0              1                1   \n",
       "1            0              0               0              1                1   \n",
       "2            0              1               1              1                1   \n",
       "3            0              3               1              2                1   \n",
       "4            0              0               0              1                1   \n",
       "\n",
       "   email_rate  price  discount_rate  hour_resouces  campaign_fee  orders  \n",
       "0        0.08  140.0           0.83             93           888    1981  \n",
       "1        0.10  144.0           0.75            150           836     986  \n",
       "2        0.12  149.0           0.84             86          1330    1416  \n",
       "3        0.12  141.0           0.82             95          2273    2368  \n",
       "4        0.10  146.0           0.59             73          1456    1529  "
      ]
     },
     "execution_count": 3,
     "metadata": {},
     "output_type": "execute_result"
    }
   ],
   "source": [
    "raw_data = pd.read_table('products_sales.txt',delimiter = ',')\n",
    "raw_data.head()"
   ]
  },
  {
   "cell_type": "code",
   "execution_count": 30,
   "metadata": {},
   "outputs": [
    {
     "name": "stdout",
     "output_type": "stream",
     "text": [
      "************************Data dtypes:************************\n",
      "limit_infor          int64\n",
      "campaign_type        int64\n",
      "campaign_level       int64\n",
      "product_level        int64\n",
      "resource_amount      int64\n",
      "email_rate         float64\n",
      "price              float64\n",
      "discount_rate      float64\n",
      "hour_resouces        int64\n",
      "campaign_fee         int64\n",
      "orders               int64\n",
      "dtype: object\n",
      "*************************Data DESC:*************************\n",
      "                 count    mean     std    min     25%     50%     75%      max\n",
      "limit_infor      731.0     0.0     0.4    0.0     0.0     0.0     0.0     10.0\n",
      "campaign_type    731.0     3.0     2.0    0.0     1.0     3.0     5.0      6.0\n",
      "campaign_level   731.0     0.7     0.5    0.0     0.0     1.0     1.0      1.0\n",
      "product_level    731.0     1.4     0.5    1.0     1.0     1.0     2.0      3.0\n",
      "resource_amount  731.0     5.0     1.8    1.0     3.0     5.0     7.0      9.0\n",
      "email_rate       731.0     0.5     0.2    0.1     0.3     0.5     0.6      0.8\n",
      "price            729.0   162.8    14.3  100.0   152.0   163.0   173.0    197.0\n",
      "discount_rate    731.0     0.8     0.1    0.5     0.8     0.8     0.9      1.0\n",
      "hour_resouces    731.0   848.2   686.6    2.0   315.5   713.0  1096.0   3410.0\n",
      "campaign_fee     731.0  3696.4  1908.6   20.0  2497.0  3662.0  4795.5  33380.0\n",
      "orders           731.0  4531.1  1932.5   22.0  3199.0  4563.0  6011.5   8714.0\n"
     ]
    }
   ],
   "source": [
    "print ('{:*^60}'.format('Data dtypes:'))\n",
    "print (raw_data.dtypes)  # 打印数据类型\n",
    "print ('{:*^60}'.format('Data DESC:'))\n",
    "print (raw_data.describe().round(1).T)  # 打印原始数据基本描述性信息"
   ]
  },
  {
   "cell_type": "code",
   "execution_count": 15,
   "metadata": {},
   "outputs": [
    {
     "name": "stdout",
     "output_type": "stream",
     "text": [
      "**************************NA cols:**************************\n",
      "price    True\n",
      "dtype: bool\n",
      "Total NA line is:2\n"
     ]
    }
   ],
   "source": [
    "#缺失值审查\n",
    "na_cols = raw_data.isnull().any(axis = 0)\n",
    "print('{:*^60}'.format('NA cols:'))\n",
    "print(na_cols[na_cols] == True)\n",
    "print('Total NA line is:{0}'.format(raw_data.isnull().any(axis = 1).sum()))"
   ]
  },
  {
   "cell_type": "code",
   "execution_count": 31,
   "metadata": {},
   "outputs": [
    {
     "name": "stdout",
     "output_type": "stream",
     "text": [
      "********************Correlation Analyze:********************\n",
      "          li    ct    cl    pl    ra    er  price    dr    hr    cf  orders\n",
      "li      1.00 -0.03 -0.08 -0.04  0.05  0.04  -0.02  0.00  0.01 -0.04   -0.02\n",
      "ct     -0.03  1.00  0.04  0.03  0.01 -0.01  -0.05 -0.01  0.06  0.06    0.06\n",
      "cl     -0.08  0.04  1.00  0.06  0.05  0.05   0.02  0.02 -0.52  0.26    0.05\n",
      "pl     -0.04  0.03  0.06  1.00 -0.12 -0.12   0.59 -0.04 -0.25 -0.23   -0.30\n",
      "ra      0.05  0.01  0.05 -0.12  1.00  0.98   0.13  0.15  0.54  0.46    0.62\n",
      "er      0.04 -0.01  0.05 -0.12  0.98  1.00   0.14  0.18  0.54  0.47    0.63\n",
      "price  -0.02 -0.05  0.02  0.59  0.13  0.14   1.00  0.25 -0.08 -0.11   -0.10\n",
      "dr      0.00 -0.01  0.02 -0.04  0.15  0.18   0.25  1.00  0.17  0.19    0.23\n",
      "hr      0.01  0.06 -0.52 -0.25  0.54  0.54  -0.08  0.17  1.00  0.32    0.66\n",
      "cf     -0.04  0.06  0.26 -0.23  0.46  0.47  -0.11  0.19  0.32  1.00    0.76\n",
      "orders -0.02  0.06  0.05 -0.30  0.62  0.63  -0.10  0.23  0.66  0.76    1.00\n",
      "{'limit_infor': 'li', 'campaign_type': 'ct', 'campaign_level': 'cl', 'product_level': 'pl', 'resource_amount': 'ra', 'email_rate': 'er', 'price': 'price', 'discount_rate': 'dr', 'hour_resouces': 'hr', 'campaign_fee': 'cf', 'orders': 'orders'}\n"
     ]
    }
   ],
   "source": [
    "#相关性分析\n",
    "print ('{:*^60}'.format('Correlation Analyze:'))\n",
    "short_name = ['li', 'ct', 'cl', 'pl', 'ra', 'er', 'price', 'dr', 'hr', 'cf', 'orders']\n",
    "long_name = raw_data.columns\n",
    "name_dict = dict(zip(long_name, short_name))\n",
    "print (raw_data.corr().round(2).rename(index=name_dict, columns=name_dict))  # 输出所有输入特征变量以及预测变量的相关性矩阵\n",
    "print (name_dict)"
   ]
  },
  {
   "cell_type": "code",
   "execution_count": 32,
   "metadata": {},
   "outputs": [
    {
     "name": "stdout",
     "output_type": "stream",
     "text": [
      "*********************transformed data:**********************\n",
      "        count     mean      std     min      25%      50%      75%      max\n",
      "li      730.0     0.03     0.17    0.00     0.00     0.00     0.00     1.00\n",
      "ct      730.0     3.00     2.01    0.00     1.00     3.00     5.00     6.00\n",
      "cl      730.0     0.68     0.47    0.00     0.00     1.00     1.00     1.00\n",
      "pl      730.0     1.40     0.55    1.00     1.00     1.00     2.00     3.00\n",
      "ra      730.0     4.95     1.84    1.00     3.00     5.00     7.00     9.00\n",
      "er      730.0     0.47     0.16    0.08     0.34     0.48     0.61     0.84\n",
      "price   730.0   162.82    14.26  100.00   152.00   163.00   173.00   197.00\n",
      "dr      730.0     0.81     0.08    0.49     0.77     0.82     0.87     0.98\n",
      "hr      730.0   848.51   687.03    2.00   315.25   717.00  1096.50  3410.00\n",
      "cf      730.0  3655.61  1561.27   20.00  2495.00  3660.00  4783.25  6946.00\n",
      "orders  730.0  4531.27  1933.85   22.00  3196.50  4566.00  6021.25  8714.00\n"
     ]
    }
   ],
   "source": [
    "# 数据预处理\n",
    "# 异常值处理\n",
    "sales_data = raw_data.fillna(raw_data['price'].mean())  # 缺失值替换为均值\n",
    "# sales_data = raw_data.drop('email_rate',axis=1) # 丢弃缺失值\n",
    "sales_data = sales_data[sales_data['limit_infor'].isin((0, 1))]  # 只保留促销值为0和1的记录\n",
    "sales_data['campaign_fee'] = sales_data['campaign_fee'].replace(33380, sales_data['campaign_fee'].mean())  # 将异常极大值替换为均值\n",
    "print ('{:*^60}'.format('transformed data:'))\n",
    "print (sales_data.describe().round(2).T.rename(index=name_dict))  # 打印处理完成数据基本描述性信息"
   ]
  },
  {
   "cell_type": "code",
   "execution_count": 33,
   "metadata": {},
   "outputs": [
    {
     "name": "stderr",
     "output_type": "stream",
     "text": [
      "/Applications/anaconda3/lib/python3.7/site-packages/ipykernel_launcher.py:2: FutureWarning: \n",
      ".ix is deprecated. Please use\n",
      ".loc for label based indexing or\n",
      ".iloc for positional indexing\n",
      "\n",
      "See the documentation here:\n",
      "http://pandas.pydata.org/pandas-docs/stable/user_guide/indexing.html#ix-indexer-is-deprecated\n",
      "  \n",
      "/Applications/anaconda3/lib/python3.7/site-packages/pandas/core/indexing.py:822: FutureWarning: \n",
      ".ix is deprecated. Please use\n",
      ".loc for label based indexing or\n",
      ".iloc for positional indexing\n",
      "\n",
      "See the documentation here:\n",
      "http://pandas.pydata.org/pandas-docs/stable/user_guide/indexing.html#ix-indexer-is-deprecated\n",
      "  retval = getattr(retval, self.name)._getitem_axis(key, axis=i)\n",
      "/Applications/anaconda3/lib/python3.7/site-packages/ipykernel_launcher.py:3: FutureWarning: \n",
      ".ix is deprecated. Please use\n",
      ".loc for label based indexing or\n",
      ".iloc for positional indexing\n",
      "\n",
      "See the documentation here:\n",
      "http://pandas.pydata.org/pandas-docs/stable/user_guide/indexing.html#ix-indexer-is-deprecated\n",
      "  This is separate from the ipykernel package so we can avoid doing imports until\n"
     ]
    }
   ],
   "source": [
    "# 分割数据集X和y\n",
    "X = sales_data.ix[:, :-1]  # 分割X\n",
    "y = sales_data.ix[:, -1]  # 分割y"
   ]
  },
  {
   "cell_type": "code",
   "execution_count": 34,
   "metadata": {},
   "outputs": [
    {
     "name": "stdout",
     "output_type": "stream",
     "text": [
      "Best score is: 0.9315453619342527\n",
      "Best parameter is: {'alpha': 0.9, 'loss': 'huber', 'min_samples_leaf': 3}\n"
     ]
    }
   ],
   "source": [
    "## 模型最优化参数训练及检验\n",
    "model_gbr = GradientBoostingRegressor()  # 建立GradientBoostingRegressor回归对象\n",
    "parameters = {'loss': ['ls', 'lad', 'huber', 'quantile'],\n",
    "              'min_samples_leaf': [1, 2, 3, 4, 5],\n",
    "              'alpha': [0.1, 0.3, 0.6, 0.9]}  # 定义要优化的参数信息\n",
    "model_gs = GridSearchCV(estimator=model_gbr, param_grid=parameters, cv=5)  # 建立交叉检验模型对象\n",
    "model_gs.fit(X, y)  # 训练交叉检验模型\n",
    "print ('Best score is:', model_gs.best_score_)  # 获得交叉检验模型得出的最优得分\n",
    "print ('Best parameter is:', model_gs.best_params_)  # 获得交叉检验模型得出的最优参数"
   ]
  },
  {
   "cell_type": "code",
   "execution_count": 27,
   "metadata": {
    "scrolled": true
   },
   "outputs": [
    {
     "data": {
      "image/png": "[encoded data removed]",
      "text/plain": [
       "<Figure size 432x288 with 1 Axes>"
      ]
     },
     "metadata": {},
     "output_type": "display_data"
    }
   ],
   "source": [
    "# 获取最佳训练模型\n",
    "model_best = model_gs.best_estimator_  # 获得交叉检验模型得出的最优模型对象\n",
    "model_best.fit(X, y)  # 训练最优模型\n",
    "plt.style.use(\"ggplot\")  # 应用ggplot自带样式库\n",
    "plt.figure()  # 建立画布对象\n",
    "plt.plot(np.arange(X.shape[0]), y, label='true y')  # 画出原始变量的曲线\n",
    "plt.plot(np.arange(X.shape[0]), model_best.predict(X), label='predicted y')  # 画出预测变量曲线\n",
    "plt.legend(loc=0)  # 设置图例位置\n",
    "plt.show() "
   ]
  },
  {
   "cell_type": "code",
   "execution_count": 28,
   "metadata": {},
   "outputs": [
    {
     "name": "stdout",
     "output_type": "stream",
     "text": [
      "*********************Predicted orders:**********************\n",
      "[880.]\n"
     ]
    }
   ],
   "source": [
    "New_X = np.array([[1, 1, 0, 1, 15, 0.5, 177, 0.66, 101, 798]])  # 要预测的新数据记录\n",
    "print ('{:*^60}'.format('Predicted orders:'))\n",
    "print (model_best.predict(New_X).round(0))  # 打印输出预测值"
   ]
  },
  {
   "cell_type": "code",
   "execution_count": null,
   "metadata": {},
   "outputs": [],
   "source": []
  }
 ],
 "metadata": {
  "kernelspec": {
   "display_name": "Python 3",
   "language": "python",
   "name": "python3"
  },
  "language_info": {
   "codemirror_mode": {
    "name": "ipython",
    "version": 3
   },
   "file_extension": ".py",
   "mimetype": "text/x-python",
   "name": "python",
   "nbconvert_exporter": "python",
   "pygments_lexer": "ipython3",
   "version": "3.7.4"
  }
 },
 "nbformat": 4,
 "nbformat_minor": 2
}
