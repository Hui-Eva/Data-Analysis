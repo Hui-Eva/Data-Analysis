{
 "cells": [
  {
   "cell_type": "markdown",
   "metadata": {},
   "source": [
    "# 1分析目的\n",
    "从六个维度来分析用户行为：\n",
    "日PV和日UV分析\n",
    "付费率分析\n",
    "复购行为分析\n",
    "漏斗流失分析\n",
    "用户价值RFM分析"
   ]
  },
  {
   "cell_type": "markdown",
   "metadata": {},
   "source": [
    "#抽样\n",
    "data.sample(n = 1000000)\n",
    "data.sample(frac = 0.2, replace = False)"
   ]
  },
  {
   "cell_type": "markdown",
   "metadata": {},
   "source": [
    "# 2 理解数据"
   ]
  },
  {
   "cell_type": "code",
   "execution_count": 1,
   "metadata": {},
   "outputs": [],
   "source": [
    "import pandas as pd\n",
    "import numpy as np\n",
    "import matplotlib.pyplot as plt\n",
    "import seaborn as sns\n",
    "sns.set(style = 'darkgrid',font_scale = 1.5)\n",
    "\n",
    "plt.rcParams['font.family'] = ['Arial Unicode MS'] #用来正常显示中文标签\n",
    "plt.rcParams['axes.unicode_minus'] = False #用来正常显示负号\n"
   ]
  },
  {
   "cell_type": "code",
   "execution_count": 2,
   "metadata": {},
   "outputs": [],
   "source": [
    "data = pd.read_csv('data_small.csv',dtype =object)"
   ]
  },
  {
   "cell_type": "code",
   "execution_count": 3,
   "metadata": {},
   "outputs": [],
   "source": [
    "del data['Unnamed: 0']"
   ]
  },
  {
   "cell_type": "markdown",
   "metadata": {},
   "source": [
    "# 3 数据预处理"
   ]
  },
  {
   "cell_type": "markdown",
   "metadata": {},
   "source": [
    "#时间戳转化为时间\n",
    "import time, datetime\n",
    "data['time'] = data['Timestamp'].apply(lambda x : time.strftime(\"%Y--%m--%d %H:%M:%S\", time.localtime(x)))"
   ]
  },
  {
   "cell_type": "code",
   "execution_count": 4,
   "metadata": {},
   "outputs": [
    {
     "data": {
      "text/plain": [
       "UserID           object\n",
       "ItemID           object\n",
       "CategoryID       object\n",
       "Behavior_type    object\n",
       "Timestamp        object\n",
       "time             object\n",
       "dtype: object"
      ]
     },
     "execution_count": 4,
     "metadata": {},
     "output_type": "execute_result"
    }
   ],
   "source": [
    "data.dtypes"
   ]
  },
  {
   "cell_type": "code",
   "execution_count": 5,
   "metadata": {},
   "outputs": [
    {
     "data": {
      "text/plain": [
       "UserID           0\n",
       "ItemID           0\n",
       "CategoryID       0\n",
       "Behavior_type    0\n",
       "Timestamp        0\n",
       "time             0\n",
       "dtype: int64"
      ]
     },
     "execution_count": 5,
     "metadata": {},
     "output_type": "execute_result"
    }
   ],
   "source": [
    "#3.1 缺失值分析\n",
    "data.apply(lambda x: sum(x.isnull()))"
   ]
  },
  {
   "cell_type": "code",
   "execution_count": 6,
   "metadata": {},
   "outputs": [],
   "source": [
    "data['Date'] = data['time'].str[0:12]\n",
    "data['Hour'] = data['time'].str[13:15]"
   ]
  },
  {
   "cell_type": "code",
   "execution_count": 7,
   "metadata": {},
   "outputs": [
    {
     "data": {
      "text/html": [
       "<div>\n",
       "<style scoped>\n",
       "    .dataframe tbody tr th:only-of-type {\n",
       "        vertical-align: middle;\n",
       "    }\n",
       "\n",
       "    .dataframe tbody tr th {\n",
       "        vertical-align: top;\n",
       "    }\n",
       "\n",
       "    .dataframe thead th {\n",
       "        text-align: right;\n",
       "    }\n",
       "</style>\n",
       "<table border=\"1\" class=\"dataframe\">\n",
       "  <thead>\n",
       "    <tr style=\"text-align: right;\">\n",
       "      <th></th>\n",
       "      <th>UserID</th>\n",
       "      <th>ItemID</th>\n",
       "      <th>CategoryID</th>\n",
       "      <th>Behavior_type</th>\n",
       "      <th>Timestamp</th>\n",
       "      <th>time</th>\n",
       "      <th>Date</th>\n",
       "      <th>Hour</th>\n",
       "    </tr>\n",
       "  </thead>\n",
       "  <tbody>\n",
       "    <tr>\n",
       "      <td>0</td>\n",
       "      <td>1</td>\n",
       "      <td>2333346</td>\n",
       "      <td>2520771</td>\n",
       "      <td>pv</td>\n",
       "      <td>1511561733</td>\n",
       "      <td>2017--11--25 06:15:33</td>\n",
       "      <td>2017--11--25</td>\n",
       "      <td>06</td>\n",
       "    </tr>\n",
       "    <tr>\n",
       "      <td>1</td>\n",
       "      <td>1</td>\n",
       "      <td>2576651</td>\n",
       "      <td>149192</td>\n",
       "      <td>pv</td>\n",
       "      <td>1511572885</td>\n",
       "      <td>2017--11--25 09:21:25</td>\n",
       "      <td>2017--11--25</td>\n",
       "      <td>09</td>\n",
       "    </tr>\n",
       "    <tr>\n",
       "      <td>2</td>\n",
       "      <td>1</td>\n",
       "      <td>3830808</td>\n",
       "      <td>4181361</td>\n",
       "      <td>pv</td>\n",
       "      <td>1511593493</td>\n",
       "      <td>2017--11--25 15:04:53</td>\n",
       "      <td>2017--11--25</td>\n",
       "      <td>15</td>\n",
       "    </tr>\n",
       "    <tr>\n",
       "      <td>3</td>\n",
       "      <td>1</td>\n",
       "      <td>4365585</td>\n",
       "      <td>2520377</td>\n",
       "      <td>pv</td>\n",
       "      <td>1511596146</td>\n",
       "      <td>2017--11--25 15:49:06</td>\n",
       "      <td>2017--11--25</td>\n",
       "      <td>15</td>\n",
       "    </tr>\n",
       "    <tr>\n",
       "      <td>4</td>\n",
       "      <td>1</td>\n",
       "      <td>4606018</td>\n",
       "      <td>2735466</td>\n",
       "      <td>pv</td>\n",
       "      <td>1511616481</td>\n",
       "      <td>2017--11--25 21:28:01</td>\n",
       "      <td>2017--11--25</td>\n",
       "      <td>21</td>\n",
       "    </tr>\n",
       "  </tbody>\n",
       "</table>\n",
       "</div>"
      ],
      "text/plain": [
       "  UserID   ItemID CategoryID Behavior_type   Timestamp                   time  \\\n",
       "0      1  2333346    2520771            pv  1511561733  2017--11--25 06:15:33   \n",
       "1      1  2576651     149192            pv  1511572885  2017--11--25 09:21:25   \n",
       "2      1  3830808    4181361            pv  1511593493  2017--11--25 15:04:53   \n",
       "3      1  4365585    2520377            pv  1511596146  2017--11--25 15:49:06   \n",
       "4      1  4606018    2735466            pv  1511616481  2017--11--25 21:28:01   \n",
       "\n",
       "           Date Hour  \n",
       "0  2017--11--25   06  \n",
       "1  2017--11--25   09  \n",
       "2  2017--11--25   15  \n",
       "3  2017--11--25   15  \n",
       "4  2017--11--25   21  "
      ]
     },
     "execution_count": 7,
     "metadata": {},
     "output_type": "execute_result"
    }
   ],
   "source": [
    "#期间有删除不需要的列\n",
    "data.head()"
   ]
  },
  {
   "cell_type": "code",
   "execution_count": 8,
   "metadata": {},
   "outputs": [
    {
     "data": {
      "text/plain": [
       "UserID           object\n",
       "ItemID           object\n",
       "CategoryID       object\n",
       "Behavior_type    object\n",
       "Timestamp        object\n",
       "time             object\n",
       "Date             object\n",
       "Hour             object\n",
       "dtype: object"
      ]
     },
     "execution_count": 8,
     "metadata": {},
     "output_type": "execute_result"
    }
   ],
   "source": [
    "data.dtypes"
   ]
  },
  {
   "cell_type": "code",
   "execution_count": 9,
   "metadata": {},
   "outputs": [],
   "source": [
    "#修改数据类型\n",
    "data['time'] = pd.to_datetime(data['time'])\n",
    "data['Date']=pd.to_datetime(data['Date'])"
   ]
  },
  {
   "cell_type": "code",
   "execution_count": 10,
   "metadata": {},
   "outputs": [],
   "source": [
    "data['Hour']=data['Hour'].astype(int)"
   ]
  },
  {
   "cell_type": "code",
   "execution_count": 11,
   "metadata": {},
   "outputs": [],
   "source": [
    "data.sort_values(by='time',ascending = True,inplace = True)"
   ]
  },
  {
   "cell_type": "code",
   "execution_count": 12,
   "metadata": {},
   "outputs": [
    {
     "data": {
      "text/html": [
       "<div>\n",
       "<style scoped>\n",
       "    .dataframe tbody tr th:only-of-type {\n",
       "        vertical-align: middle;\n",
       "    }\n",
       "\n",
       "    .dataframe tbody tr th {\n",
       "        vertical-align: top;\n",
       "    }\n",
       "\n",
       "    .dataframe thead th {\n",
       "        text-align: right;\n",
       "    }\n",
       "</style>\n",
       "<table border=\"1\" class=\"dataframe\">\n",
       "  <thead>\n",
       "    <tr style=\"text-align: right;\">\n",
       "      <th></th>\n",
       "      <th>UserID</th>\n",
       "      <th>ItemID</th>\n",
       "      <th>CategoryID</th>\n",
       "      <th>Behavior_type</th>\n",
       "      <th>Timestamp</th>\n",
       "      <th>time</th>\n",
       "      <th>Date</th>\n",
       "      <th>Hour</th>\n",
       "    </tr>\n",
       "  </thead>\n",
       "  <tbody>\n",
       "    <tr>\n",
       "      <td>0</td>\n",
       "      <td>1000169</td>\n",
       "      <td>1328010</td>\n",
       "      <td>959452</td>\n",
       "      <td>pv</td>\n",
       "      <td>1505117799</td>\n",
       "      <td>2017-09-11 16:16:39</td>\n",
       "      <td>2017-09-11</td>\n",
       "      <td>16</td>\n",
       "    </tr>\n",
       "    <tr>\n",
       "      <td>1</td>\n",
       "      <td>101021</td>\n",
       "      <td>1172685</td>\n",
       "      <td>2520377</td>\n",
       "      <td>pv</td>\n",
       "      <td>1510624083</td>\n",
       "      <td>2017-11-14 09:48:03</td>\n",
       "      <td>2017-11-14</td>\n",
       "      <td>9</td>\n",
       "    </tr>\n",
       "    <tr>\n",
       "      <td>2</td>\n",
       "      <td>1013991</td>\n",
       "      <td>1670635</td>\n",
       "      <td>4170419</td>\n",
       "      <td>pv</td>\n",
       "      <td>1510799233</td>\n",
       "      <td>2017-11-16 10:27:13</td>\n",
       "      <td>2017-11-16</td>\n",
       "      <td>10</td>\n",
       "    </tr>\n",
       "    <tr>\n",
       "      <td>3</td>\n",
       "      <td>1004259</td>\n",
       "      <td>3734552</td>\n",
       "      <td>1573426</td>\n",
       "      <td>pv</td>\n",
       "      <td>1510924950</td>\n",
       "      <td>2017-11-17 21:22:30</td>\n",
       "      <td>2017-11-17</td>\n",
       "      <td>21</td>\n",
       "    </tr>\n",
       "    <tr>\n",
       "      <td>4</td>\n",
       "      <td>103680</td>\n",
       "      <td>2867464</td>\n",
       "      <td>1216617</td>\n",
       "      <td>pv</td>\n",
       "      <td>1511008183</td>\n",
       "      <td>2017-11-18 20:29:43</td>\n",
       "      <td>2017-11-18</td>\n",
       "      <td>20</td>\n",
       "    </tr>\n",
       "    <tr>\n",
       "      <td>...</td>\n",
       "      <td>...</td>\n",
       "      <td>...</td>\n",
       "      <td>...</td>\n",
       "      <td>...</td>\n",
       "      <td>...</td>\n",
       "      <td>...</td>\n",
       "      <td>...</td>\n",
       "      <td>...</td>\n",
       "    </tr>\n",
       "    <tr>\n",
       "      <td>499995</td>\n",
       "      <td>1014597</td>\n",
       "      <td>2291902</td>\n",
       "      <td>3756425</td>\n",
       "      <td>cart</td>\n",
       "      <td>1512316781</td>\n",
       "      <td>2017-12-03 23:59:41</td>\n",
       "      <td>2017-12-03</td>\n",
       "      <td>23</td>\n",
       "    </tr>\n",
       "    <tr>\n",
       "      <td>499996</td>\n",
       "      <td>1004577</td>\n",
       "      <td>135028</td>\n",
       "      <td>4757812</td>\n",
       "      <td>pv</td>\n",
       "      <td>1512316783</td>\n",
       "      <td>2017-12-03 23:59:43</td>\n",
       "      <td>2017-12-03</td>\n",
       "      <td>23</td>\n",
       "    </tr>\n",
       "    <tr>\n",
       "      <td>499997</td>\n",
       "      <td>1007032</td>\n",
       "      <td>2633660</td>\n",
       "      <td>2181935</td>\n",
       "      <td>pv</td>\n",
       "      <td>1512316785</td>\n",
       "      <td>2017-12-03 23:59:45</td>\n",
       "      <td>2017-12-03</td>\n",
       "      <td>23</td>\n",
       "    </tr>\n",
       "    <tr>\n",
       "      <td>499998</td>\n",
       "      <td>103373</td>\n",
       "      <td>3901112</td>\n",
       "      <td>4696710</td>\n",
       "      <td>pv</td>\n",
       "      <td>1512316787</td>\n",
       "      <td>2017-12-03 23:59:47</td>\n",
       "      <td>2017-12-03</td>\n",
       "      <td>23</td>\n",
       "    </tr>\n",
       "    <tr>\n",
       "      <td>499999</td>\n",
       "      <td>1012290</td>\n",
       "      <td>4694524</td>\n",
       "      <td>2014414</td>\n",
       "      <td>pv</td>\n",
       "      <td>1512316790</td>\n",
       "      <td>2017-12-03 23:59:50</td>\n",
       "      <td>2017-12-03</td>\n",
       "      <td>23</td>\n",
       "    </tr>\n",
       "  </tbody>\n",
       "</table>\n",
       "<p>500000 rows × 8 columns</p>\n",
       "</div>"
      ],
      "text/plain": [
       "         UserID   ItemID CategoryID Behavior_type   Timestamp  \\\n",
       "0       1000169  1328010     959452            pv  1505117799   \n",
       "1        101021  1172685    2520377            pv  1510624083   \n",
       "2       1013991  1670635    4170419            pv  1510799233   \n",
       "3       1004259  3734552    1573426            pv  1510924950   \n",
       "4        103680  2867464    1216617            pv  1511008183   \n",
       "...         ...      ...        ...           ...         ...   \n",
       "499995  1014597  2291902    3756425          cart  1512316781   \n",
       "499996  1004577   135028    4757812            pv  1512316783   \n",
       "499997  1007032  2633660    2181935            pv  1512316785   \n",
       "499998   103373  3901112    4696710            pv  1512316787   \n",
       "499999  1012290  4694524    2014414            pv  1512316790   \n",
       "\n",
       "                      time       Date  Hour  \n",
       "0      2017-09-11 16:16:39 2017-09-11    16  \n",
       "1      2017-11-14 09:48:03 2017-11-14     9  \n",
       "2      2017-11-16 10:27:13 2017-11-16    10  \n",
       "3      2017-11-17 21:22:30 2017-11-17    21  \n",
       "4      2017-11-18 20:29:43 2017-11-18    20  \n",
       "...                    ...        ...   ...  \n",
       "499995 2017-12-03 23:59:41 2017-12-03    23  \n",
       "499996 2017-12-03 23:59:43 2017-12-03    23  \n",
       "499997 2017-12-03 23:59:45 2017-12-03    23  \n",
       "499998 2017-12-03 23:59:47 2017-12-03    23  \n",
       "499999 2017-12-03 23:59:50 2017-12-03    23  \n",
       "\n",
       "[500000 rows x 8 columns]"
      ]
     },
     "execution_count": 12,
     "metadata": {},
     "output_type": "execute_result"
    }
   ],
   "source": [
    "data.reset_index(drop = True)"
   ]
  },
  {
   "cell_type": "code",
   "execution_count": 13,
   "metadata": {},
   "outputs": [
    {
     "name": "stdout",
     "output_type": "stream",
     "text": [
      "<class 'pandas.core.frame.DataFrame'>\n",
      "Int64Index: 500000 entries, 4169 to 271852\n",
      "Data columns (total 8 columns):\n",
      "UserID           500000 non-null object\n",
      "ItemID           500000 non-null object\n",
      "CategoryID       500000 non-null object\n",
      "Behavior_type    500000 non-null object\n",
      "Timestamp        500000 non-null object\n",
      "time             500000 non-null datetime64[ns]\n",
      "Date             500000 non-null datetime64[ns]\n",
      "Hour             500000 non-null int64\n",
      "dtypes: datetime64[ns](2), int64(1), object(5)\n",
      "memory usage: 34.3+ MB\n"
     ]
    }
   ],
   "source": [
    "data.info()"
   ]
  },
  {
   "cell_type": "code",
   "execution_count": 14,
   "metadata": {},
   "outputs": [
    {
     "data": {
      "text/html": [
       "<div>\n",
       "<style scoped>\n",
       "    .dataframe tbody tr th:only-of-type {\n",
       "        vertical-align: middle;\n",
       "    }\n",
       "\n",
       "    .dataframe tbody tr th {\n",
       "        vertical-align: top;\n",
       "    }\n",
       "\n",
       "    .dataframe thead th {\n",
       "        text-align: right;\n",
       "    }\n",
       "</style>\n",
       "<table border=\"1\" class=\"dataframe\">\n",
       "  <thead>\n",
       "    <tr style=\"text-align: right;\">\n",
       "      <th></th>\n",
       "      <th>UserID</th>\n",
       "      <th>ItemID</th>\n",
       "      <th>CategoryID</th>\n",
       "      <th>Behavior_type</th>\n",
       "      <th>Timestamp</th>\n",
       "    </tr>\n",
       "  </thead>\n",
       "  <tbody>\n",
       "    <tr>\n",
       "      <td>count</td>\n",
       "      <td>500000</td>\n",
       "      <td>500000</td>\n",
       "      <td>500000</td>\n",
       "      <td>500000</td>\n",
       "      <td>500000</td>\n",
       "    </tr>\n",
       "    <tr>\n",
       "      <td>unique</td>\n",
       "      <td>4856</td>\n",
       "      <td>242328</td>\n",
       "      <td>5070</td>\n",
       "      <td>4</td>\n",
       "      <td>340030</td>\n",
       "    </tr>\n",
       "    <tr>\n",
       "      <td>top</td>\n",
       "      <td>1010419</td>\n",
       "      <td>812879</td>\n",
       "      <td>4756105</td>\n",
       "      <td>pv</td>\n",
       "      <td>1512206464</td>\n",
       "    </tr>\n",
       "    <tr>\n",
       "      <td>freq</td>\n",
       "      <td>665</td>\n",
       "      <td>149</td>\n",
       "      <td>24237</td>\n",
       "      <td>449356</td>\n",
       "      <td>27</td>\n",
       "    </tr>\n",
       "  </tbody>\n",
       "</table>\n",
       "</div>"
      ],
      "text/plain": [
       "         UserID  ItemID CategoryID Behavior_type   Timestamp\n",
       "count    500000  500000     500000        500000      500000\n",
       "unique     4856  242328       5070             4      340030\n",
       "top     1010419  812879    4756105            pv  1512206464\n",
       "freq        665     149      24237        449356          27"
      ]
     },
     "execution_count": 14,
     "metadata": {},
     "output_type": "execute_result"
    }
   ],
   "source": [
    "data.describe(include = ['object'])"
   ]
  },
  {
   "cell_type": "code",
   "execution_count": 15,
   "metadata": {},
   "outputs": [
    {
     "data": {
      "text/html": [
       "<div>\n",
       "<style scoped>\n",
       "    .dataframe tbody tr th:only-of-type {\n",
       "        vertical-align: middle;\n",
       "    }\n",
       "\n",
       "    .dataframe tbody tr th {\n",
       "        vertical-align: top;\n",
       "    }\n",
       "\n",
       "    .dataframe thead th {\n",
       "        text-align: right;\n",
       "    }\n",
       "</style>\n",
       "<table border=\"1\" class=\"dataframe\">\n",
       "  <thead>\n",
       "    <tr style=\"text-align: right;\">\n",
       "      <th></th>\n",
       "      <th>UserID</th>\n",
       "      <th>ItemID</th>\n",
       "      <th>CategoryID</th>\n",
       "      <th>Behavior_type</th>\n",
       "      <th>Timestamp</th>\n",
       "      <th>time</th>\n",
       "      <th>Date</th>\n",
       "      <th>Hour</th>\n",
       "    </tr>\n",
       "  </thead>\n",
       "  <tbody>\n",
       "    <tr>\n",
       "      <td>count</td>\n",
       "      <td>500000</td>\n",
       "      <td>500000</td>\n",
       "      <td>500000</td>\n",
       "      <td>500000</td>\n",
       "      <td>500000</td>\n",
       "      <td>500000</td>\n",
       "      <td>500000</td>\n",
       "      <td>500000.000000</td>\n",
       "    </tr>\n",
       "    <tr>\n",
       "      <td>unique</td>\n",
       "      <td>4856</td>\n",
       "      <td>242328</td>\n",
       "      <td>5070</td>\n",
       "      <td>4</td>\n",
       "      <td>340030</td>\n",
       "      <td>340030</td>\n",
       "      <td>20</td>\n",
       "      <td>NaN</td>\n",
       "    </tr>\n",
       "    <tr>\n",
       "      <td>top</td>\n",
       "      <td>1010419</td>\n",
       "      <td>812879</td>\n",
       "      <td>4756105</td>\n",
       "      <td>pv</td>\n",
       "      <td>1512206464</td>\n",
       "      <td>2017-12-02 17:21:04</td>\n",
       "      <td>2017-12-02 00:00:00</td>\n",
       "      <td>NaN</td>\n",
       "    </tr>\n",
       "    <tr>\n",
       "      <td>freq</td>\n",
       "      <td>665</td>\n",
       "      <td>149</td>\n",
       "      <td>24237</td>\n",
       "      <td>449356</td>\n",
       "      <td>27</td>\n",
       "      <td>27</td>\n",
       "      <td>69002</td>\n",
       "      <td>NaN</td>\n",
       "    </tr>\n",
       "    <tr>\n",
       "      <td>first</td>\n",
       "      <td>NaN</td>\n",
       "      <td>NaN</td>\n",
       "      <td>NaN</td>\n",
       "      <td>NaN</td>\n",
       "      <td>NaN</td>\n",
       "      <td>2017-09-11 16:16:39</td>\n",
       "      <td>2017-09-11 00:00:00</td>\n",
       "      <td>NaN</td>\n",
       "    </tr>\n",
       "    <tr>\n",
       "      <td>last</td>\n",
       "      <td>NaN</td>\n",
       "      <td>NaN</td>\n",
       "      <td>NaN</td>\n",
       "      <td>NaN</td>\n",
       "      <td>NaN</td>\n",
       "      <td>2017-12-03 23:59:50</td>\n",
       "      <td>2017-12-03 00:00:00</td>\n",
       "      <td>NaN</td>\n",
       "    </tr>\n",
       "    <tr>\n",
       "      <td>mean</td>\n",
       "      <td>NaN</td>\n",
       "      <td>NaN</td>\n",
       "      <td>NaN</td>\n",
       "      <td>NaN</td>\n",
       "      <td>NaN</td>\n",
       "      <td>NaN</td>\n",
       "      <td>NaN</td>\n",
       "      <td>14.948282</td>\n",
       "    </tr>\n",
       "    <tr>\n",
       "      <td>std</td>\n",
       "      <td>NaN</td>\n",
       "      <td>NaN</td>\n",
       "      <td>NaN</td>\n",
       "      <td>NaN</td>\n",
       "      <td>NaN</td>\n",
       "      <td>NaN</td>\n",
       "      <td>NaN</td>\n",
       "      <td>6.112498</td>\n",
       "    </tr>\n",
       "    <tr>\n",
       "      <td>min</td>\n",
       "      <td>NaN</td>\n",
       "      <td>NaN</td>\n",
       "      <td>NaN</td>\n",
       "      <td>NaN</td>\n",
       "      <td>NaN</td>\n",
       "      <td>NaN</td>\n",
       "      <td>NaN</td>\n",
       "      <td>0.000000</td>\n",
       "    </tr>\n",
       "    <tr>\n",
       "      <td>25%</td>\n",
       "      <td>NaN</td>\n",
       "      <td>NaN</td>\n",
       "      <td>NaN</td>\n",
       "      <td>NaN</td>\n",
       "      <td>NaN</td>\n",
       "      <td>NaN</td>\n",
       "      <td>NaN</td>\n",
       "      <td>11.000000</td>\n",
       "    </tr>\n",
       "    <tr>\n",
       "      <td>50%</td>\n",
       "      <td>NaN</td>\n",
       "      <td>NaN</td>\n",
       "      <td>NaN</td>\n",
       "      <td>NaN</td>\n",
       "      <td>NaN</td>\n",
       "      <td>NaN</td>\n",
       "      <td>NaN</td>\n",
       "      <td>16.000000</td>\n",
       "    </tr>\n",
       "    <tr>\n",
       "      <td>75%</td>\n",
       "      <td>NaN</td>\n",
       "      <td>NaN</td>\n",
       "      <td>NaN</td>\n",
       "      <td>NaN</td>\n",
       "      <td>NaN</td>\n",
       "      <td>NaN</td>\n",
       "      <td>NaN</td>\n",
       "      <td>20.000000</td>\n",
       "    </tr>\n",
       "    <tr>\n",
       "      <td>max</td>\n",
       "      <td>NaN</td>\n",
       "      <td>NaN</td>\n",
       "      <td>NaN</td>\n",
       "      <td>NaN</td>\n",
       "      <td>NaN</td>\n",
       "      <td>NaN</td>\n",
       "      <td>NaN</td>\n",
       "      <td>23.000000</td>\n",
       "    </tr>\n",
       "  </tbody>\n",
       "</table>\n",
       "</div>"
      ],
      "text/plain": [
       "         UserID  ItemID CategoryID Behavior_type   Timestamp  \\\n",
       "count    500000  500000     500000        500000      500000   \n",
       "unique     4856  242328       5070             4      340030   \n",
       "top     1010419  812879    4756105            pv  1512206464   \n",
       "freq        665     149      24237        449356          27   \n",
       "first       NaN     NaN        NaN           NaN         NaN   \n",
       "last        NaN     NaN        NaN           NaN         NaN   \n",
       "mean        NaN     NaN        NaN           NaN         NaN   \n",
       "std         NaN     NaN        NaN           NaN         NaN   \n",
       "min         NaN     NaN        NaN           NaN         NaN   \n",
       "25%         NaN     NaN        NaN           NaN         NaN   \n",
       "50%         NaN     NaN        NaN           NaN         NaN   \n",
       "75%         NaN     NaN        NaN           NaN         NaN   \n",
       "max         NaN     NaN        NaN           NaN         NaN   \n",
       "\n",
       "                       time                 Date           Hour  \n",
       "count                500000               500000  500000.000000  \n",
       "unique               340030                   20            NaN  \n",
       "top     2017-12-02 17:21:04  2017-12-02 00:00:00            NaN  \n",
       "freq                     27                69002            NaN  \n",
       "first   2017-09-11 16:16:39  2017-09-11 00:00:00            NaN  \n",
       "last    2017-12-03 23:59:50  2017-12-03 00:00:00            NaN  \n",
       "mean                    NaN                  NaN      14.948282  \n",
       "std                     NaN                  NaN       6.112498  \n",
       "min                     NaN                  NaN       0.000000  \n",
       "25%                     NaN                  NaN      11.000000  \n",
       "50%                     NaN                  NaN      16.000000  \n",
       "75%                     NaN                  NaN      20.000000  \n",
       "max                     NaN                  NaN      23.000000  "
      ]
     },
     "execution_count": 15,
     "metadata": {},
     "output_type": "execute_result"
    }
   ],
   "source": [
    "data.describe(include = 'all')"
   ]
  },
  {
   "cell_type": "code",
   "execution_count": 16,
   "metadata": {},
   "outputs": [
    {
     "data": {
      "text/plain": [
       "pv      449356\n",
       "cart     27510\n",
       "fav      12950\n",
       "buy      10184\n",
       "Name: Behavior_type, dtype: int64"
      ]
     },
     "execution_count": 16,
     "metadata": {},
     "output_type": "execute_result"
    }
   ],
   "source": [
    "data['Behavior_type'].value_counts()"
   ]
  },
  {
   "cell_type": "markdown",
   "metadata": {},
   "source": [
    "# 4 构建模型"
   ]
  },
  {
   "cell_type": "markdown",
   "metadata": {},
   "source": [
    "4.1 pv和uv分析"
   ]
  },
  {
   "cell_type": "code",
   "execution_count": 17,
   "metadata": {},
   "outputs": [
    {
     "data": {
      "text/html": [
       "<div>\n",
       "<style scoped>\n",
       "    .dataframe tbody tr th:only-of-type {\n",
       "        vertical-align: middle;\n",
       "    }\n",
       "\n",
       "    .dataframe tbody tr th {\n",
       "        vertical-align: top;\n",
       "    }\n",
       "\n",
       "    .dataframe thead th {\n",
       "        text-align: right;\n",
       "    }\n",
       "</style>\n",
       "<table border=\"1\" class=\"dataframe\">\n",
       "  <thead>\n",
       "    <tr style=\"text-align: right;\">\n",
       "      <th></th>\n",
       "      <th>UserID</th>\n",
       "    </tr>\n",
       "    <tr>\n",
       "      <th>Date</th>\n",
       "      <th></th>\n",
       "    </tr>\n",
       "  </thead>\n",
       "  <tbody>\n",
       "    <tr>\n",
       "      <td>2017-09-11</td>\n",
       "      <td>1</td>\n",
       "    </tr>\n",
       "    <tr>\n",
       "      <td>2017-11-14</td>\n",
       "      <td>1</td>\n",
       "    </tr>\n",
       "    <tr>\n",
       "      <td>2017-11-16</td>\n",
       "      <td>1</td>\n",
       "    </tr>\n",
       "    <tr>\n",
       "      <td>2017-11-17</td>\n",
       "      <td>1</td>\n",
       "    </tr>\n",
       "    <tr>\n",
       "      <td>2017-11-18</td>\n",
       "      <td>1</td>\n",
       "    </tr>\n",
       "    <tr>\n",
       "      <td>2017-11-19</td>\n",
       "      <td>2</td>\n",
       "    </tr>\n",
       "    <tr>\n",
       "      <td>2017-11-20</td>\n",
       "      <td>2</td>\n",
       "    </tr>\n",
       "    <tr>\n",
       "      <td>2017-11-21</td>\n",
       "      <td>7</td>\n",
       "    </tr>\n",
       "    <tr>\n",
       "      <td>2017-11-22</td>\n",
       "      <td>6</td>\n",
       "    </tr>\n",
       "    <tr>\n",
       "      <td>2017-11-23</td>\n",
       "      <td>15</td>\n",
       "    </tr>\n",
       "    <tr>\n",
       "      <td>2017-11-24</td>\n",
       "      <td>185</td>\n",
       "    </tr>\n",
       "    <tr>\n",
       "      <td>2017-11-25</td>\n",
       "      <td>51539</td>\n",
       "    </tr>\n",
       "    <tr>\n",
       "      <td>2017-11-26</td>\n",
       "      <td>52515</td>\n",
       "    </tr>\n",
       "    <tr>\n",
       "      <td>2017-11-27</td>\n",
       "      <td>49885</td>\n",
       "    </tr>\n",
       "    <tr>\n",
       "      <td>2017-11-28</td>\n",
       "      <td>50831</td>\n",
       "    </tr>\n",
       "    <tr>\n",
       "      <td>2017-11-29</td>\n",
       "      <td>51131</td>\n",
       "    </tr>\n",
       "    <tr>\n",
       "      <td>2017-11-30</td>\n",
       "      <td>53219</td>\n",
       "    </tr>\n",
       "    <tr>\n",
       "      <td>2017-12-01</td>\n",
       "      <td>54402</td>\n",
       "    </tr>\n",
       "    <tr>\n",
       "      <td>2017-12-02</td>\n",
       "      <td>69002</td>\n",
       "    </tr>\n",
       "    <tr>\n",
       "      <td>2017-12-03</td>\n",
       "      <td>67254</td>\n",
       "    </tr>\n",
       "  </tbody>\n",
       "</table>\n",
       "</div>"
      ],
      "text/plain": [
       "            UserID\n",
       "Date              \n",
       "2017-09-11       1\n",
       "2017-11-14       1\n",
       "2017-11-16       1\n",
       "2017-11-17       1\n",
       "2017-11-18       1\n",
       "2017-11-19       2\n",
       "2017-11-20       2\n",
       "2017-11-21       7\n",
       "2017-11-22       6\n",
       "2017-11-23      15\n",
       "2017-11-24     185\n",
       "2017-11-25   51539\n",
       "2017-11-26   52515\n",
       "2017-11-27   49885\n",
       "2017-11-28   50831\n",
       "2017-11-29   51131\n",
       "2017-11-30   53219\n",
       "2017-12-01   54402\n",
       "2017-12-02   69002\n",
       "2017-12-03   67254"
      ]
     },
     "execution_count": 17,
     "metadata": {},
     "output_type": "execute_result"
    }
   ],
   "source": [
    "#pv和uv\n",
    "#按照日期来看\n",
    "pv_daily = pd.DataFrame(data.groupby('Date').count()['UserID'])\n",
    "pv_daily"
   ]
  },
  {
   "cell_type": "code",
   "execution_count": 18,
   "metadata": {},
   "outputs": [
    {
     "data": {
      "text/html": [
       "<div>\n",
       "<style scoped>\n",
       "    .dataframe tbody tr th:only-of-type {\n",
       "        vertical-align: middle;\n",
       "    }\n",
       "\n",
       "    .dataframe tbody tr th {\n",
       "        vertical-align: top;\n",
       "    }\n",
       "\n",
       "    .dataframe thead th {\n",
       "        text-align: right;\n",
       "    }\n",
       "</style>\n",
       "<table border=\"1\" class=\"dataframe\">\n",
       "  <thead>\n",
       "    <tr style=\"text-align: right;\">\n",
       "      <th></th>\n",
       "      <th>UserID</th>\n",
       "    </tr>\n",
       "    <tr>\n",
       "      <th>Date</th>\n",
       "      <th></th>\n",
       "    </tr>\n",
       "  </thead>\n",
       "  <tbody>\n",
       "    <tr>\n",
       "      <td>2017-09-11</td>\n",
       "      <td>1</td>\n",
       "    </tr>\n",
       "    <tr>\n",
       "      <td>2017-11-14</td>\n",
       "      <td>1</td>\n",
       "    </tr>\n",
       "    <tr>\n",
       "      <td>2017-11-16</td>\n",
       "      <td>1</td>\n",
       "    </tr>\n",
       "    <tr>\n",
       "      <td>2017-11-17</td>\n",
       "      <td>1</td>\n",
       "    </tr>\n",
       "    <tr>\n",
       "      <td>2017-11-18</td>\n",
       "      <td>1</td>\n",
       "    </tr>\n",
       "    <tr>\n",
       "      <td>2017-11-19</td>\n",
       "      <td>2</td>\n",
       "    </tr>\n",
       "    <tr>\n",
       "      <td>2017-11-20</td>\n",
       "      <td>2</td>\n",
       "    </tr>\n",
       "    <tr>\n",
       "      <td>2017-11-21</td>\n",
       "      <td>5</td>\n",
       "    </tr>\n",
       "    <tr>\n",
       "      <td>2017-11-22</td>\n",
       "      <td>3</td>\n",
       "    </tr>\n",
       "    <tr>\n",
       "      <td>2017-11-23</td>\n",
       "      <td>14</td>\n",
       "    </tr>\n",
       "    <tr>\n",
       "      <td>2017-11-24</td>\n",
       "      <td>160</td>\n",
       "    </tr>\n",
       "    <tr>\n",
       "      <td>2017-11-25</td>\n",
       "      <td>3507</td>\n",
       "    </tr>\n",
       "    <tr>\n",
       "      <td>2017-11-26</td>\n",
       "      <td>3566</td>\n",
       "    </tr>\n",
       "    <tr>\n",
       "      <td>2017-11-27</td>\n",
       "      <td>3542</td>\n",
       "    </tr>\n",
       "    <tr>\n",
       "      <td>2017-11-28</td>\n",
       "      <td>3535</td>\n",
       "    </tr>\n",
       "    <tr>\n",
       "      <td>2017-11-29</td>\n",
       "      <td>3570</td>\n",
       "    </tr>\n",
       "    <tr>\n",
       "      <td>2017-11-30</td>\n",
       "      <td>3637</td>\n",
       "    </tr>\n",
       "    <tr>\n",
       "      <td>2017-12-01</td>\n",
       "      <td>3612</td>\n",
       "    </tr>\n",
       "    <tr>\n",
       "      <td>2017-12-02</td>\n",
       "      <td>4779</td>\n",
       "    </tr>\n",
       "    <tr>\n",
       "      <td>2017-12-03</td>\n",
       "      <td>4784</td>\n",
       "    </tr>\n",
       "  </tbody>\n",
       "</table>\n",
       "</div>"
      ],
      "text/plain": [
       "            UserID\n",
       "Date              \n",
       "2017-09-11       1\n",
       "2017-11-14       1\n",
       "2017-11-16       1\n",
       "2017-11-17       1\n",
       "2017-11-18       1\n",
       "2017-11-19       2\n",
       "2017-11-20       2\n",
       "2017-11-21       5\n",
       "2017-11-22       3\n",
       "2017-11-23      14\n",
       "2017-11-24     160\n",
       "2017-11-25    3507\n",
       "2017-11-26    3566\n",
       "2017-11-27    3542\n",
       "2017-11-28    3535\n",
       "2017-11-29    3570\n",
       "2017-11-30    3637\n",
       "2017-12-01    3612\n",
       "2017-12-02    4779\n",
       "2017-12-03    4784"
      ]
     },
     "execution_count": 18,
     "metadata": {},
     "output_type": "execute_result"
    }
   ],
   "source": [
    "uv_daily = pd.DataFrame(data.groupby('Date')['UserID'].apply(lambda x: x.drop_duplicates().count()))\n",
    "uv_daily"
   ]
  },
  {
   "cell_type": "code",
   "execution_count": 19,
   "metadata": {},
   "outputs": [
    {
     "data": {
      "text/html": [
       "<div>\n",
       "<style scoped>\n",
       "    .dataframe tbody tr th:only-of-type {\n",
       "        vertical-align: middle;\n",
       "    }\n",
       "\n",
       "    .dataframe tbody tr th {\n",
       "        vertical-align: top;\n",
       "    }\n",
       "\n",
       "    .dataframe thead th {\n",
       "        text-align: right;\n",
       "    }\n",
       "</style>\n",
       "<table border=\"1\" class=\"dataframe\">\n",
       "  <thead>\n",
       "    <tr style=\"text-align: right;\">\n",
       "      <th></th>\n",
       "      <th>pv</th>\n",
       "    </tr>\n",
       "    <tr>\n",
       "      <th>Date</th>\n",
       "      <th></th>\n",
       "    </tr>\n",
       "  </thead>\n",
       "  <tbody>\n",
       "    <tr>\n",
       "      <td>2017-09-11</td>\n",
       "      <td>1</td>\n",
       "    </tr>\n",
       "    <tr>\n",
       "      <td>2017-11-14</td>\n",
       "      <td>1</td>\n",
       "    </tr>\n",
       "    <tr>\n",
       "      <td>2017-11-16</td>\n",
       "      <td>1</td>\n",
       "    </tr>\n",
       "    <tr>\n",
       "      <td>2017-11-17</td>\n",
       "      <td>1</td>\n",
       "    </tr>\n",
       "    <tr>\n",
       "      <td>2017-11-18</td>\n",
       "      <td>1</td>\n",
       "    </tr>\n",
       "    <tr>\n",
       "      <td>2017-11-19</td>\n",
       "      <td>2</td>\n",
       "    </tr>\n",
       "    <tr>\n",
       "      <td>2017-11-20</td>\n",
       "      <td>2</td>\n",
       "    </tr>\n",
       "    <tr>\n",
       "      <td>2017-11-21</td>\n",
       "      <td>7</td>\n",
       "    </tr>\n",
       "    <tr>\n",
       "      <td>2017-11-22</td>\n",
       "      <td>6</td>\n",
       "    </tr>\n",
       "    <tr>\n",
       "      <td>2017-11-23</td>\n",
       "      <td>15</td>\n",
       "    </tr>\n",
       "    <tr>\n",
       "      <td>2017-11-24</td>\n",
       "      <td>185</td>\n",
       "    </tr>\n",
       "    <tr>\n",
       "      <td>2017-11-25</td>\n",
       "      <td>51539</td>\n",
       "    </tr>\n",
       "    <tr>\n",
       "      <td>2017-11-26</td>\n",
       "      <td>52515</td>\n",
       "    </tr>\n",
       "    <tr>\n",
       "      <td>2017-11-27</td>\n",
       "      <td>49885</td>\n",
       "    </tr>\n",
       "    <tr>\n",
       "      <td>2017-11-28</td>\n",
       "      <td>50831</td>\n",
       "    </tr>\n",
       "    <tr>\n",
       "      <td>2017-11-29</td>\n",
       "      <td>51131</td>\n",
       "    </tr>\n",
       "    <tr>\n",
       "      <td>2017-11-30</td>\n",
       "      <td>53219</td>\n",
       "    </tr>\n",
       "    <tr>\n",
       "      <td>2017-12-01</td>\n",
       "      <td>54402</td>\n",
       "    </tr>\n",
       "    <tr>\n",
       "      <td>2017-12-02</td>\n",
       "      <td>69002</td>\n",
       "    </tr>\n",
       "    <tr>\n",
       "      <td>2017-12-03</td>\n",
       "      <td>67254</td>\n",
       "    </tr>\n",
       "  </tbody>\n",
       "</table>\n",
       "</div>"
      ],
      "text/plain": [
       "               pv\n",
       "Date             \n",
       "2017-09-11      1\n",
       "2017-11-14      1\n",
       "2017-11-16      1\n",
       "2017-11-17      1\n",
       "2017-11-18      1\n",
       "2017-11-19      2\n",
       "2017-11-20      2\n",
       "2017-11-21      7\n",
       "2017-11-22      6\n",
       "2017-11-23     15\n",
       "2017-11-24    185\n",
       "2017-11-25  51539\n",
       "2017-11-26  52515\n",
       "2017-11-27  49885\n",
       "2017-11-28  50831\n",
       "2017-11-29  51131\n",
       "2017-11-30  53219\n",
       "2017-12-01  54402\n",
       "2017-12-02  69002\n",
       "2017-12-03  67254"
      ]
     },
     "execution_count": 19,
     "metadata": {},
     "output_type": "execute_result"
    }
   ],
   "source": [
    "pv_daily.rename(columns = {'UserID':'pv'},inplace = True)\n",
    "pv_daily"
   ]
  },
  {
   "cell_type": "code",
   "execution_count": 20,
   "metadata": {},
   "outputs": [
    {
     "data": {
      "text/html": [
       "<div>\n",
       "<style scoped>\n",
       "    .dataframe tbody tr th:only-of-type {\n",
       "        vertical-align: middle;\n",
       "    }\n",
       "\n",
       "    .dataframe tbody tr th {\n",
       "        vertical-align: top;\n",
       "    }\n",
       "\n",
       "    .dataframe thead th {\n",
       "        text-align: right;\n",
       "    }\n",
       "</style>\n",
       "<table border=\"1\" class=\"dataframe\">\n",
       "  <thead>\n",
       "    <tr style=\"text-align: right;\">\n",
       "      <th></th>\n",
       "      <th>pv</th>\n",
       "      <th>UserID</th>\n",
       "    </tr>\n",
       "    <tr>\n",
       "      <th>Date</th>\n",
       "      <th></th>\n",
       "      <th></th>\n",
       "    </tr>\n",
       "  </thead>\n",
       "  <tbody>\n",
       "    <tr>\n",
       "      <td>2017-09-11</td>\n",
       "      <td>1</td>\n",
       "      <td>1</td>\n",
       "    </tr>\n",
       "    <tr>\n",
       "      <td>2017-11-14</td>\n",
       "      <td>1</td>\n",
       "      <td>1</td>\n",
       "    </tr>\n",
       "    <tr>\n",
       "      <td>2017-11-16</td>\n",
       "      <td>1</td>\n",
       "      <td>1</td>\n",
       "    </tr>\n",
       "    <tr>\n",
       "      <td>2017-11-17</td>\n",
       "      <td>1</td>\n",
       "      <td>1</td>\n",
       "    </tr>\n",
       "    <tr>\n",
       "      <td>2017-11-18</td>\n",
       "      <td>1</td>\n",
       "      <td>1</td>\n",
       "    </tr>\n",
       "    <tr>\n",
       "      <td>2017-11-19</td>\n",
       "      <td>2</td>\n",
       "      <td>2</td>\n",
       "    </tr>\n",
       "    <tr>\n",
       "      <td>2017-11-20</td>\n",
       "      <td>2</td>\n",
       "      <td>2</td>\n",
       "    </tr>\n",
       "    <tr>\n",
       "      <td>2017-11-21</td>\n",
       "      <td>7</td>\n",
       "      <td>5</td>\n",
       "    </tr>\n",
       "    <tr>\n",
       "      <td>2017-11-22</td>\n",
       "      <td>6</td>\n",
       "      <td>3</td>\n",
       "    </tr>\n",
       "    <tr>\n",
       "      <td>2017-11-23</td>\n",
       "      <td>15</td>\n",
       "      <td>14</td>\n",
       "    </tr>\n",
       "    <tr>\n",
       "      <td>2017-11-24</td>\n",
       "      <td>185</td>\n",
       "      <td>160</td>\n",
       "    </tr>\n",
       "    <tr>\n",
       "      <td>2017-11-25</td>\n",
       "      <td>51539</td>\n",
       "      <td>3507</td>\n",
       "    </tr>\n",
       "    <tr>\n",
       "      <td>2017-11-26</td>\n",
       "      <td>52515</td>\n",
       "      <td>3566</td>\n",
       "    </tr>\n",
       "    <tr>\n",
       "      <td>2017-11-27</td>\n",
       "      <td>49885</td>\n",
       "      <td>3542</td>\n",
       "    </tr>\n",
       "    <tr>\n",
       "      <td>2017-11-28</td>\n",
       "      <td>50831</td>\n",
       "      <td>3535</td>\n",
       "    </tr>\n",
       "    <tr>\n",
       "      <td>2017-11-29</td>\n",
       "      <td>51131</td>\n",
       "      <td>3570</td>\n",
       "    </tr>\n",
       "    <tr>\n",
       "      <td>2017-11-30</td>\n",
       "      <td>53219</td>\n",
       "      <td>3637</td>\n",
       "    </tr>\n",
       "    <tr>\n",
       "      <td>2017-12-01</td>\n",
       "      <td>54402</td>\n",
       "      <td>3612</td>\n",
       "    </tr>\n",
       "    <tr>\n",
       "      <td>2017-12-02</td>\n",
       "      <td>69002</td>\n",
       "      <td>4779</td>\n",
       "    </tr>\n",
       "    <tr>\n",
       "      <td>2017-12-03</td>\n",
       "      <td>67254</td>\n",
       "      <td>4784</td>\n",
       "    </tr>\n",
       "  </tbody>\n",
       "</table>\n",
       "</div>"
      ],
      "text/plain": [
       "               pv  UserID\n",
       "Date                     \n",
       "2017-09-11      1       1\n",
       "2017-11-14      1       1\n",
       "2017-11-16      1       1\n",
       "2017-11-17      1       1\n",
       "2017-11-18      1       1\n",
       "2017-11-19      2       2\n",
       "2017-11-20      2       2\n",
       "2017-11-21      7       5\n",
       "2017-11-22      6       3\n",
       "2017-11-23     15      14\n",
       "2017-11-24    185     160\n",
       "2017-11-25  51539    3507\n",
       "2017-11-26  52515    3566\n",
       "2017-11-27  49885    3542\n",
       "2017-11-28  50831    3535\n",
       "2017-11-29  51131    3570\n",
       "2017-11-30  53219    3637\n",
       "2017-12-01  54402    3612\n",
       "2017-12-02  69002    4779\n",
       "2017-12-03  67254    4784"
      ]
     },
     "execution_count": 20,
     "metadata": {},
     "output_type": "execute_result"
    }
   ],
   "source": [
    "pv_uv_daily = pd.concat([pv_daily,uv_daily],axis = 1)\n",
    "\n",
    "pv_uv_daily"
   ]
  },
  {
   "cell_type": "code",
   "execution_count": 21,
   "metadata": {},
   "outputs": [],
   "source": [
    "pv_uv_daily.rename(columns={'UserID': 'uv'}, inplace=True)"
   ]
  },
  {
   "cell_type": "markdown",
   "metadata": {},
   "source": [
    "修改columns也可以直接columns = ['pv','uv']"
   ]
  },
  {
   "cell_type": "code",
   "execution_count": 22,
   "metadata": {},
   "outputs": [
    {
     "data": {
      "text/html": [
       "<div>\n",
       "<style scoped>\n",
       "    .dataframe tbody tr th:only-of-type {\n",
       "        vertical-align: middle;\n",
       "    }\n",
       "\n",
       "    .dataframe tbody tr th {\n",
       "        vertical-align: top;\n",
       "    }\n",
       "\n",
       "    .dataframe thead th {\n",
       "        text-align: right;\n",
       "    }\n",
       "</style>\n",
       "<table border=\"1\" class=\"dataframe\">\n",
       "  <thead>\n",
       "    <tr style=\"text-align: right;\">\n",
       "      <th></th>\n",
       "      <th>pv</th>\n",
       "      <th>uv</th>\n",
       "    </tr>\n",
       "  </thead>\n",
       "  <tbody>\n",
       "    <tr>\n",
       "      <td>pv</td>\n",
       "      <td>1.000000</td>\n",
       "      <td>0.983193</td>\n",
       "    </tr>\n",
       "    <tr>\n",
       "      <td>uv</td>\n",
       "      <td>0.983193</td>\n",
       "      <td>1.000000</td>\n",
       "    </tr>\n",
       "  </tbody>\n",
       "</table>\n",
       "</div>"
      ],
      "text/plain": [
       "          pv        uv\n",
       "pv  1.000000  0.983193\n",
       "uv  0.983193  1.000000"
      ]
     },
     "execution_count": 22,
     "metadata": {},
     "output_type": "execute_result"
    }
   ],
   "source": [
    "pv_uv_daily.corr(method = 'spearman')"
   ]
  },
  {
   "cell_type": "code",
   "execution_count": 23,
   "metadata": {},
   "outputs": [
    {
     "data": {
      "text/html": [
       "<div>\n",
       "<style scoped>\n",
       "    .dataframe tbody tr th:only-of-type {\n",
       "        vertical-align: middle;\n",
       "    }\n",
       "\n",
       "    .dataframe tbody tr th {\n",
       "        vertical-align: top;\n",
       "    }\n",
       "\n",
       "    .dataframe thead th {\n",
       "        text-align: right;\n",
       "    }\n",
       "</style>\n",
       "<table border=\"1\" class=\"dataframe\">\n",
       "  <thead>\n",
       "    <tr style=\"text-align: right;\">\n",
       "      <th></th>\n",
       "      <th>pv</th>\n",
       "      <th>uv</th>\n",
       "    </tr>\n",
       "  </thead>\n",
       "  <tbody>\n",
       "    <tr>\n",
       "      <td>pv</td>\n",
       "      <td>1.000000</td>\n",
       "      <td>0.999465</td>\n",
       "    </tr>\n",
       "    <tr>\n",
       "      <td>uv</td>\n",
       "      <td>0.999465</td>\n",
       "      <td>1.000000</td>\n",
       "    </tr>\n",
       "  </tbody>\n",
       "</table>\n",
       "</div>"
      ],
      "text/plain": [
       "          pv        uv\n",
       "pv  1.000000  0.999465\n",
       "uv  0.999465  1.000000"
      ]
     },
     "execution_count": 23,
     "metadata": {},
     "output_type": "execute_result"
    }
   ],
   "source": [
    "pv_uv_daily.corr(method = 'pearson')"
   ]
  },
  {
   "cell_type": "code",
   "execution_count": 24,
   "metadata": {},
   "outputs": [
    {
     "name": "stderr",
     "output_type": "stream",
     "text": [
      "/Applications/anaconda3/lib/python3.7/site-packages/pandas/plotting/_matplotlib/converter.py:103: FutureWarning: Using an implicitly registered datetime converter for a matplotlib plotting method. The converter was registered by pandas on import. Future versions of pandas will require you to explicitly register matplotlib converters.\n",
      "\n",
      "To register the converters:\n",
      "\t>>> from pandas.plotting import register_matplotlib_converters\n",
      "\t>>> register_matplotlib_converters()\n",
      "  warnings.warn(msg, FutureWarning)\n"
     ]
    },
    {
     "data": {
      "text/plain": [
       "Text(0.5, 0.98, 'un和pv变化趋势')"
      ]
     },
     "execution_count": 24,
     "metadata": {},
     "output_type": "execute_result"
    },
    {
     "data": {
      "image/png": "[encoded data removed]",
      "text/plain": [
       "<Figure size 1152x648 with 2 Axes>"
      ]
     },
     "metadata": {
      "needs_background": "light"
     },
     "output_type": "display_data"
    }
   ],
   "source": [
    "plt.figure(figsize = (16,9))\n",
    "plt.subplot(211)\n",
    "plt.plot(pv_daily,color = 'r')\n",
    "plt.title('每天访问量')\n",
    "plt.subplot(212)\n",
    "plt.plot(uv_daily,color = 'r')\n",
    "plt.title('每天访问用户数量')\n",
    "plt.suptitle('un和pv变化趋势',fontsize = 30)"
   ]
  },
  {
   "cell_type": "code",
   "execution_count": 25,
   "metadata": {},
   "outputs": [
    {
     "data": {
      "text/html": [
       "<div>\n",
       "<style scoped>\n",
       "    .dataframe tbody tr th:only-of-type {\n",
       "        vertical-align: middle;\n",
       "    }\n",
       "\n",
       "    .dataframe tbody tr th {\n",
       "        vertical-align: top;\n",
       "    }\n",
       "\n",
       "    .dataframe thead th {\n",
       "        text-align: right;\n",
       "    }\n",
       "</style>\n",
       "<table border=\"1\" class=\"dataframe\">\n",
       "  <thead>\n",
       "    <tr style=\"text-align: right;\">\n",
       "      <th></th>\n",
       "      <th>UserID</th>\n",
       "      <th>UserID</th>\n",
       "    </tr>\n",
       "    <tr>\n",
       "      <th>Hour</th>\n",
       "      <th></th>\n",
       "      <th></th>\n",
       "    </tr>\n",
       "  </thead>\n",
       "  <tbody>\n",
       "    <tr>\n",
       "      <td>0</td>\n",
       "      <td>16273</td>\n",
       "      <td>1510</td>\n",
       "    </tr>\n",
       "    <tr>\n",
       "      <td>1</td>\n",
       "      <td>7228</td>\n",
       "      <td>801</td>\n",
       "    </tr>\n",
       "    <tr>\n",
       "      <td>2</td>\n",
       "      <td>4399</td>\n",
       "      <td>481</td>\n",
       "    </tr>\n",
       "    <tr>\n",
       "      <td>3</td>\n",
       "      <td>3142</td>\n",
       "      <td>373</td>\n",
       "    </tr>\n",
       "    <tr>\n",
       "      <td>4</td>\n",
       "      <td>2853</td>\n",
       "      <td>328</td>\n",
       "    </tr>\n",
       "    <tr>\n",
       "      <td>5</td>\n",
       "      <td>3851</td>\n",
       "      <td>464</td>\n",
       "    </tr>\n",
       "    <tr>\n",
       "      <td>6</td>\n",
       "      <td>7428</td>\n",
       "      <td>917</td>\n",
       "    </tr>\n",
       "    <tr>\n",
       "      <td>7</td>\n",
       "      <td>13026</td>\n",
       "      <td>1655</td>\n",
       "    </tr>\n",
       "    <tr>\n",
       "      <td>8</td>\n",
       "      <td>17005</td>\n",
       "      <td>2204</td>\n",
       "    </tr>\n",
       "    <tr>\n",
       "      <td>9</td>\n",
       "      <td>20464</td>\n",
       "      <td>2582</td>\n",
       "    </tr>\n",
       "    <tr>\n",
       "      <td>10</td>\n",
       "      <td>24284</td>\n",
       "      <td>2879</td>\n",
       "    </tr>\n",
       "    <tr>\n",
       "      <td>11</td>\n",
       "      <td>23436</td>\n",
       "      <td>2876</td>\n",
       "    </tr>\n",
       "    <tr>\n",
       "      <td>12</td>\n",
       "      <td>22730</td>\n",
       "      <td>2902</td>\n",
       "    </tr>\n",
       "    <tr>\n",
       "      <td>13</td>\n",
       "      <td>24761</td>\n",
       "      <td>2994</td>\n",
       "    </tr>\n",
       "    <tr>\n",
       "      <td>14</td>\n",
       "      <td>25398</td>\n",
       "      <td>2947</td>\n",
       "    </tr>\n",
       "    <tr>\n",
       "      <td>15</td>\n",
       "      <td>26182</td>\n",
       "      <td>2993</td>\n",
       "    </tr>\n",
       "    <tr>\n",
       "      <td>16</td>\n",
       "      <td>26130</td>\n",
       "      <td>3004</td>\n",
       "    </tr>\n",
       "    <tr>\n",
       "      <td>17</td>\n",
       "      <td>23241</td>\n",
       "      <td>2887</td>\n",
       "    </tr>\n",
       "    <tr>\n",
       "      <td>18</td>\n",
       "      <td>24268</td>\n",
       "      <td>2872</td>\n",
       "    </tr>\n",
       "    <tr>\n",
       "      <td>19</td>\n",
       "      <td>30559</td>\n",
       "      <td>3132</td>\n",
       "    </tr>\n",
       "    <tr>\n",
       "      <td>20</td>\n",
       "      <td>36797</td>\n",
       "      <td>3292</td>\n",
       "    </tr>\n",
       "    <tr>\n",
       "      <td>21</td>\n",
       "      <td>43082</td>\n",
       "      <td>3415</td>\n",
       "    </tr>\n",
       "    <tr>\n",
       "      <td>22</td>\n",
       "      <td>42468</td>\n",
       "      <td>3247</td>\n",
       "    </tr>\n",
       "    <tr>\n",
       "      <td>23</td>\n",
       "      <td>30995</td>\n",
       "      <td>2511</td>\n",
       "    </tr>\n",
       "  </tbody>\n",
       "</table>\n",
       "</div>"
      ],
      "text/plain": [
       "      UserID  UserID\n",
       "Hour                \n",
       "0      16273    1510\n",
       "1       7228     801\n",
       "2       4399     481\n",
       "3       3142     373\n",
       "4       2853     328\n",
       "5       3851     464\n",
       "6       7428     917\n",
       "7      13026    1655\n",
       "8      17005    2204\n",
       "9      20464    2582\n",
       "10     24284    2879\n",
       "11     23436    2876\n",
       "12     22730    2902\n",
       "13     24761    2994\n",
       "14     25398    2947\n",
       "15     26182    2993\n",
       "16     26130    3004\n",
       "17     23241    2887\n",
       "18     24268    2872\n",
       "19     30559    3132\n",
       "20     36797    3292\n",
       "21     43082    3415\n",
       "22     42468    3247\n",
       "23     30995    2511"
      ]
     },
     "execution_count": 25,
     "metadata": {},
     "output_type": "execute_result"
    }
   ],
   "source": [
    "#每小时的访问量分析\n",
    "pv_hour = data.groupby('Hour').count()['UserID']\n",
    "pv_hour.rename(columns = {'UserID':'pv'})\n",
    "uv_hour = data.groupby('Hour')['UserID'].apply(lambda x: x.drop_duplicates().count())\n",
    "pv_uv_hour = pd.concat([pv_hour,uv_hour],axis = 1)\n",
    "pv_uv_hour"
   ]
  },
  {
   "cell_type": "code",
   "execution_count": 26,
   "metadata": {},
   "outputs": [],
   "source": [
    "pv_uv_hour.columns = ['pv','uv']"
   ]
  },
  {
   "cell_type": "code",
   "execution_count": 27,
   "metadata": {},
   "outputs": [
    {
     "data": {
      "text/html": [
       "<div>\n",
       "<style scoped>\n",
       "    .dataframe tbody tr th:only-of-type {\n",
       "        vertical-align: middle;\n",
       "    }\n",
       "\n",
       "    .dataframe tbody tr th {\n",
       "        vertical-align: top;\n",
       "    }\n",
       "\n",
       "    .dataframe thead th {\n",
       "        text-align: right;\n",
       "    }\n",
       "</style>\n",
       "<table border=\"1\" class=\"dataframe\">\n",
       "  <thead>\n",
       "    <tr style=\"text-align: right;\">\n",
       "      <th></th>\n",
       "      <th>pv</th>\n",
       "      <th>uv</th>\n",
       "    </tr>\n",
       "  </thead>\n",
       "  <tbody>\n",
       "    <tr>\n",
       "      <td>pv</td>\n",
       "      <td>1.000000</td>\n",
       "      <td>0.921739</td>\n",
       "    </tr>\n",
       "    <tr>\n",
       "      <td>uv</td>\n",
       "      <td>0.921739</td>\n",
       "      <td>1.000000</td>\n",
       "    </tr>\n",
       "  </tbody>\n",
       "</table>\n",
       "</div>"
      ],
      "text/plain": [
       "          pv        uv\n",
       "pv  1.000000  0.921739\n",
       "uv  0.921739  1.000000"
      ]
     },
     "execution_count": 27,
     "metadata": {},
     "output_type": "execute_result"
    }
   ],
   "source": [
    "pv_uv_hour.corr(method = 'spearman')"
   ]
  },
  {
   "cell_type": "code",
   "execution_count": 28,
   "metadata": {},
   "outputs": [
    {
     "data": {
      "text/html": [
       "<div>\n",
       "<style scoped>\n",
       "    .dataframe tbody tr th:only-of-type {\n",
       "        vertical-align: middle;\n",
       "    }\n",
       "\n",
       "    .dataframe tbody tr th {\n",
       "        vertical-align: top;\n",
       "    }\n",
       "\n",
       "    .dataframe thead th {\n",
       "        text-align: right;\n",
       "    }\n",
       "</style>\n",
       "<table border=\"1\" class=\"dataframe\">\n",
       "  <thead>\n",
       "    <tr style=\"text-align: right;\">\n",
       "      <th></th>\n",
       "      <th>pv</th>\n",
       "      <th>uv</th>\n",
       "    </tr>\n",
       "  </thead>\n",
       "  <tbody>\n",
       "    <tr>\n",
       "      <td>pv</td>\n",
       "      <td>1.000000</td>\n",
       "      <td>0.923666</td>\n",
       "    </tr>\n",
       "    <tr>\n",
       "      <td>uv</td>\n",
       "      <td>0.923666</td>\n",
       "      <td>1.000000</td>\n",
       "    </tr>\n",
       "  </tbody>\n",
       "</table>\n",
       "</div>"
      ],
      "text/plain": [
       "          pv        uv\n",
       "pv  1.000000  0.923666\n",
       "uv  0.923666  1.000000"
      ]
     },
     "execution_count": 28,
     "metadata": {},
     "output_type": "execute_result"
    }
   ],
   "source": [
    "pv_uv_hour.corr(method = 'pearson')"
   ]
  },
  {
   "cell_type": "code",
   "execution_count": 29,
   "metadata": {},
   "outputs": [
    {
     "data": {
      "image/png": "[encoded data removed]",
      "text/plain": [
       "<Figure size 1152x648 with 2 Axes>"
      ]
     },
     "metadata": {
      "needs_background": "light"
     },
     "output_type": "display_data"
    }
   ],
   "source": [
    "plt.figure(figsize = (16,9))\n",
    "pv_uv_hour['pv'].plot(color = 'b',label ='每小时访问量' )\n",
    "plt.ylabel('访问量')\n",
    "plt.legend(loc = 'upper right')\n",
    "\n",
    "pv_uv_hour['uv'].plot(color = 'r',label ='每小时不同用户访问量',secondary_y = True )\n",
    "plt.ylabel('每小时不同用户访问量')\n",
    "plt.legend(loc = 'upper center')\n",
    "\n",
    "plt.xticks(range(0,24),pv_uv_hour.index)\n",
    "plt.grid(True)\n",
    "plt.show()"
   ]
  },
  {
   "cell_type": "markdown",
   "metadata": {},
   "source": [
    "总结：\n",
    "pv_hour 和 uv_hour有很强的相关性。各个时段访问量不一样，具体体现着……\n",
    "还有增加幅度不太一样……"
   ]
  },
  {
   "cell_type": "code",
   "execution_count": 30,
   "metadata": {},
   "outputs": [
    {
     "data": {
      "text/html": [
       "<div>\n",
       "<style scoped>\n",
       "    .dataframe tbody tr th:only-of-type {\n",
       "        vertical-align: middle;\n",
       "    }\n",
       "\n",
       "    .dataframe tbody tr th {\n",
       "        vertical-align: top;\n",
       "    }\n",
       "\n",
       "    .dataframe thead th {\n",
       "        text-align: right;\n",
       "    }\n",
       "</style>\n",
       "<table border=\"1\" class=\"dataframe\">\n",
       "  <thead>\n",
       "    <tr style=\"text-align: right;\">\n",
       "      <th>Behavior_type</th>\n",
       "      <th>buy</th>\n",
       "      <th>cart</th>\n",
       "      <th>fav</th>\n",
       "      <th>pv</th>\n",
       "    </tr>\n",
       "    <tr>\n",
       "      <th>Hour</th>\n",
       "      <th></th>\n",
       "      <th></th>\n",
       "      <th></th>\n",
       "      <th></th>\n",
       "    </tr>\n",
       "  </thead>\n",
       "  <tbody>\n",
       "    <tr>\n",
       "      <td>0</td>\n",
       "      <td>292</td>\n",
       "      <td>851</td>\n",
       "      <td>388</td>\n",
       "      <td>14742</td>\n",
       "    </tr>\n",
       "    <tr>\n",
       "      <td>1</td>\n",
       "      <td>121</td>\n",
       "      <td>401</td>\n",
       "      <td>201</td>\n",
       "      <td>6505</td>\n",
       "    </tr>\n",
       "    <tr>\n",
       "      <td>2</td>\n",
       "      <td>62</td>\n",
       "      <td>272</td>\n",
       "      <td>123</td>\n",
       "      <td>3942</td>\n",
       "    </tr>\n",
       "    <tr>\n",
       "      <td>3</td>\n",
       "      <td>39</td>\n",
       "      <td>185</td>\n",
       "      <td>74</td>\n",
       "      <td>2844</td>\n",
       "    </tr>\n",
       "    <tr>\n",
       "      <td>4</td>\n",
       "      <td>52</td>\n",
       "      <td>146</td>\n",
       "      <td>62</td>\n",
       "      <td>2593</td>\n",
       "    </tr>\n",
       "    <tr>\n",
       "      <td>5</td>\n",
       "      <td>40</td>\n",
       "      <td>223</td>\n",
       "      <td>139</td>\n",
       "      <td>3449</td>\n",
       "    </tr>\n",
       "    <tr>\n",
       "      <td>6</td>\n",
       "      <td>69</td>\n",
       "      <td>466</td>\n",
       "      <td>283</td>\n",
       "      <td>6610</td>\n",
       "    </tr>\n",
       "    <tr>\n",
       "      <td>7</td>\n",
       "      <td>208</td>\n",
       "      <td>784</td>\n",
       "      <td>295</td>\n",
       "      <td>11739</td>\n",
       "    </tr>\n",
       "    <tr>\n",
       "      <td>8</td>\n",
       "      <td>322</td>\n",
       "      <td>983</td>\n",
       "      <td>456</td>\n",
       "      <td>15244</td>\n",
       "    </tr>\n",
       "    <tr>\n",
       "      <td>9</td>\n",
       "      <td>498</td>\n",
       "      <td>1144</td>\n",
       "      <td>568</td>\n",
       "      <td>18254</td>\n",
       "    </tr>\n",
       "    <tr>\n",
       "      <td>10</td>\n",
       "      <td>626</td>\n",
       "      <td>1330</td>\n",
       "      <td>652</td>\n",
       "      <td>21676</td>\n",
       "    </tr>\n",
       "    <tr>\n",
       "      <td>11</td>\n",
       "      <td>607</td>\n",
       "      <td>1231</td>\n",
       "      <td>623</td>\n",
       "      <td>20975</td>\n",
       "    </tr>\n",
       "    <tr>\n",
       "      <td>12</td>\n",
       "      <td>619</td>\n",
       "      <td>1238</td>\n",
       "      <td>574</td>\n",
       "      <td>20299</td>\n",
       "    </tr>\n",
       "    <tr>\n",
       "      <td>13</td>\n",
       "      <td>656</td>\n",
       "      <td>1190</td>\n",
       "      <td>681</td>\n",
       "      <td>22234</td>\n",
       "    </tr>\n",
       "    <tr>\n",
       "      <td>14</td>\n",
       "      <td>612</td>\n",
       "      <td>1344</td>\n",
       "      <td>586</td>\n",
       "      <td>22856</td>\n",
       "    </tr>\n",
       "    <tr>\n",
       "      <td>15</td>\n",
       "      <td>553</td>\n",
       "      <td>1376</td>\n",
       "      <td>634</td>\n",
       "      <td>23619</td>\n",
       "    </tr>\n",
       "    <tr>\n",
       "      <td>16</td>\n",
       "      <td>641</td>\n",
       "      <td>1459</td>\n",
       "      <td>689</td>\n",
       "      <td>23341</td>\n",
       "    </tr>\n",
       "    <tr>\n",
       "      <td>17</td>\n",
       "      <td>517</td>\n",
       "      <td>1225</td>\n",
       "      <td>691</td>\n",
       "      <td>20808</td>\n",
       "    </tr>\n",
       "    <tr>\n",
       "      <td>18</td>\n",
       "      <td>466</td>\n",
       "      <td>1252</td>\n",
       "      <td>643</td>\n",
       "      <td>21907</td>\n",
       "    </tr>\n",
       "    <tr>\n",
       "      <td>19</td>\n",
       "      <td>588</td>\n",
       "      <td>1678</td>\n",
       "      <td>738</td>\n",
       "      <td>27555</td>\n",
       "    </tr>\n",
       "    <tr>\n",
       "      <td>20</td>\n",
       "      <td>647</td>\n",
       "      <td>1908</td>\n",
       "      <td>807</td>\n",
       "      <td>33435</td>\n",
       "    </tr>\n",
       "    <tr>\n",
       "      <td>21</td>\n",
       "      <td>725</td>\n",
       "      <td>2339</td>\n",
       "      <td>1018</td>\n",
       "      <td>39000</td>\n",
       "    </tr>\n",
       "    <tr>\n",
       "      <td>22</td>\n",
       "      <td>706</td>\n",
       "      <td>2469</td>\n",
       "      <td>1104</td>\n",
       "      <td>38189</td>\n",
       "    </tr>\n",
       "    <tr>\n",
       "      <td>23</td>\n",
       "      <td>518</td>\n",
       "      <td>2016</td>\n",
       "      <td>921</td>\n",
       "      <td>27540</td>\n",
       "    </tr>\n",
       "  </tbody>\n",
       "</table>\n",
       "</div>"
      ],
      "text/plain": [
       "Behavior_type  buy  cart   fav     pv\n",
       "Hour                                 \n",
       "0              292   851   388  14742\n",
       "1              121   401   201   6505\n",
       "2               62   272   123   3942\n",
       "3               39   185    74   2844\n",
       "4               52   146    62   2593\n",
       "5               40   223   139   3449\n",
       "6               69   466   283   6610\n",
       "7              208   784   295  11739\n",
       "8              322   983   456  15244\n",
       "9              498  1144   568  18254\n",
       "10             626  1330   652  21676\n",
       "11             607  1231   623  20975\n",
       "12             619  1238   574  20299\n",
       "13             656  1190   681  22234\n",
       "14             612  1344   586  22856\n",
       "15             553  1376   634  23619\n",
       "16             641  1459   689  23341\n",
       "17             517  1225   691  20808\n",
       "18             466  1252   643  21907\n",
       "19             588  1678   738  27555\n",
       "20             647  1908   807  33435\n",
       "21             725  2339  1018  39000\n",
       "22             706  2469  1104  38189\n",
       "23             518  2016   921  27540"
      ]
     },
     "execution_count": 30,
     "metadata": {},
     "output_type": "execute_result"
    }
   ],
   "source": [
    "#不同行为用户的pv分析\n",
    "pv_detail = pd.pivot_table(columns = 'Behavior_type',index = 'Hour',data = data,\n",
    "                          values = 'UserID',aggfunc = np.size)\n",
    "pv_detail"
   ]
  },
  {
   "cell_type": "code",
   "execution_count": 31,
   "metadata": {},
   "outputs": [
    {
     "data": {
      "image/png": "[encoded data removed]",
      "text/plain": [
       "<Figure size 1152x648 with 1 Axes>"
      ]
     },
     "metadata": {
      "needs_background": "light"
     },
     "output_type": "display_data"
    }
   ],
   "source": [
    "plt.figure(figsize = (16,9))\n",
    "sns.lineplot(data = pv_detail)\n",
    "plt.show()"
   ]
  },
  {
   "cell_type": "code",
   "execution_count": 32,
   "metadata": {},
   "outputs": [
    {
     "data": {
      "image/png": "[encoded data removed]",
      "text/plain": [
       "<Figure size 1152x648 with 1 Axes>"
      ]
     },
     "metadata": {
      "needs_background": "light"
     },
     "output_type": "display_data"
    }
   ],
   "source": [
    "#上图pv与其他的数据量级相差较大，需要剔除pv量再观察\n",
    "plt.figure(figsize = (16,9))\n",
    "sns.lineplot(data = pv_detail.iloc[:,:-1])\n",
    "plt.show()"
   ]
  },
  {
   "cell_type": "markdown",
   "metadata": {},
   "source": [
    "4.2 用户消费行为分析\n",
    "基于客户购买记录分析"
   ]
  },
  {
   "cell_type": "code",
   "execution_count": 33,
   "metadata": {},
   "outputs": [
    {
     "data": {
      "text/html": [
       "<div>\n",
       "<style scoped>\n",
       "    .dataframe tbody tr th:only-of-type {\n",
       "        vertical-align: middle;\n",
       "    }\n",
       "\n",
       "    .dataframe tbody tr th {\n",
       "        vertical-align: top;\n",
       "    }\n",
       "\n",
       "    .dataframe thead th {\n",
       "        text-align: right;\n",
       "    }\n",
       "</style>\n",
       "<table border=\"1\" class=\"dataframe\">\n",
       "  <thead>\n",
       "    <tr style=\"text-align: right;\">\n",
       "      <th></th>\n",
       "      <th>UserID</th>\n",
       "      <th>ItemID</th>\n",
       "      <th>CategoryID</th>\n",
       "      <th>Behavior_type</th>\n",
       "      <th>Timestamp</th>\n",
       "      <th>time</th>\n",
       "      <th>Date</th>\n",
       "      <th>Hour</th>\n",
       "    </tr>\n",
       "  </thead>\n",
       "  <tbody>\n",
       "    <tr>\n",
       "      <td>4169</td>\n",
       "      <td>1000169</td>\n",
       "      <td>1328010</td>\n",
       "      <td>959452</td>\n",
       "      <td>pv</td>\n",
       "      <td>1505117799</td>\n",
       "      <td>2017-09-11 16:16:39</td>\n",
       "      <td>2017-09-11</td>\n",
       "      <td>16</td>\n",
       "    </tr>\n",
       "    <tr>\n",
       "      <td>227401</td>\n",
       "      <td>101021</td>\n",
       "      <td>1172685</td>\n",
       "      <td>2520377</td>\n",
       "      <td>pv</td>\n",
       "      <td>1510624083</td>\n",
       "      <td>2017-11-14 09:48:03</td>\n",
       "      <td>2017-11-14</td>\n",
       "      <td>9</td>\n",
       "    </tr>\n",
       "    <tr>\n",
       "      <td>310003</td>\n",
       "      <td>1013991</td>\n",
       "      <td>1670635</td>\n",
       "      <td>4170419</td>\n",
       "      <td>pv</td>\n",
       "      <td>1510799233</td>\n",
       "      <td>2017-11-16 10:27:13</td>\n",
       "      <td>2017-11-16</td>\n",
       "      <td>10</td>\n",
       "    </tr>\n",
       "    <tr>\n",
       "      <td>97121</td>\n",
       "      <td>1004259</td>\n",
       "      <td>3734552</td>\n",
       "      <td>1573426</td>\n",
       "      <td>pv</td>\n",
       "      <td>1510924950</td>\n",
       "      <td>2017-11-17 21:22:30</td>\n",
       "      <td>2017-11-17</td>\n",
       "      <td>21</td>\n",
       "    </tr>\n",
       "    <tr>\n",
       "      <td>439497</td>\n",
       "      <td>103680</td>\n",
       "      <td>2867464</td>\n",
       "      <td>1216617</td>\n",
       "      <td>pv</td>\n",
       "      <td>1511008183</td>\n",
       "      <td>2017-11-18 20:29:43</td>\n",
       "      <td>2017-11-18</td>\n",
       "      <td>20</td>\n",
       "    </tr>\n",
       "  </tbody>\n",
       "</table>\n",
       "</div>"
      ],
      "text/plain": [
       "         UserID   ItemID CategoryID Behavior_type   Timestamp  \\\n",
       "4169    1000169  1328010     959452            pv  1505117799   \n",
       "227401   101021  1172685    2520377            pv  1510624083   \n",
       "310003  1013991  1670635    4170419            pv  1510799233   \n",
       "97121   1004259  3734552    1573426            pv  1510924950   \n",
       "439497   103680  2867464    1216617            pv  1511008183   \n",
       "\n",
       "                      time       Date  Hour  \n",
       "4169   2017-09-11 16:16:39 2017-09-11    16  \n",
       "227401 2017-11-14 09:48:03 2017-11-14     9  \n",
       "310003 2017-11-16 10:27:13 2017-11-16    10  \n",
       "97121  2017-11-17 21:22:30 2017-11-17    21  \n",
       "439497 2017-11-18 20:29:43 2017-11-18    20  "
      ]
     },
     "execution_count": 33,
     "metadata": {},
     "output_type": "execute_result"
    }
   ],
   "source": [
    "data.head()"
   ]
  },
  {
   "cell_type": "code",
   "execution_count": 34,
   "metadata": {},
   "outputs": [],
   "source": [
    "data_user_buy = data[data.Behavior_type =='buy'].groupby('UserID').size()"
   ]
  },
  {
   "cell_type": "code",
   "execution_count": 35,
   "metadata": {},
   "outputs": [
    {
     "data": {
      "text/plain": [
       "count    3376.000000\n",
       "mean        3.016588\n",
       "std         3.031932\n",
       "min         1.000000\n",
       "25%         1.000000\n",
       "50%         2.000000\n",
       "75%         4.000000\n",
       "max        57.000000\n",
       "dtype: float64"
      ]
     },
     "execution_count": 35,
     "metadata": {},
     "output_type": "execute_result"
    }
   ],
   "source": [
    "data_user_buy.describe() #购买的用户的点击量"
   ]
  },
  {
   "cell_type": "code",
   "execution_count": 36,
   "metadata": {},
   "outputs": [
    {
     "data": {
      "image/png": "[encoded data removed]",
      "text/plain": [
       "<Figure size 432x288 with 1 Axes>"
      ]
     },
     "metadata": {
      "needs_background": "light"
     },
     "output_type": "display_data"
    }
   ],
   "source": [
    "plt.hist(x =data_user_buy,bins = 10 )\n",
    "plt.show()"
   ]
  },
  {
   "cell_type": "code",
   "execution_count": 37,
   "metadata": {},
   "outputs": [],
   "source": [
    "#人均消费次数 ARPPU\n",
    "\n",
    "data_user_buy1 = data[data.Behavior_type =='buy'].groupby(['Date','UserID']).count()['Behavior_type'].reset_index().rename(columns = {'Behavior_type':'total_behavior'})"
   ]
  },
  {
   "cell_type": "code",
   "execution_count": 38,
   "metadata": {},
   "outputs": [
    {
     "data": {
      "text/html": [
       "<div>\n",
       "<style scoped>\n",
       "    .dataframe tbody tr th:only-of-type {\n",
       "        vertical-align: middle;\n",
       "    }\n",
       "\n",
       "    .dataframe tbody tr th {\n",
       "        vertical-align: top;\n",
       "    }\n",
       "\n",
       "    .dataframe thead th {\n",
       "        text-align: right;\n",
       "    }\n",
       "</style>\n",
       "<table border=\"1\" class=\"dataframe\">\n",
       "  <thead>\n",
       "    <tr style=\"text-align: right;\">\n",
       "      <th></th>\n",
       "      <th>Date</th>\n",
       "      <th>UserID</th>\n",
       "      <th>total_behavior</th>\n",
       "    </tr>\n",
       "  </thead>\n",
       "  <tbody>\n",
       "    <tr>\n",
       "      <td>0</td>\n",
       "      <td>2017-11-25</td>\n",
       "      <td>100</td>\n",
       "      <td>2</td>\n",
       "    </tr>\n",
       "    <tr>\n",
       "      <td>1</td>\n",
       "      <td>2017-11-25</td>\n",
       "      <td>1000011</td>\n",
       "      <td>2</td>\n",
       "    </tr>\n",
       "    <tr>\n",
       "      <td>2</td>\n",
       "      <td>2017-11-25</td>\n",
       "      <td>1000103</td>\n",
       "      <td>1</td>\n",
       "    </tr>\n",
       "    <tr>\n",
       "      <td>3</td>\n",
       "      <td>2017-11-25</td>\n",
       "      <td>1000134</td>\n",
       "      <td>1</td>\n",
       "    </tr>\n",
       "    <tr>\n",
       "      <td>4</td>\n",
       "      <td>2017-11-25</td>\n",
       "      <td>1000165</td>\n",
       "      <td>1</td>\n",
       "    </tr>\n",
       "    <tr>\n",
       "      <td>...</td>\n",
       "      <td>...</td>\n",
       "      <td>...</td>\n",
       "      <td>...</td>\n",
       "    </tr>\n",
       "    <tr>\n",
       "      <td>6713</td>\n",
       "      <td>2017-12-03</td>\n",
       "      <td>106087</td>\n",
       "      <td>1</td>\n",
       "    </tr>\n",
       "    <tr>\n",
       "      <td>6714</td>\n",
       "      <td>2017-12-03</td>\n",
       "      <td>106090</td>\n",
       "      <td>1</td>\n",
       "    </tr>\n",
       "    <tr>\n",
       "      <td>6715</td>\n",
       "      <td>2017-12-03</td>\n",
       "      <td>106118</td>\n",
       "      <td>3</td>\n",
       "    </tr>\n",
       "    <tr>\n",
       "      <td>6716</td>\n",
       "      <td>2017-12-03</td>\n",
       "      <td>106144</td>\n",
       "      <td>1</td>\n",
       "    </tr>\n",
       "    <tr>\n",
       "      <td>6717</td>\n",
       "      <td>2017-12-03</td>\n",
       "      <td>106157</td>\n",
       "      <td>1</td>\n",
       "    </tr>\n",
       "  </tbody>\n",
       "</table>\n",
       "<p>6718 rows × 3 columns</p>\n",
       "</div>"
      ],
      "text/plain": [
       "           Date   UserID  total_behavior\n",
       "0    2017-11-25      100               2\n",
       "1    2017-11-25  1000011               2\n",
       "2    2017-11-25  1000103               1\n",
       "3    2017-11-25  1000134               1\n",
       "4    2017-11-25  1000165               1\n",
       "...         ...      ...             ...\n",
       "6713 2017-12-03   106087               1\n",
       "6714 2017-12-03   106090               1\n",
       "6715 2017-12-03   106118               3\n",
       "6716 2017-12-03   106144               1\n",
       "6717 2017-12-03   106157               1\n",
       "\n",
       "[6718 rows x 3 columns]"
      ]
     },
     "execution_count": 38,
     "metadata": {},
     "output_type": "execute_result"
    }
   ],
   "source": [
    "data_user_buy1"
   ]
  },
  {
   "cell_type": "code",
   "execution_count": 39,
   "metadata": {},
   "outputs": [],
   "source": [
    "#每天人均消费次数\n",
    "data_user_buy2 = data_user_buy1.groupby('Date').sum()['total_behavior']/data_user_buy1.groupby('Date').count()['total_behavior']"
   ]
  },
  {
   "cell_type": "code",
   "execution_count": 40,
   "metadata": {},
   "outputs": [
    {
     "data": {
      "text/plain": [
       "Date\n",
       "2017-11-25     974\n",
       "2017-11-26     992\n",
       "2017-11-27    1152\n",
       "2017-11-28    1158\n",
       "2017-11-29    1152\n",
       "2017-11-30    1166\n",
       "2017-12-01    1042\n",
       "2017-12-02    1260\n",
       "2017-12-03    1288\n",
       "Name: total_behavior, dtype: int64"
      ]
     },
     "execution_count": 40,
     "metadata": {},
     "output_type": "execute_result"
    }
   ],
   "source": [
    "data_user_buy1.groupby('Date').sum()['total_behavior']"
   ]
  },
  {
   "cell_type": "code",
   "execution_count": 41,
   "metadata": {},
   "outputs": [
    {
     "data": {
      "text/plain": [
       "Date\n",
       "2017-11-25    664\n",
       "2017-11-26    646\n",
       "2017-11-27    727\n",
       "2017-11-28    726\n",
       "2017-11-29    746\n",
       "2017-11-30    750\n",
       "2017-12-01    698\n",
       "2017-12-02    874\n",
       "2017-12-03    887\n",
       "Name: total_behavior, dtype: int64"
      ]
     },
     "execution_count": 41,
     "metadata": {},
     "output_type": "execute_result"
    }
   ],
   "source": [
    "data_user_buy1.groupby('Date').count()['total_behavior']"
   ]
  },
  {
   "cell_type": "code",
   "execution_count": 42,
   "metadata": {},
   "outputs": [
    {
     "data": {
      "image/png": "[encoded data removed]",
      "text/plain": [
       "<Figure size 432x288 with 1 Axes>"
      ]
     },
     "metadata": {
      "needs_background": "light"
     },
     "output_type": "display_data"
    }
   ],
   "source": [
    "data_user_buy2.plot()\n",
    "plt.show()"
   ]
  },
  {
   "cell_type": "code",
   "execution_count": 43,
   "metadata": {},
   "outputs": [
    {
     "data": {
      "text/plain": [
       "count    9.000000\n",
       "mean     1.518620\n",
       "std      0.057153\n",
       "min      1.441648\n",
       "25%      1.466867\n",
       "50%      1.535604\n",
       "75%      1.554667\n",
       "max      1.595041\n",
       "Name: total_behavior, dtype: float64"
      ]
     },
     "execution_count": 43,
     "metadata": {},
     "output_type": "execute_result"
    }
   ],
   "source": [
    "data_user_buy2.describe()"
   ]
  },
  {
   "cell_type": "markdown",
   "metadata": {},
   "source": [
    "#日ARPU ,每天活跃用户数量\n"
   ]
  },
  {
   "cell_type": "code",
   "execution_count": 44,
   "metadata": {},
   "outputs": [],
   "source": [
    "data['Operation'] = 1\n",
    "data_user_buy3 = data.groupby(['Date','UserID','Behavior_type'])['Operation'].count().reset_index().rename(columns = {'Operation':'Total_Op'})"
   ]
  },
  {
   "cell_type": "code",
   "execution_count": 45,
   "metadata": {},
   "outputs": [
    {
     "data": {
      "text/html": [
       "<div>\n",
       "<style scoped>\n",
       "    .dataframe tbody tr th:only-of-type {\n",
       "        vertical-align: middle;\n",
       "    }\n",
       "\n",
       "    .dataframe tbody tr th {\n",
       "        vertical-align: top;\n",
       "    }\n",
       "\n",
       "    .dataframe thead th {\n",
       "        text-align: right;\n",
       "    }\n",
       "</style>\n",
       "<table border=\"1\" class=\"dataframe\">\n",
       "  <thead>\n",
       "    <tr style=\"text-align: right;\">\n",
       "      <th></th>\n",
       "      <th>Date</th>\n",
       "      <th>UserID</th>\n",
       "      <th>Behavior_type</th>\n",
       "      <th>Total_Op</th>\n",
       "    </tr>\n",
       "  </thead>\n",
       "  <tbody>\n",
       "    <tr>\n",
       "      <td>0</td>\n",
       "      <td>2017-09-11</td>\n",
       "      <td>1000169</td>\n",
       "      <td>pv</td>\n",
       "      <td>1</td>\n",
       "    </tr>\n",
       "    <tr>\n",
       "      <td>1</td>\n",
       "      <td>2017-11-14</td>\n",
       "      <td>101021</td>\n",
       "      <td>pv</td>\n",
       "      <td>1</td>\n",
       "    </tr>\n",
       "    <tr>\n",
       "      <td>2</td>\n",
       "      <td>2017-11-16</td>\n",
       "      <td>1013991</td>\n",
       "      <td>pv</td>\n",
       "      <td>1</td>\n",
       "    </tr>\n",
       "    <tr>\n",
       "      <td>3</td>\n",
       "      <td>2017-11-17</td>\n",
       "      <td>1004259</td>\n",
       "      <td>pv</td>\n",
       "      <td>1</td>\n",
       "    </tr>\n",
       "    <tr>\n",
       "      <td>4</td>\n",
       "      <td>2017-11-18</td>\n",
       "      <td>103680</td>\n",
       "      <td>pv</td>\n",
       "      <td>1</td>\n",
       "    </tr>\n",
       "    <tr>\n",
       "      <td>...</td>\n",
       "      <td>...</td>\n",
       "      <td>...</td>\n",
       "      <td>...</td>\n",
       "      <td>...</td>\n",
       "    </tr>\n",
       "    <tr>\n",
       "      <td>57349</td>\n",
       "      <td>2017-12-03</td>\n",
       "      <td>106157</td>\n",
       "      <td>pv</td>\n",
       "      <td>59</td>\n",
       "    </tr>\n",
       "    <tr>\n",
       "      <td>57350</td>\n",
       "      <td>2017-12-03</td>\n",
       "      <td>10618</td>\n",
       "      <td>pv</td>\n",
       "      <td>1</td>\n",
       "    </tr>\n",
       "    <tr>\n",
       "      <td>57351</td>\n",
       "      <td>2017-12-03</td>\n",
       "      <td>106181</td>\n",
       "      <td>pv</td>\n",
       "      <td>5</td>\n",
       "    </tr>\n",
       "    <tr>\n",
       "      <td>57352</td>\n",
       "      <td>2017-12-03</td>\n",
       "      <td>106189</td>\n",
       "      <td>fav</td>\n",
       "      <td>1</td>\n",
       "    </tr>\n",
       "    <tr>\n",
       "      <td>57353</td>\n",
       "      <td>2017-12-03</td>\n",
       "      <td>106189</td>\n",
       "      <td>pv</td>\n",
       "      <td>22</td>\n",
       "    </tr>\n",
       "  </tbody>\n",
       "</table>\n",
       "<p>57354 rows × 4 columns</p>\n",
       "</div>"
      ],
      "text/plain": [
       "            Date   UserID Behavior_type  Total_Op\n",
       "0     2017-09-11  1000169            pv         1\n",
       "1     2017-11-14   101021            pv         1\n",
       "2     2017-11-16  1013991            pv         1\n",
       "3     2017-11-17  1004259            pv         1\n",
       "4     2017-11-18   103680            pv         1\n",
       "...          ...      ...           ...       ...\n",
       "57349 2017-12-03   106157            pv        59\n",
       "57350 2017-12-03    10618            pv         1\n",
       "57351 2017-12-03   106181            pv         5\n",
       "57352 2017-12-03   106189           fav         1\n",
       "57353 2017-12-03   106189            pv        22\n",
       "\n",
       "[57354 rows x 4 columns]"
      ]
     },
     "execution_count": 45,
     "metadata": {},
     "output_type": "execute_result"
    }
   ],
   "source": [
    "data_user_buy3"
   ]
  },
  {
   "cell_type": "code",
   "execution_count": 56,
   "metadata": {},
   "outputs": [],
   "source": [
    "#每天活跃用户的消费次数/用户总数\n",
    "data_user_buy4 = data_user_buy3[data_user_buy3.Behavior_type == 'buy'].groupby('Date').Total_Op.sum()/len(data_user_buy3.UserID.unique())"
   ]
  },
  {
   "cell_type": "code",
   "execution_count": 60,
   "metadata": {},
   "outputs": [
    {
     "data": {
      "text/plain": [
       "<matplotlib.axes._subplots.AxesSubplot at 0x1a19e8e9d0>"
      ]
     },
     "execution_count": 60,
     "metadata": {},
     "output_type": "execute_result"
    },
    {
     "data": {
      "image/png": "[encoded data removed]",
      "text/plain": [
       "<Figure size 432x288 with 1 Axes>"
      ]
     },
     "metadata": {
      "needs_background": "light"
     },
     "output_type": "display_data"
    }
   ],
   "source": [
    "data_user_buy4.plot()"
   ]
  },
  {
   "cell_type": "code",
   "execution_count": 61,
   "metadata": {},
   "outputs": [],
   "source": [
    "#付费率\n",
    "data_user_buy5 = data_user_buy3[data_user_buy3.Behavior_type == 'buy'].groupby('Date').Total_Op.count()/len(data_user_buy3.UserID.unique())"
   ]
  },
  {
   "cell_type": "code",
   "execution_count": 62,
   "metadata": {},
   "outputs": [
    {
     "data": {
      "text/plain": [
       "Date\n",
       "2017-11-25    0.136738\n",
       "2017-11-26    0.133031\n",
       "2017-11-27    0.149712\n",
       "2017-11-28    0.149506\n",
       "2017-11-29    0.153624\n",
       "2017-11-30    0.154448\n",
       "2017-12-01    0.143740\n",
       "2017-12-02    0.179984\n",
       "2017-12-03    0.182661\n",
       "Name: Total_Op, dtype: float64"
      ]
     },
     "execution_count": 62,
     "metadata": {},
     "output_type": "execute_result"
    }
   ],
   "source": [
    "data_user_buy5 "
   ]
  },
  {
   "cell_type": "code",
   "execution_count": 66,
   "metadata": {},
   "outputs": [
    {
     "data": {
      "text/plain": [
       "<matplotlib.axes._subplots.AxesSubplot at 0x1a216bb9d0>"
      ]
     },
     "execution_count": 66,
     "metadata": {},
     "output_type": "execute_result"
    },
    {
     "data": {
      "image/png": "[encoded data removed]",
      "text/plain": [
       "<Figure size 432x288 with 1 Axes>"
      ]
     },
     "metadata": {
      "needs_background": "light"
     },
     "output_type": "display_data"
    }
   ],
   "source": [
    "data_user_buy5.plot()"
   ]
  },
  {
   "cell_type": "code",
   "execution_count": 80,
   "metadata": {},
   "outputs": [],
   "source": [
    "\n",
    "data_user_buy6 = data[data['Behavior_type'] == 'buy'].groupby(['Date','UserID','Hour'])['Operation'].sum()"
   ]
  },
  {
   "cell_type": "code",
   "execution_count": 81,
   "metadata": {},
   "outputs": [
    {
     "data": {
      "text/plain": [
       "<matplotlib.axes._subplots.AxesSubplot at 0x1a19f25d10>"
      ]
     },
     "execution_count": 81,
     "metadata": {},
     "output_type": "execute_result"
    },
    {
     "data": {
      "image/png": "[encoded data removed]",
      "text/plain": [
       "<Figure size 432x288 with 1 Axes>"
      ]
     },
     "metadata": {
      "needs_background": "light"
     },
     "output_type": "display_data"
    }
   ],
   "source": [
    "sns.distplot(data_user_buy6)"
   ]
  },
  {
   "cell_type": "markdown",
   "metadata": {},
   "source": [
    "5复购行为分析"
   ]
  },
  {
   "cell_type": "code",
   "execution_count": 82,
   "metadata": {},
   "outputs": [],
   "source": [
    "data_rebuy = data[data.Behavior_type =='buy'].groupby('UserID')['Date'].apply(lambda x :len(x.unique()))"
   ]
  },
  {
   "cell_type": "code",
   "execution_count": 83,
   "metadata": {},
   "outputs": [
    {
     "data": {
      "text/plain": [
       "UserID\n",
       "100        3\n",
       "1000001    1\n",
       "1000011    1\n",
       "100002     1\n",
       "1000027    2\n",
       "          ..\n",
       "106147     2\n",
       "10615      1\n",
       "106157     1\n",
       "10618      2\n",
       "106189     1\n",
       "Name: Date, Length: 3376, dtype: int64"
      ]
     },
     "execution_count": 83,
     "metadata": {},
     "output_type": "execute_result"
    }
   ],
   "source": [
    "data_rebuy"
   ]
  },
  {
   "cell_type": "code",
   "execution_count": 84,
   "metadata": {},
   "outputs": [
    {
     "data": {
      "text/plain": [
       "0.5565758293838863"
      ]
     },
     "execution_count": 84,
     "metadata": {},
     "output_type": "execute_result"
    }
   ],
   "source": [
    "data_rebuy[data_rebuy >=2].count()/data_rebuy.count()"
   ]
  },
  {
   "cell_type": "code",
   "execution_count": 90,
   "metadata": {},
   "outputs": [],
   "source": [
    "data_day_buy = data[data.Behavior_type =='buy'].groupby('UserID').Date.apply(lambda x: x.sort_values()).diff(1).dropna()\n",
    "#diff差分法"
   ]
  },
  {
   "cell_type": "code",
   "execution_count": 94,
   "metadata": {},
   "outputs": [
    {
     "data": {
      "text/plain": [
       "UserID        \n",
       "100     72        0\n",
       "        99        2\n",
       "        118       0\n",
       "        124       0\n",
       "        125       0\n",
       "                 ..\n",
       "10618   499559    0\n",
       "106189  499821   -2\n",
       "        499820    0\n",
       "        499819    0\n",
       "        499822    0\n",
       "Name: Date, Length: 10183, dtype: int64"
      ]
     },
     "execution_count": 94,
     "metadata": {},
     "output_type": "execute_result"
    }
   ],
   "source": [
    "data_day_buy.map(lambda x: x.days)"
   ]
  },
  {
   "cell_type": "markdown",
   "metadata": {},
   "source": [
    "6漏斗模式分析"
   ]
  },
  {
   "cell_type": "code",
   "execution_count": 95,
   "metadata": {},
   "outputs": [],
   "source": [
    "data_user_count=data.groupby('Behavior_type').size()"
   ]
  },
  {
   "cell_type": "code",
   "execution_count": 105,
   "metadata": {},
   "outputs": [],
   "source": [
    "data_user_count=data_user_count[::-1]"
   ]
  },
  {
   "cell_type": "code",
   "execution_count": 106,
   "metadata": {},
   "outputs": [
    {
     "data": {
      "text/plain": [
       "Behavior_type\n",
       "pv      449356\n",
       "fav      12950\n",
       "cart     27510\n",
       "buy      10184\n",
       "dtype: int64"
      ]
     },
     "execution_count": 106,
     "metadata": {},
     "output_type": "execute_result"
    }
   ],
   "source": [
    "data_user_count"
   ]
  },
  {
   "cell_type": "code",
   "execution_count": 98,
   "metadata": {},
   "outputs": [],
   "source": [
    "pv_all=data['UserID'].count()"
   ]
  },
  {
   "cell_type": "code",
   "execution_count": 108,
   "metadata": {},
   "outputs": [
    {
     "data": {
      "text/plain": [
       "0.101288"
      ]
     },
     "execution_count": 108,
     "metadata": {},
     "output_type": "execute_result"
    }
   ],
   "source": [
    "#漏斗1 从浏览到点击的流失率\n",
    "(pv_all-data_user_count[0])/pv_all"
   ]
  },
  {
   "cell_type": "code",
   "execution_count": 109,
   "metadata": {},
   "outputs": [
    {
     "data": {
      "text/plain": [
       "0.9711809790010593"
      ]
     },
     "execution_count": 109,
     "metadata": {},
     "output_type": "execute_result"
    }
   ],
   "source": [
    "#从点击到收藏的流失率\n",
    "(data_user_count[0]-data_user_count[1])/data_user_count[0]"
   ]
  },
  {
   "cell_type": "code",
   "execution_count": 111,
   "metadata": {},
   "outputs": [
    {
     "data": {
      "text/plain": [
       "0.9387790526887367"
      ]
     },
     "execution_count": 111,
     "metadata": {},
     "output_type": "execute_result"
    }
   ],
   "source": [
    "#从点击到加入购物车流失率\n",
    "(data_user_count[0]-data_user_count[2])/data_user_count[0]"
   ]
  },
  {
   "cell_type": "code",
   "execution_count": 112,
   "metadata": {},
   "outputs": [
    {
     "data": {
      "text/plain": [
       "0.21359073359073358"
      ]
     },
     "execution_count": 112,
     "metadata": {},
     "output_type": "execute_result"
    }
   ],
   "source": [
    "#从收藏到购买的流失率\n",
    "(data_user_count[1]-data_user_count[3])/data_user_count[1]"
   ]
  },
  {
   "cell_type": "markdown",
   "metadata": {},
   "source": [
    "7用户价值的分析RFM"
   ]
  },
  {
   "cell_type": "code",
   "execution_count": 113,
   "metadata": {},
   "outputs": [],
   "source": [
    "from datetime import datetime"
   ]
  },
  {
   "cell_type": "code",
   "execution_count": 117,
   "metadata": {},
   "outputs": [
    {
     "data": {
      "text/html": [
       "<div>\n",
       "<style scoped>\n",
       "    .dataframe tbody tr th:only-of-type {\n",
       "        vertical-align: middle;\n",
       "    }\n",
       "\n",
       "    .dataframe tbody tr th {\n",
       "        vertical-align: top;\n",
       "    }\n",
       "\n",
       "    .dataframe thead th {\n",
       "        text-align: right;\n",
       "    }\n",
       "</style>\n",
       "<table border=\"1\" class=\"dataframe\">\n",
       "  <thead>\n",
       "    <tr style=\"text-align: right;\">\n",
       "      <th></th>\n",
       "      <th>UserID</th>\n",
       "      <th>ItemID</th>\n",
       "      <th>CategoryID</th>\n",
       "      <th>Behavior_type</th>\n",
       "      <th>Timestamp</th>\n",
       "      <th>time</th>\n",
       "      <th>Date</th>\n",
       "      <th>Hour</th>\n",
       "      <th>Operation</th>\n",
       "    </tr>\n",
       "  </thead>\n",
       "  <tbody>\n",
       "    <tr>\n",
       "      <td>4169</td>\n",
       "      <td>1000169</td>\n",
       "      <td>1328010</td>\n",
       "      <td>959452</td>\n",
       "      <td>pv</td>\n",
       "      <td>1505117799</td>\n",
       "      <td>2017-09-11 16:16:39</td>\n",
       "      <td>2017-09-11</td>\n",
       "      <td>16</td>\n",
       "      <td>1</td>\n",
       "    </tr>\n",
       "    <tr>\n",
       "      <td>227401</td>\n",
       "      <td>101021</td>\n",
       "      <td>1172685</td>\n",
       "      <td>2520377</td>\n",
       "      <td>pv</td>\n",
       "      <td>1510624083</td>\n",
       "      <td>2017-11-14 09:48:03</td>\n",
       "      <td>2017-11-14</td>\n",
       "      <td>9</td>\n",
       "      <td>1</td>\n",
       "    </tr>\n",
       "    <tr>\n",
       "      <td>310003</td>\n",
       "      <td>1013991</td>\n",
       "      <td>1670635</td>\n",
       "      <td>4170419</td>\n",
       "      <td>pv</td>\n",
       "      <td>1510799233</td>\n",
       "      <td>2017-11-16 10:27:13</td>\n",
       "      <td>2017-11-16</td>\n",
       "      <td>10</td>\n",
       "      <td>1</td>\n",
       "    </tr>\n",
       "    <tr>\n",
       "      <td>97121</td>\n",
       "      <td>1004259</td>\n",
       "      <td>3734552</td>\n",
       "      <td>1573426</td>\n",
       "      <td>pv</td>\n",
       "      <td>1510924950</td>\n",
       "      <td>2017-11-17 21:22:30</td>\n",
       "      <td>2017-11-17</td>\n",
       "      <td>21</td>\n",
       "      <td>1</td>\n",
       "    </tr>\n",
       "    <tr>\n",
       "      <td>439497</td>\n",
       "      <td>103680</td>\n",
       "      <td>2867464</td>\n",
       "      <td>1216617</td>\n",
       "      <td>pv</td>\n",
       "      <td>1511008183</td>\n",
       "      <td>2017-11-18 20:29:43</td>\n",
       "      <td>2017-11-18</td>\n",
       "      <td>20</td>\n",
       "      <td>1</td>\n",
       "    </tr>\n",
       "  </tbody>\n",
       "</table>\n",
       "</div>"
      ],
      "text/plain": [
       "         UserID   ItemID CategoryID Behavior_type   Timestamp  \\\n",
       "4169    1000169  1328010     959452            pv  1505117799   \n",
       "227401   101021  1172685    2520377            pv  1510624083   \n",
       "310003  1013991  1670635    4170419            pv  1510799233   \n",
       "97121   1004259  3734552    1573426            pv  1510924950   \n",
       "439497   103680  2867464    1216617            pv  1511008183   \n",
       "\n",
       "                      time       Date  Hour  Operation  \n",
       "4169   2017-09-11 16:16:39 2017-09-11    16          1  \n",
       "227401 2017-11-14 09:48:03 2017-11-14     9          1  \n",
       "310003 2017-11-16 10:27:13 2017-11-16    10          1  \n",
       "97121  2017-11-17 21:22:30 2017-11-17    21          1  \n",
       "439497 2017-11-18 20:29:43 2017-11-18    20          1  "
      ]
     },
     "execution_count": 117,
     "metadata": {},
     "output_type": "execute_result"
    }
   ],
   "source": [
    "data.head()"
   ]
  },
  {
   "cell_type": "code",
   "execution_count": 120,
   "metadata": {},
   "outputs": [],
   "source": [
    "#统计最近购买时间\n",
    "recent_buy_time =data[data['Behavior_type'] =='buy'].groupby('UserID')['Date'].apply(lambda x : datetime(2017,12,20)-x.sort_values().iloc[-1])"
   ]
  },
  {
   "cell_type": "code",
   "execution_count": 121,
   "metadata": {},
   "outputs": [
    {
     "data": {
      "text/plain": [
       "UserID\n",
       "100       22 days\n",
       "1000001   17 days\n",
       "1000011   25 days\n",
       "100002    20 days\n",
       "1000027   17 days\n",
       "            ...  \n",
       "106147    22 days\n",
       "10615     20 days\n",
       "106157    17 days\n",
       "10618     18 days\n",
       "106189    20 days\n",
       "Name: Date, Length: 3376, dtype: timedelta64[ns]"
      ]
     },
     "execution_count": 121,
     "metadata": {},
     "output_type": "execute_result"
    }
   ],
   "source": [
    "recent_buy_time"
   ]
  },
  {
   "cell_type": "code",
   "execution_count": 132,
   "metadata": {},
   "outputs": [],
   "source": [
    "recent_buy_time= recent_buy_time.reset_index().rename(columns = {'Date':'recent'})"
   ]
  },
  {
   "cell_type": "code",
   "execution_count": 133,
   "metadata": {},
   "outputs": [
    {
     "data": {
      "text/html": [
       "<div>\n",
       "<style scoped>\n",
       "    .dataframe tbody tr th:only-of-type {\n",
       "        vertical-align: middle;\n",
       "    }\n",
       "\n",
       "    .dataframe tbody tr th {\n",
       "        vertical-align: top;\n",
       "    }\n",
       "\n",
       "    .dataframe thead th {\n",
       "        text-align: right;\n",
       "    }\n",
       "</style>\n",
       "<table border=\"1\" class=\"dataframe\">\n",
       "  <thead>\n",
       "    <tr style=\"text-align: right;\">\n",
       "      <th></th>\n",
       "      <th>UserID</th>\n",
       "      <th>recent</th>\n",
       "    </tr>\n",
       "  </thead>\n",
       "  <tbody>\n",
       "    <tr>\n",
       "      <td>0</td>\n",
       "      <td>100</td>\n",
       "      <td>22 days</td>\n",
       "    </tr>\n",
       "    <tr>\n",
       "      <td>1</td>\n",
       "      <td>1000001</td>\n",
       "      <td>17 days</td>\n",
       "    </tr>\n",
       "    <tr>\n",
       "      <td>2</td>\n",
       "      <td>1000011</td>\n",
       "      <td>25 days</td>\n",
       "    </tr>\n",
       "    <tr>\n",
       "      <td>3</td>\n",
       "      <td>100002</td>\n",
       "      <td>20 days</td>\n",
       "    </tr>\n",
       "    <tr>\n",
       "      <td>4</td>\n",
       "      <td>1000027</td>\n",
       "      <td>17 days</td>\n",
       "    </tr>\n",
       "    <tr>\n",
       "      <td>...</td>\n",
       "      <td>...</td>\n",
       "      <td>...</td>\n",
       "    </tr>\n",
       "    <tr>\n",
       "      <td>3371</td>\n",
       "      <td>106147</td>\n",
       "      <td>22 days</td>\n",
       "    </tr>\n",
       "    <tr>\n",
       "      <td>3372</td>\n",
       "      <td>10615</td>\n",
       "      <td>20 days</td>\n",
       "    </tr>\n",
       "    <tr>\n",
       "      <td>3373</td>\n",
       "      <td>106157</td>\n",
       "      <td>17 days</td>\n",
       "    </tr>\n",
       "    <tr>\n",
       "      <td>3374</td>\n",
       "      <td>10618</td>\n",
       "      <td>18 days</td>\n",
       "    </tr>\n",
       "    <tr>\n",
       "      <td>3375</td>\n",
       "      <td>106189</td>\n",
       "      <td>20 days</td>\n",
       "    </tr>\n",
       "  </tbody>\n",
       "</table>\n",
       "<p>3376 rows × 2 columns</p>\n",
       "</div>"
      ],
      "text/plain": [
       "       UserID  recent\n",
       "0         100 22 days\n",
       "1     1000001 17 days\n",
       "2     1000011 25 days\n",
       "3      100002 20 days\n",
       "4     1000027 17 days\n",
       "...       ...     ...\n",
       "3371   106147 22 days\n",
       "3372    10615 20 days\n",
       "3373   106157 17 days\n",
       "3374    10618 18 days\n",
       "3375   106189 20 days\n",
       "\n",
       "[3376 rows x 2 columns]"
      ]
     },
     "execution_count": 133,
     "metadata": {},
     "output_type": "execute_result"
    }
   ],
   "source": [
    "recent_buy_time"
   ]
  },
  {
   "cell_type": "code",
   "execution_count": 135,
   "metadata": {},
   "outputs": [
    {
     "data": {
      "text/html": [
       "<div>\n",
       "<style scoped>\n",
       "    .dataframe tbody tr th:only-of-type {\n",
       "        vertical-align: middle;\n",
       "    }\n",
       "\n",
       "    .dataframe tbody tr th {\n",
       "        vertical-align: top;\n",
       "    }\n",
       "\n",
       "    .dataframe thead th {\n",
       "        text-align: right;\n",
       "    }\n",
       "</style>\n",
       "<table border=\"1\" class=\"dataframe\">\n",
       "  <thead>\n",
       "    <tr style=\"text-align: right;\">\n",
       "      <th></th>\n",
       "      <th>UserID</th>\n",
       "      <th>recent</th>\n",
       "    </tr>\n",
       "  </thead>\n",
       "  <tbody>\n",
       "    <tr>\n",
       "      <td>0</td>\n",
       "      <td>100</td>\n",
       "      <td>22</td>\n",
       "    </tr>\n",
       "    <tr>\n",
       "      <td>1</td>\n",
       "      <td>1000001</td>\n",
       "      <td>17</td>\n",
       "    </tr>\n",
       "    <tr>\n",
       "      <td>2</td>\n",
       "      <td>1000011</td>\n",
       "      <td>25</td>\n",
       "    </tr>\n",
       "    <tr>\n",
       "      <td>3</td>\n",
       "      <td>100002</td>\n",
       "      <td>20</td>\n",
       "    </tr>\n",
       "    <tr>\n",
       "      <td>4</td>\n",
       "      <td>1000027</td>\n",
       "      <td>17</td>\n",
       "    </tr>\n",
       "    <tr>\n",
       "      <td>...</td>\n",
       "      <td>...</td>\n",
       "      <td>...</td>\n",
       "    </tr>\n",
       "    <tr>\n",
       "      <td>3371</td>\n",
       "      <td>106147</td>\n",
       "      <td>22</td>\n",
       "    </tr>\n",
       "    <tr>\n",
       "      <td>3372</td>\n",
       "      <td>10615</td>\n",
       "      <td>20</td>\n",
       "    </tr>\n",
       "    <tr>\n",
       "      <td>3373</td>\n",
       "      <td>106157</td>\n",
       "      <td>17</td>\n",
       "    </tr>\n",
       "    <tr>\n",
       "      <td>3374</td>\n",
       "      <td>10618</td>\n",
       "      <td>18</td>\n",
       "    </tr>\n",
       "    <tr>\n",
       "      <td>3375</td>\n",
       "      <td>106189</td>\n",
       "      <td>20</td>\n",
       "    </tr>\n",
       "  </tbody>\n",
       "</table>\n",
       "<p>3376 rows × 2 columns</p>\n",
       "</div>"
      ],
      "text/plain": [
       "       UserID  recent\n",
       "0         100      22\n",
       "1     1000001      17\n",
       "2     1000011      25\n",
       "3      100002      20\n",
       "4     1000027      17\n",
       "...       ...     ...\n",
       "3371   106147      22\n",
       "3372    10615      20\n",
       "3373   106157      17\n",
       "3374    10618      18\n",
       "3375   106189      20\n",
       "\n",
       "[3376 rows x 2 columns]"
      ]
     },
     "execution_count": 135,
     "metadata": {},
     "output_type": "execute_result"
    }
   ],
   "source": [
    "recent_buy_time.recent = recent_buy_time.recent.apply(lambda x : x.days)\n",
    "recent_buy_time"
   ]
  },
  {
   "cell_type": "code",
   "execution_count": 141,
   "metadata": {},
   "outputs": [],
   "source": [
    "#统计用户购买频率\n",
    "buy_freq = data[data['Behavior_type'] =='buy'].groupby('UserID').Date.count()"
   ]
  },
  {
   "cell_type": "code",
   "execution_count": 143,
   "metadata": {},
   "outputs": [],
   "source": [
    "buy_freq = buy_freq.reset_index().rename(columns = {'Date':'freq'})"
   ]
  },
  {
   "cell_type": "code",
   "execution_count": 144,
   "metadata": {},
   "outputs": [
    {
     "data": {
      "text/html": [
       "<div>\n",
       "<style scoped>\n",
       "    .dataframe tbody tr th:only-of-type {\n",
       "        vertical-align: middle;\n",
       "    }\n",
       "\n",
       "    .dataframe tbody tr th {\n",
       "        vertical-align: top;\n",
       "    }\n",
       "\n",
       "    .dataframe thead th {\n",
       "        text-align: right;\n",
       "    }\n",
       "</style>\n",
       "<table border=\"1\" class=\"dataframe\">\n",
       "  <thead>\n",
       "    <tr style=\"text-align: right;\">\n",
       "      <th></th>\n",
       "      <th>UserID</th>\n",
       "      <th>freq</th>\n",
       "    </tr>\n",
       "  </thead>\n",
       "  <tbody>\n",
       "    <tr>\n",
       "      <td>0</td>\n",
       "      <td>100</td>\n",
       "      <td>8</td>\n",
       "    </tr>\n",
       "    <tr>\n",
       "      <td>1</td>\n",
       "      <td>1000001</td>\n",
       "      <td>1</td>\n",
       "    </tr>\n",
       "    <tr>\n",
       "      <td>2</td>\n",
       "      <td>1000011</td>\n",
       "      <td>2</td>\n",
       "    </tr>\n",
       "    <tr>\n",
       "      <td>3</td>\n",
       "      <td>100002</td>\n",
       "      <td>1</td>\n",
       "    </tr>\n",
       "    <tr>\n",
       "      <td>4</td>\n",
       "      <td>1000027</td>\n",
       "      <td>2</td>\n",
       "    </tr>\n",
       "    <tr>\n",
       "      <td>...</td>\n",
       "      <td>...</td>\n",
       "      <td>...</td>\n",
       "    </tr>\n",
       "    <tr>\n",
       "      <td>3371</td>\n",
       "      <td>106147</td>\n",
       "      <td>3</td>\n",
       "    </tr>\n",
       "    <tr>\n",
       "      <td>3372</td>\n",
       "      <td>10615</td>\n",
       "      <td>1</td>\n",
       "    </tr>\n",
       "    <tr>\n",
       "      <td>3373</td>\n",
       "      <td>106157</td>\n",
       "      <td>1</td>\n",
       "    </tr>\n",
       "    <tr>\n",
       "      <td>3374</td>\n",
       "      <td>10618</td>\n",
       "      <td>4</td>\n",
       "    </tr>\n",
       "    <tr>\n",
       "      <td>3375</td>\n",
       "      <td>106189</td>\n",
       "      <td>4</td>\n",
       "    </tr>\n",
       "  </tbody>\n",
       "</table>\n",
       "<p>3376 rows × 2 columns</p>\n",
       "</div>"
      ],
      "text/plain": [
       "       UserID  freq\n",
       "0         100     8\n",
       "1     1000001     1\n",
       "2     1000011     2\n",
       "3      100002     1\n",
       "4     1000027     2\n",
       "...       ...   ...\n",
       "3371   106147     3\n",
       "3372    10615     1\n",
       "3373   106157     1\n",
       "3374    10618     4\n",
       "3375   106189     4\n",
       "\n",
       "[3376 rows x 2 columns]"
      ]
     },
     "execution_count": 144,
     "metadata": {},
     "output_type": "execute_result"
    }
   ],
   "source": [
    "buy_freq "
   ]
  },
  {
   "cell_type": "code",
   "execution_count": 145,
   "metadata": {},
   "outputs": [],
   "source": [
    "rfm = pd.merge(recent_buy_time,buy_freq,left_on = 'UserID',right_on = 'UserID')"
   ]
  },
  {
   "cell_type": "code",
   "execution_count": 147,
   "metadata": {},
   "outputs": [],
   "source": [
    "rfm['recent_value'] = pd.qcut(rfm.recent,2,labels = ['2','1'])\n",
    "rfm['freq_value'] = pd.qcut(rfm.freq,2,labels = ['1','2'])"
   ]
  },
  {
   "cell_type": "code",
   "execution_count": 148,
   "metadata": {},
   "outputs": [],
   "source": [
    "rfm['rfm'] = rfm['recent_value'].str.cat(rfm['freq_value'])"
   ]
  },
  {
   "cell_type": "code",
   "execution_count": 149,
   "metadata": {},
   "outputs": [
    {
     "data": {
      "text/html": [
       "<div>\n",
       "<style scoped>\n",
       "    .dataframe tbody tr th:only-of-type {\n",
       "        vertical-align: middle;\n",
       "    }\n",
       "\n",
       "    .dataframe tbody tr th {\n",
       "        vertical-align: top;\n",
       "    }\n",
       "\n",
       "    .dataframe thead th {\n",
       "        text-align: right;\n",
       "    }\n",
       "</style>\n",
       "<table border=\"1\" class=\"dataframe\">\n",
       "  <thead>\n",
       "    <tr style=\"text-align: right;\">\n",
       "      <th></th>\n",
       "      <th>UserID</th>\n",
       "      <th>recent</th>\n",
       "      <th>freq</th>\n",
       "      <th>recent_value</th>\n",
       "      <th>freq_value</th>\n",
       "      <th>rfm</th>\n",
       "    </tr>\n",
       "  </thead>\n",
       "  <tbody>\n",
       "    <tr>\n",
       "      <td>0</td>\n",
       "      <td>100</td>\n",
       "      <td>22</td>\n",
       "      <td>8</td>\n",
       "      <td>1</td>\n",
       "      <td>2</td>\n",
       "      <td>12</td>\n",
       "    </tr>\n",
       "    <tr>\n",
       "      <td>1</td>\n",
       "      <td>1000001</td>\n",
       "      <td>17</td>\n",
       "      <td>1</td>\n",
       "      <td>2</td>\n",
       "      <td>1</td>\n",
       "      <td>21</td>\n",
       "    </tr>\n",
       "    <tr>\n",
       "      <td>2</td>\n",
       "      <td>1000011</td>\n",
       "      <td>25</td>\n",
       "      <td>2</td>\n",
       "      <td>1</td>\n",
       "      <td>1</td>\n",
       "      <td>11</td>\n",
       "    </tr>\n",
       "    <tr>\n",
       "      <td>3</td>\n",
       "      <td>100002</td>\n",
       "      <td>20</td>\n",
       "      <td>1</td>\n",
       "      <td>1</td>\n",
       "      <td>1</td>\n",
       "      <td>11</td>\n",
       "    </tr>\n",
       "    <tr>\n",
       "      <td>4</td>\n",
       "      <td>1000027</td>\n",
       "      <td>17</td>\n",
       "      <td>2</td>\n",
       "      <td>2</td>\n",
       "      <td>1</td>\n",
       "      <td>21</td>\n",
       "    </tr>\n",
       "    <tr>\n",
       "      <td>...</td>\n",
       "      <td>...</td>\n",
       "      <td>...</td>\n",
       "      <td>...</td>\n",
       "      <td>...</td>\n",
       "      <td>...</td>\n",
       "      <td>...</td>\n",
       "    </tr>\n",
       "    <tr>\n",
       "      <td>3371</td>\n",
       "      <td>106147</td>\n",
       "      <td>22</td>\n",
       "      <td>3</td>\n",
       "      <td>1</td>\n",
       "      <td>2</td>\n",
       "      <td>12</td>\n",
       "    </tr>\n",
       "    <tr>\n",
       "      <td>3372</td>\n",
       "      <td>10615</td>\n",
       "      <td>20</td>\n",
       "      <td>1</td>\n",
       "      <td>1</td>\n",
       "      <td>1</td>\n",
       "      <td>11</td>\n",
       "    </tr>\n",
       "    <tr>\n",
       "      <td>3373</td>\n",
       "      <td>106157</td>\n",
       "      <td>17</td>\n",
       "      <td>1</td>\n",
       "      <td>2</td>\n",
       "      <td>1</td>\n",
       "      <td>21</td>\n",
       "    </tr>\n",
       "    <tr>\n",
       "      <td>3374</td>\n",
       "      <td>10618</td>\n",
       "      <td>18</td>\n",
       "      <td>4</td>\n",
       "      <td>2</td>\n",
       "      <td>2</td>\n",
       "      <td>22</td>\n",
       "    </tr>\n",
       "    <tr>\n",
       "      <td>3375</td>\n",
       "      <td>106189</td>\n",
       "      <td>20</td>\n",
       "      <td>4</td>\n",
       "      <td>1</td>\n",
       "      <td>2</td>\n",
       "      <td>12</td>\n",
       "    </tr>\n",
       "  </tbody>\n",
       "</table>\n",
       "<p>3376 rows × 6 columns</p>\n",
       "</div>"
      ],
      "text/plain": [
       "       UserID  recent  freq recent_value freq_value rfm\n",
       "0         100      22     8            1          2  12\n",
       "1     1000001      17     1            2          1  21\n",
       "2     1000011      25     2            1          1  11\n",
       "3      100002      20     1            1          1  11\n",
       "4     1000027      17     2            2          1  21\n",
       "...       ...     ...   ...          ...        ...  ..\n",
       "3371   106147      22     3            1          2  12\n",
       "3372    10615      20     1            1          1  11\n",
       "3373   106157      17     1            2          1  21\n",
       "3374    10618      18     4            2          2  22\n",
       "3375   106189      20     4            1          2  12\n",
       "\n",
       "[3376 rows x 6 columns]"
      ]
     },
     "execution_count": 149,
     "metadata": {},
     "output_type": "execute_result"
    }
   ],
   "source": [
    "rfm"
   ]
  },
  {
   "cell_type": "markdown",
   "metadata": {},
   "source": [
    "#接下来可以参考之前的案例来定义客户的价值等级\n",
    "eg：rfm = 22 用户是重点关注用户 21用户是发展客户……"
   ]
  }
 ],
 "metadata": {
  "kernelspec": {
   "display_name": "Python 3",
   "language": "python",
   "name": "python3"
  },
  "language_info": {
   "codemirror_mode": {
    "name": "ipython",
    "version": 3
   },
   "file_extension": ".py",
   "mimetype": "text/x-python",
   "name": "python",
   "nbconvert_exporter": "python",
   "pygments_lexer": "ipython3",
   "version": "3.7.4"
  }
 },
 "nbformat": 4,
 "nbformat_minor": 2
}
