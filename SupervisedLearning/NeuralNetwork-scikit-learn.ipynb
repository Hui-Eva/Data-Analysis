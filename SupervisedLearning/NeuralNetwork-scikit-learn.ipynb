{
 "cells": [
  {
   "cell_type": "code",
   "execution_count": 1,
   "metadata": {},
   "outputs": [],
   "source": [
    "import os\n",
    "os.chdir(r'/Users/zhanghui/商业分析工具和应用/Python/Python_book/10ANN')"
   ]
  },
  {
   "cell_type": "code",
   "execution_count": 2,
   "metadata": {},
   "outputs": [],
   "source": [
    "import numpy as np\n",
    "import pandas as pd\n",
    "import matplotlib.pyplot as plt"
   ]
  },
  {
   "cell_type": "code",
   "execution_count": 4,
   "metadata": {},
   "outputs": [
    {
     "data": {
      "text/html": [
       "<div>\n",
       "<style scoped>\n",
       "    .dataframe tbody tr th:only-of-type {\n",
       "        vertical-align: middle;\n",
       "    }\n",
       "\n",
       "    .dataframe tbody tr th {\n",
       "        vertical-align: top;\n",
       "    }\n",
       "\n",
       "    .dataframe thead th {\n",
       "        text-align: right;\n",
       "    }\n",
       "</style>\n",
       "<table border=\"1\" class=\"dataframe\">\n",
       "  <thead>\n",
       "    <tr style=\"text-align: right;\">\n",
       "      <th></th>\n",
       "      <th>subscriberID</th>\n",
       "      <th>churn</th>\n",
       "      <th>gender</th>\n",
       "      <th>AGE</th>\n",
       "      <th>edu_class</th>\n",
       "      <th>incomeCode</th>\n",
       "      <th>duration</th>\n",
       "      <th>feton</th>\n",
       "      <th>peakMinAv</th>\n",
       "      <th>peakMinDiff</th>\n",
       "      <th>posTrend</th>\n",
       "      <th>negTrend</th>\n",
       "      <th>nrProm</th>\n",
       "      <th>prom</th>\n",
       "      <th>curPlan</th>\n",
       "      <th>avgplan</th>\n",
       "      <th>planChange</th>\n",
       "      <th>posPlanChange</th>\n",
       "      <th>negPlanChange</th>\n",
       "      <th>call_10000</th>\n",
       "    </tr>\n",
       "  </thead>\n",
       "  <tbody>\n",
       "    <tr>\n",
       "      <td>0</td>\n",
       "      <td>19164958</td>\n",
       "      <td>1</td>\n",
       "      <td>0</td>\n",
       "      <td>20</td>\n",
       "      <td>2</td>\n",
       "      <td>12</td>\n",
       "      <td>16</td>\n",
       "      <td>0</td>\n",
       "      <td>113.666667</td>\n",
       "      <td>-8.0</td>\n",
       "      <td>0</td>\n",
       "      <td>1</td>\n",
       "      <td>0</td>\n",
       "      <td>0</td>\n",
       "      <td>1</td>\n",
       "      <td>1</td>\n",
       "      <td>0</td>\n",
       "      <td>0</td>\n",
       "      <td>0</td>\n",
       "      <td>0</td>\n",
       "    </tr>\n",
       "    <tr>\n",
       "      <td>1</td>\n",
       "      <td>39244924</td>\n",
       "      <td>1</td>\n",
       "      <td>1</td>\n",
       "      <td>20</td>\n",
       "      <td>0</td>\n",
       "      <td>21</td>\n",
       "      <td>5</td>\n",
       "      <td>0</td>\n",
       "      <td>274.000000</td>\n",
       "      <td>-371.0</td>\n",
       "      <td>0</td>\n",
       "      <td>1</td>\n",
       "      <td>2</td>\n",
       "      <td>1</td>\n",
       "      <td>3</td>\n",
       "      <td>2</td>\n",
       "      <td>2</td>\n",
       "      <td>1</td>\n",
       "      <td>0</td>\n",
       "      <td>1</td>\n",
       "    </tr>\n",
       "    <tr>\n",
       "      <td>2</td>\n",
       "      <td>39578413</td>\n",
       "      <td>1</td>\n",
       "      <td>0</td>\n",
       "      <td>11</td>\n",
       "      <td>1</td>\n",
       "      <td>47</td>\n",
       "      <td>3</td>\n",
       "      <td>0</td>\n",
       "      <td>392.000000</td>\n",
       "      <td>-784.0</td>\n",
       "      <td>0</td>\n",
       "      <td>1</td>\n",
       "      <td>0</td>\n",
       "      <td>0</td>\n",
       "      <td>3</td>\n",
       "      <td>3</td>\n",
       "      <td>0</td>\n",
       "      <td>0</td>\n",
       "      <td>0</td>\n",
       "      <td>1</td>\n",
       "    </tr>\n",
       "    <tr>\n",
       "      <td>3</td>\n",
       "      <td>40992265</td>\n",
       "      <td>1</td>\n",
       "      <td>0</td>\n",
       "      <td>43</td>\n",
       "      <td>0</td>\n",
       "      <td>4</td>\n",
       "      <td>12</td>\n",
       "      <td>0</td>\n",
       "      <td>31.000000</td>\n",
       "      <td>-76.0</td>\n",
       "      <td>0</td>\n",
       "      <td>1</td>\n",
       "      <td>2</td>\n",
       "      <td>1</td>\n",
       "      <td>3</td>\n",
       "      <td>3</td>\n",
       "      <td>0</td>\n",
       "      <td>0</td>\n",
       "      <td>0</td>\n",
       "      <td>1</td>\n",
       "    </tr>\n",
       "    <tr>\n",
       "      <td>4</td>\n",
       "      <td>43061957</td>\n",
       "      <td>1</td>\n",
       "      <td>1</td>\n",
       "      <td>60</td>\n",
       "      <td>0</td>\n",
       "      <td>9</td>\n",
       "      <td>14</td>\n",
       "      <td>0</td>\n",
       "      <td>129.333333</td>\n",
       "      <td>-334.0</td>\n",
       "      <td>0</td>\n",
       "      <td>1</td>\n",
       "      <td>0</td>\n",
       "      <td>0</td>\n",
       "      <td>3</td>\n",
       "      <td>3</td>\n",
       "      <td>0</td>\n",
       "      <td>0</td>\n",
       "      <td>0</td>\n",
       "      <td>0</td>\n",
       "    </tr>\n",
       "  </tbody>\n",
       "</table>\n",
       "</div>"
      ],
      "text/plain": [
       "   subscriberID  churn  gender  AGE  edu_class  incomeCode  duration  feton  \\\n",
       "0      19164958      1       0   20          2          12        16      0   \n",
       "1      39244924      1       1   20          0          21         5      0   \n",
       "2      39578413      1       0   11          1          47         3      0   \n",
       "3      40992265      1       0   43          0           4        12      0   \n",
       "4      43061957      1       1   60          0           9        14      0   \n",
       "\n",
       "    peakMinAv  peakMinDiff  posTrend  negTrend  nrProm  prom  curPlan  \\\n",
       "0  113.666667         -8.0         0         1       0     0        1   \n",
       "1  274.000000       -371.0         0         1       2     1        3   \n",
       "2  392.000000       -784.0         0         1       0     0        3   \n",
       "3   31.000000        -76.0         0         1       2     1        3   \n",
       "4  129.333333       -334.0         0         1       0     0        3   \n",
       "\n",
       "   avgplan  planChange  posPlanChange  negPlanChange  call_10000  \n",
       "0        1           0              0              0           0  \n",
       "1        2           2              1              0           1  \n",
       "2        3           0              0              0           1  \n",
       "3        3           0              0              0           1  \n",
       "4        3           0              0              0           0  "
      ]
     },
     "execution_count": 4,
     "metadata": {},
     "output_type": "execute_result"
    }
   ],
   "source": [
    "churn = pd.read_csv('telecom_churn.csv')\n",
    "churn.head()"
   ]
  },
  {
   "cell_type": "code",
   "execution_count": 6,
   "metadata": {},
   "outputs": [],
   "source": [
    "#使用scikit-learn中的train_test_split函数划分训练集和测试集\n",
    "from sklearn.model_selection import train_test_split\n",
    "\n",
    "data = churn.iloc[:,2:]\n",
    "target = churn['churn']\n",
    "train_data,test_data,train_target,test_target = train_test_split(\n",
    "data,target,test_size = 0.4,train_size=0.6,random_state = 1234)"
   ]
  },
  {
   "cell_type": "code",
   "execution_count": 7,
   "metadata": {},
   "outputs": [],
   "source": [
    "#极差标准化\n",
    "#连续变量进行极差标准化，等级变量和分类变量可以当作连续变量处理，\n",
    "#多分类变量需要转变为虚拟变量\n",
    "\n",
    "from sklearn.preprocessing import MinMaxScaler\n",
    "scaler = MinMaxScaler()\n",
    "scaler.fit(train_data)\n",
    "\n",
    "scaled_train_data = scaler.transform(train_data)\n",
    "scaled_test_data = scaler.transform(test_data)\n"
   ]
  },
  {
   "cell_type": "code",
   "execution_count": 9,
   "metadata": {},
   "outputs": [
    {
     "data": {
      "text/plain": [
       "MLPClassifier(activation='logistic', alpha=0.1, batch_size='auto', beta_1=0.9,\n",
       "              beta_2=0.999, early_stopping=False, epsilon=1e-08,\n",
       "              hidden_layer_sizes=(10,), learning_rate='constant',\n",
       "              learning_rate_init=0.001, max_iter=1000, momentum=0.9,\n",
       "              n_iter_no_change=10, nesterovs_momentum=True, power_t=0.5,\n",
       "              random_state=None, shuffle=True, solver='adam', tol=0.0001,\n",
       "              validation_fraction=0.1, verbose=False, warm_start=False)"
      ]
     },
     "execution_count": 9,
     "metadata": {},
     "output_type": "execute_result"
    }
   ],
   "source": [
    "#模型训练\n",
    "#引入多重感知器，先设定一个隐藏层，10个神经元，使用logistic激活函数（sigmoid函数）\n",
    "from sklearn.neural_network import MLPClassifier\n",
    "\n",
    "mlp = MLPClassifier(hidden_layer_sizes = (10,),\n",
    "                   activation = 'logistic', alpha = 0.1, max_iter = 1000)\n",
    "mlp.fit(scaled_train_data,train_target)"
   ]
  },
  {
   "cell_type": "code",
   "execution_count": 10,
   "metadata": {},
   "outputs": [],
   "source": [
    "#模型预测\n",
    "train_predict = mlp.predict(scaled_train_data)\n",
    "test_predict = mlp.predict(scaled_test_data)"
   ]
  },
  {
   "cell_type": "code",
   "execution_count": 11,
   "metadata": {},
   "outputs": [],
   "source": [
    "#计算分别属于各类的概率，取标签为1的概率\n",
    "train_proba = mlp.predict_proba(scaled_train_data)[:,1]\n",
    "test_proba = mlp.predict_proba(scaled_test_data)[:,1]"
   ]
  },
  {
   "cell_type": "code",
   "execution_count": 12,
   "metadata": {},
   "outputs": [
    {
     "name": "stdout",
     "output_type": "stream",
     "text": [
      "[[640 136]\n",
      " [100 510]]\n"
     ]
    }
   ],
   "source": [
    "#模型评估-混淆矩阵\n",
    "from sklearn import metrics\n",
    "print(metrics.confusion_matrix(test_target,test_predict,labels = [0,1]))\n"
   ]
  },
  {
   "cell_type": "code",
   "execution_count": 13,
   "metadata": {},
   "outputs": [
    {
     "name": "stdout",
     "output_type": "stream",
     "text": [
      "              precision    recall  f1-score   support\n",
      "\n",
      "           0       0.86      0.82      0.84       776\n",
      "           1       0.79      0.84      0.81       610\n",
      "\n",
      "    accuracy                           0.83      1386\n",
      "   macro avg       0.83      0.83      0.83      1386\n",
      "weighted avg       0.83      0.83      0.83      1386\n",
      "\n"
     ]
    }
   ],
   "source": [
    "print(metrics.classification_report(test_target,test_predict))"
   ]
  },
  {
   "cell_type": "code",
   "execution_count": 14,
   "metadata": {},
   "outputs": [
    {
     "data": {
      "text/plain": [
       "0.8297258297258298"
      ]
     },
     "execution_count": 14,
     "metadata": {},
     "output_type": "execute_result"
    }
   ],
   "source": [
    "mlp.score(scaled_test_data,test_target)#mean accuracy"
   ]
  },
  {
   "cell_type": "code",
   "execution_count": 23,
   "metadata": {},
   "outputs": [
    {
     "data": {
      "image/png": "[encoded data removed]",
      "text/plain": [
       "<Figure size 216x216 with 1 Axes>"
      ]
     },
     "metadata": {
      "needs_background": "light"
     },
     "output_type": "display_data"
    },
    {
     "name": "stdout",
     "output_type": "stream",
     "text": [
      "0.9144182017914484\n"
     ]
    }
   ],
   "source": [
    "#ROC评估-结果显示，准确度很高，没有过拟合\n",
    "fpr_test,tpr_test,th_test = metrics.roc_curve(test_target,test_proba)\n",
    "fpr_train,tpr_train,th_train = metrics.roc_curve(train_target,train_proba)\n",
    "\n",
    "plt.figure(figsize = [3,3])\n",
    "plt.plot(fpr_test,tpr_test,'b--')\n",
    "plt.plot(fpr_train,tpr_train,'r--')\n",
    "plt.title('ROC curve')\n",
    "plt.show()\n",
    "print(metrics.roc_auc_score(test_target,test_proba))"
   ]
  },
  {
   "cell_type": "markdown",
   "metadata": {},
   "source": [
    "最优参数搜索：GridSearchCV"
   ]
  },
  {
   "cell_type": "code",
   "execution_count": 27,
   "metadata": {},
   "outputs": [
    {
     "data": {
      "text/plain": [
       "GridSearchCV(cv=4, error_score='raise-deprecating',\n",
       "             estimator=MLPClassifier(activation='relu', alpha=0.0001,\n",
       "                                     batch_size='auto', beta_1=0.9,\n",
       "                                     beta_2=0.999, early_stopping=False,\n",
       "                                     epsilon=1e-08, hidden_layer_sizes=(100,),\n",
       "                                     learning_rate='constant',\n",
       "                                     learning_rate_init=0.001, max_iter=1000,\n",
       "                                     momentum=0.9, n_iter_no_change=10,\n",
       "                                     nesterovs_momentum=True, power_t=0.5,\n",
       "                                     random_state=None, shuffle=True,\n",
       "                                     solver='adam', tol=0.0001,\n",
       "                                     validation_fraction=0.1, verbose=False,\n",
       "                                     warm_start=False),\n",
       "             iid='warn', n_jobs=-1,\n",
       "             param_grid={'activation': ['logistic', 'tanh', 'relu'],\n",
       "                         'alpha': [0.001, 0.01, 0.1, 0.2, 0.4, 1, 10],\n",
       "                         'hidden_layer_sizes': [(10,), (15,), (20,), (5, 5)]},\n",
       "             pre_dispatch='2*n_jobs', refit=True, return_train_score=False,\n",
       "             scoring='roc_auc', verbose=0)"
      ]
     },
     "execution_count": 27,
     "metadata": {},
     "output_type": "execute_result"
    }
   ],
   "source": [
    "#使用模型隐藏数量，激活函数，正则化系数三个参数来构建参数搜索网格，选择roc_auc评判，4折交叉验证\n",
    "from sklearn.model_selection import GridSearchCV\n",
    "from sklearn import metrics\n",
    "\n",
    "param_grid = {\n",
    "    'hidden_layer_sizes':[(10,),(15,),(20,),(5,5)],\n",
    "    'activation':['logistic','tanh','relu'],\n",
    "    'alpha':[0.001,0.01,0.1,0.2,0.4,1,10]\n",
    "    \n",
    "}\n",
    "\n",
    "mlp = MLPClassifier(max_iter = 1000)\n",
    "gcv = GridSearchCV(estimator = mlp, param_grid = param_grid,\n",
    "                   scoring = 'roc_auc',cv=4,n_jobs = -1)\n",
    "gcv.fit(scaled_train_data,train_target)"
   ]
  },
  {
   "cell_type": "code",
   "execution_count": 28,
   "metadata": {},
   "outputs": [
    {
     "data": {
      "text/plain": [
       "0.9262365195911655"
      ]
     },
     "execution_count": 28,
     "metadata": {},
     "output_type": "execute_result"
    }
   ],
   "source": [
    "gcv.best_score_"
   ]
  },
  {
   "cell_type": "code",
   "execution_count": 29,
   "metadata": {},
   "outputs": [
    {
     "data": {
      "text/plain": [
       "{'activation': 'relu', 'alpha': 0.2, 'hidden_layer_sizes': (5, 5)}"
      ]
     },
     "execution_count": 29,
     "metadata": {},
     "output_type": "execute_result"
    }
   ],
   "source": [
    "gcv.best_params_"
   ]
  },
  {
   "cell_type": "code",
   "execution_count": 30,
   "metadata": {},
   "outputs": [
    {
     "data": {
      "text/plain": [
       "0.916822291701876"
      ]
     },
     "execution_count": 30,
     "metadata": {},
     "output_type": "execute_result"
    }
   ],
   "source": [
    "gcv.score(scaled_test_data,test_target)"
   ]
  },
  {
   "cell_type": "code",
   "execution_count": null,
   "metadata": {},
   "outputs": [],
   "source": []
  }
 ],
 "metadata": {
  "kernelspec": {
   "display_name": "Python 3",
   "language": "python",
   "name": "python3"
  },
  "language_info": {
   "codemirror_mode": {
    "name": "ipython",
    "version": 3
   },
   "file_extension": ".py",
   "mimetype": "text/x-python",
   "name": "python",
   "nbconvert_exporter": "python",
   "pygments_lexer": "ipython3",
   "version": "3.7.4"
  }
 },
 "nbformat": 4,
 "nbformat_minor": 2
}
