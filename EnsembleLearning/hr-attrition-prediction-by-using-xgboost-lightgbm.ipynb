{
 "cells": [
  {
   "cell_type": "code",
   "execution_count": 1,
   "id": "540eb92e",
   "metadata": {
    "_cell_guid": "b1076dfc-b9ad-4769-8c92-a6c4dae69d19",
    "_uuid": "8f2839f25d086af736a60e9eeb907d3b93b6e0e5",
    "execution": {
     "iopub.execute_input": "2022-01-26T12:58:48.275542Z",
     "iopub.status.busy": "2022-01-26T12:58:48.273697Z",
     "iopub.status.idle": "2022-01-26T12:58:48.295118Z",
     "shell.execute_reply": "2022-01-26T12:58:48.294409Z",
     "shell.execute_reply.started": "2022-01-22T16:00:50.847303Z"
    },
    "papermill": {
     "duration": 0.071566,
     "end_time": "2022-01-26T12:58:48.295324",
     "exception": false,
     "start_time": "2022-01-26T12:58:48.223758",
     "status": "completed"
    },
    "tags": []
   },
   "outputs": [
    {
     "name": "stdout",
     "output_type": "stream",
     "text": [
      "/kaggle/input/ibm-hr-analytics-attrition-dataset/WA_Fn-UseC_-HR-Employee-Attrition.csv\n"
     ]
    }
   ],
   "source": [
    
    "import numpy as np # linear algebra\n",
    "import pandas as pd # data processing, CSV file I/O (e.g. pd.read_csv)\n",
    "\n",
    "# Input data files are available in the read-only \"../input/\" directory\n",
    "# For example, running this (by clicking run or pressing Shift+Enter) will list all files under the input directory\n",
    "\n",
    "import os\n",
    "for dirname, _, filenames in os.walk('/kaggle/input'):\n",
    "    for filename in filenames:\n",
    "        print(os.path.join(dirname, filename))\n",
    "\n",
    
   ]
  },
  {
   "cell_type": "code",
   "execution_count": 2,
   "id": "b5ddb631",
   "metadata": {
    "execution": {
     "iopub.execute_input": "2022-01-26T12:58:48.388941Z",
     "iopub.status.busy": "2022-01-26T12:58:48.388232Z",
     "iopub.status.idle": "2022-01-26T12:58:49.442028Z",
     "shell.execute_reply": "2022-01-26T12:58:49.441441Z",
     "shell.execute_reply.started": "2022-01-22T16:00:50.861072Z"
    },
    "papermill": {
     "duration": 1.102215,
     "end_time": "2022-01-26T12:58:49.442166",
     "exception": false,
     "start_time": "2022-01-26T12:58:48.339951",
     "status": "completed"
    },
    "tags": []
   },
   "outputs": [],
   "source": [
    "import xgboost as xgb # XGBoost stuff\n",
    "from sklearn.model_selection import train_test_split # split  data into training and testing sets\n",
    "from sklearn.metrics import balanced_accuracy_score, roc_auc_score, make_scorer # for scoring during cross validation\n",
    "from sklearn.model_selection import GridSearchCV # cross validation\n",
    "from sklearn.metrics import confusion_matrix # creates a confusion matrix\n",
    "from sklearn.metrics import plot_confusion_matrix # draws a confusion matrix"
   ]
  },
  {
   "cell_type": "markdown",
   "id": "97f5d837",
   "metadata": {
    "papermill": {
     "duration": 0.045822,
     "end_time": "2022-01-26T12:58:49.532206",
     "exception": false,
     "start_time": "2022-01-26T12:58:49.486384",
     "status": "completed"
    },
    "tags": []
   },
   "source": [
    "# Import data "
   ]
  },
  {
   "cell_type": "code",
   "execution_count": 3,
   "id": "df2a636c",
   "metadata": {
    "execution": {
     "iopub.execute_input": "2022-01-26T12:58:49.623933Z",
     "iopub.status.busy": "2022-01-26T12:58:49.623307Z",
     "iopub.status.idle": "2022-01-26T12:58:49.675272Z",
     "shell.execute_reply": "2022-01-26T12:58:49.675773Z",
     "shell.execute_reply.started": "2022-01-22T16:00:50.873451Z"
    },
    "papermill": {
     "duration": 0.099632,
     "end_time": "2022-01-26T12:58:49.675941",
     "exception": false,
     "start_time": "2022-01-26T12:58:49.576309",
     "status": "completed"
    },
    "tags": []
   },
   "outputs": [
    {
     "data": {
      "text/html": [
       "<div>\n",
       "<style scoped>\n",
       "    .dataframe tbody tr th:only-of-type {\n",
       "        vertical-align: middle;\n",
       "    }\n",
       "\n",
       "    .dataframe tbody tr th {\n",
       "        vertical-align: top;\n",
       "    }\n",
       "\n",
       "    .dataframe thead th {\n",
       "        text-align: right;\n",
       "    }\n",
       "</style>\n",
       "<table border=\"1\" class=\"dataframe\">\n",
       "  <thead>\n",
       "    <tr style=\"text-align: right;\">\n",
       "      <th></th>\n",
       "      <th>Age</th>\n",
       "      <th>Attrition</th>\n",
       "      <th>BusinessTravel</th>\n",
       "      <th>DailyRate</th>\n",
       "      <th>Department</th>\n",
       "      <th>DistanceFromHome</th>\n",
       "      <th>Education</th>\n",
       "      <th>EducationField</th>\n",
       "      <th>EmployeeCount</th>\n",
       "      <th>EmployeeNumber</th>\n",
       "      <th>...</th>\n",
       "      <th>RelationshipSatisfaction</th>\n",
       "      <th>StandardHours</th>\n",
       "      <th>StockOptionLevel</th>\n",
       "      <th>TotalWorkingYears</th>\n",
       "      <th>TrainingTimesLastYear</th>\n",
       "      <th>WorkLifeBalance</th>\n",
       "      <th>YearsAtCompany</th>\n",
       "      <th>YearsInCurrentRole</th>\n",
       "      <th>YearsSinceLastPromotion</th>\n",
       "      <th>YearsWithCurrManager</th>\n",
       "    </tr>\n",
       "  </thead>\n",
       "  <tbody>\n",
       "    <tr>\n",
       "      <th>0</th>\n",
       "      <td>41</td>\n",
       "      <td>Yes</td>\n",
       "      <td>Travel_Rarely</td>\n",
       "      <td>1102</td>\n",
       "      <td>Sales</td>\n",
       "      <td>1</td>\n",
       "      <td>2</td>\n",
       "      <td>Life Sciences</td>\n",
       "      <td>1</td>\n",
       "      <td>1</td>\n",
       "      <td>...</td>\n",
       "      <td>1</td>\n",
       "      <td>80</td>\n",
       "      <td>0</td>\n",
       "      <td>8</td>\n",
       "      <td>0</td>\n",
       "      <td>1</td>\n",
       "      <td>6</td>\n",
       "      <td>4</td>\n",
       "      <td>0</td>\n",
       "      <td>5</td>\n",
       "    </tr>\n",
       "    <tr>\n",
       "      <th>1</th>\n",
       "      <td>49</td>\n",
       "      <td>No</td>\n",
       "      <td>Travel_Frequently</td>\n",
       "      <td>279</td>\n",
       "      <td>Research &amp; Development</td>\n",
       "      <td>8</td>\n",
       "      <td>1</td>\n",
       "      <td>Life Sciences</td>\n",
       "      <td>1</td>\n",
       "      <td>2</td>\n",
       "      <td>...</td>\n",
       "      <td>4</td>\n",
       "      <td>80</td>\n",
       "      <td>1</td>\n",
       "      <td>10</td>\n",
       "      <td>3</td>\n",
       "      <td>3</td>\n",
       "      <td>10</td>\n",
       "      <td>7</td>\n",
       "      <td>1</td>\n",
       "      <td>7</td>\n",
       "    </tr>\n",
       "    <tr>\n",
       "      <th>2</th>\n",
       "      <td>37</td>\n",
       "      <td>Yes</td>\n",
       "      <td>Travel_Rarely</td>\n",
       "      <td>1373</td>\n",
       "      <td>Research &amp; Development</td>\n",
       "      <td>2</td>\n",
       "      <td>2</td>\n",
       "      <td>Other</td>\n",
       "      <td>1</td>\n",
       "      <td>4</td>\n",
       "      <td>...</td>\n",
       "      <td>2</td>\n",
       "      <td>80</td>\n",
       "      <td>0</td>\n",
       "      <td>7</td>\n",
       "      <td>3</td>\n",
       "      <td>3</td>\n",
       "      <td>0</td>\n",
       "      <td>0</td>\n",
       "      <td>0</td>\n",
       "      <td>0</td>\n",
       "    </tr>\n",
       "    <tr>\n",
       "      <th>3</th>\n",
       "      <td>33</td>\n",
       "      <td>No</td>\n",
       "      <td>Travel_Frequently</td>\n",
       "      <td>1392</td>\n",
       "      <td>Research &amp; Development</td>\n",
       "      <td>3</td>\n",
       "      <td>4</td>\n",
       "      <td>Life Sciences</td>\n",
       "      <td>1</td>\n",
       "      <td>5</td>\n",
       "      <td>...</td>\n",
       "      <td>3</td>\n",
       "      <td>80</td>\n",
       "      <td>0</td>\n",
       "      <td>8</td>\n",
       "      <td>3</td>\n",
       "      <td>3</td>\n",
       "      <td>8</td>\n",
       "      <td>7</td>\n",
       "      <td>3</td>\n",
       "      <td>0</td>\n",
       "    </tr>\n",
       "    <tr>\n",
       "      <th>4</th>\n",
       "      <td>27</td>\n",
       "      <td>No</td>\n",
       "      <td>Travel_Rarely</td>\n",
       "      <td>591</td>\n",
       "      <td>Research &amp; Development</td>\n",
       "      <td>2</td>\n",
       "      <td>1</td>\n",
       "      <td>Medical</td>\n",
       "      <td>1</td>\n",
       "      <td>7</td>\n",
       "      <td>...</td>\n",
       "      <td>4</td>\n",
       "      <td>80</td>\n",
       "      <td>1</td>\n",
       "      <td>6</td>\n",
       "      <td>3</td>\n",
       "      <td>3</td>\n",
       "      <td>2</td>\n",
       "      <td>2</td>\n",
       "      <td>2</td>\n",
       "      <td>2</td>\n",
       "    </tr>\n",
       "  </tbody>\n",
       "</table>\n",
       "<p>5 rows × 35 columns</p>\n",
       "</div>"
      ],
      "text/plain": [
       "   Age Attrition     BusinessTravel  DailyRate              Department  \\\n",
       "0   41       Yes      Travel_Rarely       1102                   Sales   \n",
       "1   49        No  Travel_Frequently        279  Research & Development   \n",
       "2   37       Yes      Travel_Rarely       1373  Research & Development   \n",
       "3   33        No  Travel_Frequently       1392  Research & Development   \n",
       "4   27        No      Travel_Rarely        591  Research & Development   \n",
       "\n",
       "   DistanceFromHome  Education EducationField  EmployeeCount  EmployeeNumber  \\\n",
       "0                 1          2  Life Sciences              1               1   \n",
       "1                 8          1  Life Sciences              1               2   \n",
       "2                 2          2          Other              1               4   \n",
       "3                 3          4  Life Sciences              1               5   \n",
       "4                 2          1        Medical              1               7   \n",
       "\n",
       "   ...  RelationshipSatisfaction StandardHours  StockOptionLevel  \\\n",
       "0  ...                         1            80                 0   \n",
       "1  ...                         4            80                 1   \n",
       "2  ...                         2            80                 0   \n",
       "3  ...                         3            80                 0   \n",
       "4  ...                         4            80                 1   \n",
       "\n",
       "   TotalWorkingYears  TrainingTimesLastYear WorkLifeBalance  YearsAtCompany  \\\n",
       "0                  8                      0               1               6   \n",
       "1                 10                      3               3              10   \n",
       "2                  7                      3               3               0   \n",
       "3                  8                      3               3               8   \n",
       "4                  6                      3               3               2   \n",
       "\n",
       "  YearsInCurrentRole  YearsSinceLastPromotion  YearsWithCurrManager  \n",
       "0                  4                        0                     5  \n",
       "1                  7                        1                     7  \n",
       "2                  0                        0                     0  \n",
       "3                  7                        3                     0  \n",
       "4                  2                        2                     2  \n",
       "\n",
       "[5 rows x 35 columns]"
      ]
     },
     "execution_count": 3,
     "metadata": {},
     "output_type": "execute_result"
    }
   ],
   "source": [
    "data = pd.read_csv('../input/ibm-hr-analytics-attrition-dataset/WA_Fn-UseC_-HR-Employee-Attrition.csv')\n",
    "data.head()"
   ]
  },
  {
   "cell_type": "code",
   "execution_count": 4,
   "id": "3d1e3db8",
   "metadata": {
    "execution": {
     "iopub.execute_input": "2022-01-26T12:58:49.768493Z",
     "iopub.status.busy": "2022-01-26T12:58:49.767878Z",
     "iopub.status.idle": "2022-01-26T12:58:49.774798Z",
     "shell.execute_reply": "2022-01-26T12:58:49.775400Z",
     "shell.execute_reply.started": "2022-01-22T16:00:50.920448Z"
    },
    "papermill": {
     "duration": 0.055041,
     "end_time": "2022-01-26T12:58:49.775563",
     "exception": false,
     "start_time": "2022-01-26T12:58:49.720522",
     "status": "completed"
    },
    "tags": []
   },
   "outputs": [
    {
     "data": {
      "text/plain": [
       "Age                          int64\n",
       "Attrition                   object\n",
       "BusinessTravel              object\n",
       "DailyRate                    int64\n",
       "Department                  object\n",
       "DistanceFromHome             int64\n",
       "Education                    int64\n",
       "EducationField              object\n",
       "EmployeeCount                int64\n",
       "EmployeeNumber               int64\n",
       "EnvironmentSatisfaction      int64\n",
       "Gender                      object\n",
       "HourlyRate                   int64\n",
       "JobInvolvement               int64\n",
       "JobLevel                     int64\n",
       "JobRole                     object\n",
       "JobSatisfaction              int64\n",
       "MaritalStatus               object\n",
       "MonthlyIncome                int64\n",
       "MonthlyRate                  int64\n",
       "NumCompaniesWorked           int64\n",
       "Over18                      object\n",
       "OverTime                    object\n",
       "PercentSalaryHike            int64\n",
       "PerformanceRating            int64\n",
       "RelationshipSatisfaction     int64\n",
       "StandardHours                int64\n",
       "StockOptionLevel             int64\n",
       "TotalWorkingYears            int64\n",
       "TrainingTimesLastYear        int64\n",
       "WorkLifeBalance              int64\n",
       "YearsAtCompany               int64\n",
       "YearsInCurrentRole           int64\n",
       "YearsSinceLastPromotion      int64\n",
       "YearsWithCurrManager         int64\n",
       "dtype: object"
      ]
     },
     "execution_count": 4,
     "metadata": {},
     "output_type": "execute_result"
    }
   ],
   "source": [
    "data.dtypes"
   ]
  },
  {
   "cell_type": "markdown",
   "id": "2c023c32",
   "metadata": {
    "papermill": {
     "duration": 0.044916,
     "end_time": "2022-01-26T12:58:49.865586",
     "exception": false,
     "start_time": "2022-01-26T12:58:49.820670",
     "status": "completed"
    },
    "tags": []
   },
   "source": []
  },
  {
   "cell_type": "code",
   "execution_count": 5,
   "id": "a66a5fb4",
   "metadata": {
    "execution": {
     "iopub.execute_input": "2022-01-26T12:58:49.960054Z",
     "iopub.status.busy": "2022-01-26T12:58:49.959010Z",
     "iopub.status.idle": "2022-01-26T12:58:49.970045Z",
     "shell.execute_reply": "2022-01-26T12:58:49.970667Z",
     "shell.execute_reply.started": "2022-01-22T16:00:50.929765Z"
    },
    "papermill": {
     "duration": 0.060364,
     "end_time": "2022-01-26T12:58:49.970833",
     "exception": false,
     "start_time": "2022-01-26T12:58:49.910469",
     "status": "completed"
    },
    "tags": []
   },
   "outputs": [
    {
     "data": {
      "text/plain": [
       "array(['Y'], dtype=object)"
      ]
     },
     "execution_count": 5,
     "metadata": {},
     "output_type": "execute_result"
    }
   ],
   "source": [
    "data['Over18'].unique()"
   ]
  },
  {
   "cell_type": "code",
   "execution_count": 6,
   "id": "df296f67",
   "metadata": {
    "execution": {
     "iopub.execute_input": "2022-01-26T12:58:50.066341Z",
     "iopub.status.busy": "2022-01-26T12:58:50.065380Z",
     "iopub.status.idle": "2022-01-26T12:58:50.071111Z",
     "shell.execute_reply": "2022-01-26T12:58:50.071730Z",
     "shell.execute_reply.started": "2022-01-22T16:00:50.945646Z"
    },
    "papermill": {
     "duration": 0.054261,
     "end_time": "2022-01-26T12:58:50.071882",
     "exception": false,
     "start_time": "2022-01-26T12:58:50.017621",
     "status": "completed"
    },
    "tags": []
   },
   "outputs": [
    {
     "data": {
      "text/plain": [
       "array([   1,    2,    4, ..., 2064, 2065, 2068])"
      ]
     },
     "execution_count": 6,
     "metadata": {},
     "output_type": "execute_result"
    }
   ],
   "source": [
    "data['EmployeeNumber'].unique()"
   ]
  },
  {
   "cell_type": "code",
   "execution_count": 7,
   "id": "b1238b4f",
   "metadata": {
    "execution": {
     "iopub.execute_input": "2022-01-26T12:58:50.167663Z",
     "iopub.status.busy": "2022-01-26T12:58:50.166689Z",
     "iopub.status.idle": "2022-01-26T12:58:50.172387Z",
     "shell.execute_reply": "2022-01-26T12:58:50.172979Z",
     "shell.execute_reply.started": "2022-01-22T16:00:50.961868Z"
    },
    "papermill": {
     "duration": 0.055951,
     "end_time": "2022-01-26T12:58:50.173132",
     "exception": false,
     "start_time": "2022-01-26T12:58:50.117181",
     "status": "completed"
    },
    "tags": []
   },
   "outputs": [
    {
     "data": {
      "text/plain": [
       "array([1])"
      ]
     },
     "execution_count": 7,
     "metadata": {},
     "output_type": "execute_result"
    }
   ],
   "source": [
    "data['EmployeeCount'].unique()"
   ]
  },
  {
   "cell_type": "code",
   "execution_count": 8,
   "id": "d733ffb6",
   "metadata": {
    "execution": {
     "iopub.execute_input": "2022-01-26T12:58:50.271180Z",
     "iopub.status.busy": "2022-01-26T12:58:50.270557Z",
     "iopub.status.idle": "2022-01-26T12:58:50.274014Z",
     "shell.execute_reply": "2022-01-26T12:58:50.274475Z",
     "shell.execute_reply.started": "2022-01-22T16:00:50.975571Z"
    },
    "papermill": {
     "duration": 0.055828,
     "end_time": "2022-01-26T12:58:50.274632",
     "exception": false,
     "start_time": "2022-01-26T12:58:50.218804",
     "status": "completed"
    },
    "tags": []
   },
   "outputs": [],
   "source": [
    "data.drop(['Over18','EmployeeNumber','EmployeeCount'],axis = 1,inplace = True)"
   ]
  },
  {
   "cell_type": "code",
   "execution_count": 9,
   "id": "9e51562c",
   "metadata": {
    "execution": {
     "iopub.execute_input": "2022-01-26T12:58:50.372690Z",
     "iopub.status.busy": "2022-01-26T12:58:50.371939Z",
     "iopub.status.idle": "2022-01-26T12:58:50.375440Z",
     "shell.execute_reply": "2022-01-26T12:58:50.374890Z",
     "shell.execute_reply.started": "2022-01-22T16:00:50.987985Z"
    },
    "papermill": {
     "duration": 0.054958,
     "end_time": "2022-01-26T12:58:50.375572",
     "exception": false,
     "start_time": "2022-01-26T12:58:50.320614",
     "status": "completed"
    },
    "tags": []
   },
   "outputs": [
    {
     "data": {
      "text/plain": [
       "(1470, 32)"
      ]
     },
     "execution_count": 9,
     "metadata": {},
     "output_type": "execute_result"
    }
   ],
   "source": [
    "data.shape"
   ]
  },
  {
   "cell_type": "markdown",
   "id": "87a72e23",
   "metadata": {
    "papermill": {
     "duration": 0.046302,
     "end_time": "2022-01-26T12:58:50.467749",
     "exception": false,
     "start_time": "2022-01-26T12:58:50.421447",
     "status": "completed"
    },
    "tags": []
   },
   "source": [
    "# Missing data"
   ]
  },
  {
   "cell_type": "code",
   "execution_count": 10,
   "id": "05bac62d",
   "metadata": {
    "execution": {
     "iopub.execute_input": "2022-01-26T12:58:50.562284Z",
     "iopub.status.busy": "2022-01-26T12:58:50.561365Z",
     "iopub.status.idle": "2022-01-26T12:58:50.571035Z",
     "shell.execute_reply": "2022-01-26T12:58:50.570532Z",
     "shell.execute_reply.started": "2022-01-22T16:00:51.000523Z"
    },
    "papermill": {
     "duration": 0.057762,
     "end_time": "2022-01-26T12:58:50.571162",
     "exception": false,
     "start_time": "2022-01-26T12:58:50.513400",
     "status": "completed"
    },
    "tags": []
   },
   "outputs": [
    {
     "data": {
      "text/plain": [
       "Age                         0\n",
       "Attrition                   0\n",
       "BusinessTravel              0\n",
       "DailyRate                   0\n",
       "Department                  0\n",
       "DistanceFromHome            0\n",
       "Education                   0\n",
       "EducationField              0\n",
       "EnvironmentSatisfaction     0\n",
       "Gender                      0\n",
       "HourlyRate                  0\n",
       "JobInvolvement              0\n",
       "JobLevel                    0\n",
       "JobRole                     0\n",
       "JobSatisfaction             0\n",
       "MaritalStatus               0\n",
       "MonthlyIncome               0\n",
       "MonthlyRate                 0\n",
       "NumCompaniesWorked          0\n",
       "OverTime                    0\n",
       "PercentSalaryHike           0\n",
       "PerformanceRating           0\n",
       "RelationshipSatisfaction    0\n",
       "StandardHours               0\n",
       "StockOptionLevel            0\n",
       "TotalWorkingYears           0\n",
       "TrainingTimesLastYear       0\n",
       "WorkLifeBalance             0\n",
       "YearsAtCompany              0\n",
       "YearsInCurrentRole          0\n",
       "YearsSinceLastPromotion     0\n",
       "YearsWithCurrManager        0\n",
       "dtype: int64"
      ]
     },
     "execution_count": 10,
     "metadata": {},
     "output_type": "execute_result"
    }
   ],
   "source": [
    "data.isnull().sum()"
   ]
  },
  {
   "cell_type": "markdown",
   "id": "99374472",
   "metadata": {
    "papermill": {
     "duration": 0.045795,
     "end_time": "2022-01-26T12:58:50.663335",
     "exception": false,
     "start_time": "2022-01-26T12:58:50.617540",
     "status": "completed"
    },
    "tags": []
   },
   "source": [
    "# sample balance exploration"
   ]
  },
  {
   "cell_type": "code",
   "execution_count": 11,
   "id": "91ee7b61",
   "metadata": {
    "execution": {
     "iopub.execute_input": "2022-01-26T12:58:50.759798Z",
     "iopub.status.busy": "2022-01-26T12:58:50.758809Z",
     "iopub.status.idle": "2022-01-26T12:58:50.768311Z",
     "shell.execute_reply": "2022-01-26T12:58:50.768879Z",
     "shell.execute_reply.started": "2022-01-22T16:00:51.017504Z"
    },
    "papermill": {
     "duration": 0.059063,
     "end_time": "2022-01-26T12:58:50.769048",
     "exception": false,
     "start_time": "2022-01-26T12:58:50.709985",
     "status": "completed"
    },
    "tags": []
   },
   "outputs": [
    {
     "data": {
      "text/plain": [
       "No     1233\n",
       "Yes     237\n",
       "Name: Attrition, dtype: int64"
      ]
     },
     "execution_count": 11,
     "metadata": {},
     "output_type": "execute_result"
    }
   ],
   "source": [
    "data['Attrition'].value_counts()"
   ]
  },
  {
   "cell_type": "markdown",
   "id": "5903c884",
   "metadata": {
    "papermill": {
     "duration": 0.04641,
     "end_time": "2022-01-26T12:58:50.861603",
     "exception": false,
     "start_time": "2022-01-26T12:58:50.815193",
     "status": "completed"
    },
    "tags": []
   },
   "source": [
    "It seems the sample data is not imbalanced"
   ]
  },
  {
   "cell_type": "markdown",
   "id": "56371edb",
   "metadata": {
    "papermill": {
     "duration": 0.04619,
     "end_time": "2022-01-26T12:58:50.953808",
     "exception": false,
     "start_time": "2022-01-26T12:58:50.907618",
     "status": "completed"
    },
    "tags": []
   },
   "source": [
    "# Formatting the Data for modeling"
   ]
  },
  {
   "cell_type": "markdown",
   "id": "195f5804",
   "metadata": {
    "papermill": {
     "duration": 0.047308,
     "end_time": "2022-01-26T12:58:51.048369",
     "exception": false,
     "start_time": "2022-01-26T12:58:51.001061",
     "status": "completed"
    },
    "tags": []
   },
   "source": [
    "1: Split the Data into Dependent and Independent Variables"
   ]
  },
  {
   "cell_type": "code",
   "execution_count": 12,
   "id": "04b694a5",
   "metadata": {
    "execution": {
     "iopub.execute_input": "2022-01-26T12:58:51.146464Z",
     "iopub.status.busy": "2022-01-26T12:58:51.145512Z",
     "iopub.status.idle": "2022-01-26T12:58:51.150808Z",
     "shell.execute_reply": "2022-01-26T12:58:51.151405Z",
     "shell.execute_reply.started": "2022-01-22T16:00:51.032066Z"
    },
    "papermill": {
     "duration": 0.055506,
     "end_time": "2022-01-26T12:58:51.151566",
     "exception": false,
     "start_time": "2022-01-26T12:58:51.096060",
     "status": "completed"
    },
    "tags": []
   },
   "outputs": [],
   "source": [
    "X = data.drop('Attrition',axis = 1).copy()"
   ]
  },
  {
   "cell_type": "code",
   "execution_count": 13,
   "id": "2f01852b",
   "metadata": {
    "execution": {
     "iopub.execute_input": "2022-01-26T12:58:51.252580Z",
     "iopub.status.busy": "2022-01-26T12:58:51.251622Z",
     "iopub.status.idle": "2022-01-26T12:58:51.255813Z",
     "shell.execute_reply": "2022-01-26T12:58:51.255167Z",
     "shell.execute_reply.started": "2022-01-22T16:00:51.044639Z"
    },
    "papermill": {
     "duration": 0.057482,
     "end_time": "2022-01-26T12:58:51.255945",
     "exception": false,
     "start_time": "2022-01-26T12:58:51.198463",
     "status": "completed"
    },
    "tags": []
   },
   "outputs": [
    {
     "data": {
      "text/plain": [
       "Age                          int64\n",
       "BusinessTravel              object\n",
       "DailyRate                    int64\n",
       "Department                  object\n",
       "DistanceFromHome             int64\n",
       "Education                    int64\n",
       "EducationField              object\n",
       "EnvironmentSatisfaction      int64\n",
       "Gender                      object\n",
       "HourlyRate                   int64\n",
       "JobInvolvement               int64\n",
       "JobLevel                     int64\n",
       "JobRole                     object\n",
       "JobSatisfaction              int64\n",
       "MaritalStatus               object\n",
       "MonthlyIncome                int64\n",
       "MonthlyRate                  int64\n",
       "NumCompaniesWorked           int64\n",
       "OverTime                    object\n",
       "PercentSalaryHike            int64\n",
       "PerformanceRating            int64\n",
       "RelationshipSatisfaction     int64\n",
       "StandardHours                int64\n",
       "StockOptionLevel             int64\n",
       "TotalWorkingYears            int64\n",
       "TrainingTimesLastYear        int64\n",
       "WorkLifeBalance              int64\n",
       "YearsAtCompany               int64\n",
       "YearsInCurrentRole           int64\n",
       "YearsSinceLastPromotion      int64\n",
       "YearsWithCurrManager         int64\n",
       "dtype: object"
      ]
     },
     "execution_count": 13,
     "metadata": {},
     "output_type": "execute_result"
    }
   ],
   "source": [
    "X.dtypes"
   ]
  },
  {
   "cell_type": "code",
   "execution_count": 14,
   "id": "9ae92e26",
   "metadata": {
    "execution": {
     "iopub.execute_input": "2022-01-26T12:58:51.358599Z",
     "iopub.status.busy": "2022-01-26T12:58:51.357914Z",
     "iopub.status.idle": "2022-01-26T12:58:51.367409Z",
     "shell.execute_reply": "2022-01-26T12:58:51.367933Z",
     "shell.execute_reply.started": "2022-01-22T16:00:51.061156Z"
    },
    "papermill": {
     "duration": 0.064267,
     "end_time": "2022-01-26T12:58:51.368106",
     "exception": false,
     "start_time": "2022-01-26T12:58:51.303839",
     "status": "completed"
    },
    "tags": []
   },
   "outputs": [],
   "source": [
    "X_encode = pd.get_dummies(X,columns = ['BusinessTravel','Department','EducationField',\n",
    "                                      'Gender','JobRole','MaritalStatus','OverTime'])"
   ]
  },
  {
   "cell_type": "code",
   "execution_count": 15,
   "id": "30e6f8dd",
   "metadata": {
    "execution": {
     "iopub.execute_input": "2022-01-26T12:58:51.466559Z",
     "iopub.status.busy": "2022-01-26T12:58:51.465640Z",
     "iopub.status.idle": "2022-01-26T12:58:51.471048Z",
     "shell.execute_reply": "2022-01-26T12:58:51.471523Z",
     "shell.execute_reply.started": "2022-01-22T16:00:51.082451Z"
    },
    "papermill": {
     "duration": 0.056208,
     "end_time": "2022-01-26T12:58:51.471702",
     "exception": false,
     "start_time": "2022-01-26T12:58:51.415494",
     "status": "completed"
    },
    "tags": []
   },
   "outputs": [
    {
     "data": {
      "text/plain": [
       "(1470, 52)"
      ]
     },
     "execution_count": 15,
     "metadata": {},
     "output_type": "execute_result"
    }
   ],
   "source": [
    "X_encode.shape"
   ]
  },
  {
   "cell_type": "code",
   "execution_count": 16,
   "id": "4575565a",
   "metadata": {
    "execution": {
     "iopub.execute_input": "2022-01-26T12:58:51.574841Z",
     "iopub.status.busy": "2022-01-26T12:58:51.574163Z",
     "iopub.status.idle": "2022-01-26T12:58:51.576667Z",
     "shell.execute_reply": "2022-01-26T12:58:51.577192Z",
     "shell.execute_reply.started": "2022-01-22T16:00:51.091272Z"
    },
    "papermill": {
     "duration": 0.05802,
     "end_time": "2022-01-26T12:58:51.577366",
     "exception": false,
     "start_time": "2022-01-26T12:58:51.519346",
     "status": "completed"
    },
    "tags": []
   },
   "outputs": [],
   "source": [
    "data['Attrition'] = data['Attrition'].replace({'No': 0, 'Yes': 1}).astype(int)"
   ]
  },
  {
   "cell_type": "code",
   "execution_count": 17,
   "id": "1cf07b76",
   "metadata": {
    "execution": {
     "iopub.execute_input": "2022-01-26T12:58:51.676343Z",
     "iopub.status.busy": "2022-01-26T12:58:51.675722Z",
     "iopub.status.idle": "2022-01-26T12:58:51.679302Z",
     "shell.execute_reply": "2022-01-26T12:58:51.679857Z",
     "shell.execute_reply.started": "2022-01-22T16:00:51.104295Z"
    },
    "papermill": {
     "duration": 0.054413,
     "end_time": "2022-01-26T12:58:51.680025",
     "exception": false,
     "start_time": "2022-01-26T12:58:51.625612",
     "status": "completed"
    },
    "tags": []
   },
   "outputs": [],
   "source": [
    "y = data['Attrition'].copy()"
   ]
  },
  {
   "cell_type": "code",
   "execution_count": 18,
   "id": "b4e77fbb",
   "metadata": {
    "execution": {
     "iopub.execute_input": "2022-01-26T12:58:51.779073Z",
     "iopub.status.busy": "2022-01-26T12:58:51.778464Z",
     "iopub.status.idle": "2022-01-26T12:58:51.783653Z",
     "shell.execute_reply": "2022-01-26T12:58:51.784222Z",
     "shell.execute_reply.started": "2022-01-22T16:00:51.119153Z"
    },
    "papermill": {
     "duration": 0.056432,
     "end_time": "2022-01-26T12:58:51.784394",
     "exception": false,
     "start_time": "2022-01-26T12:58:51.727962",
     "status": "completed"
    },
    "tags": []
   },
   "outputs": [
    {
     "data": {
      "text/plain": [
       "0    1\n",
       "1    0\n",
       "2    1\n",
       "3    0\n",
       "4    0\n",
       "Name: Attrition, dtype: int64"
      ]
     },
     "execution_count": 18,
     "metadata": {},
     "output_type": "execute_result"
    }
   ],
   "source": [
    "y.head()"
   ]
  },
  {
   "cell_type": "markdown",
   "id": "f679f61c",
   "metadata": {
    "papermill": {
     "duration": 0.048373,
     "end_time": "2022-01-26T12:58:51.880921",
     "exception": false,
     "start_time": "2022-01-26T12:58:51.832548",
     "status": "completed"
    },
    "tags": []
   },
   "source": []
  },
  {
   "cell_type": "code",
   "execution_count": 19,
   "id": "ca45221e",
   "metadata": {
    "execution": {
     "iopub.execute_input": "2022-01-26T12:58:51.981067Z",
     "iopub.status.busy": "2022-01-26T12:58:51.980456Z",
     "iopub.status.idle": "2022-01-26T12:58:51.990582Z",
     "shell.execute_reply": "2022-01-26T12:58:51.991079Z",
     "shell.execute_reply.started": "2022-01-22T16:00:51.134103Z"
    },
    "papermill": {
     "duration": 0.062477,
     "end_time": "2022-01-26T12:58:51.991246",
     "exception": false,
     "start_time": "2022-01-26T12:58:51.928769",
     "status": "completed"
    },
    "tags": []
   },
   "outputs": [],
   "source": [
    "X_train,X_test,y_train,y_test = train_test_split(X_encode,y,\n",
    "                                                random_state = 1,\n",
    "                                                stratify = y)\n"
   ]
  },
  {
   "cell_type": "markdown",
   "id": "de704950",
   "metadata": {
    "papermill": {
     "duration": 0.048298,
     "end_time": "2022-01-26T12:58:52.087930",
     "exception": false,
     "start_time": "2022-01-26T12:58:52.039632",
     "status": "completed"
    },
    "tags": []
   },
   "source": []
  },
  {
   "cell_type": "code",
   "execution_count": 20,
   "id": "1d85e416",
   "metadata": {
    "execution": {
     "iopub.execute_input": "2022-01-26T12:58:52.189406Z",
     "iopub.status.busy": "2022-01-26T12:58:52.188723Z",
     "iopub.status.idle": "2022-01-26T12:58:52.191972Z",
     "shell.execute_reply": "2022-01-26T12:58:52.192500Z",
     "shell.execute_reply.started": "2022-01-22T16:00:51.147125Z"
    },
    "papermill": {
     "duration": 0.05671,
     "end_time": "2022-01-26T12:58:52.192667",
     "exception": false,
     "start_time": "2022-01-26T12:58:52.135957",
     "status": "completed"
    },
    "tags": []
   },
   "outputs": [
    {
     "name": "stdout",
     "output_type": "stream",
     "text": [
      "(1102,)\n",
      "(368,)\n"
     ]
    }
   ],
   "source": [
    "print(y_train.shape)\n",
    "print(y_test.shape)"
   ]
  },
  {
   "cell_type": "code",
   "execution_count": 21,
   "id": "f4e96441",
   "metadata": {
    "execution": {
     "iopub.execute_input": "2022-01-26T12:58:52.295992Z",
     "iopub.status.busy": "2022-01-26T12:58:52.295029Z",
     "iopub.status.idle": "2022-01-26T12:58:52.300914Z",
     "shell.execute_reply": "2022-01-26T12:58:52.301482Z",
     "shell.execute_reply.started": "2022-01-22T16:00:51.155918Z"
    },
    "papermill": {
     "duration": 0.058947,
     "end_time": "2022-01-26T12:58:52.301644",
     "exception": false,
     "start_time": "2022-01-26T12:58:52.242697",
     "status": "completed"
    },
    "tags": []
   },
   "outputs": [
    {
     "name": "stdout",
     "output_type": "stream",
     "text": [
      "0.16122448979591836\n",
      "0.16152450090744103\n",
      "0.16032608695652173\n"
     ]
    }
   ],
   "source": [
    "print(sum(y)/len(y))\n",
    "print(sum(y_train)/len(y_train))\n",
    "print(sum(y_test)/len(y_test))"
   ]
  },
  {
   "cell_type": "markdown",
   "id": "522e4f7e",
   "metadata": {
    "papermill": {
     "duration": 0.048569,
     "end_time": "2022-01-26T12:58:52.399063",
     "exception": false,
     "start_time": "2022-01-26T12:58:52.350494",
     "status": "completed"
    },
    "tags": []
   },
   "source": [
    "In the confusion matrix, we see that of the 368 people that did not leave, 301 (82%) were correctly classified. And of the 59 people that left the company, 19 (32%) were correctly classified. So the XGBoost model was not awesome. "
   ]
  },
  {
   "cell_type": "markdown",
   "id": "3daa0662",
   "metadata": {
    "papermill": {
     "duration": 0.048564,
     "end_time": "2022-01-26T12:58:52.496329",
     "exception": false,
     "start_time": "2022-01-26T12:58:52.447765",
     "status": "completed"
    },
    "tags": []
   },
   "source": [
    "# Model1:Logistic Regression for the model"
   ]
  },
  {
   "cell_type": "code",
   "execution_count": 22,
   "id": "6fa907a4",
   "metadata": {
    "execution": {
     "iopub.execute_input": "2022-01-26T12:58:52.599980Z",
     "iopub.status.busy": "2022-01-26T12:58:52.599285Z",
     "iopub.status.idle": "2022-01-26T12:58:52.709699Z",
     "shell.execute_reply": "2022-01-26T12:58:52.710523Z",
     "shell.execute_reply.started": "2022-01-22T16:00:51.173465Z"
    },
    "papermill": {
     "duration": 0.16574,
     "end_time": "2022-01-26T12:58:52.710778",
     "exception": false,
     "start_time": "2022-01-26T12:58:52.545038",
     "status": "completed"
    },
    "tags": []
   },
   "outputs": [
    {
     "name": "stdout",
     "output_type": "stream",
     "text": [
      "--------------------------------------------------------------------------\n",
      "Logistic Regression:\n",
      "Traning Model accruracy scores: 0.881\n",
      "Test Model accruracy scores: 0.889\n",
      "--------------------------------------------------------------------------\n"
     ]
    }
   ],
   "source": [
    "from sklearn.linear_model import LogisticRegression\n",
    "log_reg=LogisticRegression(penalty=\"l2\",solver=\"liblinear\",C=0.5,max_iter=100)\n",
    "log_reg.fit(X_train,y_train)\n",
    "print('--------------------------------------------------------------------------')\n",
    "print('Logistic Regression:')\n",
    "print('Traning Model accruracy scores: {:.3f}'.format(log_reg.score(X_train,y_train)))\n",
    "print('Test Model accruracy scores: {:.3f}'.format(log_reg.score(X_test,y_test)))\n",
    "print('--------------------------------------------------------------------------')"
   ]
  },
  {
   "cell_type": "code",
   "execution_count": 23,
   "id": "24f17ac1",
   "metadata": {
    "execution": {
     "iopub.execute_input": "2022-01-26T12:58:52.868294Z",
     "iopub.status.busy": "2022-01-26T12:58:52.867302Z",
     "iopub.status.idle": "2022-01-26T12:58:53.175424Z",
     "shell.execute_reply": "2022-01-26T12:58:53.174901Z",
     "shell.execute_reply.started": "2022-01-22T16:00:51.217882Z"
    },
    "papermill": {
     "duration": 0.373614,
     "end_time": "2022-01-26T12:58:53.175568",
     "exception": false,
     "start_time": "2022-01-26T12:58:52.801954",
     "status": "completed"
    },
    "tags": []
   },
   "outputs": [
    {
     "data": {
      "text/plain": [
       "<sklearn.metrics._plot.confusion_matrix.ConfusionMatrixDisplay at 0x7ff40ae58f10>"
      ]
     },
     "execution_count": 23,
     "metadata": {},
     "output_type": "execute_result"
    },
    {
     "data": {
      "image/png": "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\n",
      "text/plain": [
       "<Figure size 432x288 with 2 Axes>"
      ]
     },
     "metadata": {
      "needs_background": "light"
     },
     "output_type": "display_data"
    }
   ],
   "source": [
    "plot_confusion_matrix(log_reg,\n",
    "                     X_test,\n",
    "                     y_test,\n",
    "                     values_format = 'd',\n",
    "                     display_labels= ['Did not leave','left'])"
   ]
  },
  {
   "cell_type": "code",
   "execution_count": 24,
   "id": "fa60c3f9",
   "metadata": {
    "execution": {
     "iopub.execute_input": "2022-01-26T12:58:53.285194Z",
     "iopub.status.busy": "2022-01-26T12:58:53.284530Z",
     "iopub.status.idle": "2022-01-26T12:58:53.324873Z",
     "shell.execute_reply": "2022-01-26T12:58:53.325687Z",
     "shell.execute_reply.started": "2022-01-22T16:00:51.524825Z"
    },
    "papermill": {
     "duration": 0.100069,
     "end_time": "2022-01-26T12:58:53.325957",
     "exception": false,
     "start_time": "2022-01-26T12:58:53.225888",
     "status": "completed"
    },
    "tags": []
   },
   "outputs": [
    {
     "name": "stdout",
     "output_type": "stream",
     "text": [
      "--------------------------------------------------------------------------\n",
      "Logistic Regression:\n",
      "Traning Model accruracy scores: 0.776\n",
      "Test Model accruracy scores: 0.715\n",
      "--------------------------------------------------------------------------\n"
     ]
    }
   ],
   "source": [
    "log_reg=LogisticRegression(penalty=\"l2\",solver=\"liblinear\",C=0.5,max_iter=100,class_weight=\"balanced\")\n",
    "log_reg.fit(X_train,y_train)\n",
    "print('--------------------------------------------------------------------------')\n",
    "print('Logistic Regression:')\n",
    "print('Traning Model accruracy scores: {:.3f}'.format(log_reg.score(X_train,y_train)))\n",
    "print('Test Model accruracy scores: {:.3f}'.format(log_reg.score(X_test,y_test)))\n",
    "print('--------------------------------------------------------------------------')"
   ]
  },
  {
   "cell_type": "code",
   "execution_count": 25,
   "id": "77036c4a",
   "metadata": {
    "execution": {
     "iopub.execute_input": "2022-01-26T12:58:53.487488Z",
     "iopub.status.busy": "2022-01-26T12:58:53.486445Z",
     "iopub.status.idle": "2022-01-26T12:58:53.727076Z",
     "shell.execute_reply": "2022-01-26T12:58:53.727674Z",
     "shell.execute_reply.started": "2022-01-22T16:00:51.574028Z"
    },
    "papermill": {
     "duration": 0.3079,
     "end_time": "2022-01-26T12:58:53.727838",
     "exception": false,
     "start_time": "2022-01-26T12:58:53.419938",
     "status": "completed"
    },
    "tags": []
   },
   "outputs": [
    {
     "data": {
      "text/plain": [
       "<sklearn.metrics._plot.confusion_matrix.ConfusionMatrixDisplay at 0x7ff4015324d0>"
      ]
     },
     "execution_count": 25,
     "metadata": {},
     "output_type": "execute_result"
    },
    {
     "data": {
      "image/png": "iVBORw0KGgoAAAANSUhEUgAAAXUAAAEGCAYAAACaSwWnAAAAOXRFWHRTb2Z0d2FyZQBNYXRwbG90bGliIHZlcnNpb24zLjUuMCwgaHR0cHM6Ly9tYXRwbG90bGliLm9yZy8/fFQqAAAACXBIWXMAAAsTAAALEwEAmpwYAAAghElEQVR4nO3debxd0/3/8dc7EYKYIqRB0hhiCCWIucaq4tsaO6mqGhqq6KjzFx38vv21aEuLhqqxpIoaamzUN9KiTQwRouZUIkQSIiGN5N7P94+9Lidx7zn73HvuPefs+34+Hvtx91l7WOvm8rnrrr32ZykiMDOzYuhT7waYmVntOKibmRWIg7qZWYE4qJuZFYiDuplZgaxQ7wb0ZoMG9o3hQ/vVuxlWhcdfWafeTbAqLJk/j6WL3lRX7vGRvVeNufNacp07ecriOyNi/67U11UO6nU0fGg//nHn0Ho3w6rwgXNPqncTrArPXXFul+8xZ14LD965Qa5z+w15dlCXK+wiB3Uzs7KClmitdyNyc1A3MysjgFaa5yVNB3UzswpacU/dzKwQgmCJh1/MzIohgBYPv5iZFYfH1M3MCiKAlibKZuugbmZWQfOMqDuom5mVFYTH1M3MiiICljRPTHdQNzMrT7TQpfQxPcpB3cysjABa3VM3MyuOZuqpO5+6mVkZ2ctHyrVVImmopL9KekLS45K+nMoHSrpb0tPp61qpXJLOk/SMpCmStqtUh4O6mVkZASyJPrm2HJYCX4+IkcDOwJckjQS+DYyPiBHA+PQZ4ABgRNrGABdWqsBB3cysjEC00CfXVvFeEbMi4qG0vwCYBqwPHAxcnk67HDgk7R8MXBGZB4A1JQ0pV4fH1M3MKmiN3GPqgyRNKvk8NiLGtneipOHAtsCDwOCImJUOvQwMTvvrAy+WXDYjlc2iAw7qZmZltI2p5zQnIkZXOknSAOB64CsR8Yb07v0jIiR1er6Ng7qZWVmiJd94eb67Sf3IAvrVEXFDKn5F0pCImJWGV2an8plA6ZqXG6SyDnlM3cysjGzloz65tkqUdcl/C0yLiNIFVG8Gjk77RwM3lZR/Ls2C2RmYXzJM0y731M3MyogQb0ffWt1uN+Ao4DFJj6Sy7wI/Af4g6ThgOvDJdOw24EDgGeAt4JhKFTiom5lV0Fqjl48iYiJ0eLMPtXN+AF+qpg4HdTOzMrIHpc0zUu2gbmZWVm0flHY3B3UzszLaHpQ2Cwd1M7MKWvK/fFR3DupmZmUEYkk0T6hsnpaamdWBH5SamRVIIA+/mJkViR+UmpkVRASe0mhmVhTZg9KapQnodg7qZmYV+EGpmVlBBKpmkYy6c1A3M6vAPXUzs4IIoNUPSs3MikLVLGdXdw7qZmZlBHj2i5lZUUTIwy9mZkXSTC8fNU9LzczqIMunrlxbJZIulTRb0tSSsnGSHknbC21rl0oaLmlRybGL8rTXPXUzs7JquvLRZcCvgCvaCiLiU+/UJJ0DzC85/9mIGFVNBQ7qZmZlZFMaa7bw9ARJw9s7JknAJ4F9ulKHg7qZWRlV5n4ZJGlSyeexETE257W7A69ExNMlZRtKehh4A/h+RNxX6SYO6mZmFVSRendORIzuZDVHANeUfJ4FDIuIuZK2B/4kacuIeKPcTRzUzczKyFLvdu/LR5JWAA4Dtn+33lgMLE77kyU9C2wKTGr3JomDuplZBT2Q0Gtf4MmImNFWIGkdYF5EtEjaCBgBPFfpRp7SaGZWRpalsU+urRJJ1wD3A5tJmiHpuHTo0yw79AKwBzAlTXH8I3BiRMyrVId76mZmZWRpAmrT/42IIzoo/3w7ZdcD11dbh4O6VWX2zH787MvDeP3VfqDgwM/O5dDj5zDhljW48pz38eLT/TnvtqfYdJtFANxzw1pcd8G671z//LT+/PrOp9h4q0X1+hZ6vSO3ncLhH3gCAdc/tgVXPbwNX9vj7+y10XSWtPThxflr8N937s2CxSvVu6kNwmkCAJDUAjwG9AOWkk22/3lEtEoaDXwuIk5t57oXgNERMaeL9R8CPBURT7Rz7ExgYUSc3ZU6eqO+KwRjTn+JEVsv4q2FfTh5/03Zbo8FDN/8P5x+yQuc962hy5y/z2Gvsc9hrwFZQP/BsRs6oNfRJmvP5fAPPMFnfn84S1r6ctFht/K/zw/n/ulD+eV9O9MSffjq7vdz/I4P8fP7dql3cxtGnrdFG0V3/vpZFBGjImJL4MPAAcAZABExqb2AXmOHACO7uY5eZ+3BSxmxdRaUVxnQytBNFjNnVj+GjVjM0E0Wl732r39aiz0Pfq0nmmkd2Gjg6zz28mD+s7QfLdGHSTPWY99NnuP+6UPfeWvy0VmDGTzgzTq3tHG0zX7JszWCHvmbIiJmA2OAk5XZS9KtAJLWlnSXpMclXQLt/0qUtFDSWZIelfSApMGpfLikeyRNkTRe0jBJuwIHAT9LORM27qhtkjaWdIekyZLuk7R5Kv+YpAclPSzpL5IGS+qTcjOsWXL90+nYOpKul/TPtO1Wq3+/RvXyiyvy7NSV2Xy7t3KdP+HmNdn7kNe7t1FW1tNzB7Ld+rNYo/9/6L/CEnbf8N+8b7WFy5xz6JZPMvGFYXVqYWOq1YPSntBjrYiI54C+wLrLHToDmJh69DcCHf3XtCrwQERsA0wAvpDKzwcuj4itgauB8yLi78DNwGnpr4VnyzRtLHBKRGwPfAO4IJVPBHaOiG2Ba4FvRkQrcBNwKICknYDpEfEK8Euy4aUdgMOBS9qrTNIYSZMkTXp1bkuZZjW2RW/24UfHD+fEH85k1dVaK57/5EOrsNLKrQzf/D890DrryPPz1uLSf27L2MNv4aLD/syTr669TA/zCztOpiX6cOu0EXVsZWNpW6M0z9YIGuFB6R5kk+6JiD9L6ujv87eBW9P+ZLIhHYBd2q4HrgR+mrdiSQOAXYHrsrQLALQ9HdoAGCdpCLAi8HwqHwecDvyObBrSuFS+LzCy5D6rSxoQEct0g9Irw2MBRm/TP/K2tZEsXQI/On44+xz2Gh88cH7lC4B7b1qTvQ7x0EsjuHHqFtw4dQsATt3tAV5ZOACAg0c+yZ4bTef4P36MDv5g7pUCWNogvfA8eqylafJ8CzC7k7dYEhFtQbCF2vxC6gO8nnrzbdsW6dj5wK8i4gPACUD/VH4/sEl6MeAQ4IaSe+1ccp/1lw/oRRAB5359GENHLObwE17NdU1rK0y4ZU32Ovj17m2c5TJw5Wy47H2rLWDfEc9z25Mj2G34vzlmh0c45aYD+M/SfnVuYeNppuGXHumppwB4EVmQjJLeLGRDKZ8BfizpAGCtKm//d7Ie85XAkUBbwpsFwGrlLoyINyQ9L+kTEXFdypK2dUQ8CqwBzEynHl1yTUi6ETgXmBYRc9Ohu4BTgJ+l73lURDxS5ffS8B7/x6qM/+NANtxiEV/cdzMAjvnOSyx5uw8XfH995s9dgf8+aiM23nIR/++a7OW3xx4YwDrrLWHI+9+uZ9MtOfdjd7LmyotZ2tqHs8bvzoLFK/Hdfe5jxb4tjD38FgCmzBrMj8bvWeeWNogGGlrJozuD+srpTai2KY1XkgXC5f0AuEbS42QB+t9V1nMK8DtJpwGvAsek8muBiyWdCny8zLj6kcCFkr6f2not8ChwJtmwzGvAPcCGJdeMA/4JfL6k7FTg15KmkP27TgBOrPJ7aXhb7fQmd770SLvHdjug/aGYbXZdyC9vfbrdY9bzPv+HQ99T9l+XHlmHljSHtkUymkW3BfWIjnNVRsS9wL1pfy6wX477DSjZ/yPZa7NExHTayT8cEX+jgymNEXFmyf7zwP7tnHMT2UPR9q6fxHKDjmle/afaO9/Mmpt76mZmBVHLRTJ6goO6mVkZgVja2hgPQfNwUDczq8Bj6mZmRREefjEzKwyPqZuZFYyDuplZQQSixQ9KzcyKo5kelDbPrx8zszqI9KC0FlkaJV0qabakqSVlZ0qamdKEPyLpwJJj35H0jKR/SfpInvY6qJuZVRChXFsOl9HOG+xkabvbkgHeBiBpJFleqy3TNRdI6vBN/TYO6mZmZdUun3pETADm5az4YODaiFic0pk8A+xY6SIHdTOzCqroqQ9qWwQnbWNyVnFyWr3tUkltmWrXB14sOWdGKivLD0rNzMqIgJbW3A9K50TE6CqruBD4EdmU+B8B5wDHVnmPdziom5lV0J2zX9JymABIuph3V3ibCQwtOXUD3l3joUMefjEzKyOo6YPS90hLZrY5FGibGXMz8GlJK0naEBgB/KPS/dxTNzMrq3YrH0m6BtiLbOx9BnAGsJekUWS/P14gWz6TiHhc0h+AJ8gWGvpSRFRcrd5B3cysgqjREvERcUQ7xb8tc/5ZwFnV1OGgbmZWQWeHVurBQd3MrIxs9kvzPH50UDczq6BWwy89wUHdzKwCD7+YmRVE0PnpivXgoG5mVkETjb44qJuZlRUQ+dME1J2DuplZBR5+MTMrkELMfpF0PmWGkiLi1G5pkZlZA2nL/dIsyvXUJ/VYK8zMGlUARQjqEXF56WdJq0TEW93fJDOzxtJMwy8V332VtIukJ4An0+dtJF3Q7S0zM2sIIlrzbY0gT0KDXwAfAeYCRMSjwB7d2CYzs8YSObcGkGv2S0S8KC3zW6hiTl8zs0KI4jwobfOipF2BkNQP+DIwrXubZWbWQBqkF55HnuGXE4Evka1i/RIwKn02M+sllHOrv4o99YiYAxzZA20xM2tMrbW5jaRLgY8CsyNiq1T2M+BjwNvAs8AxEfG6pOFkoyL/Spc/EBEnVqojz+yXjSTdIulVSbMl3SRpo859S2ZmTaZtnnqerbLLgP2XK7sb2CoitgaeAr5TcuzZiBiVtooBHfINv/we+AMwBFgPuA64Js/NzcyKICLfVvk+MQGYt1zZXRGxNH18ANigK23NE9RXiYgrI2Jp2q4C+nelUjOzppJ/SuMgSZNKtjFV1nQscHvJ5w0lPSzpfyXtnucG5XK/DEy7t0v6NnBtavangNuqbKiZWfPKP6VxTkSM7kwVkr4HLAWuTkWzgGERMVfS9sCfJG0ZEW+Uu0+5B6WTyYJ423dzQsmxYNlxHzOzwlI3T2mU9HmyB6gfisgGciJiMbA47U+W9CywKRXycpXL/bJhrRpsZta0QtCNKQAk7Q98E9izNL+WpHWAeRHRkianjACeq3S/XG+UStoKGEnJWHpEXFFl283MmlONeuqSrgH2Iht7nwGcQTbqsRJwd3pzv23q4h7ADyUtIZtUeWJEzGv3xiUqBnVJZ6RGjCQbSz8AmAg4qJtZ71CjoB4RR7RT/NsOzr0euL7aOvLMfvk48CHg5Yg4BtgGWKPaiszMmlbBEnotiohWSUslrQ7MBoZ2c7vMzBpDURbJKDFJ0prAxWQzYhYC93dno8zMGkl3z36ppTy5X05KuxdJugNYPSKmdG+zzMwaSBGCuqTtyh2LiIe6p0lmZo2lKD31c8ocC2CfGrel13lqyip8ZL1R9W6GVWG9HRfUuwlWhRcX1ii9YhHG1CNi755siJlZQ2qgmS155Hr5yMysV3NQNzMrDtVoFKcnOKibmVXSRD31PCsfSdJnJZ2ePg+TtGP3N83MrP4U+bdGkCdNwAXALkBbzoIFwK+7rUVmZo2mdsvZdbs8wy87RcR2kh4GiIjXJK3Yze0yM2scDdILzyNPUF8iqS/p20o5fpvosYGZWdc0ytBKHnmC+nnAjcC6ks4iy9r4/W5tlZlZo4iCzX6JiKslTSZLvyvgkIiY1u0tMzNrFEXqqUsaBrwF3FJaFhH/7s6GmZk1jCIFdeDPvLsAdX9gQ+BfwJbd2C4zs4bRTGPqFac0RsQHImLr9HUEsCPOp25mVjVJl0qaLWlqSdlASXdLejp9XSuVS9J5kp6RNKVc5txSeeapLyOl3N2p2uvMzJpW7ZazuwzYf7mybwPjU6d5fPoM2XrQI9I2BrgwTwV5xtS/VvKxD7Ad8FKem5uZNb0azn6JiAmShi9XfDCwV9q/HLgX+FYqvyIiAnhA0pqShkTErHJ15BlTX61kfynZGHvVK1ybmTWt/GPqgyRNKvk8NiLGVrhmcEmgfhkYnPbXB14sOW9GKut8UE8vHa0WEd+o0Cgzs0ISVT0onRMRoztbV0SE1LXHsh2OqUtaISJagN26UoGZWdOr3Zh6e16RNAQgfZ2dymcCQ0vO2yCVlVXuQek/0tdHJN0s6ShJh7VtnWi4mVnz6f4sjTcDR6f9o4GbSso/l2bB7AzMrzSeDvnG1PsDc8nWJG2brx7ADVU23MysOdXoQamka8geig6SNAM4A/gJ8AdJxwHTgU+m028DDgSeIXsB9Jg8dZQL6uummS9TeTeYt2miqfhmZl1Tq5ePIuKIDg59qJ1zA/hStXWUC+p9gQEsG8zfqa/aiszMmlYTRbxyQX1WRPywx1piZtaIuvYQtMeVC+qNsYyHmVmdNVPul3JB/T1jPGZmvVIRgnpEzOvJhpiZNapCLZJhZtarFWhM3cys1xPN9YDRQd3MrBL31M3MiqMos1/MzAzcUzczK4waLpLRExzUzcwqcU/dzKw4PKZuZlYkDupmZsXhnrqZWVEENVskoyc4qJuZlVHlwtN156BuZlaJg7qZWXEoahPVJW0GjCsp2gg4HVgT+ALwair/bkTc1pk6HNTNzMqpYZbGiPgXMApAUl9gJnAj2aLSP4+Is7tah4O6mVkF3TSm/iHg2YiYLtUuD2Sfmt3JzKyg1JpvAwZJmlSyjSlz208D15R8PlnSFEmXSlqrs211UDczqyRybjAnIkaXbGPbu52kFYGDgOtS0YXAxmRDM7OAczrbVA+/mJmVE90y/HIA8FBEvALQ9hVA0sXArZ29sXvqZmaV5O+p53UEJUMvkoaUHDsUmNrZprqnbmZWRq1fPpK0KvBh4ISS4p9KGkX2q+GF5Y5VxUHdzKwCtdYuqkfEm8Day5UdVav7O6ibmZVTw3nqPcFB3brka+f+m532XcDrc1bghH02A+Bzp81il4+8QQS8PmcFzv7KMOa90q/OLbVSffq0cv7ZtzN37iqcftbeQPD5Ix9l912n09oqbr1jU2768+b1bmbDaKaVj/ygtAJJC3Occ6qkaZKulnSIpJE90bZGcNe4gXzvyA2XKfvjhevyxX0346QPb8aDf1mdz371lQ6utno55KNP8uKMNd75vN8+z7HOoDc5/uSD+MIpB3HvxOH1a1wjqv2D0m7joF4bJwEfjogjgUOAXhPUpz44gAWvLfsH31sL+76z33/lVmqUNsNqZNDab7Lj6Je4/e5N3in76P5PcfW4rYnI3mycP79/vZrXkBT5tkbg4ZcqSDoN+CSwEnBjRJwh6SKypDy3S7qW7IWCPSV9Hzg8Ip6tX4vr5/PfmsW+n3iNN9/oyzc/vnG9m2MlTjxuMpdcvi2rrLzknbIh71vAnh98gV13fpH58/tzwSWjeWnW6nVsZQMJaKaeiXvqOUnaDxgB7Ej21tf2kvaIiBOBl4C9I+Is4GbgtIgY1V5AlzSm7RXiJSzuwe+gZ132/4fw2dEjueeGNTno2Dn1bo4lO42ewevz+/PMs8tMvqBfv1beXtKXU75xILffvQlfP+X+OrWwMVWRJqDu3FPPb7+0PZw+DyAL8hOquUl6bXgswOoa2Dy//jvpnhvX4sdXPs+VZ7+v3k0xYOTmr7LzDjPYYfuZrNivhVVWWcI3vzKROXNXYeL9wwD42wNDHdRLeJGM4hLwPxHxm3o3pNGtt+FiXnp+JQB2+ch8XnxmpTq3yNr87qpt+d1V2wKw9VYv8/GDp/HTX3yQY496mG0+8DJ3jd+Erbd6hRkvrVbnljaQiKYafnFQz+9O4EeSro6IhZLWB5ZExOzlzlsA9Jr/I759wXS23mUhawxcylWTnuDKcwaz4z4L2GDjxbS2wuyZK3LetzaodzOtgnE3bMm3vjqRww56kkWLVuAXv96l3k1qKO6pF1BE3CVpC+D+lPt4IfBZYPmgfi1wsaRTgY8X/UHpT056/3vK7rxm7XbOtEYzZer7mDI1GxZ7880VOf3H+9S5RQ3MQb04ImJAyf4vgV+2c87wkv2/0YumNJr1Bu6pm5kVRQAtzRPVHdTNzCpwT93MrEg8+8XMrDjcUzczK4oGStaVh4O6mVkZAuQHpWZmxaEajqlLeoHsJcUWYGlEjJY0EBgHDCdbzu6TEfFaZ+7vhF5mZuXkzaVeXdzfOyX9G50+fxsYHxEjgPHpc6c4qJuZlRXv5n+ptHXewcDlaf9ysnUZOsVB3cysgioWyRjUllo7bWPauV0Ad0maXHJ8cETMSvsvA4M721aPqZuZVZK/Fz6nZEilIx+MiJmS1gXulvTkslVFSJ2fROmgbmZWTtR29ktEzExfZ0u6kWzhnVckDYmIWZKG8N5Egbl5+MXMrJIaPSiVtKqk1dr2yRbemUq2YtrR6bSjgZs621T31M3MKqjhlMbBwI0pffcKwO8j4g5J/wT+IOk4YDrZWsid4qBuZlZJjYJ6RDwHbNNO+VzgQ7Wow0HdzKycABpkUek8HNTNzMoQUdM3Srubg7qZWSWtzdNVd1A3MyvHwy9mZsXi4RczsyJxUDczK4ouJ+vqUQ7qZmblBOBFMszMisNj6mZmReKgbmZWEAG0OqibmRWEH5SamRWLg7qZWUEE0NI8r5Q6qJuZlRUQDupmZsXh4Rczs4Lw7Bczs4Jpop66F542M6skIt9WgaShkv4q6QlJj0v6cio/U9JMSY+k7cDONtU9dTOzciKgpaVWd1sKfD0iHpK0GjBZ0t3p2M8j4uyuVuCgbmZWSe0Wnp4FzEr7CyRNA9avyc0TD7+YmVWSf/hlkKRJJduYjm4paTiwLfBgKjpZ0hRJl0paq7NNdVA3MysrstkveTaYExGjS7ax7d1R0gDgeuArEfEGcCGwMTCKrCd/Tmdb6+EXM7NyAqKGLx9J6kcW0K+OiBsAIuKVkuMXA7d29v4O6mZmldQoTYAkAb8FpkXEuSXlQ9J4O8ChwNTO1uGgbmZWTgS01qynvhtwFPCYpEdS2XeBIySNInvV6QXghM5W4KBuZlZJ7Wa/TATUzqHbalIBDupmZhVF7Xrq3c5B3cysLC+SYWZWHE7oZWZWHAFE7dIEdDsHdTOzcsKLZJiZFUp4+MXMrECaqKeuaKKnukUj6VVger3b0Q0GAXPq3QirSlF/Zu+PiHW6cgNJd5D9++QxJyL270p9XeWgbjUnaVJEjK53Oyw//8yKw1kazcwKxEHdzKxAHNStO7SbQ9oamn9mBeExdTOzAnFP3cysQBzUzcwKxEG9gCS1SHpE0uOSHpX0dUl90rHRks7r4LoXJOWdj1uu/kMkjezg2JmSvtHVOqx6khbmOOdUSdMkXV3u52iNy2+UFtOiiBgFIGld4PfA6sAZETEJmNTN9R9CtsbiE91cj9XeScC+ETFD0mX459h03FMvuIiYDYwBTlZmL0m3AkhaW9JdqUd/Ce2vyIKkhZLOSr3+ByQNTuXDJd0jaYqk8ZKGSdoVOAj4WfprYeOO2iZpY0l3SJos6T5Jm6fyj0l6UNLDkv4iabCkPukviTVLrn86HVtH0vWS/pm23Wr171dUkk5L/1ZTJP0glV0EbATcLul75Pw5WmNxUO8FIuI5oC+w7nKHzgAmRsSWwI3AsA5usSrwQERsA0wAvpDKzwcuj4itgauB8yLi78DNwGkRMSoini3TtLHAKRGxPfAN4IJUPhHYOSK2Ba4FvhnZcu43kS3Ki6SdgOlpFfZfAj+PiB2Aw4FLKv6j9GKS9gNGADsCo4DtJe0REScCLwF7R8RZ5P85WgPx8EvvtgdwGEBE/FnSax2c9zbZn+EAk4EPp/1d2q4HrgR+mrdiSQOAXYHrsgXWAVgpfd0AGCdpCLAi8HwqHwecDvwO+HT6DLAvMLLkPqtLGhARFceQe6n90vZw+jyALMhPqFuLrGYc1HsBSRsBLcBsYItO3GJJvPtCQwu1+e+mD/B629j/cs4Hzo2ImyXtBZyZyu8HNpG0Dtm4/Y9L7rVzRPynBu3qDQT8T0T8pt4Nsdrz8EvBpQB4EfCreO+bZhOAz6TzDgDWqvL2fyfrMQMcCdyX9hcAq5W7MCLeAJ6X9IlUvyRtkw6vAcxM+0eXXBNkw0TnAtMiYm46dBdwStt5kkZV+X30NncCx6a/lpC0fnqgvryKP0drPA7qxbRy25RG4C9kQe8H7Zz3A2CPdN5hwL+rrOcU4BhJU4CjgC+n8muB09KDznIP2I4EjpP0KPA4cHAqP5NsWGYy700HOw74LO8OvQCcCoxOD/2eAE6s8vvoVSLiLrIZUfdLegz4I+0H77w/R2sgThNgZlYg7qmbmRWIg7qZWYE4qJuZFYiDuplZgTiom5kViIO6NaySbJNTJV0naZUu3OsySR9P+5eUyz6Y8uPs2ok62s1ymSf7ZZ4Misud72yX1i4HdWtki1Leka3IUhUsM/9cUqfebI2I4yOiXObBvchSGJg1HQd1axb3kaUI2CtldLwZeEJSX0k/K8k4eAK884bqryT9S9JfKElmJuleSaPT/v6SHkoZKMdLGk72y+Or6a+E3TvKAqmcWS5LSfpTykr5uKQxyx37eSofn94E7jCTpVlHnPvFGl7qkR8A3JGKtgO2iojnU2CcHxE7SFoJ+Juku4Btgc2AkcBgspzgly5333WAi4E90r0GRsS8lIJ2YUScnc77PVkWyImShpG9Zr8F72a5/KGk/wKOy/HtHJvqWBn4p6TrU7qDVYFJEfFVSaene59MlsnyxIh4OmWmvADYpxP/jNZLOKhbI1tZ0iNp/z7gt2TDIv+IiLbMjfsBW7eNl5PljRlBloHymohoAV6SdE87998ZmNB2r4iY10E72s0CSf4sl6VOlXRo2h+a2joXaOXd1AdXATdUyGRp1i4HdWtk76zg1CYFtzdLi8hyst+53HkH1rAd7WaBLAm0uaSMk/sCu0TEW5LuBfp3cHpQPpOlWbs8pm7N7k7gi5L6AUjaVNKqZBkoP5XG3IcAe7dz7QNkCc02TNcOTOXLZyfsKAtktVku1wBeSwF9c7K/FNr0Adr+2vgM2bBOuUyWZu1yULdmdwnZePlDkqYCvyH7C/RG4Ol07AqyXOzLiIhXyZb6uyFlimwb/rgFOLTtQSkdZ4GsNsvlHcAKkqYBPyH7pdLmTWDH9D3sA/wwlXeUydKsXc7SaGZWIO6pm5kViIO6mVmBOKibmRWIg7qZWYE4qJuZFYiDuplZgTiom5kVyP8BiyqzomYctbkAAAAASUVORK5CYII=\n",
      "text/plain": [
       "<Figure size 432x288 with 2 Axes>"
      ]
     },
     "metadata": {
      "needs_background": "light"
     },
     "output_type": "display_data"
    }
   ],
   "source": [
    "plot_confusion_matrix(log_reg,\n",
    "                     X_test,\n",
    "                     y_test,\n",
    "                     values_format = 'd',\n",
    "                     display_labels= ['Did not leave','left'])"
   ]
  },
  {
   "cell_type": "markdown",
   "id": "651b9eeb",
   "metadata": {
    "papermill": {
     "duration": 0.050958,
     "end_time": "2022-01-26T12:58:53.830420",
     "exception": false,
     "start_time": "2022-01-26T12:58:53.779462",
     "status": "completed"
    },
    "tags": []
   },
   "source": []
  },
  {
   "cell_type": "markdown",
   "id": "867ac1a5",
   "metadata": {
    "papermill": {
     "duration": 0.050999,
     "end_time": "2022-01-26T12:58:53.933510",
     "exception": false,
     "start_time": "2022-01-26T12:58:53.882511",
     "status": "completed"
    },
    "tags": []
   },
   "source": [
    "# Model2:Building a Preliminary XGBoost Model"
   ]
  },
  {
   "cell_type": "code",
   "execution_count": 26,
   "id": "ea29611c",
   "metadata": {
    "execution": {
     "iopub.execute_input": "2022-01-26T12:58:54.040677Z",
     "iopub.status.busy": "2022-01-26T12:58:54.040043Z",
     "iopub.status.idle": "2022-01-26T12:58:54.756800Z",
     "shell.execute_reply": "2022-01-26T12:58:54.757419Z",
     "shell.execute_reply.started": "2022-01-22T16:00:51.886531Z"
    },
    "papermill": {
     "duration": 0.771672,
     "end_time": "2022-01-26T12:58:54.757591",
     "exception": false,
     "start_time": "2022-01-26T12:58:53.985919",
     "status": "completed"
    },
    "tags": []
   },
   "outputs": [
    {
     "name": "stdout",
     "output_type": "stream",
     "text": [
      "[0]\tvalidation_0-aucpr:0.32947\n",
      "[1]\tvalidation_0-aucpr:0.39181\n",
      "[2]\tvalidation_0-aucpr:0.42299\n",
      "[3]\tvalidation_0-aucpr:0.44818\n",
      "[4]\tvalidation_0-aucpr:0.47232\n",
      "[5]\tvalidation_0-aucpr:0.46093\n",
      "[6]\tvalidation_0-aucpr:0.46626\n",
      "[7]\tvalidation_0-aucpr:0.51263\n",
      "[8]\tvalidation_0-aucpr:0.54315\n",
      "[9]\tvalidation_0-aucpr:0.55170\n",
      "[10]\tvalidation_0-aucpr:0.54844\n",
      "[11]\tvalidation_0-aucpr:0.54252\n",
      "[12]\tvalidation_0-aucpr:0.54660\n",
      "[13]\tvalidation_0-aucpr:0.56350\n",
      "[14]\tvalidation_0-aucpr:0.56719\n",
      "[15]\tvalidation_0-aucpr:0.57941\n",
      "[16]\tvalidation_0-aucpr:0.58000\n",
      "[17]\tvalidation_0-aucpr:0.57788\n",
      "[18]\tvalidation_0-aucpr:0.57996\n",
      "[19]\tvalidation_0-aucpr:0.57270\n",
      "[20]\tvalidation_0-aucpr:0.57152\n",
      "[21]\tvalidation_0-aucpr:0.56620\n",
      "[22]\tvalidation_0-aucpr:0.56072\n",
      "[23]\tvalidation_0-aucpr:0.55687\n",
      "[24]\tvalidation_0-aucpr:0.56531\n",
      "[25]\tvalidation_0-aucpr:0.56844\n",
      "[26]\tvalidation_0-aucpr:0.56506\n"
     ]
    },
    {
     "data": {
      "text/plain": [
       "XGBClassifier(base_score=0.5, booster='gbtree', colsample_bylevel=1,\n",
       "              colsample_bynode=1, colsample_bytree=1, enable_categorical=False,\n",
       "              eval_metric='logloss', gamma=0, gpu_id=-1, importance_type=None,\n",
       "              interaction_constraints='', learning_rate=0.300000012,\n",
       "              max_delta_step=0, max_depth=6, min_child_weight=1, missing=nan,\n",
       "              monotone_constraints='()', n_estimators=100, n_jobs=4,\n",
       "              num_parallel_tree=1, predictor='auto', random_state=42,\n",
       "              reg_alpha=0, reg_lambda=1, scale_pos_weight=1, seed=42,\n",
       "              subsample=1, tree_method='exact', use_label_encoder=False,\n",
       "              validate_parameters=1, ...)"
      ]
     },
     "execution_count": 26,
     "metadata": {},
     "output_type": "execute_result"
    }
   ],
   "source": [
    "clf_xgb = xgb.XGBClassifier(objective = 'binary:logistic',\n",
    "                           eval_metric = 'logloss',\n",
    "                           seed = 42,\n",
    "                           use_label_encoder = False)\n",
    "clf_xgb.fit(X_train,\n",
    "           y_train,\n",
    "           verbose = True,\n",
    "           early_stopping_rounds = 10,\n",
    "           eval_metric = 'aucpr',\n",
    "           eval_set = [(X_test,y_test)])"
   ]
  },
  {
   "cell_type": "code",
   "execution_count": 27,
   "id": "13b4b6ad",
   "metadata": {
    "execution": {
     "iopub.execute_input": "2022-01-26T12:58:54.886083Z",
     "iopub.status.busy": "2022-01-26T12:58:54.885372Z",
     "iopub.status.idle": "2022-01-26T12:58:55.073878Z",
     "shell.execute_reply": "2022-01-26T12:58:55.074918Z",
     "shell.execute_reply.started": "2022-01-22T16:00:52.624156Z"
    },
    "papermill": {
     "duration": 0.256824,
     "end_time": "2022-01-26T12:58:55.075188",
     "exception": false,
     "start_time": "2022-01-26T12:58:54.818364",
     "status": "completed"
    },
    "tags": []
   },
   "outputs": [
    {
     "data": {
      "text/plain": [
       "<sklearn.metrics._plot.confusion_matrix.ConfusionMatrixDisplay at 0x7ff401582dd0>"
      ]
     },
     "execution_count": 27,
     "metadata": {},
     "output_type": "execute_result"
    },
    {
     "data": {
      "image/png": "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\n",
      "text/plain": [
       "<Figure size 432x288 with 2 Axes>"
      ]
     },
     "metadata": {
      "needs_background": "light"
     },
     "output_type": "display_data"
    }
   ],
   "source": [
    "plot_confusion_matrix(clf_xgb,\n",
    "                     X_test,\n",
    "                     y_test,\n",
    "                     values_format = 'd',\n",
    "                     display_labels= ['Did not leave','left'])"
   ]
  },
  {
   "cell_type": "markdown",
   "id": "d4c9141a",
   "metadata": {
    "papermill": {
     "duration": 0.061875,
     "end_time": "2022-01-26T12:58:55.202550",
     "exception": false,
     "start_time": "2022-01-26T12:58:55.140675",
     "status": "completed"
    },
    "tags": []
   },
   "source": [
    "In the confusion matrix, we see that of the 368 people that did not leave, 301 (82%) were correctly classified. And of the 59 people that left the company, 19 (32%) were correctly classified. So the XGBoost model was not awesome. "
   ]
  },
  {
   "cell_type": "markdown",
   "id": "f94a82b0",
   "metadata": {
    "papermill": {
     "duration": 0.062057,
     "end_time": "2022-01-26T12:58:55.326726",
     "exception": false,
     "start_time": "2022-01-26T12:58:55.264669",
     "status": "completed"
    },
    "tags": []
   },
   "source": [
    "# Building, Drawing, Interpreting and Evaluating the Optimized XGBoost Model"
   ]
  },
  {
   "cell_type": "code",
   "execution_count": 28,
   "id": "f6d539ea",
   "metadata": {
    "execution": {
     "iopub.execute_input": "2022-01-26T12:58:55.455527Z",
     "iopub.status.busy": "2022-01-26T12:58:55.454871Z",
     "iopub.status.idle": "2022-01-26T12:58:55.460774Z",
     "shell.execute_reply": "2022-01-26T12:58:55.460229Z",
     "shell.execute_reply.started": "2022-01-22T16:00:52.882585Z"
    },
    "papermill": {
     "duration": 0.072431,
     "end_time": "2022-01-26T12:58:55.460908",
     "exception": false,
     "start_time": "2022-01-26T12:58:55.388477",
     "status": "completed"
    },
    "tags": []
   },
   "outputs": [],
   "source": [
    "clf_xgb = xgb.XGBClassifier(seed=42,\n",
    "                        objective='binary:logistic',\n",
    "                        eval_metric=\"logloss\", ## this avoids warning...\n",
    "                        gamma=0.25,\n",
    "                        learning_rate=0.1,\n",
    "                        max_depth=5,\n",
    "                        reg_lambda=10,\n",
    "                        scale_pos_weight=6,\n",
    "                        subsample=0.8,\n",
    "                        colsample_bytree=0.5,\n",
    "                        use_label_encoder=False)"
   ]
  },
  {
   "cell_type": "code",
   "execution_count": 29,
   "id": "b5881b9f",
   "metadata": {
    "execution": {
     "iopub.execute_input": "2022-01-26T12:58:55.589734Z",
     "iopub.status.busy": "2022-01-26T12:58:55.589110Z",
     "iopub.status.idle": "2022-01-26T12:58:56.044142Z",
     "shell.execute_reply": "2022-01-26T12:58:56.043646Z",
     "shell.execute_reply.started": "2022-01-22T16:00:52.889752Z"
    },
    "papermill": {
     "duration": 0.521232,
     "end_time": "2022-01-26T12:58:56.044304",
     "exception": false,
     "start_time": "2022-01-26T12:58:55.523072",
     "status": "completed"
    },
    "tags": []
   },
   "outputs": [
    {
     "name": "stdout",
     "output_type": "stream",
     "text": [
      "[0]\tvalidation_0-auc:0.78276\n",
      "[1]\tvalidation_0-auc:0.77708\n",
      "[2]\tvalidation_0-auc:0.79324\n",
      "[3]\tvalidation_0-auc:0.81726\n",
      "[4]\tvalidation_0-auc:0.82494\n",
      "[5]\tvalidation_0-auc:0.82187\n",
      "[6]\tvalidation_0-auc:0.82993\n",
      "[7]\tvalidation_0-auc:0.82969\n",
      "[8]\tvalidation_0-auc:0.82919\n",
      "[9]\tvalidation_0-auc:0.82497\n",
      "[10]\tvalidation_0-auc:0.83067\n",
      "[11]\tvalidation_0-auc:0.83369\n",
      "[12]\tvalidation_0-auc:0.83621\n",
      "[13]\tvalidation_0-auc:0.83704\n",
      "[14]\tvalidation_0-auc:0.83435\n",
      "[15]\tvalidation_0-auc:0.84082\n",
      "[16]\tvalidation_0-auc:0.84153\n",
      "[17]\tvalidation_0-auc:0.84038\n",
      "[18]\tvalidation_0-auc:0.84071\n",
      "[19]\tvalidation_0-auc:0.84219\n",
      "[20]\tvalidation_0-auc:0.84329\n",
      "[21]\tvalidation_0-auc:0.84197\n",
      "[22]\tvalidation_0-auc:0.84005\n",
      "[23]\tvalidation_0-auc:0.83610\n",
      "[24]\tvalidation_0-auc:0.83725\n",
      "[25]\tvalidation_0-auc:0.83512\n",
      "[26]\tvalidation_0-auc:0.83484\n",
      "[27]\tvalidation_0-auc:0.83523\n",
      "[28]\tvalidation_0-auc:0.83534\n",
      "[29]\tvalidation_0-auc:0.83737\n"
     ]
    },
    {
     "data": {
      "text/plain": [
       "<sklearn.metrics._plot.confusion_matrix.ConfusionMatrixDisplay at 0x7ff4013d2cd0>"
      ]
     },
     "execution_count": 29,
     "metadata": {},
     "output_type": "execute_result"
    },
    {
     "data": {
      "image/png": "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\n",
      "text/plain": [
       "<Figure size 432x288 with 2 Axes>"
      ]
     },
     "metadata": {
      "needs_background": "light"
     },
     "output_type": "display_data"
    }
   ],
   "source": [
    "clf_xgb.fit(X_train,\n",
    "            y_train,\n",
    "            early_stopping_rounds = 10,\n",
    "            eval_metric = 'auc',\n",
    "            eval_set = [(X_test,y_test)],\n",
    "            verbose = True)\n",
    "\n",
    "plot_confusion_matrix(clf_xgb,\n",
    "                     X_test,\n",
    "                     y_test,\n",
    "                     values_format = 'd',\n",
    "                     display_labels= ['Did not leave','left'])"
   ]
  },
  {
   "cell_type": "markdown",
   "id": "65e12cd2",
   "metadata": {
    "execution": {
     "iopub.execute_input": "2022-01-10T15:19:01.590827Z",
     "iopub.status.busy": "2022-01-10T15:19:01.590522Z",
     "iopub.status.idle": "2022-01-10T15:19:01.599301Z",
     "shell.execute_reply": "2022-01-10T15:19:01.598081Z",
     "shell.execute_reply.started": "2022-01-10T15:19:01.590795Z"
    },
    "papermill": {
     "duration": 0.071904,
     "end_time": "2022-01-26T12:58:56.188578",
     "exception": false,
     "start_time": "2022-01-26T12:58:56.116674",
     "status": "completed"
    },
    "tags": []
   },
   "source": [
    "In the confusion matrix, And of the 59 people that left the company, 45 (76%) were correctly classified. "
   ]
  },
  {
   "cell_type": "markdown",
   "id": "ae50d92a",
   "metadata": {
    "papermill": {
     "duration": 0.070979,
     "end_time": "2022-01-26T12:58:56.330369",
     "exception": false,
     "start_time": "2022-01-26T12:58:56.259390",
     "status": "completed"
    },
    "tags": []
   },
   "source": [
    "Compare with XGBoost and LR model,XGBoost works a little better than LR"
   ]
  },
  {
   "cell_type": "markdown",
   "id": "fabef08e",
   "metadata": {
    "papermill": {
     "duration": 0.072928,
     "end_time": "2022-01-26T12:58:56.474361",
     "exception": false,
     "start_time": "2022-01-26T12:58:56.401433",
     "status": "completed"
    },
    "tags": []
   },
   "source": [
    "# SHAP for XGBoost"
   ]
  },
  {
   "cell_type": "code",
   "execution_count": 30,
   "id": "b9b366e9",
   "metadata": {
    "execution": {
     "iopub.execute_input": "2022-01-26T12:58:56.616036Z",
     "iopub.status.busy": "2022-01-26T12:58:56.615381Z",
     "iopub.status.idle": "2022-01-26T12:58:57.091159Z",
     "shell.execute_reply": "2022-01-26T12:58:57.090485Z",
     "shell.execute_reply.started": "2022-01-22T16:00:53.37847Z"
    },
    "papermill": {
     "duration": 0.547519,
     "end_time": "2022-01-26T12:58:57.091339",
     "exception": false,
     "start_time": "2022-01-26T12:58:56.543820",
     "status": "completed"
    },
    "tags": []
   },
   "outputs": [
    {
     "name": "stdout",
     "output_type": "stream",
     "text": [
      "[0]\tvalidation_0-aucpr:0.44269\n",
      "[1]\tvalidation_0-aucpr:0.45278\n",
      "[2]\tvalidation_0-aucpr:0.49825\n",
      "[3]\tvalidation_0-aucpr:0.51009\n",
      "[4]\tvalidation_0-aucpr:0.49128\n",
      "[5]\tvalidation_0-aucpr:0.50543\n",
      "[6]\tvalidation_0-aucpr:0.52641\n",
      "[7]\tvalidation_0-aucpr:0.53775\n",
      "[8]\tvalidation_0-aucpr:0.58075\n",
      "[9]\tvalidation_0-aucpr:0.56346\n",
      "[10]\tvalidation_0-aucpr:0.57291\n",
      "[11]\tvalidation_0-aucpr:0.56884\n",
      "[12]\tvalidation_0-aucpr:0.55704\n",
      "[13]\tvalidation_0-aucpr:0.55631\n",
      "[14]\tvalidation_0-aucpr:0.54091\n",
      "[15]\tvalidation_0-aucpr:0.56656\n",
      "[16]\tvalidation_0-aucpr:0.57866\n",
      "[17]\tvalidation_0-aucpr:0.57726\n"
     ]
    },
    {
     "data": {
      "text/plain": [
       "XGBClassifier(base_score=0.5, booster='gbtree', colsample_bylevel=1,\n",
       "              colsample_bynode=1, colsample_bytree=0.5,\n",
       "              enable_categorical=False, eval_metric='logloss', gamma=0.25,\n",
       "              gpu_id=-1, importance_type=None, interaction_constraints='',\n",
       "              learning_rate=0.1, max_delta_step=0, max_depth=5,\n",
       "              min_child_weight=1, missing=nan, monotone_constraints='()',\n",
       "              n_estimators=100, n_jobs=4, num_parallel_tree=1, predictor='auto',\n",
       "              random_state=42, reg_alpha=0, reg_lambda=10, scale_pos_weight=6,\n",
       "              seed=42, subsample=0.8, tree_method='exact',\n",
       "              use_label_encoder=False, validate_parameters=1, ...)"
      ]
     },
     "execution_count": 30,
     "metadata": {},
     "output_type": "execute_result"
    }
   ],
   "source": [
    "clf_xgb = xgb.XGBClassifier(seed=42,\n",
    "                        objective='binary:logistic',\n",
    "                        eval_metric=\"logloss\", ## this avoids warning...\n",
    "                        gamma=0.25,\n",
    "                        learning_rate=0.1,\n",
    "                        max_depth=5,\n",
    "                        reg_lambda=10,\n",
    "                        scale_pos_weight=6,\n",
    "                        subsample=0.8,\n",
    "                        colsample_bytree=0.5,\n",
    "                        use_label_encoder=False)\n",
    "clf_xgb.fit(X_train,\n",
    "            y_train,\n",
    "            early_stopping_rounds = 10,\n",
    "            eval_metric = 'aucpr',\n",
    "            eval_set = [(X_test,y_test)],\n",
    "            verbose = True)"
   ]
  },
  {
   "cell_type": "code",
   "execution_count": 31,
   "id": "925cb561",
   "metadata": {
    "execution": {
     "iopub.execute_input": "2022-01-26T12:58:57.252065Z",
     "iopub.status.busy": "2022-01-26T12:58:57.251046Z",
     "iopub.status.idle": "2022-01-26T12:58:57.270374Z",
     "shell.execute_reply": "2022-01-26T12:58:57.270819Z",
     "shell.execute_reply.started": "2022-01-22T16:00:53.861715Z"
    },
    "papermill": {
     "duration": 0.100284,
     "end_time": "2022-01-26T12:58:57.270997",
     "exception": false,
     "start_time": "2022-01-26T12:58:57.170713",
     "status": "completed"
    },
    "tags": []
   },
   "outputs": [
    {
     "data": {
      "text/html": [
       "<div>\n",
       "<style scoped>\n",
       "    .dataframe tbody tr th:only-of-type {\n",
       "        vertical-align: middle;\n",
       "    }\n",
       "\n",
       "    .dataframe tbody tr th {\n",
       "        vertical-align: top;\n",
       "    }\n",
       "\n",
       "    .dataframe thead th {\n",
       "        text-align: right;\n",
       "    }\n",
       "</style>\n",
       "<table border=\"1\" class=\"dataframe\">\n",
       "  <thead>\n",
       "    <tr style=\"text-align: right;\">\n",
       "      <th></th>\n",
       "      <th>feature_name</th>\n",
       "      <th>feature_imp</th>\n",
       "    </tr>\n",
       "  </thead>\n",
       "  <tbody>\n",
       "    <tr>\n",
       "      <th>16</th>\n",
       "      <td>StockOptionLevel</td>\n",
       "      <td>0.062679</td>\n",
       "    </tr>\n",
       "    <tr>\n",
       "      <th>51</th>\n",
       "      <td>OverTime_Yes</td>\n",
       "      <td>0.060446</td>\n",
       "    </tr>\n",
       "    <tr>\n",
       "      <th>50</th>\n",
       "      <td>OverTime_No</td>\n",
       "      <td>0.057733</td>\n",
       "    </tr>\n",
       "    <tr>\n",
       "      <th>7</th>\n",
       "      <td>JobLevel</td>\n",
       "      <td>0.054969</td>\n",
       "    </tr>\n",
       "    <tr>\n",
       "      <th>37</th>\n",
       "      <td>Gender_Male</td>\n",
       "      <td>0.037636</td>\n",
       "    </tr>\n",
       "    <tr>\n",
       "      <th>45</th>\n",
       "      <td>JobRole_Sales Executive</td>\n",
       "      <td>0.036308</td>\n",
       "    </tr>\n",
       "    <tr>\n",
       "      <th>20</th>\n",
       "      <td>YearsAtCompany</td>\n",
       "      <td>0.035001</td>\n",
       "    </tr>\n",
       "    <tr>\n",
       "      <th>4</th>\n",
       "      <td>EnvironmentSatisfaction</td>\n",
       "      <td>0.031685</td>\n",
       "    </tr>\n",
       "    <tr>\n",
       "      <th>9</th>\n",
       "      <td>MonthlyIncome</td>\n",
       "      <td>0.031088</td>\n",
       "    </tr>\n",
       "    <tr>\n",
       "      <th>8</th>\n",
       "      <td>JobSatisfaction</td>\n",
       "      <td>0.028544</td>\n",
       "    </tr>\n",
       "    <tr>\n",
       "      <th>11</th>\n",
       "      <td>NumCompaniesWorked</td>\n",
       "      <td>0.027723</td>\n",
       "    </tr>\n",
       "    <tr>\n",
       "      <th>35</th>\n",
       "      <td>EducationField_Technical Degree</td>\n",
       "      <td>0.026466</td>\n",
       "    </tr>\n",
       "    <tr>\n",
       "      <th>40</th>\n",
       "      <td>JobRole_Laboratory Technician</td>\n",
       "      <td>0.024083</td>\n",
       "    </tr>\n",
       "    <tr>\n",
       "      <th>23</th>\n",
       "      <td>YearsWithCurrManager</td>\n",
       "      <td>0.023876</td>\n",
       "    </tr>\n",
       "    <tr>\n",
       "      <th>31</th>\n",
       "      <td>EducationField_Life Sciences</td>\n",
       "      <td>0.022967</td>\n",
       "    </tr>\n",
       "    <tr>\n",
       "      <th>29</th>\n",
       "      <td>Department_Sales</td>\n",
       "      <td>0.022684</td>\n",
       "    </tr>\n",
       "    <tr>\n",
       "      <th>17</th>\n",
       "      <td>TotalWorkingYears</td>\n",
       "      <td>0.022576</td>\n",
       "    </tr>\n",
       "    <tr>\n",
       "      <th>26</th>\n",
       "      <td>BusinessTravel_Travel_Rarely</td>\n",
       "      <td>0.022058</td>\n",
       "    </tr>\n",
       "    <tr>\n",
       "      <th>0</th>\n",
       "      <td>Age</td>\n",
       "      <td>0.021962</td>\n",
       "    </tr>\n",
       "    <tr>\n",
       "      <th>22</th>\n",
       "      <td>YearsSinceLastPromotion</td>\n",
       "      <td>0.021090</td>\n",
       "    </tr>\n",
       "    <tr>\n",
       "      <th>33</th>\n",
       "      <td>EducationField_Medical</td>\n",
       "      <td>0.020250</td>\n",
       "    </tr>\n",
       "    <tr>\n",
       "      <th>2</th>\n",
       "      <td>DistanceFromHome</td>\n",
       "      <td>0.020220</td>\n",
       "    </tr>\n",
       "    <tr>\n",
       "      <th>21</th>\n",
       "      <td>YearsInCurrentRole</td>\n",
       "      <td>0.016024</td>\n",
       "    </tr>\n",
       "    <tr>\n",
       "      <th>38</th>\n",
       "      <td>JobRole_Healthcare Representative</td>\n",
       "      <td>0.015743</td>\n",
       "    </tr>\n",
       "    <tr>\n",
       "      <th>19</th>\n",
       "      <td>WorkLifeBalance</td>\n",
       "      <td>0.015219</td>\n",
       "    </tr>\n",
       "    <tr>\n",
       "      <th>43</th>\n",
       "      <td>JobRole_Research Director</td>\n",
       "      <td>0.014782</td>\n",
       "    </tr>\n",
       "    <tr>\n",
       "      <th>44</th>\n",
       "      <td>JobRole_Research Scientist</td>\n",
       "      <td>0.014479</td>\n",
       "    </tr>\n",
       "    <tr>\n",
       "      <th>25</th>\n",
       "      <td>BusinessTravel_Travel_Frequently</td>\n",
       "      <td>0.014415</td>\n",
       "    </tr>\n",
       "    <tr>\n",
       "      <th>6</th>\n",
       "      <td>JobInvolvement</td>\n",
       "      <td>0.014272</td>\n",
       "    </tr>\n",
       "    <tr>\n",
       "      <th>42</th>\n",
       "      <td>JobRole_Manufacturing Director</td>\n",
       "      <td>0.013299</td>\n",
       "    </tr>\n",
       "    <tr>\n",
       "      <th>5</th>\n",
       "      <td>HourlyRate</td>\n",
       "      <td>0.013126</td>\n",
       "    </tr>\n",
       "    <tr>\n",
       "      <th>10</th>\n",
       "      <td>MonthlyRate</td>\n",
       "      <td>0.013059</td>\n",
       "    </tr>\n",
       "    <tr>\n",
       "      <th>12</th>\n",
       "      <td>PercentSalaryHike</td>\n",
       "      <td>0.013046</td>\n",
       "    </tr>\n",
       "    <tr>\n",
       "      <th>1</th>\n",
       "      <td>DailyRate</td>\n",
       "      <td>0.012690</td>\n",
       "    </tr>\n",
       "    <tr>\n",
       "      <th>28</th>\n",
       "      <td>Department_Research &amp; Development</td>\n",
       "      <td>0.012395</td>\n",
       "    </tr>\n",
       "    <tr>\n",
       "      <th>39</th>\n",
       "      <td>JobRole_Human Resources</td>\n",
       "      <td>0.011676</td>\n",
       "    </tr>\n",
       "    <tr>\n",
       "      <th>14</th>\n",
       "      <td>RelationshipSatisfaction</td>\n",
       "      <td>0.011653</td>\n",
       "    </tr>\n",
       "    <tr>\n",
       "      <th>18</th>\n",
       "      <td>TrainingTimesLastYear</td>\n",
       "      <td>0.010254</td>\n",
       "    </tr>\n",
       "    <tr>\n",
       "      <th>41</th>\n",
       "      <td>JobRole_Manager</td>\n",
       "      <td>0.010093</td>\n",
       "    </tr>\n",
       "    <tr>\n",
       "      <th>24</th>\n",
       "      <td>BusinessTravel_Non-Travel</td>\n",
       "      <td>0.009080</td>\n",
       "    </tr>\n",
       "    <tr>\n",
       "      <th>46</th>\n",
       "      <td>JobRole_Sales Representative</td>\n",
       "      <td>0.008700</td>\n",
       "    </tr>\n",
       "    <tr>\n",
       "      <th>13</th>\n",
       "      <td>PerformanceRating</td>\n",
       "      <td>0.008633</td>\n",
       "    </tr>\n",
       "    <tr>\n",
       "      <th>47</th>\n",
       "      <td>MaritalStatus_Divorced</td>\n",
       "      <td>0.007743</td>\n",
       "    </tr>\n",
       "    <tr>\n",
       "      <th>3</th>\n",
       "      <td>Education</td>\n",
       "      <td>0.007349</td>\n",
       "    </tr>\n",
       "    <tr>\n",
       "      <th>49</th>\n",
       "      <td>MaritalStatus_Single</td>\n",
       "      <td>0.007315</td>\n",
       "    </tr>\n",
       "    <tr>\n",
       "      <th>36</th>\n",
       "      <td>Gender_Female</td>\n",
       "      <td>0.004600</td>\n",
       "    </tr>\n",
       "    <tr>\n",
       "      <th>34</th>\n",
       "      <td>EducationField_Other</td>\n",
       "      <td>0.004351</td>\n",
       "    </tr>\n",
       "    <tr>\n",
       "      <th>32</th>\n",
       "      <td>EducationField_Marketing</td>\n",
       "      <td>0.003959</td>\n",
       "    </tr>\n",
       "    <tr>\n",
       "      <th>27</th>\n",
       "      <td>Department_Human Resources</td>\n",
       "      <td>0.000000</td>\n",
       "    </tr>\n",
       "    <tr>\n",
       "      <th>30</th>\n",
       "      <td>EducationField_Human Resources</td>\n",
       "      <td>0.000000</td>\n",
       "    </tr>\n",
       "    <tr>\n",
       "      <th>48</th>\n",
       "      <td>MaritalStatus_Married</td>\n",
       "      <td>0.000000</td>\n",
       "    </tr>\n",
       "    <tr>\n",
       "      <th>15</th>\n",
       "      <td>StandardHours</td>\n",
       "      <td>0.000000</td>\n",
       "    </tr>\n",
       "  </tbody>\n",
       "</table>\n",
       "</div>"
      ],
      "text/plain": [
       "                         feature_name  feature_imp\n",
       "16                   StockOptionLevel     0.062679\n",
       "51                       OverTime_Yes     0.060446\n",
       "50                        OverTime_No     0.057733\n",
       "7                            JobLevel     0.054969\n",
       "37                        Gender_Male     0.037636\n",
       "45            JobRole_Sales Executive     0.036308\n",
       "20                     YearsAtCompany     0.035001\n",
       "4             EnvironmentSatisfaction     0.031685\n",
       "9                       MonthlyIncome     0.031088\n",
       "8                     JobSatisfaction     0.028544\n",
       "11                 NumCompaniesWorked     0.027723\n",
       "35    EducationField_Technical Degree     0.026466\n",
       "40      JobRole_Laboratory Technician     0.024083\n",
       "23               YearsWithCurrManager     0.023876\n",
       "31       EducationField_Life Sciences     0.022967\n",
       "29                   Department_Sales     0.022684\n",
       "17                  TotalWorkingYears     0.022576\n",
       "26       BusinessTravel_Travel_Rarely     0.022058\n",
       "0                                 Age     0.021962\n",
       "22            YearsSinceLastPromotion     0.021090\n",
       "33             EducationField_Medical     0.020250\n",
       "2                    DistanceFromHome     0.020220\n",
       "21                 YearsInCurrentRole     0.016024\n",
       "38  JobRole_Healthcare Representative     0.015743\n",
       "19                    WorkLifeBalance     0.015219\n",
       "43          JobRole_Research Director     0.014782\n",
       "44         JobRole_Research Scientist     0.014479\n",
       "25   BusinessTravel_Travel_Frequently     0.014415\n",
       "6                      JobInvolvement     0.014272\n",
       "42     JobRole_Manufacturing Director     0.013299\n",
       "5                          HourlyRate     0.013126\n",
       "10                        MonthlyRate     0.013059\n",
       "12                  PercentSalaryHike     0.013046\n",
       "1                           DailyRate     0.012690\n",
       "28  Department_Research & Development     0.012395\n",
       "39            JobRole_Human Resources     0.011676\n",
       "14           RelationshipSatisfaction     0.011653\n",
       "18              TrainingTimesLastYear     0.010254\n",
       "41                    JobRole_Manager     0.010093\n",
       "24          BusinessTravel_Non-Travel     0.009080\n",
       "46       JobRole_Sales Representative     0.008700\n",
       "13                  PerformanceRating     0.008633\n",
       "47             MaritalStatus_Divorced     0.007743\n",
       "3                           Education     0.007349\n",
       "49               MaritalStatus_Single     0.007315\n",
       "36                      Gender_Female     0.004600\n",
       "34               EducationField_Other     0.004351\n",
       "32           EducationField_Marketing     0.003959\n",
       "27         Department_Human Resources     0.000000\n",
       "30     EducationField_Human Resources     0.000000\n",
       "48              MaritalStatus_Married     0.000000\n",
       "15                      StandardHours     0.000000"
      ]
     },
     "execution_count": 31,
     "metadata": {},
     "output_type": "execute_result"
    }
   ],
   "source": [
    "features = X_encode.columns\n",
    "importances = clf_xgb.feature_importances_\n",
    "\n",
    "importances_df = pd.DataFrame()\n",
    "importances_df['feature_name'] = features\n",
    "importances_df['feature_imp'] = importances\n",
    "importances_df.sort_values('feature_imp',ascending = False)"
   ]
  },
  {
   "cell_type": "code",
   "execution_count": 32,
   "id": "b188ccfb",
   "metadata": {
    "execution": {
     "iopub.execute_input": "2022-01-26T12:58:57.434394Z",
     "iopub.status.busy": "2022-01-26T12:58:57.433574Z",
     "iopub.status.idle": "2022-01-26T12:58:58.963839Z",
     "shell.execute_reply": "2022-01-26T12:58:58.964534Z",
     "shell.execute_reply.started": "2022-01-22T16:00:53.882272Z"
    },
    "papermill": {
     "duration": 1.614339,
     "end_time": "2022-01-26T12:58:58.964713",
     "exception": false,
     "start_time": "2022-01-26T12:58:57.350374",
     "status": "completed"
    },
    "tags": []
   },
   "outputs": [
    {
     "name": "stderr",
     "output_type": "stream",
     "text": [
      "ntree_limit is deprecated, use `iteration_range` or model slicing instead.\n"
     ]
    }
   ],
   "source": [
    "import shap\n",
    "explainer = shap.Explainer(clf_xgb)\n",
    "shap_value = explainer(X_test)"
   ]
  },
  {
   "cell_type": "markdown",
   "id": "32ba3d3e",
   "metadata": {
    "papermill": {
     "duration": 0.081565,
     "end_time": "2022-01-26T12:58:59.124685",
     "exception": false,
     "start_time": "2022-01-26T12:58:59.043120",
     "status": "completed"
    },
    "tags": []
   },
   "source": []
  },
  {
   "cell_type": "code",
   "execution_count": 33,
   "id": "75aac165",
   "metadata": {
    "execution": {
     "iopub.execute_input": "2022-01-26T12:58:59.311470Z",
     "iopub.status.busy": "2022-01-26T12:58:59.310479Z",
     "iopub.status.idle": "2022-01-26T12:58:59.721318Z",
     "shell.execute_reply": "2022-01-26T12:58:59.721796Z",
     "shell.execute_reply.started": "2022-01-22T16:00:53.969865Z"
    },
    "papermill": {
     "duration": 0.497445,
     "end_time": "2022-01-26T12:58:59.721954",
     "exception": false,
     "start_time": "2022-01-26T12:58:59.224509",
     "status": "completed"
    },
    "tags": []
   },
   "outputs": [
    {
     "data": {
      "image/png": "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\n",
      "text/plain": [
       "<Figure size 576x396 with 2 Axes>"
      ]
     },
     "metadata": {
      "needs_background": "light"
     },
     "output_type": "display_data"
    }
   ],
   "source": [
    "shap.plots.beeswarm(shap_value)"
   ]
  },
  {
   "cell_type": "markdown",
   "id": "d8fb4f5c",
   "metadata": {
    "papermill": {
     "duration": 0.07876,
     "end_time": "2022-01-26T12:58:59.881335",
     "exception": false,
     "start_time": "2022-01-26T12:58:59.802575",
     "status": "completed"
    },
    "tags": []
   },
   "source": [
    "# #LightGBM model"
   ]
  },
  {
   "cell_type": "code",
   "execution_count": 34,
   "id": "67f0b979",
   "metadata": {
    "execution": {
     "iopub.execute_input": "2022-01-26T12:59:00.044770Z",
     "iopub.status.busy": "2022-01-26T12:59:00.044131Z",
     "iopub.status.idle": "2022-01-26T12:59:01.004795Z",
     "shell.execute_reply": "2022-01-26T12:59:01.005721Z",
     "shell.execute_reply.started": "2022-01-22T16:00:54.507144Z"
    },
    "papermill": {
     "duration": 1.045697,
     "end_time": "2022-01-26T12:59:01.005914",
     "exception": false,
     "start_time": "2022-01-26T12:58:59.960217",
     "status": "completed"
    },
    "tags": []
   },
   "outputs": [
    {
     "data": {
      "text/html": [
       "<style type='text/css'>\n",
       ".datatable table.frame { margin-bottom: 0; }\n",
       ".datatable table.frame thead { border-bottom: none; }\n",
       ".datatable table.frame tr.coltypes td {  color: #FFFFFF;  line-height: 6px;  padding: 0 0.5em;}\n",
       ".datatable .bool    { background: #DDDD99; }\n",
       ".datatable .object  { background: #565656; }\n",
       ".datatable .int     { background: #5D9E5D; }\n",
       ".datatable .float   { background: #4040CC; }\n",
       ".datatable .str     { background: #CC4040; }\n",
       ".datatable .time    { background: #40CC40; }\n",
       ".datatable .row_index {  background: var(--jp-border-color3);  border-right: 1px solid var(--jp-border-color0);  color: var(--jp-ui-font-color3);  font-size: 9px;}\n",
       ".datatable .frame tbody td { text-align: left; }\n",
       ".datatable .frame tr.coltypes .row_index {  background: var(--jp-border-color0);}\n",
       ".datatable th:nth-child(2) { padding-left: 12px; }\n",
       ".datatable .hellipsis {  color: var(--jp-cell-editor-border-color);}\n",
       ".datatable .vellipsis {  background: var(--jp-layout-color0);  color: var(--jp-cell-editor-border-color);}\n",
       ".datatable .na {  color: var(--jp-cell-editor-border-color);  font-size: 80%;}\n",
       ".datatable .sp {  opacity: 0.25;}\n",
       ".datatable .footer { font-size: 9px; }\n",
       ".datatable .frame_dimensions {  background: var(--jp-border-color3);  border-top: 1px solid var(--jp-border-color0);  color: var(--jp-ui-font-color3);  display: inline-block;  opacity: 0.6;  padding: 1px 10px 1px 5px;}\n",
       "</style>\n"
      ],
      "text/plain": [
       "<IPython.core.display.HTML object>"
      ]
     },
     "metadata": {},
     "output_type": "display_data"
    },
    {
     "data": {
      "text/plain": [
       "LGBMClassifier(random_state=42)"
      ]
     },
     "execution_count": 34,
     "metadata": {},
     "output_type": "execute_result"
    }
   ],
   "source": [
    "from lightgbm import LGBMClassifier\n",
    "clf_lgb = LGBMClassifier(random_state = 42)\n",
    "clf_lgb.fit(X_train,y_train)"
   ]
  },
  {
   "cell_type": "code",
   "execution_count": 35,
   "id": "3eed4c1b",
   "metadata": {
    "execution": {
     "iopub.execute_input": "2022-01-26T12:59:01.178864Z",
     "iopub.status.busy": "2022-01-26T12:59:01.177196Z",
     "iopub.status.idle": "2022-01-26T12:59:01.362611Z",
     "shell.execute_reply": "2022-01-26T12:59:01.363105Z",
     "shell.execute_reply.started": "2022-01-22T16:00:54.641213Z"
    },
    "papermill": {
     "duration": 0.272892,
     "end_time": "2022-01-26T12:59:01.363305",
     "exception": false,
     "start_time": "2022-01-26T12:59:01.090413",
     "status": "completed"
    },
    "tags": []
   },
   "outputs": [
    {
     "data": {
      "text/plain": [
       "<sklearn.metrics._plot.confusion_matrix.ConfusionMatrixDisplay at 0x7ff3df314390>"
      ]
     },
     "execution_count": 35,
     "metadata": {},
     "output_type": "execute_result"
    },
    {
     "data": {
      "image/png": "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\n",
      "text/plain": [
       "<Figure size 432x288 with 2 Axes>"
      ]
     },
     "metadata": {
      "needs_background": "light"
     },
     "output_type": "display_data"
    }
   ],
   "source": [
    "plot_confusion_matrix(clf_lgb,\n",
    "                     X_test,\n",
    "                     y_test,\n",
    "                     values_format = 'd',\n",
    "                     display_labels= ['Did not leave','left'])"
   ]
  },
  {
   "cell_type": "code",
   "execution_count": 36,
   "id": "edd481fe",
   "metadata": {
    "execution": {
     "iopub.execute_input": "2022-01-26T12:59:01.531663Z",
     "iopub.status.busy": "2022-01-26T12:59:01.530761Z",
     "iopub.status.idle": "2022-01-26T12:59:07.475083Z",
     "shell.execute_reply": "2022-01-26T12:59:07.476000Z",
     "shell.execute_reply.started": "2022-01-22T16:00:54.898712Z"
    },
    "papermill": {
     "duration": 6.030435,
     "end_time": "2022-01-26T12:59:07.476198",
     "exception": false,
     "start_time": "2022-01-26T12:59:01.445763",
     "status": "completed"
    },
    "tags": []
   },
   "outputs": [
    {
     "name": "stderr",
     "output_type": "stream",
     "text": [
      "'early_stopping_rounds' argument is deprecated and will be removed in a future release of LightGBM. Pass 'early_stopping()' callback via 'callbacks' argument instead.\n",
      "'verbose' argument is deprecated and will be removed in a future release of LightGBM. Pass 'log_evaluation()' callback via 'callbacks' argument instead.\n",
      "'early_stopping_rounds' argument is deprecated and will be removed in a future release of LightGBM. Pass 'early_stopping()' callback via 'callbacks' argument instead.\n",
      "'verbose' argument is deprecated and will be removed in a future release of LightGBM. Pass 'log_evaluation()' callback via 'callbacks' argument instead.\n",
      "'early_stopping_rounds' argument is deprecated and will be removed in a future release of LightGBM. Pass 'early_stopping()' callback via 'callbacks' argument instead.\n",
      "'verbose' argument is deprecated and will be removed in a future release of LightGBM. Pass 'log_evaluation()' callback via 'callbacks' argument instead.\n",
      "'early_stopping_rounds' argument is deprecated and will be removed in a future release of LightGBM. Pass 'early_stopping()' callback via 'callbacks' argument instead.\n",
      "'verbose' argument is deprecated and will be removed in a future release of LightGBM. Pass 'log_evaluation()' callback via 'callbacks' argument instead.\n",
      "'early_stopping_rounds' argument is deprecated and will be removed in a future release of LightGBM. Pass 'early_stopping()' callback via 'callbacks' argument instead.\n",
      "'verbose' argument is deprecated and will be removed in a future release of LightGBM. Pass 'log_evaluation()' callback via 'callbacks' argument instead.\n",
      "'early_stopping_rounds' argument is deprecated and will be removed in a future release of LightGBM. Pass 'early_stopping()' callback via 'callbacks' argument instead.\n",
      "'verbose' argument is deprecated and will be removed in a future release of LightGBM. Pass 'log_evaluation()' callback via 'callbacks' argument instead.\n",
      "'early_stopping_rounds' argument is deprecated and will be removed in a future release of LightGBM. Pass 'early_stopping()' callback via 'callbacks' argument instead.\n",
      "'verbose' argument is deprecated and will be removed in a future release of LightGBM. Pass 'log_evaluation()' callback via 'callbacks' argument instead.\n",
      "'early_stopping_rounds' argument is deprecated and will be removed in a future release of LightGBM. Pass 'early_stopping()' callback via 'callbacks' argument instead.\n",
      "'verbose' argument is deprecated and will be removed in a future release of LightGBM. Pass 'log_evaluation()' callback via 'callbacks' argument instead.\n",
      "'early_stopping_rounds' argument is deprecated and will be removed in a future release of LightGBM. Pass 'early_stopping()' callback via 'callbacks' argument instead.\n",
      "'verbose' argument is deprecated and will be removed in a future release of LightGBM. Pass 'log_evaluation()' callback via 'callbacks' argument instead.\n",
      "'early_stopping_rounds' argument is deprecated and will be removed in a future release of LightGBM. Pass 'early_stopping()' callback via 'callbacks' argument instead.\n",
      "'verbose' argument is deprecated and will be removed in a future release of LightGBM. Pass 'log_evaluation()' callback via 'callbacks' argument instead.\n",
      "'early_stopping_rounds' argument is deprecated and will be removed in a future release of LightGBM. Pass 'early_stopping()' callback via 'callbacks' argument instead.\n",
      "'verbose' argument is deprecated and will be removed in a future release of LightGBM. Pass 'log_evaluation()' callback via 'callbacks' argument instead.\n",
      "'early_stopping_rounds' argument is deprecated and will be removed in a future release of LightGBM. Pass 'early_stopping()' callback via 'callbacks' argument instead.\n",
      "'verbose' argument is deprecated and will be removed in a future release of LightGBM. Pass 'log_evaluation()' callback via 'callbacks' argument instead.\n",
      "'early_stopping_rounds' argument is deprecated and will be removed in a future release of LightGBM. Pass 'early_stopping()' callback via 'callbacks' argument instead.\n",
      "'verbose' argument is deprecated and will be removed in a future release of LightGBM. Pass 'log_evaluation()' callback via 'callbacks' argument instead.\n",
      "'early_stopping_rounds' argument is deprecated and will be removed in a future release of LightGBM. Pass 'early_stopping()' callback via 'callbacks' argument instead.\n",
      "'verbose' argument is deprecated and will be removed in a future release of LightGBM. Pass 'log_evaluation()' callback via 'callbacks' argument instead.\n",
      "'early_stopping_rounds' argument is deprecated and will be removed in a future release of LightGBM. Pass 'early_stopping()' callback via 'callbacks' argument instead.\n",
      "'verbose' argument is deprecated and will be removed in a future release of LightGBM. Pass 'log_evaluation()' callback via 'callbacks' argument instead.\n",
      "'early_stopping_rounds' argument is deprecated and will be removed in a future release of LightGBM. Pass 'early_stopping()' callback via 'callbacks' argument instead.\n",
      "'verbose' argument is deprecated and will be removed in a future release of LightGBM. Pass 'log_evaluation()' callback via 'callbacks' argument instead.\n",
      "'early_stopping_rounds' argument is deprecated and will be removed in a future release of LightGBM. Pass 'early_stopping()' callback via 'callbacks' argument instead.\n",
      "'verbose' argument is deprecated and will be removed in a future release of LightGBM. Pass 'log_evaluation()' callback via 'callbacks' argument instead.\n",
      "'early_stopping_rounds' argument is deprecated and will be removed in a future release of LightGBM. Pass 'early_stopping()' callback via 'callbacks' argument instead.\n",
      "'verbose' argument is deprecated and will be removed in a future release of LightGBM. Pass 'log_evaluation()' callback via 'callbacks' argument instead.\n",
      "'early_stopping_rounds' argument is deprecated and will be removed in a future release of LightGBM. Pass 'early_stopping()' callback via 'callbacks' argument instead.\n",
      "'verbose' argument is deprecated and will be removed in a future release of LightGBM. Pass 'log_evaluation()' callback via 'callbacks' argument instead.\n",
      "'early_stopping_rounds' argument is deprecated and will be removed in a future release of LightGBM. Pass 'early_stopping()' callback via 'callbacks' argument instead.\n",
      "'verbose' argument is deprecated and will be removed in a future release of LightGBM. Pass 'log_evaluation()' callback via 'callbacks' argument instead.\n",
      "'early_stopping_rounds' argument is deprecated and will be removed in a future release of LightGBM. Pass 'early_stopping()' callback via 'callbacks' argument instead.\n",
      "'verbose' argument is deprecated and will be removed in a future release of LightGBM. Pass 'log_evaluation()' callback via 'callbacks' argument instead.\n",
      "'early_stopping_rounds' argument is deprecated and will be removed in a future release of LightGBM. Pass 'early_stopping()' callback via 'callbacks' argument instead.\n",
      "'verbose' argument is deprecated and will be removed in a future release of LightGBM. Pass 'log_evaluation()' callback via 'callbacks' argument instead.\n",
      "'early_stopping_rounds' argument is deprecated and will be removed in a future release of LightGBM. Pass 'early_stopping()' callback via 'callbacks' argument instead.\n",
      "'verbose' argument is deprecated and will be removed in a future release of LightGBM. Pass 'log_evaluation()' callback via 'callbacks' argument instead.\n",
      "'early_stopping_rounds' argument is deprecated and will be removed in a future release of LightGBM. Pass 'early_stopping()' callback via 'callbacks' argument instead.\n",
      "'verbose' argument is deprecated and will be removed in a future release of LightGBM. Pass 'log_evaluation()' callback via 'callbacks' argument instead.\n",
      "'early_stopping_rounds' argument is deprecated and will be removed in a future release of LightGBM. Pass 'early_stopping()' callback via 'callbacks' argument instead.\n",
      "'verbose' argument is deprecated and will be removed in a future release of LightGBM. Pass 'log_evaluation()' callback via 'callbacks' argument instead.\n",
      "'early_stopping_rounds' argument is deprecated and will be removed in a future release of LightGBM. Pass 'early_stopping()' callback via 'callbacks' argument instead.\n",
      "'verbose' argument is deprecated and will be removed in a future release of LightGBM. Pass 'log_evaluation()' callback via 'callbacks' argument instead.\n",
      "'early_stopping_rounds' argument is deprecated and will be removed in a future release of LightGBM. Pass 'early_stopping()' callback via 'callbacks' argument instead.\n",
      "'verbose' argument is deprecated and will be removed in a future release of LightGBM. Pass 'log_evaluation()' callback via 'callbacks' argument instead.\n",
      "'early_stopping_rounds' argument is deprecated and will be removed in a future release of LightGBM. Pass 'early_stopping()' callback via 'callbacks' argument instead.\n",
      "'verbose' argument is deprecated and will be removed in a future release of LightGBM. Pass 'log_evaluation()' callback via 'callbacks' argument instead.\n",
      "'early_stopping_rounds' argument is deprecated and will be removed in a future release of LightGBM. Pass 'early_stopping()' callback via 'callbacks' argument instead.\n",
      "'verbose' argument is deprecated and will be removed in a future release of LightGBM. Pass 'log_evaluation()' callback via 'callbacks' argument instead.\n",
      "'early_stopping_rounds' argument is deprecated and will be removed in a future release of LightGBM. Pass 'early_stopping()' callback via 'callbacks' argument instead.\n",
      "'verbose' argument is deprecated and will be removed in a future release of LightGBM. Pass 'log_evaluation()' callback via 'callbacks' argument instead.\n",
      "'early_stopping_rounds' argument is deprecated and will be removed in a future release of LightGBM. Pass 'early_stopping()' callback via 'callbacks' argument instead.\n",
      "'verbose' argument is deprecated and will be removed in a future release of LightGBM. Pass 'log_evaluation()' callback via 'callbacks' argument instead.\n",
      "'early_stopping_rounds' argument is deprecated and will be removed in a future release of LightGBM. Pass 'early_stopping()' callback via 'callbacks' argument instead.\n",
      "'verbose' argument is deprecated and will be removed in a future release of LightGBM. Pass 'log_evaluation()' callback via 'callbacks' argument instead.\n",
      "'early_stopping_rounds' argument is deprecated and will be removed in a future release of LightGBM. Pass 'early_stopping()' callback via 'callbacks' argument instead.\n",
      "'verbose' argument is deprecated and will be removed in a future release of LightGBM. Pass 'log_evaluation()' callback via 'callbacks' argument instead.\n",
      "'early_stopping_rounds' argument is deprecated and will be removed in a future release of LightGBM. Pass 'early_stopping()' callback via 'callbacks' argument instead.\n",
      "'verbose' argument is deprecated and will be removed in a future release of LightGBM. Pass 'log_evaluation()' callback via 'callbacks' argument instead.\n",
      "'early_stopping_rounds' argument is deprecated and will be removed in a future release of LightGBM. Pass 'early_stopping()' callback via 'callbacks' argument instead.\n",
      "'verbose' argument is deprecated and will be removed in a future release of LightGBM. Pass 'log_evaluation()' callback via 'callbacks' argument instead.\n",
      "'early_stopping_rounds' argument is deprecated and will be removed in a future release of LightGBM. Pass 'early_stopping()' callback via 'callbacks' argument instead.\n",
      "'verbose' argument is deprecated and will be removed in a future release of LightGBM. Pass 'log_evaluation()' callback via 'callbacks' argument instead.\n",
      "'early_stopping_rounds' argument is deprecated and will be removed in a future release of LightGBM. Pass 'early_stopping()' callback via 'callbacks' argument instead.\n",
      "'verbose' argument is deprecated and will be removed in a future release of LightGBM. Pass 'log_evaluation()' callback via 'callbacks' argument instead.\n",
      "'early_stopping_rounds' argument is deprecated and will be removed in a future release of LightGBM. Pass 'early_stopping()' callback via 'callbacks' argument instead.\n",
      "'verbose' argument is deprecated and will be removed in a future release of LightGBM. Pass 'log_evaluation()' callback via 'callbacks' argument instead.\n",
      "'early_stopping_rounds' argument is deprecated and will be removed in a future release of LightGBM. Pass 'early_stopping()' callback via 'callbacks' argument instead.\n",
      "'verbose' argument is deprecated and will be removed in a future release of LightGBM. Pass 'log_evaluation()' callback via 'callbacks' argument instead.\n",
      "'early_stopping_rounds' argument is deprecated and will be removed in a future release of LightGBM. Pass 'early_stopping()' callback via 'callbacks' argument instead.\n",
      "'verbose' argument is deprecated and will be removed in a future release of LightGBM. Pass 'log_evaluation()' callback via 'callbacks' argument instead.\n",
      "'early_stopping_rounds' argument is deprecated and will be removed in a future release of LightGBM. Pass 'early_stopping()' callback via 'callbacks' argument instead.\n",
      "'verbose' argument is deprecated and will be removed in a future release of LightGBM. Pass 'log_evaluation()' callback via 'callbacks' argument instead.\n",
      "'early_stopping_rounds' argument is deprecated and will be removed in a future release of LightGBM. Pass 'early_stopping()' callback via 'callbacks' argument instead.\n",
      "'verbose' argument is deprecated and will be removed in a future release of LightGBM. Pass 'log_evaluation()' callback via 'callbacks' argument instead.\n",
      "'early_stopping_rounds' argument is deprecated and will be removed in a future release of LightGBM. Pass 'early_stopping()' callback via 'callbacks' argument instead.\n",
      "'verbose' argument is deprecated and will be removed in a future release of LightGBM. Pass 'log_evaluation()' callback via 'callbacks' argument instead.\n",
      "'early_stopping_rounds' argument is deprecated and will be removed in a future release of LightGBM. Pass 'early_stopping()' callback via 'callbacks' argument instead.\n",
      "'verbose' argument is deprecated and will be removed in a future release of LightGBM. Pass 'log_evaluation()' callback via 'callbacks' argument instead.\n",
      "'early_stopping_rounds' argument is deprecated and will be removed in a future release of LightGBM. Pass 'early_stopping()' callback via 'callbacks' argument instead.\n",
      "'verbose' argument is deprecated and will be removed in a future release of LightGBM. Pass 'log_evaluation()' callback via 'callbacks' argument instead.\n",
      "'early_stopping_rounds' argument is deprecated and will be removed in a future release of LightGBM. Pass 'early_stopping()' callback via 'callbacks' argument instead.\n",
      "'verbose' argument is deprecated and will be removed in a future release of LightGBM. Pass 'log_evaluation()' callback via 'callbacks' argument instead.\n",
      "'early_stopping_rounds' argument is deprecated and will be removed in a future release of LightGBM. Pass 'early_stopping()' callback via 'callbacks' argument instead.\n",
      "'verbose' argument is deprecated and will be removed in a future release of LightGBM. Pass 'log_evaluation()' callback via 'callbacks' argument instead.\n",
      "'early_stopping_rounds' argument is deprecated and will be removed in a future release of LightGBM. Pass 'early_stopping()' callback via 'callbacks' argument instead.\n",
      "'verbose' argument is deprecated and will be removed in a future release of LightGBM. Pass 'log_evaluation()' callback via 'callbacks' argument instead.\n",
      "'early_stopping_rounds' argument is deprecated and will be removed in a future release of LightGBM. Pass 'early_stopping()' callback via 'callbacks' argument instead.\n",
      "'verbose' argument is deprecated and will be removed in a future release of LightGBM. Pass 'log_evaluation()' callback via 'callbacks' argument instead.\n",
      "'early_stopping_rounds' argument is deprecated and will be removed in a future release of LightGBM. Pass 'early_stopping()' callback via 'callbacks' argument instead.\n",
      "'verbose' argument is deprecated and will be removed in a future release of LightGBM. Pass 'log_evaluation()' callback via 'callbacks' argument instead.\n",
      "'early_stopping_rounds' argument is deprecated and will be removed in a future release of LightGBM. Pass 'early_stopping()' callback via 'callbacks' argument instead.\n",
      "'verbose' argument is deprecated and will be removed in a future release of LightGBM. Pass 'log_evaluation()' callback via 'callbacks' argument instead.\n",
      "'early_stopping_rounds' argument is deprecated and will be removed in a future release of LightGBM. Pass 'early_stopping()' callback via 'callbacks' argument instead.\n",
      "'verbose' argument is deprecated and will be removed in a future release of LightGBM. Pass 'log_evaluation()' callback via 'callbacks' argument instead.\n",
      "'early_stopping_rounds' argument is deprecated and will be removed in a future release of LightGBM. Pass 'early_stopping()' callback via 'callbacks' argument instead.\n",
      "'verbose' argument is deprecated and will be removed in a future release of LightGBM. Pass 'log_evaluation()' callback via 'callbacks' argument instead.\n",
      "'early_stopping_rounds' argument is deprecated and will be removed in a future release of LightGBM. Pass 'early_stopping()' callback via 'callbacks' argument instead.\n",
      "'verbose' argument is deprecated and will be removed in a future release of LightGBM. Pass 'log_evaluation()' callback via 'callbacks' argument instead.\n",
      "'early_stopping_rounds' argument is deprecated and will be removed in a future release of LightGBM. Pass 'early_stopping()' callback via 'callbacks' argument instead.\n",
      "'verbose' argument is deprecated and will be removed in a future release of LightGBM. Pass 'log_evaluation()' callback via 'callbacks' argument instead.\n",
      "'early_stopping_rounds' argument is deprecated and will be removed in a future release of LightGBM. Pass 'early_stopping()' callback via 'callbacks' argument instead.\n",
      "'verbose' argument is deprecated and will be removed in a future release of LightGBM. Pass 'log_evaluation()' callback via 'callbacks' argument instead.\n",
      "'early_stopping_rounds' argument is deprecated and will be removed in a future release of LightGBM. Pass 'early_stopping()' callback via 'callbacks' argument instead.\n",
      "'verbose' argument is deprecated and will be removed in a future release of LightGBM. Pass 'log_evaluation()' callback via 'callbacks' argument instead.\n",
      "'early_stopping_rounds' argument is deprecated and will be removed in a future release of LightGBM. Pass 'early_stopping()' callback via 'callbacks' argument instead.\n",
      "'verbose' argument is deprecated and will be removed in a future release of LightGBM. Pass 'log_evaluation()' callback via 'callbacks' argument instead.\n",
      "'early_stopping_rounds' argument is deprecated and will be removed in a future release of LightGBM. Pass 'early_stopping()' callback via 'callbacks' argument instead.\n",
      "'verbose' argument is deprecated and will be removed in a future release of LightGBM. Pass 'log_evaluation()' callback via 'callbacks' argument instead.\n",
      "'early_stopping_rounds' argument is deprecated and will be removed in a future release of LightGBM. Pass 'early_stopping()' callback via 'callbacks' argument instead.\n",
      "'verbose' argument is deprecated and will be removed in a future release of LightGBM. Pass 'log_evaluation()' callback via 'callbacks' argument instead.\n",
      "'early_stopping_rounds' argument is deprecated and will be removed in a future release of LightGBM. Pass 'early_stopping()' callback via 'callbacks' argument instead.\n",
      "'verbose' argument is deprecated and will be removed in a future release of LightGBM. Pass 'log_evaluation()' callback via 'callbacks' argument instead.\n",
      "'early_stopping_rounds' argument is deprecated and will be removed in a future release of LightGBM. Pass 'early_stopping()' callback via 'callbacks' argument instead.\n",
      "'verbose' argument is deprecated and will be removed in a future release of LightGBM. Pass 'log_evaluation()' callback via 'callbacks' argument instead.\n",
      "'early_stopping_rounds' argument is deprecated and will be removed in a future release of LightGBM. Pass 'early_stopping()' callback via 'callbacks' argument instead.\n",
      "'verbose' argument is deprecated and will be removed in a future release of LightGBM. Pass 'log_evaluation()' callback via 'callbacks' argument instead.\n",
      "'early_stopping_rounds' argument is deprecated and will be removed in a future release of LightGBM. Pass 'early_stopping()' callback via 'callbacks' argument instead.\n",
      "'verbose' argument is deprecated and will be removed in a future release of LightGBM. Pass 'log_evaluation()' callback via 'callbacks' argument instead.\n",
      "'early_stopping_rounds' argument is deprecated and will be removed in a future release of LightGBM. Pass 'early_stopping()' callback via 'callbacks' argument instead.\n",
      "'verbose' argument is deprecated and will be removed in a future release of LightGBM. Pass 'log_evaluation()' callback via 'callbacks' argument instead.\n",
      "'early_stopping_rounds' argument is deprecated and will be removed in a future release of LightGBM. Pass 'early_stopping()' callback via 'callbacks' argument instead.\n",
      "'verbose' argument is deprecated and will be removed in a future release of LightGBM. Pass 'log_evaluation()' callback via 'callbacks' argument instead.\n",
      "'early_stopping_rounds' argument is deprecated and will be removed in a future release of LightGBM. Pass 'early_stopping()' callback via 'callbacks' argument instead.\n",
      "'verbose' argument is deprecated and will be removed in a future release of LightGBM. Pass 'log_evaluation()' callback via 'callbacks' argument instead.\n",
      "'early_stopping_rounds' argument is deprecated and will be removed in a future release of LightGBM. Pass 'early_stopping()' callback via 'callbacks' argument instead.\n",
      "'verbose' argument is deprecated and will be removed in a future release of LightGBM. Pass 'log_evaluation()' callback via 'callbacks' argument instead.\n",
      "'early_stopping_rounds' argument is deprecated and will be removed in a future release of LightGBM. Pass 'early_stopping()' callback via 'callbacks' argument instead.\n",
      "'verbose' argument is deprecated and will be removed in a future release of LightGBM. Pass 'log_evaluation()' callback via 'callbacks' argument instead.\n",
      "'early_stopping_rounds' argument is deprecated and will be removed in a future release of LightGBM. Pass 'early_stopping()' callback via 'callbacks' argument instead.\n",
      "'verbose' argument is deprecated and will be removed in a future release of LightGBM. Pass 'log_evaluation()' callback via 'callbacks' argument instead.\n",
      "'early_stopping_rounds' argument is deprecated and will be removed in a future release of LightGBM. Pass 'early_stopping()' callback via 'callbacks' argument instead.\n",
      "'verbose' argument is deprecated and will be removed in a future release of LightGBM. Pass 'log_evaluation()' callback via 'callbacks' argument instead.\n",
      "'early_stopping_rounds' argument is deprecated and will be removed in a future release of LightGBM. Pass 'early_stopping()' callback via 'callbacks' argument instead.\n",
      "'verbose' argument is deprecated and will be removed in a future release of LightGBM. Pass 'log_evaluation()' callback via 'callbacks' argument instead.\n",
      "'early_stopping_rounds' argument is deprecated and will be removed in a future release of LightGBM. Pass 'early_stopping()' callback via 'callbacks' argument instead.\n",
      "'verbose' argument is deprecated and will be removed in a future release of LightGBM. Pass 'log_evaluation()' callback via 'callbacks' argument instead.\n",
      "'early_stopping_rounds' argument is deprecated and will be removed in a future release of LightGBM. Pass 'early_stopping()' callback via 'callbacks' argument instead.\n",
      "'verbose' argument is deprecated and will be removed in a future release of LightGBM. Pass 'log_evaluation()' callback via 'callbacks' argument instead.\n",
      "'early_stopping_rounds' argument is deprecated and will be removed in a future release of LightGBM. Pass 'early_stopping()' callback via 'callbacks' argument instead.\n",
      "'verbose' argument is deprecated and will be removed in a future release of LightGBM. Pass 'log_evaluation()' callback via 'callbacks' argument instead.\n",
      "'early_stopping_rounds' argument is deprecated and will be removed in a future release of LightGBM. Pass 'early_stopping()' callback via 'callbacks' argument instead.\n",
      "'verbose' argument is deprecated and will be removed in a future release of LightGBM. Pass 'log_evaluation()' callback via 'callbacks' argument instead.\n",
      "'early_stopping_rounds' argument is deprecated and will be removed in a future release of LightGBM. Pass 'early_stopping()' callback via 'callbacks' argument instead.\n",
      "'verbose' argument is deprecated and will be removed in a future release of LightGBM. Pass 'log_evaluation()' callback via 'callbacks' argument instead.\n",
      "'early_stopping_rounds' argument is deprecated and will be removed in a future release of LightGBM. Pass 'early_stopping()' callback via 'callbacks' argument instead.\n",
      "'verbose' argument is deprecated and will be removed in a future release of LightGBM. Pass 'log_evaluation()' callback via 'callbacks' argument instead.\n",
      "'early_stopping_rounds' argument is deprecated and will be removed in a future release of LightGBM. Pass 'early_stopping()' callback via 'callbacks' argument instead.\n",
      "'verbose' argument is deprecated and will be removed in a future release of LightGBM. Pass 'log_evaluation()' callback via 'callbacks' argument instead.\n",
      "'early_stopping_rounds' argument is deprecated and will be removed in a future release of LightGBM. Pass 'early_stopping()' callback via 'callbacks' argument instead.\n",
      "'verbose' argument is deprecated and will be removed in a future release of LightGBM. Pass 'log_evaluation()' callback via 'callbacks' argument instead.\n",
      "'early_stopping_rounds' argument is deprecated and will be removed in a future release of LightGBM. Pass 'early_stopping()' callback via 'callbacks' argument instead.\n",
      "'verbose' argument is deprecated and will be removed in a future release of LightGBM. Pass 'log_evaluation()' callback via 'callbacks' argument instead.\n",
      "'early_stopping_rounds' argument is deprecated and will be removed in a future release of LightGBM. Pass 'early_stopping()' callback via 'callbacks' argument instead.\n",
      "'verbose' argument is deprecated and will be removed in a future release of LightGBM. Pass 'log_evaluation()' callback via 'callbacks' argument instead.\n",
      "'early_stopping_rounds' argument is deprecated and will be removed in a future release of LightGBM. Pass 'early_stopping()' callback via 'callbacks' argument instead.\n",
      "'verbose' argument is deprecated and will be removed in a future release of LightGBM. Pass 'log_evaluation()' callback via 'callbacks' argument instead.\n",
      "'early_stopping_rounds' argument is deprecated and will be removed in a future release of LightGBM. Pass 'early_stopping()' callback via 'callbacks' argument instead.\n",
      "'verbose' argument is deprecated and will be removed in a future release of LightGBM. Pass 'log_evaluation()' callback via 'callbacks' argument instead.\n",
      "'early_stopping_rounds' argument is deprecated and will be removed in a future release of LightGBM. Pass 'early_stopping()' callback via 'callbacks' argument instead.\n",
      "'verbose' argument is deprecated and will be removed in a future release of LightGBM. Pass 'log_evaluation()' callback via 'callbacks' argument instead.\n",
      "'early_stopping_rounds' argument is deprecated and will be removed in a future release of LightGBM. Pass 'early_stopping()' callback via 'callbacks' argument instead.\n",
      "'verbose' argument is deprecated and will be removed in a future release of LightGBM. Pass 'log_evaluation()' callback via 'callbacks' argument instead.\n",
      "'early_stopping_rounds' argument is deprecated and will be removed in a future release of LightGBM. Pass 'early_stopping()' callback via 'callbacks' argument instead.\n",
      "'verbose' argument is deprecated and will be removed in a future release of LightGBM. Pass 'log_evaluation()' callback via 'callbacks' argument instead.\n",
      "'early_stopping_rounds' argument is deprecated and will be removed in a future release of LightGBM. Pass 'early_stopping()' callback via 'callbacks' argument instead.\n",
      "'verbose' argument is deprecated and will be removed in a future release of LightGBM. Pass 'log_evaluation()' callback via 'callbacks' argument instead.\n",
      "'early_stopping_rounds' argument is deprecated and will be removed in a future release of LightGBM. Pass 'early_stopping()' callback via 'callbacks' argument instead.\n",
      "'verbose' argument is deprecated and will be removed in a future release of LightGBM. Pass 'log_evaluation()' callback via 'callbacks' argument instead.\n",
      "'early_stopping_rounds' argument is deprecated and will be removed in a future release of LightGBM. Pass 'early_stopping()' callback via 'callbacks' argument instead.\n",
      "'verbose' argument is deprecated and will be removed in a future release of LightGBM. Pass 'log_evaluation()' callback via 'callbacks' argument instead.\n",
      "'early_stopping_rounds' argument is deprecated and will be removed in a future release of LightGBM. Pass 'early_stopping()' callback via 'callbacks' argument instead.\n",
      "'verbose' argument is deprecated and will be removed in a future release of LightGBM. Pass 'log_evaluation()' callback via 'callbacks' argument instead.\n",
      "'early_stopping_rounds' argument is deprecated and will be removed in a future release of LightGBM. Pass 'early_stopping()' callback via 'callbacks' argument instead.\n",
      "'verbose' argument is deprecated and will be removed in a future release of LightGBM. Pass 'log_evaluation()' callback via 'callbacks' argument instead.\n",
      "'early_stopping_rounds' argument is deprecated and will be removed in a future release of LightGBM. Pass 'early_stopping()' callback via 'callbacks' argument instead.\n",
      "'verbose' argument is deprecated and will be removed in a future release of LightGBM. Pass 'log_evaluation()' callback via 'callbacks' argument instead.\n",
      "'early_stopping_rounds' argument is deprecated and will be removed in a future release of LightGBM. Pass 'early_stopping()' callback via 'callbacks' argument instead.\n",
      "'verbose' argument is deprecated and will be removed in a future release of LightGBM. Pass 'log_evaluation()' callback via 'callbacks' argument instead.\n",
      "'early_stopping_rounds' argument is deprecated and will be removed in a future release of LightGBM. Pass 'early_stopping()' callback via 'callbacks' argument instead.\n",
      "'verbose' argument is deprecated and will be removed in a future release of LightGBM. Pass 'log_evaluation()' callback via 'callbacks' argument instead.\n",
      "'early_stopping_rounds' argument is deprecated and will be removed in a future release of LightGBM. Pass 'early_stopping()' callback via 'callbacks' argument instead.\n",
      "'verbose' argument is deprecated and will be removed in a future release of LightGBM. Pass 'log_evaluation()' callback via 'callbacks' argument instead.\n",
      "'early_stopping_rounds' argument is deprecated and will be removed in a future release of LightGBM. Pass 'early_stopping()' callback via 'callbacks' argument instead.\n",
      "'verbose' argument is deprecated and will be removed in a future release of LightGBM. Pass 'log_evaluation()' callback via 'callbacks' argument instead.\n",
      "'early_stopping_rounds' argument is deprecated and will be removed in a future release of LightGBM. Pass 'early_stopping()' callback via 'callbacks' argument instead.\n",
      "'verbose' argument is deprecated and will be removed in a future release of LightGBM. Pass 'log_evaluation()' callback via 'callbacks' argument instead.\n",
      "'early_stopping_rounds' argument is deprecated and will be removed in a future release of LightGBM. Pass 'early_stopping()' callback via 'callbacks' argument instead.\n",
      "'verbose' argument is deprecated and will be removed in a future release of LightGBM. Pass 'log_evaluation()' callback via 'callbacks' argument instead.\n",
      "'early_stopping_rounds' argument is deprecated and will be removed in a future release of LightGBM. Pass 'early_stopping()' callback via 'callbacks' argument instead.\n",
      "'verbose' argument is deprecated and will be removed in a future release of LightGBM. Pass 'log_evaluation()' callback via 'callbacks' argument instead.\n",
      "'early_stopping_rounds' argument is deprecated and will be removed in a future release of LightGBM. Pass 'early_stopping()' callback via 'callbacks' argument instead.\n",
      "'verbose' argument is deprecated and will be removed in a future release of LightGBM. Pass 'log_evaluation()' callback via 'callbacks' argument instead.\n",
      "'early_stopping_rounds' argument is deprecated and will be removed in a future release of LightGBM. Pass 'early_stopping()' callback via 'callbacks' argument instead.\n",
      "'verbose' argument is deprecated and will be removed in a future release of LightGBM. Pass 'log_evaluation()' callback via 'callbacks' argument instead.\n",
      "'early_stopping_rounds' argument is deprecated and will be removed in a future release of LightGBM. Pass 'early_stopping()' callback via 'callbacks' argument instead.\n",
      "'verbose' argument is deprecated and will be removed in a future release of LightGBM. Pass 'log_evaluation()' callback via 'callbacks' argument instead.\n",
      "'early_stopping_rounds' argument is deprecated and will be removed in a future release of LightGBM. Pass 'early_stopping()' callback via 'callbacks' argument instead.\n",
      "'verbose' argument is deprecated and will be removed in a future release of LightGBM. Pass 'log_evaluation()' callback via 'callbacks' argument instead.\n",
      "'early_stopping_rounds' argument is deprecated and will be removed in a future release of LightGBM. Pass 'early_stopping()' callback via 'callbacks' argument instead.\n",
      "'verbose' argument is deprecated and will be removed in a future release of LightGBM. Pass 'log_evaluation()' callback via 'callbacks' argument instead.\n",
      "'early_stopping_rounds' argument is deprecated and will be removed in a future release of LightGBM. Pass 'early_stopping()' callback via 'callbacks' argument instead.\n",
      "'verbose' argument is deprecated and will be removed in a future release of LightGBM. Pass 'log_evaluation()' callback via 'callbacks' argument instead.\n",
      "'early_stopping_rounds' argument is deprecated and will be removed in a future release of LightGBM. Pass 'early_stopping()' callback via 'callbacks' argument instead.\n",
      "'verbose' argument is deprecated and will be removed in a future release of LightGBM. Pass 'log_evaluation()' callback via 'callbacks' argument instead.\n",
      "'early_stopping_rounds' argument is deprecated and will be removed in a future release of LightGBM. Pass 'early_stopping()' callback via 'callbacks' argument instead.\n",
      "'verbose' argument is deprecated and will be removed in a future release of LightGBM. Pass 'log_evaluation()' callback via 'callbacks' argument instead.\n",
      "'early_stopping_rounds' argument is deprecated and will be removed in a future release of LightGBM. Pass 'early_stopping()' callback via 'callbacks' argument instead.\n",
      "'verbose' argument is deprecated and will be removed in a future release of LightGBM. Pass 'log_evaluation()' callback via 'callbacks' argument instead.\n",
      "'early_stopping_rounds' argument is deprecated and will be removed in a future release of LightGBM. Pass 'early_stopping()' callback via 'callbacks' argument instead.\n",
      "'verbose' argument is deprecated and will be removed in a future release of LightGBM. Pass 'log_evaluation()' callback via 'callbacks' argument instead.\n",
      "'early_stopping_rounds' argument is deprecated and will be removed in a future release of LightGBM. Pass 'early_stopping()' callback via 'callbacks' argument instead.\n",
      "'verbose' argument is deprecated and will be removed in a future release of LightGBM. Pass 'log_evaluation()' callback via 'callbacks' argument instead.\n",
      "'early_stopping_rounds' argument is deprecated and will be removed in a future release of LightGBM. Pass 'early_stopping()' callback via 'callbacks' argument instead.\n",
      "'verbose' argument is deprecated and will be removed in a future release of LightGBM. Pass 'log_evaluation()' callback via 'callbacks' argument instead.\n",
      "'early_stopping_rounds' argument is deprecated and will be removed in a future release of LightGBM. Pass 'early_stopping()' callback via 'callbacks' argument instead.\n",
      "'verbose' argument is deprecated and will be removed in a future release of LightGBM. Pass 'log_evaluation()' callback via 'callbacks' argument instead.\n",
      "'early_stopping_rounds' argument is deprecated and will be removed in a future release of LightGBM. Pass 'early_stopping()' callback via 'callbacks' argument instead.\n",
      "'verbose' argument is deprecated and will be removed in a future release of LightGBM. Pass 'log_evaluation()' callback via 'callbacks' argument instead.\n",
      "'early_stopping_rounds' argument is deprecated and will be removed in a future release of LightGBM. Pass 'early_stopping()' callback via 'callbacks' argument instead.\n",
      "'verbose' argument is deprecated and will be removed in a future release of LightGBM. Pass 'log_evaluation()' callback via 'callbacks' argument instead.\n",
      "'early_stopping_rounds' argument is deprecated and will be removed in a future release of LightGBM. Pass 'early_stopping()' callback via 'callbacks' argument instead.\n",
      "'verbose' argument is deprecated and will be removed in a future release of LightGBM. Pass 'log_evaluation()' callback via 'callbacks' argument instead.\n",
      "'early_stopping_rounds' argument is deprecated and will be removed in a future release of LightGBM. Pass 'early_stopping()' callback via 'callbacks' argument instead.\n",
      "'verbose' argument is deprecated and will be removed in a future release of LightGBM. Pass 'log_evaluation()' callback via 'callbacks' argument instead.\n",
      "'early_stopping_rounds' argument is deprecated and will be removed in a future release of LightGBM. Pass 'early_stopping()' callback via 'callbacks' argument instead.\n",
      "'verbose' argument is deprecated and will be removed in a future release of LightGBM. Pass 'log_evaluation()' callback via 'callbacks' argument instead.\n",
      "'early_stopping_rounds' argument is deprecated and will be removed in a future release of LightGBM. Pass 'early_stopping()' callback via 'callbacks' argument instead.\n",
      "'verbose' argument is deprecated and will be removed in a future release of LightGBM. Pass 'log_evaluation()' callback via 'callbacks' argument instead.\n",
      "'early_stopping_rounds' argument is deprecated and will be removed in a future release of LightGBM. Pass 'early_stopping()' callback via 'callbacks' argument instead.\n",
      "'verbose' argument is deprecated and will be removed in a future release of LightGBM. Pass 'log_evaluation()' callback via 'callbacks' argument instead.\n",
      "'early_stopping_rounds' argument is deprecated and will be removed in a future release of LightGBM. Pass 'early_stopping()' callback via 'callbacks' argument instead.\n",
      "'verbose' argument is deprecated and will be removed in a future release of LightGBM. Pass 'log_evaluation()' callback via 'callbacks' argument instead.\n",
      "'early_stopping_rounds' argument is deprecated and will be removed in a future release of LightGBM. Pass 'early_stopping()' callback via 'callbacks' argument instead.\n",
      "'verbose' argument is deprecated and will be removed in a future release of LightGBM. Pass 'log_evaluation()' callback via 'callbacks' argument instead.\n",
      "'early_stopping_rounds' argument is deprecated and will be removed in a future release of LightGBM. Pass 'early_stopping()' callback via 'callbacks' argument instead.\n",
      "'verbose' argument is deprecated and will be removed in a future release of LightGBM. Pass 'log_evaluation()' callback via 'callbacks' argument instead.\n",
      "'early_stopping_rounds' argument is deprecated and will be removed in a future release of LightGBM. Pass 'early_stopping()' callback via 'callbacks' argument instead.\n",
      "'verbose' argument is deprecated and will be removed in a future release of LightGBM. Pass 'log_evaluation()' callback via 'callbacks' argument instead.\n",
      "'early_stopping_rounds' argument is deprecated and will be removed in a future release of LightGBM. Pass 'early_stopping()' callback via 'callbacks' argument instead.\n",
      "'verbose' argument is deprecated and will be removed in a future release of LightGBM. Pass 'log_evaluation()' callback via 'callbacks' argument instead.\n",
      "'early_stopping_rounds' argument is deprecated and will be removed in a future release of LightGBM. Pass 'early_stopping()' callback via 'callbacks' argument instead.\n",
      "'verbose' argument is deprecated and will be removed in a future release of LightGBM. Pass 'log_evaluation()' callback via 'callbacks' argument instead.\n",
      "'early_stopping_rounds' argument is deprecated and will be removed in a future release of LightGBM. Pass 'early_stopping()' callback via 'callbacks' argument instead.\n",
      "'verbose' argument is deprecated and will be removed in a future release of LightGBM. Pass 'log_evaluation()' callback via 'callbacks' argument instead.\n",
      "'early_stopping_rounds' argument is deprecated and will be removed in a future release of LightGBM. Pass 'early_stopping()' callback via 'callbacks' argument instead.\n",
      "'verbose' argument is deprecated and will be removed in a future release of LightGBM. Pass 'log_evaluation()' callback via 'callbacks' argument instead.\n",
      "'early_stopping_rounds' argument is deprecated and will be removed in a future release of LightGBM. Pass 'early_stopping()' callback via 'callbacks' argument instead.\n",
      "'verbose' argument is deprecated and will be removed in a future release of LightGBM. Pass 'log_evaluation()' callback via 'callbacks' argument instead.\n",
      "'early_stopping_rounds' argument is deprecated and will be removed in a future release of LightGBM. Pass 'early_stopping()' callback via 'callbacks' argument instead.\n",
      "'verbose' argument is deprecated and will be removed in a future release of LightGBM. Pass 'log_evaluation()' callback via 'callbacks' argument instead.\n",
      "'early_stopping_rounds' argument is deprecated and will be removed in a future release of LightGBM. Pass 'early_stopping()' callback via 'callbacks' argument instead.\n",
      "'verbose' argument is deprecated and will be removed in a future release of LightGBM. Pass 'log_evaluation()' callback via 'callbacks' argument instead.\n",
      "'early_stopping_rounds' argument is deprecated and will be removed in a future release of LightGBM. Pass 'early_stopping()' callback via 'callbacks' argument instead.\n",
      "'verbose' argument is deprecated and will be removed in a future release of LightGBM. Pass 'log_evaluation()' callback via 'callbacks' argument instead.\n",
      "'early_stopping_rounds' argument is deprecated and will be removed in a future release of LightGBM. Pass 'early_stopping()' callback via 'callbacks' argument instead.\n",
      "'verbose' argument is deprecated and will be removed in a future release of LightGBM. Pass 'log_evaluation()' callback via 'callbacks' argument instead.\n",
      "'early_stopping_rounds' argument is deprecated and will be removed in a future release of LightGBM. Pass 'early_stopping()' callback via 'callbacks' argument instead.\n",
      "'verbose' argument is deprecated and will be removed in a future release of LightGBM. Pass 'log_evaluation()' callback via 'callbacks' argument instead.\n",
      "'early_stopping_rounds' argument is deprecated and will be removed in a future release of LightGBM. Pass 'early_stopping()' callback via 'callbacks' argument instead.\n",
      "'verbose' argument is deprecated and will be removed in a future release of LightGBM. Pass 'log_evaluation()' callback via 'callbacks' argument instead.\n",
      "'early_stopping_rounds' argument is deprecated and will be removed in a future release of LightGBM. Pass 'early_stopping()' callback via 'callbacks' argument instead.\n",
      "'verbose' argument is deprecated and will be removed in a future release of LightGBM. Pass 'log_evaluation()' callback via 'callbacks' argument instead.\n"
     ]
    },
    {
     "data": {
      "text/plain": [
       "{'learning_rate': 0.1, 'n_estimators': 50, 'num_leaves': 12}"
      ]
     },
     "execution_count": 36,
     "metadata": {},
     "output_type": "execute_result"
    }
   ],
   "source": [
    "parameters = {'num_leaves':[6,12,20],\n",
    "             'n_estimators':[50,80,130],\n",
    "             'learning_rate':[0.05,0.1,0.5]}\n",
    "clf_lgb = LGBMClassifier(random_state = 42)\n",
    "grid_search = GridSearchCV(clf_lgb,parameters,scoring = 'roc_auc',cv = 5)\n",
    "grid_search.fit(X_train,y_train,early_stopping_rounds = 10,eval_metric = 'auc',eval_set = [(X_test,y_test)],verbose = False)\n",
    "grid_search.best_params_"
   ]
  },
  {
   "cell_type": "code",
   "execution_count": 37,
   "id": "3f1bdf9c",
   "metadata": {
    "execution": {
     "iopub.execute_input": "2022-01-26T12:59:07.665903Z",
     "iopub.status.busy": "2022-01-26T12:59:07.665094Z",
     "iopub.status.idle": "2022-01-26T12:59:09.143578Z",
     "shell.execute_reply": "2022-01-26T12:59:09.144128Z",
     "shell.execute_reply.started": "2022-01-22T16:01:00.31719Z"
    },
    "papermill": {
     "duration": 1.576013,
     "end_time": "2022-01-26T12:59:09.144329",
     "exception": false,
     "start_time": "2022-01-26T12:59:07.568316",
     "status": "completed"
    },
    "tags": []
   },
   "outputs": [
    {
     "data": {
      "text/plain": [
       "{'learning_rate': 0.1,\n",
       " 'n_estimators': 50,\n",
       " 'num_leaves': 12,\n",
       " 'scale_pos_weight': 5}"
      ]
     },
     "execution_count": 37,
     "metadata": {},
     "output_type": "execute_result"
    }
   ],
   "source": [
    "parameters = {'num_leaves':[12],\n",
    "             'n_estimators':[20,30,50],\n",
    "             'learning_rate':[0.1],\n",
    "             'scale_pos_weight':[5,6,7]},\n",
    "\n",
    "clf_lgb = LGBMClassifier(random_state = 42)\n",
    "grid_search = GridSearchCV(clf_lgb,parameters,scoring = 'roc_auc',cv = 5)\n",
    "grid_search.fit(X_train,y_train)\n",
    "grid_search.best_params_"
   ]
  },
  {
   "cell_type": "code",
   "execution_count": 38,
   "id": "edc87856",
   "metadata": {
    "execution": {
     "iopub.execute_input": "2022-01-26T12:59:09.336147Z",
     "iopub.status.busy": "2022-01-26T12:59:09.335160Z",
     "iopub.status.idle": "2022-01-26T12:59:09.552744Z",
     "shell.execute_reply": "2022-01-26T12:59:09.553557Z",
     "shell.execute_reply.started": "2022-01-22T16:01:01.978552Z"
    },
    "papermill": {
     "duration": 0.316045,
     "end_time": "2022-01-26T12:59:09.553806",
     "exception": false,
     "start_time": "2022-01-26T12:59:09.237761",
     "status": "completed"
    },
    "tags": []
   },
   "outputs": [
    {
     "data": {
      "text/plain": [
       "<sklearn.metrics._plot.confusion_matrix.ConfusionMatrixDisplay at 0x7ff3dc264710>"
      ]
     },
     "execution_count": 38,
     "metadata": {},
     "output_type": "execute_result"
    },
    {
     "data": {
      "image/png": "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\n",
      "text/plain": [
       "<Figure size 432x288 with 2 Axes>"
      ]
     },
     "metadata": {
      "needs_background": "light"
     },
     "output_type": "display_data"
    }
   ],
   "source": [
    "\n",
    "clf_lgb1 = LGBMClassifier(num_leaves = 12,\n",
    "                          n_estimators= 50,\n",
    "                          learning_rate=0.1,\n",
    "                          scale_pos_weight = 5,\n",
    "                          random_state = 42)\n",
    "\n",
    "clf_lgb1.fit(X_train,y_train)\n",
    "\n",
    "plot_confusion_matrix(clf_lgb1,\n",
    "                     X_test,\n",
    "                     y_test,\n",
    "                     values_format = 'd',\n",
    "                     display_labels= ['Did not leave','left'])"
   ]
  },
  {
   "cell_type": "code",
   "execution_count": 39,
   "id": "d1ff754c",
   "metadata": {
    "execution": {
     "iopub.execute_input": "2022-01-26T12:59:09.761417Z",
     "iopub.status.busy": "2022-01-26T12:59:09.760659Z",
     "iopub.status.idle": "2022-01-26T12:59:09.763567Z",
     "shell.execute_reply": "2022-01-26T12:59:09.764043Z",
     "shell.execute_reply.started": "2022-01-22T16:01:02.282522Z"
    },
    "papermill": {
     "duration": 0.114412,
     "end_time": "2022-01-26T12:59:09.764231",
     "exception": false,
     "start_time": "2022-01-26T12:59:09.649819",
     "status": "completed"
    },
    "tags": []
   },
   "outputs": [
    {
     "data": {
      "text/html": [
       "<div>\n",
       "<style scoped>\n",
       "    .dataframe tbody tr th:only-of-type {\n",
       "        vertical-align: middle;\n",
       "    }\n",
       "\n",
       "    .dataframe tbody tr th {\n",
       "        vertical-align: top;\n",
       "    }\n",
       "\n",
       "    .dataframe thead th {\n",
       "        text-align: right;\n",
       "    }\n",
       "</style>\n",
       "<table border=\"1\" class=\"dataframe\">\n",
       "  <thead>\n",
       "    <tr style=\"text-align: right;\">\n",
       "      <th></th>\n",
       "      <th>feature_name</th>\n",
       "      <th>feature_imp</th>\n",
       "    </tr>\n",
       "  </thead>\n",
       "  <tbody>\n",
       "    <tr>\n",
       "      <th>9</th>\n",
       "      <td>MonthlyIncome</td>\n",
       "      <td>58</td>\n",
       "    </tr>\n",
       "    <tr>\n",
       "      <th>2</th>\n",
       "      <td>DistanceFromHome</td>\n",
       "      <td>31</td>\n",
       "    </tr>\n",
       "    <tr>\n",
       "      <th>8</th>\n",
       "      <td>JobSatisfaction</td>\n",
       "      <td>31</td>\n",
       "    </tr>\n",
       "    <tr>\n",
       "      <th>1</th>\n",
       "      <td>DailyRate</td>\n",
       "      <td>30</td>\n",
       "    </tr>\n",
       "    <tr>\n",
       "      <th>0</th>\n",
       "      <td>Age</td>\n",
       "      <td>28</td>\n",
       "    </tr>\n",
       "    <tr>\n",
       "      <th>50</th>\n",
       "      <td>OverTime_No</td>\n",
       "      <td>27</td>\n",
       "    </tr>\n",
       "    <tr>\n",
       "      <th>4</th>\n",
       "      <td>EnvironmentSatisfaction</td>\n",
       "      <td>26</td>\n",
       "    </tr>\n",
       "    <tr>\n",
       "      <th>6</th>\n",
       "      <td>JobInvolvement</td>\n",
       "      <td>26</td>\n",
       "    </tr>\n",
       "    <tr>\n",
       "      <th>20</th>\n",
       "      <td>YearsAtCompany</td>\n",
       "      <td>23</td>\n",
       "    </tr>\n",
       "    <tr>\n",
       "      <th>16</th>\n",
       "      <td>StockOptionLevel</td>\n",
       "      <td>20</td>\n",
       "    </tr>\n",
       "    <tr>\n",
       "      <th>14</th>\n",
       "      <td>RelationshipSatisfaction</td>\n",
       "      <td>20</td>\n",
       "    </tr>\n",
       "    <tr>\n",
       "      <th>18</th>\n",
       "      <td>TrainingTimesLastYear</td>\n",
       "      <td>19</td>\n",
       "    </tr>\n",
       "    <tr>\n",
       "      <th>5</th>\n",
       "      <td>HourlyRate</td>\n",
       "      <td>17</td>\n",
       "    </tr>\n",
       "    <tr>\n",
       "      <th>11</th>\n",
       "      <td>NumCompaniesWorked</td>\n",
       "      <td>17</td>\n",
       "    </tr>\n",
       "    <tr>\n",
       "      <th>23</th>\n",
       "      <td>YearsWithCurrManager</td>\n",
       "      <td>16</td>\n",
       "    </tr>\n",
       "    <tr>\n",
       "      <th>19</th>\n",
       "      <td>WorkLifeBalance</td>\n",
       "      <td>15</td>\n",
       "    </tr>\n",
       "    <tr>\n",
       "      <th>12</th>\n",
       "      <td>PercentSalaryHike</td>\n",
       "      <td>14</td>\n",
       "    </tr>\n",
       "    <tr>\n",
       "      <th>25</th>\n",
       "      <td>BusinessTravel_Travel_Frequently</td>\n",
       "      <td>14</td>\n",
       "    </tr>\n",
       "    <tr>\n",
       "      <th>35</th>\n",
       "      <td>EducationField_Technical Degree</td>\n",
       "      <td>12</td>\n",
       "    </tr>\n",
       "    <tr>\n",
       "      <th>22</th>\n",
       "      <td>YearsSinceLastPromotion</td>\n",
       "      <td>12</td>\n",
       "    </tr>\n",
       "    <tr>\n",
       "      <th>17</th>\n",
       "      <td>TotalWorkingYears</td>\n",
       "      <td>10</td>\n",
       "    </tr>\n",
       "    <tr>\n",
       "      <th>10</th>\n",
       "      <td>MonthlyRate</td>\n",
       "      <td>9</td>\n",
       "    </tr>\n",
       "    <tr>\n",
       "      <th>21</th>\n",
       "      <td>YearsInCurrentRole</td>\n",
       "      <td>8</td>\n",
       "    </tr>\n",
       "    <tr>\n",
       "      <th>7</th>\n",
       "      <td>JobLevel</td>\n",
       "      <td>8</td>\n",
       "    </tr>\n",
       "    <tr>\n",
       "      <th>44</th>\n",
       "      <td>JobRole_Research Scientist</td>\n",
       "      <td>7</td>\n",
       "    </tr>\n",
       "    <tr>\n",
       "      <th>31</th>\n",
       "      <td>EducationField_Life Sciences</td>\n",
       "      <td>7</td>\n",
       "    </tr>\n",
       "    <tr>\n",
       "      <th>47</th>\n",
       "      <td>MaritalStatus_Divorced</td>\n",
       "      <td>7</td>\n",
       "    </tr>\n",
       "    <tr>\n",
       "      <th>24</th>\n",
       "      <td>BusinessTravel_Non-Travel</td>\n",
       "      <td>6</td>\n",
       "    </tr>\n",
       "    <tr>\n",
       "      <th>40</th>\n",
       "      <td>JobRole_Laboratory Technician</td>\n",
       "      <td>5</td>\n",
       "    </tr>\n",
       "    <tr>\n",
       "      <th>46</th>\n",
       "      <td>JobRole_Sales Representative</td>\n",
       "      <td>4</td>\n",
       "    </tr>\n",
       "    <tr>\n",
       "      <th>49</th>\n",
       "      <td>MaritalStatus_Single</td>\n",
       "      <td>4</td>\n",
       "    </tr>\n",
       "    <tr>\n",
       "      <th>28</th>\n",
       "      <td>Department_Research &amp; Development</td>\n",
       "      <td>4</td>\n",
       "    </tr>\n",
       "    <tr>\n",
       "      <th>3</th>\n",
       "      <td>Education</td>\n",
       "      <td>3</td>\n",
       "    </tr>\n",
       "    <tr>\n",
       "      <th>36</th>\n",
       "      <td>Gender_Female</td>\n",
       "      <td>3</td>\n",
       "    </tr>\n",
       "    <tr>\n",
       "      <th>45</th>\n",
       "      <td>JobRole_Sales Executive</td>\n",
       "      <td>2</td>\n",
       "    </tr>\n",
       "    <tr>\n",
       "      <th>41</th>\n",
       "      <td>JobRole_Manager</td>\n",
       "      <td>2</td>\n",
       "    </tr>\n",
       "    <tr>\n",
       "      <th>38</th>\n",
       "      <td>JobRole_Healthcare Representative</td>\n",
       "      <td>1</td>\n",
       "    </tr>\n",
       "    <tr>\n",
       "      <th>48</th>\n",
       "      <td>MaritalStatus_Married</td>\n",
       "      <td>1</td>\n",
       "    </tr>\n",
       "    <tr>\n",
       "      <th>51</th>\n",
       "      <td>OverTime_Yes</td>\n",
       "      <td>1</td>\n",
       "    </tr>\n",
       "    <tr>\n",
       "      <th>37</th>\n",
       "      <td>Gender_Male</td>\n",
       "      <td>1</td>\n",
       "    </tr>\n",
       "    <tr>\n",
       "      <th>29</th>\n",
       "      <td>Department_Sales</td>\n",
       "      <td>1</td>\n",
       "    </tr>\n",
       "    <tr>\n",
       "      <th>39</th>\n",
       "      <td>JobRole_Human Resources</td>\n",
       "      <td>0</td>\n",
       "    </tr>\n",
       "    <tr>\n",
       "      <th>34</th>\n",
       "      <td>EducationField_Other</td>\n",
       "      <td>0</td>\n",
       "    </tr>\n",
       "    <tr>\n",
       "      <th>42</th>\n",
       "      <td>JobRole_Manufacturing Director</td>\n",
       "      <td>0</td>\n",
       "    </tr>\n",
       "    <tr>\n",
       "      <th>43</th>\n",
       "      <td>JobRole_Research Director</td>\n",
       "      <td>0</td>\n",
       "    </tr>\n",
       "    <tr>\n",
       "      <th>33</th>\n",
       "      <td>EducationField_Medical</td>\n",
       "      <td>0</td>\n",
       "    </tr>\n",
       "    <tr>\n",
       "      <th>32</th>\n",
       "      <td>EducationField_Marketing</td>\n",
       "      <td>0</td>\n",
       "    </tr>\n",
       "    <tr>\n",
       "      <th>30</th>\n",
       "      <td>EducationField_Human Resources</td>\n",
       "      <td>0</td>\n",
       "    </tr>\n",
       "    <tr>\n",
       "      <th>27</th>\n",
       "      <td>Department_Human Resources</td>\n",
       "      <td>0</td>\n",
       "    </tr>\n",
       "    <tr>\n",
       "      <th>15</th>\n",
       "      <td>StandardHours</td>\n",
       "      <td>0</td>\n",
       "    </tr>\n",
       "    <tr>\n",
       "      <th>13</th>\n",
       "      <td>PerformanceRating</td>\n",
       "      <td>0</td>\n",
       "    </tr>\n",
       "    <tr>\n",
       "      <th>26</th>\n",
       "      <td>BusinessTravel_Travel_Rarely</td>\n",
       "      <td>0</td>\n",
       "    </tr>\n",
       "  </tbody>\n",
       "</table>\n",
       "</div>"
      ],
      "text/plain": [
       "                         feature_name  feature_imp\n",
       "9                       MonthlyIncome           58\n",
       "2                    DistanceFromHome           31\n",
       "8                     JobSatisfaction           31\n",
       "1                           DailyRate           30\n",
       "0                                 Age           28\n",
       "50                        OverTime_No           27\n",
       "4             EnvironmentSatisfaction           26\n",
       "6                      JobInvolvement           26\n",
       "20                     YearsAtCompany           23\n",
       "16                   StockOptionLevel           20\n",
       "14           RelationshipSatisfaction           20\n",
       "18              TrainingTimesLastYear           19\n",
       "5                          HourlyRate           17\n",
       "11                 NumCompaniesWorked           17\n",
       "23               YearsWithCurrManager           16\n",
       "19                    WorkLifeBalance           15\n",
       "12                  PercentSalaryHike           14\n",
       "25   BusinessTravel_Travel_Frequently           14\n",
       "35    EducationField_Technical Degree           12\n",
       "22            YearsSinceLastPromotion           12\n",
       "17                  TotalWorkingYears           10\n",
       "10                        MonthlyRate            9\n",
       "21                 YearsInCurrentRole            8\n",
       "7                            JobLevel            8\n",
       "44         JobRole_Research Scientist            7\n",
       "31       EducationField_Life Sciences            7\n",
       "47             MaritalStatus_Divorced            7\n",
       "24          BusinessTravel_Non-Travel            6\n",
       "40      JobRole_Laboratory Technician            5\n",
       "46       JobRole_Sales Representative            4\n",
       "49               MaritalStatus_Single            4\n",
       "28  Department_Research & Development            4\n",
       "3                           Education            3\n",
       "36                      Gender_Female            3\n",
       "45            JobRole_Sales Executive            2\n",
       "41                    JobRole_Manager            2\n",
       "38  JobRole_Healthcare Representative            1\n",
       "48              MaritalStatus_Married            1\n",
       "51                       OverTime_Yes            1\n",
       "37                        Gender_Male            1\n",
       "29                   Department_Sales            1\n",
       "39            JobRole_Human Resources            0\n",
       "34               EducationField_Other            0\n",
       "42     JobRole_Manufacturing Director            0\n",
       "43          JobRole_Research Director            0\n",
       "33             EducationField_Medical            0\n",
       "32           EducationField_Marketing            0\n",
       "30     EducationField_Human Resources            0\n",
       "27         Department_Human Resources            0\n",
       "15                      StandardHours            0\n",
       "13                  PerformanceRating            0\n",
       "26       BusinessTravel_Travel_Rarely            0"
      ]
     },
     "execution_count": 39,
     "metadata": {},
     "output_type": "execute_result"
    }
   ],
   "source": [
    "features = X_encode.columns\n",
    "importances = clf_lgb1.feature_importances_\n",
    "\n",
    "importances_df = pd.DataFrame()\n",
    "importances_df['feature_name'] = features\n",
    "importances_df['feature_imp'] = importances\n",
    "importances_df.sort_values('feature_imp',ascending = False)"
   ]
  },
  {
   "cell_type": "code",
   "execution_count": 40,
   "id": "a903553f",
   "metadata": {
    "execution": {
     "iopub.execute_input": "2022-01-26T12:59:09.954672Z",
     "iopub.status.busy": "2022-01-26T12:59:09.954003Z",
     "iopub.status.idle": "2022-01-26T12:59:10.760882Z",
     "shell.execute_reply": "2022-01-26T12:59:10.761371Z",
     "shell.execute_reply.started": "2022-01-22T16:01:02.30201Z"
    },
    "papermill": {
     "duration": 0.904164,
     "end_time": "2022-01-26T12:59:10.761540",
     "exception": false,
     "start_time": "2022-01-26T12:59:09.857376",
     "status": "completed"
    },
    "tags": []
   },
   "outputs": [
    {
     "data": {
      "text/plain": [
       "<seaborn.axisgrid.FacetGrid at 0x7ff3dc0f2f10>"
      ]
     },
     "execution_count": 40,
     "metadata": {},
     "output_type": "execute_result"
    },
    {
     "data": {
      "image/png": "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\n",
      "text/plain": [
       "<Figure size 408.625x360 with 1 Axes>"
      ]
     },
     "metadata": {
      "needs_background": "light"
     },
     "output_type": "display_data"
    }
   ],
   "source": [
    "import seaborn as sns\n",
    "sns.displot(x = data['MonthlyIncome'],hue = 'Attrition',kde = True,data = data)"
   ]
  },
  {
   "cell_type": "code",
   "execution_count": 41,
   "id": "5922facf",
   "metadata": {
    "execution": {
     "iopub.execute_input": "2022-01-26T12:59:10.956331Z",
     "iopub.status.busy": "2022-01-26T12:59:10.955714Z",
     "iopub.status.idle": "2022-01-26T12:59:11.489441Z",
     "shell.execute_reply": "2022-01-26T12:59:11.488354Z",
     "shell.execute_reply.started": "2022-01-22T16:01:03.121818Z"
    },
    "papermill": {
     "duration": 0.634744,
     "end_time": "2022-01-26T12:59:11.489588",
     "exception": false,
     "start_time": "2022-01-26T12:59:10.854844",
     "status": "completed"
    },
    "tags": []
   },
   "outputs": [
    {
     "data": {
      "text/plain": [
       "<seaborn.axisgrid.FacetGrid at 0x7ff3d7783ed0>"
      ]
     },
     "execution_count": 41,
     "metadata": {},
     "output_type": "execute_result"
    },
    {
     "data": {
      "image/png": "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\n",
      "text/plain": [
       "<Figure size 408.625x360 with 1 Axes>"
      ]
     },
     "metadata": {
      "needs_background": "light"
     },
     "output_type": "display_data"
    }
   ],
   "source": [
    "sns.displot(x = data['JobSatisfaction'],hue = 'Attrition',kde = True,data = data)"
   ]
  },
  {
   "cell_type": "code",
   "execution_count": 42,
   "id": "12314481",
   "metadata": {
    "execution": {
     "iopub.execute_input": "2022-01-26T12:59:11.685158Z",
     "iopub.status.busy": "2022-01-26T12:59:11.684221Z",
     "iopub.status.idle": "2022-01-26T12:59:12.206973Z",
     "shell.execute_reply": "2022-01-26T12:59:12.207566Z",
     "shell.execute_reply.started": "2022-01-22T16:01:03.674819Z"
    },
    "papermill": {
     "duration": 0.622159,
     "end_time": "2022-01-26T12:59:12.207739",
     "exception": false,
     "start_time": "2022-01-26T12:59:11.585580",
     "status": "completed"
    },
    "tags": []
   },
   "outputs": [
    {
     "data": {
      "text/plain": [
       "<seaborn.axisgrid.FacetGrid at 0x7ff3df4517d0>"
      ]
     },
     "execution_count": 42,
     "metadata": {},
     "output_type": "execute_result"
    },
    {
     "data": {
      "image/png": "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\n",
      "text/plain": [
       "<Figure size 408.625x360 with 1 Axes>"
      ]
     },
     "metadata": {
      "needs_background": "light"
     },
     "output_type": "display_data"
    }
   ],
   "source": [
    "sns.displot(x = data['StockOptionLevel'],hue = 'Attrition',kde = True,data = data)"
   ]
  },
  {
   "cell_type": "code",
   "execution_count": 43,
   "id": "a538df05",
   "metadata": {
    "execution": {
     "iopub.execute_input": "2022-01-26T12:59:12.408989Z",
     "iopub.status.busy": "2022-01-26T12:59:12.408024Z",
     "iopub.status.idle": "2022-01-26T12:59:12.542763Z",
     "shell.execute_reply": "2022-01-26T12:59:12.543371Z",
     "shell.execute_reply.started": "2022-01-22T16:01:04.279002Z"
    },
    "papermill": {
     "duration": 0.237401,
     "end_time": "2022-01-26T12:59:12.543553",
     "exception": false,
     "start_time": "2022-01-26T12:59:12.306152",
     "status": "completed"
    },
    "tags": []
   },
   "outputs": [
    {
     "name": "stdout",
     "output_type": "stream",
     "text": [
      "              precision    recall  f1-score   support\n",
      "\n",
      "           0       0.94      0.70      0.81       309\n",
      "           1       0.33      0.78      0.47        59\n",
      "\n",
      "    accuracy                           0.71       368\n",
      "   macro avg       0.64      0.74      0.64       368\n",
      "weighted avg       0.85      0.71      0.75       368\n",
      "\n",
      "*************************************\n",
      "              precision    recall  f1-score   support\n",
      "\n",
      "           0       0.93      0.79      0.85       309\n",
      "           1       0.39      0.71      0.50        59\n",
      "\n",
      "    accuracy                           0.77       368\n",
      "   macro avg       0.66      0.75      0.68       368\n",
      "weighted avg       0.85      0.77      0.80       368\n",
      "\n",
      "*************************************\n",
      "              precision    recall  f1-score   support\n",
      "\n",
      "           0       0.93      0.84      0.88       309\n",
      "           1       0.44      0.68      0.54        59\n",
      "\n",
      "    accuracy                           0.81       368\n",
      "   macro avg       0.69      0.76      0.71       368\n",
      "weighted avg       0.85      0.81      0.83       368\n",
      "\n",
      "************************************\n"
     ]
    }
   ],
   "source": [
    "from sklearn.metrics import classification_report\n",
    "pred_test_lr = log_reg.predict(X_test)\n",
    "pred_test_xgb = clf_xgb.predict(X_test)\n",
    "#pred_test_cb = cb_model.predict(X_test)\n",
    "pred_test_lgb = clf_lgb1.predict(X_test)\n",
    "print(classification_report(y_test,pred_test_lr))\n",
    "print('*************************************')\n",
    "print(classification_report(y_test,pred_test_xgb))\n",
    "print('*************************************')\n",
    "print(classification_report(y_test,pred_test_lgb))\n",
    "print('************************************')"
   ]
  },
  {
   "cell_type": "code",
   "execution_count": null,
   "id": "84a955d7",
   "metadata": {
    "papermill": {
     "duration": 0.098572,
     "end_time": "2022-01-26T12:59:12.742476",
     "exception": false,
     "start_time": "2022-01-26T12:59:12.643904",
     "status": "completed"
    },
    "tags": []
   },
   "outputs": [],
   "source": []
  }
 ],
 "metadata": {
  "kernelspec": {
   "display_name": "Python 3",
   "language": "python",
   "name": "python3"
  },
  "language_info": {
   "codemirror_mode": {
    "name": "ipython",
    "version": 3
   },
   "file_extension": ".py",
   "mimetype": "text/x-python",
   "name": "python",
   "nbconvert_exporter": "python",
   "pygments_lexer": "ipython3",
   "version": "3.7.12"
  },
  "papermill": {
   "default_parameters": {},
   "duration": 35.031175,
   "end_time": "2022-01-26T12:59:13.749711",
   "environment_variables": {},
   "exception": null,
   "input_path": "__notebook__.ipynb",
   "output_path": "__notebook__.ipynb",
   "parameters": {},
   "start_time": "2022-01-26T12:58:38.718536",
   "version": "2.3.3"
  }
 },
 "nbformat": 4,
 "nbformat_minor": 5
}
